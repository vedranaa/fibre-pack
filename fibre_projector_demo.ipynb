{
 "cells": [
  {
   "cell_type": "markdown",
   "metadata": {},
   "source": [
    "# Fibre projector\n",
    "\n",
    "Demonstrating project and voxelize capability of the fibre projector.\n",
    "\n",
    "*Author: Vedrana Andersen Dahl (vand@dtu.dk)*\n"
   ]
  },
  {
   "cell_type": "code",
   "execution_count": null,
   "metadata": {},
   "outputs": [],
   "source": [
    "import os\n",
    "import fibre_packer as fp\n",
    "import matplotlib.pyplot as plt"
   ]
  },
  {
   "cell_type": "code",
   "execution_count": null,
   "metadata": {},
   "outputs": [],
   "source": [
    "# Parameters \n",
    "domain_radius = 70  # Domain radius\n",
    "fibre_radius_mean = 10  # Mean fibre radius\n",
    "fibre_radius_sigma = 0.1 * fibre_radius_mean  # Standard deviation of fibre radius\n",
    "number_slices = 20 # Number of slices to generate\n",
    "iters = 100\n",
    "fibre_volume_fraction = 10\n",
    "misalignment = 'none'\n"
   ]
  },
  {
   "cell_type": "code",
   "execution_count": null,
   "metadata": {},
   "outputs": [],
   "source": [
    "fib = fp.from_fvf(domain_radius, fibre_volume_fraction, fibre_radius_mean, fibre_radius_sigma)\n",
    "fib.initialize_start_slice()\n",
    "losses = fib.optimize_slice_points('start', iters=iters, delta=0.5, k=1)\n",
    "fib.initialize_end_slice(misalignment)\n",
    "fib.rotate_bundle((0, 0), domain_radius, 2)\n",
    "losses = fib.optimize_slice_points('end', iters=iters, delta=0.5, k=1)\n",
    "fib.interpolate_configuration(number_slices)\n",
    "losses = fib.optimize_configuration(iters=iters)\n"
   ]
  },
  {
   "cell_type": "code",
   "execution_count": null,
   "metadata": {},
   "outputs": [],
   "source": [
    "fib.animate_slices()"
   ]
  },
  {
   "cell_type": "code",
   "execution_count": null,
   "metadata": {},
   "outputs": [],
   "source": [
    "fib.show_3D_configuration()"
   ]
  },
  {
   "cell_type": "code",
   "execution_count": null,
   "metadata": {},
   "outputs": [],
   "source": [
    "thetas = 45\n",
    "side = 50\n",
    "projections = fib.project(thetas=thetas, bins=side, new_z=side)\n",
    "\n",
    "fig, ax = plt.subplots(5, 9, figsize=(15, 10))\n",
    "for p, a in zip(projections, ax.flatten()):\n",
    "    a.imshow(p, cmap='gray')\n",
    "plt.tight_layout()\n",
    "plt.show()"
   ]
  },
  {
   "cell_type": "code",
   "execution_count": null,
   "metadata": {},
   "outputs": [],
   "source": [
    "fig, ax = plt.subplots(5, 10, figsize=(15, 10))\n",
    "ax = ax.flatten()\n",
    "for i in range(50):\n",
    "     ax[i].imshow(projections[:, i, :].T)\n",
    "plt.tight_layout()\n",
    "plt.show()"
   ]
  },
  {
   "cell_type": "code",
   "execution_count": null,
   "metadata": {},
   "outputs": [],
   "source": [
    "voxelization = fib.voxelize(pixels=side, new_z=side)\n",
    "\n",
    "fig, ax = plt.subplots(5, 10, figsize=(15, 10))\n",
    "for v, a in zip(voxelization, ax.flatten()):\n",
    "    a.imshow(v, cmap='gray')\n",
    "plt.tight_layout()\n",
    "plt.show()"
   ]
  },
  {
   "cell_type": "code",
   "execution_count": null,
   "metadata": {},
   "outputs": [],
   "source": [
    "from skimage.transform import iradon\n",
    "import numpy as np\n",
    "\n",
    "def reconstruct(projections, thetas, side=None):\n",
    "    if side is None:\n",
    "        side = projections.shape[2]\n",
    "    if type(thetas) is int:\n",
    "        thetas = np.arange(thetas) * 180 / thetas\n",
    "    volume = np.empty((projections.shape[1], side, side))\n",
    "    for i in range(projections.shape[1]):\n",
    "        sinogram = projections[:, i, :].T\n",
    "        fbp = iradon(sinogram.numpy(), theta=thetas, filter_name='ramp', output_size=side)\n",
    "        volume[i] = np.flip(fbp, 0)\n",
    "    return volume\n",
    "\n",
    "reconstruction = reconstruct(projections, thetas=thetas, side=side)\n",
    "fig, ax = plt.subplots(5, 10, figsize = (15, 10))\n",
    "for r, a in zip(reconstruction, ax.flatten()):\n",
    "    a.imshow(r, cmap='gray')\n",
    "plt.tight_layout()\n",
    "plt.show()"
   ]
  },
  {
   "cell_type": "code",
   "execution_count": null,
   "metadata": {},
   "outputs": [],
   "source": []
  },
  {
   "cell_type": "code",
   "execution_count": null,
   "metadata": {},
   "outputs": [],
   "source": []
  }
 ],
 "metadata": {
  "kernelspec": {
   "display_name": "withPyTorch",
   "language": "python",
   "name": "python3"
  },
  "language_info": {
   "codemirror_mode": {
    "name": "ipython",
    "version": 3
   },
   "file_extension": ".py",
   "mimetype": "text/x-python",
   "name": "python",
   "nbconvert_exporter": "python",
   "pygments_lexer": "ipython3",
   "version": "3.10.6"
  }
 },
 "nbformat": 4,
 "nbformat_minor": 2
}
