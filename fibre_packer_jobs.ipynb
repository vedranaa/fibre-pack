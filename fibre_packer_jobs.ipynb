{
 "cells": [
  {
   "cell_type": "markdown",
   "metadata": {},
   "source": [
    "# Fibre packer jobs\n",
    "\n",
    "*Author: Vedrana Andersen Dahl (vand@dtu.dk)*\n",
    "\n",
    "\n",
    "This is exaggerated in terms of repetitions :-)"
   ]
  },
  {
   "cell_type": "code",
   "execution_count": 1,
   "metadata": {},
   "outputs": [],
   "source": [
    "import os\n",
    "import fibre_packer as fp"
   ]
  },
  {
   "cell_type": "code",
   "execution_count": null,
   "metadata": {},
   "outputs": [],
   "source": [
    "# Parameters \n",
    "domain_radius = 70  # Domain radius\n",
    "fibre_radius_mean = 2  # Mean fibre radius\n",
    "fibre_radius_sigma = 0.1 * fibre_radius_mean  # Standard deviation of fibre radius\n",
    "number_slices = 20 # Number of slices to generate\n",
    "z_multiplier = 10 # Multiplier for z-coordinates, will be used later\n",
    "iters_slice, repetitions_slice, change_slice = 200, 10, 3\n",
    "iters_config, repetitions_config, change_config = 200, 30, 9\n",
    "foldername = 'batch_second'"
   ]
  },
  {
   "cell_type": "code",
   "execution_count": null,
   "metadata": {},
   "outputs": [],
   "source": [
    "for fibre_volume_fraction in [30, 40, 50, 60, 70]:\n",
    "    print(f'Fibre volume fraction: {fibre_volume_fraction}')\n",
    "    fib = fp.from_fvf(domain_radius, fibre_volume_fraction, fibre_radius_mean, fibre_radius_sigma)\n",
    "    fib.initialize_start_slice()\n",
    "    losses = fib.optimize_slice_heuristic('start', iters=iters_slice, repetitions=repetitions_slice, change_every=change_slice)\n",
    "    for misalignment in ['very low', 'low', 'moderate', 'high', 'very high']:\n",
    "        print(f'Misalignment: {misalignment}')\n",
    "        fib.initialize_end_slice(misalignment)\n",
    "        losses = fib.optimize_slice_heuristic('end', iters=iters_slice, repetitions=repetitions_slice, change_every=change_slice)\n",
    "        fib.interpolate_configuration(number_slices, z_multiplier)\n",
    "        losses = fib.optimize_configuration_heuristic(iters=iters_config, repetitions=repetitions_config, change_every=change_config)\n",
    "        fib.save_result(f'{foldername}/{misalignment}_{fibre_volume_fraction}.txt')\n",
    "        fib.save_mesh(f'{foldername}/{misalignment}_{fibre_volume_fraction}.obj', n=8, close_ends=True)\n",
    "        before = fib.get_fvp()\n",
    "        fib.set_radii(fib.fix_radii())\n",
    "        fib.save_result(f'{foldername}/{misalignment}_{fibre_volume_fraction}_fixed.txt')\n",
    "        fib.save_mesh(f'{foldername}/{misalignment}_{fibre_volume_fraction}_fixed.obj', n=8, close_ends=True)\n",
    "        after = fib.get_fvp()\n",
    "        with open(f'{foldername}/_log.txt', 'a') as f:\n",
    "            f.write(f'Asked: fvf {fibre_volume_fraction} {misalignment}, got {after:.5}/{before:.5}\\n')"
   ]
  },
  {
   "cell_type": "code",
   "execution_count": null,
   "metadata": {},
   "outputs": [],
   "source": []
  }
 ],
 "metadata": {
  "kernelspec": {
   "display_name": "withPyTorch",
   "language": "python",
   "name": "python3"
  },
  "language_info": {
   "codemirror_mode": {
    "name": "ipython",
    "version": 3
   },
   "file_extension": ".py",
   "mimetype": "text/x-python",
   "name": "python",
   "nbconvert_exporter": "python",
   "pygments_lexer": "ipython3",
   "version": "3.10.6"
  }
 },
 "nbformat": 4,
 "nbformat_minor": 2
}
