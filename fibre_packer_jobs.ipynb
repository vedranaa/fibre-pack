{
 "cells": [
  {
   "cell_type": "markdown",
   "metadata": {},
   "source": [
    "# Fibre packer jobs\n",
    "\n",
    "*Author: Vedrana Andersen Dahl (vand@dtu.dk)*\n"
   ]
  },
  {
   "cell_type": "code",
   "execution_count": 1,
   "metadata": {},
   "outputs": [],
   "source": [
    "import os\n",
    "import fibre_packer as fp"
   ]
  },
  {
   "cell_type": "code",
   "execution_count": 2,
   "metadata": {},
   "outputs": [],
   "source": [
    "# Parameters \n",
    "domain_radius = 70  # Domain radius\n",
    "fibre_radius_mean = 2  # Mean fibre radius\n",
    "fibre_radius_sigma = 0.1 * fibre_radius_mean  # Standard deviation of fibre radius\n",
    "number_slices = 20 # Number of slices to generate\n",
    "z_multiplier = 10 # Multiplier for z-coordinates, will be used later\n",
    "iters = 1000"
   ]
  },
  {
   "cell_type": "code",
   "execution_count": 3,
   "metadata": {},
   "outputs": [
    {
     "name": "stdout",
     "output_type": "stream",
     "text": [
      "Fibre volume fraction: 30\n",
      "Using device mps\n"
     ]
    },
    {
     "data": {
      "application/vnd.jupyter.widget-view+json": {
       "model_id": "e032154ccf1946169e88c9c325918b53",
       "version_major": 2,
       "version_minor": 0
      },
      "text/plain": [
       "                                                                                                              …"
      ]
     },
     "metadata": {},
     "output_type": "display_data"
    },
    {
     "name": "stdout",
     "output_type": "stream",
     "text": [
      "Misalignment: very low\n"
     ]
    },
    {
     "data": {
      "application/vnd.jupyter.widget-view+json": {
       "model_id": "b413df30582e4517b7ce20459499e978",
       "version_major": 2,
       "version_minor": 0
      },
      "text/plain": [
       "                                                                                                              …"
      ]
     },
     "metadata": {},
     "output_type": "display_data"
    },
    {
     "data": {
      "application/vnd.jupyter.widget-view+json": {
       "model_id": "b81f62065fc545249c8cfc40e950b515",
       "version_major": 2,
       "version_minor": 0
      },
      "text/plain": [
       "                                                                                                              …"
      ]
     },
     "metadata": {},
     "output_type": "display_data"
    },
    {
     "name": "stdout",
     "output_type": "stream",
     "text": [
      "Saved to batch_first/test.txt\n",
      "Misalignment: low\n"
     ]
    },
    {
     "data": {
      "application/vnd.jupyter.widget-view+json": {
       "model_id": "25c71c9794da4f34a33bf5043e9e33e7",
       "version_major": 2,
       "version_minor": 0
      },
      "text/plain": [
       "                                                                                                              …"
      ]
     },
     "metadata": {},
     "output_type": "display_data"
    },
    {
     "data": {
      "application/vnd.jupyter.widget-view+json": {
       "model_id": "1275e3b7c0a747d488232ce7bdfc227c",
       "version_major": 2,
       "version_minor": 0
      },
      "text/plain": [
       "                                                                                                              …"
      ]
     },
     "metadata": {},
     "output_type": "display_data"
    },
    {
     "name": "stdout",
     "output_type": "stream",
     "text": [
      "Saved to batch_first/test.txt\n",
      "Misalignment: moderate\n"
     ]
    },
    {
     "data": {
      "application/vnd.jupyter.widget-view+json": {
       "model_id": "bd523401297b4318a53993d08f3e059e",
       "version_major": 2,
       "version_minor": 0
      },
      "text/plain": [
       "                                                                                                              …"
      ]
     },
     "metadata": {},
     "output_type": "display_data"
    },
    {
     "data": {
      "application/vnd.jupyter.widget-view+json": {
       "model_id": "76f9e2b4b0f047fa99c78b313aa5b06f",
       "version_major": 2,
       "version_minor": 0
      },
      "text/plain": [
       "                                                                                                              …"
      ]
     },
     "metadata": {},
     "output_type": "display_data"
    },
    {
     "name": "stdout",
     "output_type": "stream",
     "text": [
      "Saved to batch_first/test.txt\n",
      "Misalignment: high\n"
     ]
    },
    {
     "data": {
      "application/vnd.jupyter.widget-view+json": {
       "model_id": "5a35de92889b444f8bd33c24be671921",
       "version_major": 2,
       "version_minor": 0
      },
      "text/plain": [
       "                                                                                                              …"
      ]
     },
     "metadata": {},
     "output_type": "display_data"
    },
    {
     "data": {
      "application/vnd.jupyter.widget-view+json": {
       "model_id": "1740586840c740ae82c6e4639253bcf3",
       "version_major": 2,
       "version_minor": 0
      },
      "text/plain": [
       "                                                                                                              …"
      ]
     },
     "metadata": {},
     "output_type": "display_data"
    },
    {
     "name": "stdout",
     "output_type": "stream",
     "text": [
      "Saved to batch_first/test.txt\n",
      "Misalignment: very high\n"
     ]
    },
    {
     "data": {
      "application/vnd.jupyter.widget-view+json": {
       "model_id": "0d4ac205049540a9b1c242d95f864c61",
       "version_major": 2,
       "version_minor": 0
      },
      "text/plain": [
       "                                                                                                              …"
      ]
     },
     "metadata": {},
     "output_type": "display_data"
    },
    {
     "data": {
      "application/vnd.jupyter.widget-view+json": {
       "model_id": "c4e19c38c1d946508e98b2388a418799",
       "version_major": 2,
       "version_minor": 0
      },
      "text/plain": [
       "                                                                                                              …"
      ]
     },
     "metadata": {},
     "output_type": "display_data"
    },
    {
     "name": "stdout",
     "output_type": "stream",
     "text": [
      "Saved to batch_first/test.txt\n",
      "Fibre volume fraction: 40\n",
      "Using device mps\n"
     ]
    },
    {
     "data": {
      "application/vnd.jupyter.widget-view+json": {
       "model_id": "248e9c40676e409db60abcce07598470",
       "version_major": 2,
       "version_minor": 0
      },
      "text/plain": [
       "                                                                                                              …"
      ]
     },
     "metadata": {},
     "output_type": "display_data"
    },
    {
     "name": "stdout",
     "output_type": "stream",
     "text": [
      "Misalignment: very low\n"
     ]
    },
    {
     "data": {
      "application/vnd.jupyter.widget-view+json": {
       "model_id": "b483604438bb46e198daf14a6e201f33",
       "version_major": 2,
       "version_minor": 0
      },
      "text/plain": [
       "                                                                                                              …"
      ]
     },
     "metadata": {},
     "output_type": "display_data"
    },
    {
     "data": {
      "application/vnd.jupyter.widget-view+json": {
       "model_id": "b07af927ae4f46188ed8b1df344a0362",
       "version_major": 2,
       "version_minor": 0
      },
      "text/plain": [
       "                                                                                                              …"
      ]
     },
     "metadata": {},
     "output_type": "display_data"
    },
    {
     "name": "stdout",
     "output_type": "stream",
     "text": [
      "Saved to batch_first/test.txt\n",
      "Misalignment: low\n"
     ]
    },
    {
     "data": {
      "application/vnd.jupyter.widget-view+json": {
       "model_id": "df67aaa354774e5b8faf9da6f779543d",
       "version_major": 2,
       "version_minor": 0
      },
      "text/plain": [
       "                                                                                                              …"
      ]
     },
     "metadata": {},
     "output_type": "display_data"
    },
    {
     "data": {
      "application/vnd.jupyter.widget-view+json": {
       "model_id": "5303cc02b7f847ac89110d28dcd2dba8",
       "version_major": 2,
       "version_minor": 0
      },
      "text/plain": [
       "                                                                                                              …"
      ]
     },
     "metadata": {},
     "output_type": "display_data"
    },
    {
     "name": "stdout",
     "output_type": "stream",
     "text": [
      "Saved to batch_first/test.txt\n",
      "Misalignment: moderate\n"
     ]
    },
    {
     "data": {
      "application/vnd.jupyter.widget-view+json": {
       "model_id": "187714aceca14f69ba0a12485cd0c3aa",
       "version_major": 2,
       "version_minor": 0
      },
      "text/plain": [
       "                                                                                                              …"
      ]
     },
     "metadata": {},
     "output_type": "display_data"
    },
    {
     "data": {
      "application/vnd.jupyter.widget-view+json": {
       "model_id": "356836b1b3b644d3a2ef496245d47fdb",
       "version_major": 2,
       "version_minor": 0
      },
      "text/plain": [
       "                                                                                                              …"
      ]
     },
     "metadata": {},
     "output_type": "display_data"
    },
    {
     "name": "stdout",
     "output_type": "stream",
     "text": [
      "Saved to batch_first/test.txt\n",
      "Misalignment: high\n"
     ]
    },
    {
     "data": {
      "application/vnd.jupyter.widget-view+json": {
       "model_id": "95cc247fc47e472482a53bf6da03ddc8",
       "version_major": 2,
       "version_minor": 0
      },
      "text/plain": [
       "                                                                                                              …"
      ]
     },
     "metadata": {},
     "output_type": "display_data"
    },
    {
     "data": {
      "application/vnd.jupyter.widget-view+json": {
       "model_id": "37090dc089054419b147a97488a6fda2",
       "version_major": 2,
       "version_minor": 0
      },
      "text/plain": [
       "                                                                                                              …"
      ]
     },
     "metadata": {},
     "output_type": "display_data"
    },
    {
     "name": "stdout",
     "output_type": "stream",
     "text": [
      "Saved to batch_first/test.txt\n",
      "Misalignment: very high\n"
     ]
    },
    {
     "data": {
      "application/vnd.jupyter.widget-view+json": {
       "model_id": "f5ef72e94ca749929f81a29ac8262399",
       "version_major": 2,
       "version_minor": 0
      },
      "text/plain": [
       "                                                                                                              …"
      ]
     },
     "metadata": {},
     "output_type": "display_data"
    },
    {
     "data": {
      "application/vnd.jupyter.widget-view+json": {
       "model_id": "6068d786efdf4d0eb377024b8432c10a",
       "version_major": 2,
       "version_minor": 0
      },
      "text/plain": [
       "                                                                                                              …"
      ]
     },
     "metadata": {},
     "output_type": "display_data"
    },
    {
     "name": "stdout",
     "output_type": "stream",
     "text": [
      "Saved to batch_first/test.txt\n",
      "Fibre volume fraction: 50\n",
      "Using device mps\n"
     ]
    },
    {
     "data": {
      "application/vnd.jupyter.widget-view+json": {
       "model_id": "a8c169821bf74fc1bce9c423202ca67c",
       "version_major": 2,
       "version_minor": 0
      },
      "text/plain": [
       "                                                                                                              …"
      ]
     },
     "metadata": {},
     "output_type": "display_data"
    },
    {
     "name": "stdout",
     "output_type": "stream",
     "text": [
      "Misalignment: very low\n"
     ]
    },
    {
     "data": {
      "application/vnd.jupyter.widget-view+json": {
       "model_id": "360c3fded1744ba299a312f25ca067a2",
       "version_major": 2,
       "version_minor": 0
      },
      "text/plain": [
       "                                                                                                              …"
      ]
     },
     "metadata": {},
     "output_type": "display_data"
    },
    {
     "data": {
      "application/vnd.jupyter.widget-view+json": {
       "model_id": "d895b67dcc4c43f6a46006519c763713",
       "version_major": 2,
       "version_minor": 0
      },
      "text/plain": [
       "                                                                                                              …"
      ]
     },
     "metadata": {},
     "output_type": "display_data"
    },
    {
     "name": "stdout",
     "output_type": "stream",
     "text": [
      "Saved to batch_first/test.txt\n",
      "Misalignment: low\n"
     ]
    },
    {
     "data": {
      "application/vnd.jupyter.widget-view+json": {
       "model_id": "8736ef4cb1744ab99db456268a1b6e52",
       "version_major": 2,
       "version_minor": 0
      },
      "text/plain": [
       "                                                                                                              …"
      ]
     },
     "metadata": {},
     "output_type": "display_data"
    },
    {
     "data": {
      "application/vnd.jupyter.widget-view+json": {
       "model_id": "1fe47550e9b047598cba348c7b322b3d",
       "version_major": 2,
       "version_minor": 0
      },
      "text/plain": [
       "                                                                                                              …"
      ]
     },
     "metadata": {},
     "output_type": "display_data"
    },
    {
     "name": "stdout",
     "output_type": "stream",
     "text": [
      "Saved to batch_first/test.txt\n",
      "Misalignment: moderate\n"
     ]
    },
    {
     "data": {
      "application/vnd.jupyter.widget-view+json": {
       "model_id": "fd5236a5dd11426197b79cbb270b7552",
       "version_major": 2,
       "version_minor": 0
      },
      "text/plain": [
       "                                                                                                              …"
      ]
     },
     "metadata": {},
     "output_type": "display_data"
    },
    {
     "data": {
      "application/vnd.jupyter.widget-view+json": {
       "model_id": "c7dc38c4a0094b63bfa68d5c62d3ea1c",
       "version_major": 2,
       "version_minor": 0
      },
      "text/plain": [
       "                                                                                                              …"
      ]
     },
     "metadata": {},
     "output_type": "display_data"
    },
    {
     "name": "stdout",
     "output_type": "stream",
     "text": [
      "Saved to batch_first/test.txt\n",
      "Misalignment: high\n"
     ]
    },
    {
     "data": {
      "application/vnd.jupyter.widget-view+json": {
       "model_id": "9d7d69e6d0b54e26965dbc946cd00a83",
       "version_major": 2,
       "version_minor": 0
      },
      "text/plain": [
       "                                                                                                              …"
      ]
     },
     "metadata": {},
     "output_type": "display_data"
    },
    {
     "data": {
      "application/vnd.jupyter.widget-view+json": {
       "model_id": "469b95e8f3ab476882213a81b37c138c",
       "version_major": 2,
       "version_minor": 0
      },
      "text/plain": [
       "                                                                                                              …"
      ]
     },
     "metadata": {},
     "output_type": "display_data"
    },
    {
     "name": "stdout",
     "output_type": "stream",
     "text": [
      "Saved to batch_first/test.txt\n",
      "Misalignment: very high\n"
     ]
    },
    {
     "data": {
      "application/vnd.jupyter.widget-view+json": {
       "model_id": "da00eec332bd40e38edae9f3b2b931c7",
       "version_major": 2,
       "version_minor": 0
      },
      "text/plain": [
       "                                                                                                              …"
      ]
     },
     "metadata": {},
     "output_type": "display_data"
    },
    {
     "data": {
      "application/vnd.jupyter.widget-view+json": {
       "model_id": "6b8ac576ee02498ca3265bb9c99825d2",
       "version_major": 2,
       "version_minor": 0
      },
      "text/plain": [
       "                                                                                                              …"
      ]
     },
     "metadata": {},
     "output_type": "display_data"
    },
    {
     "name": "stdout",
     "output_type": "stream",
     "text": [
      "Saved to batch_first/test.txt\n",
      "Fibre volume fraction: 60\n",
      "Using device mps\n"
     ]
    },
    {
     "data": {
      "application/vnd.jupyter.widget-view+json": {
       "model_id": "655efc24c5e84043915f996d3ec6a1bb",
       "version_major": 2,
       "version_minor": 0
      },
      "text/plain": [
       "                                                                                                              …"
      ]
     },
     "metadata": {},
     "output_type": "display_data"
    },
    {
     "name": "stdout",
     "output_type": "stream",
     "text": [
      "Misalignment: very low\n"
     ]
    },
    {
     "data": {
      "application/vnd.jupyter.widget-view+json": {
       "model_id": "88d838c0f0dc40f5ac3f322993c62ee0",
       "version_major": 2,
       "version_minor": 0
      },
      "text/plain": [
       "                                                                                                              …"
      ]
     },
     "metadata": {},
     "output_type": "display_data"
    },
    {
     "data": {
      "application/vnd.jupyter.widget-view+json": {
       "model_id": "5094e82e1ba047bf8064e914827652bb",
       "version_major": 2,
       "version_minor": 0
      },
      "text/plain": [
       "                                                                                                              …"
      ]
     },
     "metadata": {},
     "output_type": "display_data"
    },
    {
     "name": "stdout",
     "output_type": "stream",
     "text": [
      "Saved to batch_first/test.txt\n",
      "Misalignment: low\n"
     ]
    },
    {
     "data": {
      "application/vnd.jupyter.widget-view+json": {
       "model_id": "370e71510dd14c61a4a2c1eece181637",
       "version_major": 2,
       "version_minor": 0
      },
      "text/plain": [
       "                                                                                                              …"
      ]
     },
     "metadata": {},
     "output_type": "display_data"
    },
    {
     "data": {
      "application/vnd.jupyter.widget-view+json": {
       "model_id": "b6e78452af854c77a14632f87679e945",
       "version_major": 2,
       "version_minor": 0
      },
      "text/plain": [
       "                                                                                                              …"
      ]
     },
     "metadata": {},
     "output_type": "display_data"
    },
    {
     "name": "stdout",
     "output_type": "stream",
     "text": [
      "Saved to batch_first/test.txt\n",
      "Misalignment: moderate\n"
     ]
    },
    {
     "data": {
      "application/vnd.jupyter.widget-view+json": {
       "model_id": "640925ee2cf145da9c4e4c16bce7d22c",
       "version_major": 2,
       "version_minor": 0
      },
      "text/plain": [
       "                                                                                                              …"
      ]
     },
     "metadata": {},
     "output_type": "display_data"
    },
    {
     "data": {
      "application/vnd.jupyter.widget-view+json": {
       "model_id": "c3565eb4591c46abb9126cbb815e666c",
       "version_major": 2,
       "version_minor": 0
      },
      "text/plain": [
       "                                                                                                              …"
      ]
     },
     "metadata": {},
     "output_type": "display_data"
    },
    {
     "name": "stdout",
     "output_type": "stream",
     "text": [
      "Saved to batch_first/test.txt\n",
      "Misalignment: high\n"
     ]
    },
    {
     "data": {
      "application/vnd.jupyter.widget-view+json": {
       "model_id": "dfc8e47211aa4e69b3ee23ae27835dae",
       "version_major": 2,
       "version_minor": 0
      },
      "text/plain": [
       "                                                                                                              …"
      ]
     },
     "metadata": {},
     "output_type": "display_data"
    },
    {
     "data": {
      "application/vnd.jupyter.widget-view+json": {
       "model_id": "3a38cf788fc44ed59aa54cce441ee6c2",
       "version_major": 2,
       "version_minor": 0
      },
      "text/plain": [
       "                                                                                                              …"
      ]
     },
     "metadata": {},
     "output_type": "display_data"
    },
    {
     "name": "stdout",
     "output_type": "stream",
     "text": [
      "Saved to batch_first/test.txt\n",
      "Misalignment: very high\n"
     ]
    },
    {
     "data": {
      "application/vnd.jupyter.widget-view+json": {
       "model_id": "a83a5f0b0fd14c6ca1235f9959176c40",
       "version_major": 2,
       "version_minor": 0
      },
      "text/plain": [
       "                                                                                                              …"
      ]
     },
     "metadata": {},
     "output_type": "display_data"
    },
    {
     "data": {
      "application/vnd.jupyter.widget-view+json": {
       "model_id": "bc38640693104e7ebb9e70edb602e9ac",
       "version_major": 2,
       "version_minor": 0
      },
      "text/plain": [
       "                                                                                                              …"
      ]
     },
     "metadata": {},
     "output_type": "display_data"
    },
    {
     "name": "stdout",
     "output_type": "stream",
     "text": [
      "Saved to batch_first/test.txt\n",
      "Fibre volume fraction: 70\n",
      "Using device mps\n"
     ]
    },
    {
     "data": {
      "application/vnd.jupyter.widget-view+json": {
       "model_id": "73189ecf2a53402685631ac680058a6e",
       "version_major": 2,
       "version_minor": 0
      },
      "text/plain": [
       "                                                                                                              …"
      ]
     },
     "metadata": {},
     "output_type": "display_data"
    },
    {
     "name": "stdout",
     "output_type": "stream",
     "text": [
      "Misalignment: very low\n"
     ]
    },
    {
     "data": {
      "application/vnd.jupyter.widget-view+json": {
       "model_id": "2bb7eb248dad41b3a505f2f8b00e1ee6",
       "version_major": 2,
       "version_minor": 0
      },
      "text/plain": [
       "                                                                                                              …"
      ]
     },
     "metadata": {},
     "output_type": "display_data"
    },
    {
     "data": {
      "application/vnd.jupyter.widget-view+json": {
       "model_id": "9366de5597a9488395f5b1080a5a8798",
       "version_major": 2,
       "version_minor": 0
      },
      "text/plain": [
       "                                                                                                              …"
      ]
     },
     "metadata": {},
     "output_type": "display_data"
    },
    {
     "name": "stdout",
     "output_type": "stream",
     "text": [
      "Saved to batch_first/test.txt\n",
      "Misalignment: low\n"
     ]
    },
    {
     "data": {
      "application/vnd.jupyter.widget-view+json": {
       "model_id": "0f4ded69009740fbb1f8a5bac9f93d79",
       "version_major": 2,
       "version_minor": 0
      },
      "text/plain": [
       "                                                                                                              …"
      ]
     },
     "metadata": {},
     "output_type": "display_data"
    },
    {
     "data": {
      "application/vnd.jupyter.widget-view+json": {
       "model_id": "3d271884006c411d972aec2b81c83efe",
       "version_major": 2,
       "version_minor": 0
      },
      "text/plain": [
       "                                                                                                              …"
      ]
     },
     "metadata": {},
     "output_type": "display_data"
    },
    {
     "name": "stdout",
     "output_type": "stream",
     "text": [
      "Saved to batch_first/test.txt\n",
      "Misalignment: moderate\n"
     ]
    },
    {
     "data": {
      "application/vnd.jupyter.widget-view+json": {
       "model_id": "3092d74f01e245579edc2f64cdf49093",
       "version_major": 2,
       "version_minor": 0
      },
      "text/plain": [
       "                                                                                                              …"
      ]
     },
     "metadata": {},
     "output_type": "display_data"
    },
    {
     "data": {
      "application/vnd.jupyter.widget-view+json": {
       "model_id": "ee9d98d8aff44d04bf303eb3e9cc3c9c",
       "version_major": 2,
       "version_minor": 0
      },
      "text/plain": [
       "                                                                                                              …"
      ]
     },
     "metadata": {},
     "output_type": "display_data"
    },
    {
     "name": "stdout",
     "output_type": "stream",
     "text": [
      "Saved to batch_first/test.txt\n",
      "Misalignment: high\n"
     ]
    },
    {
     "data": {
      "application/vnd.jupyter.widget-view+json": {
       "model_id": "e8b15d8302744711a7f07ab52c531484",
       "version_major": 2,
       "version_minor": 0
      },
      "text/plain": [
       "                                                                                                              …"
      ]
     },
     "metadata": {},
     "output_type": "display_data"
    },
    {
     "data": {
      "application/vnd.jupyter.widget-view+json": {
       "model_id": "4af704de685a4a06b6d0065f382528c3",
       "version_major": 2,
       "version_minor": 0
      },
      "text/plain": [
       "                                                                                                              …"
      ]
     },
     "metadata": {},
     "output_type": "display_data"
    },
    {
     "name": "stdout",
     "output_type": "stream",
     "text": [
      "Saved to batch_first/test.txt\n",
      "Misalignment: very high\n"
     ]
    },
    {
     "data": {
      "application/vnd.jupyter.widget-view+json": {
       "model_id": "d63c3898f33648d685c325a397c03e97",
       "version_major": 2,
       "version_minor": 0
      },
      "text/plain": [
       "                                                                                                              …"
      ]
     },
     "metadata": {},
     "output_type": "display_data"
    },
    {
     "data": {
      "application/vnd.jupyter.widget-view+json": {
       "model_id": "ce7bdce97da343cda4e6feabf7281f2d",
       "version_major": 2,
       "version_minor": 0
      },
      "text/plain": [
       "                                                                                                              …"
      ]
     },
     "metadata": {},
     "output_type": "display_data"
    },
    {
     "name": "stdout",
     "output_type": "stream",
     "text": [
      "Saved to batch_first/test.txt\n"
     ]
    }
   ],
   "source": [
    "for fibre_volume_fraction in [30, 40, 50, 60, 70]:\n",
    "    print(f'Fibre volume fraction: {fibre_volume_fraction}')\n",
    "    fib = fp.from_fvf(domain_radius, fibre_volume_fraction, fibre_radius_mean, fibre_radius_sigma)\n",
    "    fib.initialize_start_slice()\n",
    "    losses = fib.optimize_slice_points('start', iters=iters)\n",
    "    for misalignment in ['very low', 'low', 'moderate', 'high', 'very high']:\n",
    "        print(f'Misalignment: {misalignment}')\n",
    "        fib.initialize_end_slice(misalignment)\n",
    "        losses = fib.optimize_slice_points('end', iters=iters)\n",
    "        fib.interpolate_configuration(number_slices, z_multiplier)\n",
    "        losses = fib.optimize_configuration(iters=iters)\n",
    "        fib.save_result(f'batch_first/{misalignment}_{fibre_volume_fraction}.txt')\n",
    "        fib.save_mesh(f'batch_first/{misalignment}_{fibre_volume_fraction}.obj', n=8)"
   ]
  }
 ],
 "metadata": {
  "kernelspec": {
   "display_name": "withPyTorch",
   "language": "python",
   "name": "python3"
  },
  "language_info": {
   "codemirror_mode": {
    "name": "ipython",
    "version": 3
   },
   "file_extension": ".py",
   "mimetype": "text/x-python",
   "name": "python",
   "nbconvert_exporter": "python",
   "pygments_lexer": "ipython3",
   "version": "3.10.6"
  }
 },
 "nbformat": 4,
 "nbformat_minor": 2
}
