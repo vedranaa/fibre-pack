{
 "cells": [
  {
   "cell_type": "markdown",
   "metadata": {},
   "source": [
    "# Fibre packer jobs\n",
    "\n",
    "*Author: Vedrana Andersen Dahl (vand@dtu.dk)*\n"
   ]
  },
  {
   "cell_type": "code",
   "execution_count": 1,
   "metadata": {},
   "outputs": [],
   "source": [
    "import os\n",
    "import fibre_packer as fp"
   ]
  },
  {
   "cell_type": "code",
   "execution_count": null,
   "metadata": {},
   "outputs": [],
   "source": [
    "# Parameters \n",
    "domain_radius = 70  # Domain radius\n",
    "fibre_radius_mean = 2  # Mean fibre radius\n",
    "fibre_radius_sigma = 0.1 * fibre_radius_mean  # Standard deviation of fibre radius\n",
    "number_slices = 20 # Number of slices to generate\n",
    "z_multiplier = 10 # Multiplier for z-coordinates, will be used later\n",
    "iters_slice, repetitions_slice, change_slice = 200, 10, 3\n",
    "iters_config, repetitions_config, change_config = 200, 30, 9\n",
    "foldername = 'batch_second'"
   ]
  },
  {
   "cell_type": "code",
   "execution_count": null,
   "metadata": {},
   "outputs": [
    {
     "name": "stdout",
     "output_type": "stream",
     "text": [
      "Fibre volume fraction: 30\n",
      "Using device mps\n"
     ]
    },
    {
     "data": {
      "application/vnd.jupyter.widget-view+json": {
       "model_id": "6c2f72a3612a4d948d74533111e2021a",
       "version_major": 2,
       "version_minor": 0
      },
      "text/plain": [
       "                                                                                                              …"
      ]
     },
     "metadata": {},
     "output_type": "display_data"
    },
    {
     "name": "stdout",
     "output_type": "stream",
     "text": [
      "Quality great, repetition 0/10\n"
     ]
    },
    {
     "data": {
      "application/vnd.jupyter.widget-view+json": {
       "model_id": "0a62a12a081e4fbd86de539317b81e35",
       "version_major": 2,
       "version_minor": 0
      },
      "text/plain": [
       "                                                                                                              …"
      ]
     },
     "metadata": {},
     "output_type": "display_data"
    },
    {
     "name": "stdout",
     "output_type": "stream",
     "text": [
      "Quality perfect, repetition 1/10\n",
      "Misalignment: very low\n"
     ]
    },
    {
     "data": {
      "application/vnd.jupyter.widget-view+json": {
       "model_id": "228b06dc19e34eb4a9114f7b16c1615f",
       "version_major": 2,
       "version_minor": 0
      },
      "text/plain": [
       "                                                                                                              …"
      ]
     },
     "metadata": {},
     "output_type": "display_data"
    },
    {
     "name": "stdout",
     "output_type": "stream",
     "text": [
      "Quality perfect, repetition 0/10\n"
     ]
    },
    {
     "data": {
      "application/vnd.jupyter.widget-view+json": {
       "model_id": "7fccf6c3a34f42fc9516ab7d93ae5991",
       "version_major": 2,
       "version_minor": 0
      },
      "text/plain": [
       "                                                                                                              …"
      ]
     },
     "metadata": {},
     "output_type": "display_data"
    },
    {
     "name": "stdout",
     "output_type": "stream",
     "text": [
      "Quality great, repetition 0/100\n"
     ]
    },
    {
     "data": {
      "application/vnd.jupyter.widget-view+json": {
       "model_id": "0b2a6795e28d4befb0b6cf7a420fe41e",
       "version_major": 2,
       "version_minor": 0
      },
      "text/plain": [
       "                                                                                                              …"
      ]
     },
     "metadata": {},
     "output_type": "display_data"
    },
    {
     "name": "stdout",
     "output_type": "stream",
     "text": [
      "Quality perfect, repetition 1/100\n",
      "Saved to batch_second/very low_30.txt\n",
      "Saved to batch_second/very low_30.obj\n",
      "Saved to batch_second/very low_30_fixed.txt\n",
      "Saved to batch_second/very low_30_fixed.obj\n",
      "Misalignment: low\n"
     ]
    },
    {
     "data": {
      "application/vnd.jupyter.widget-view+json": {
       "model_id": "cf29f894fb1d4866a6b93c68dff09439",
       "version_major": 2,
       "version_minor": 0
      },
      "text/plain": [
       "                                                                                                              …"
      ]
     },
     "metadata": {},
     "output_type": "display_data"
    },
    {
     "name": "stdout",
     "output_type": "stream",
     "text": [
      "Quality perfect, repetition 0/10\n"
     ]
    },
    {
     "data": {
      "application/vnd.jupyter.widget-view+json": {
       "model_id": "b2c59820142a4c0298fa3f90f1424033",
       "version_major": 2,
       "version_minor": 0
      },
      "text/plain": [
       "                                                                                                              …"
      ]
     },
     "metadata": {},
     "output_type": "display_data"
    },
    {
     "name": "stdout",
     "output_type": "stream",
     "text": [
      "Quality bad, repetition 0/100\n"
     ]
    },
    {
     "data": {
      "application/vnd.jupyter.widget-view+json": {
       "model_id": "74db31176fe5402b8a068fb35052c5ad",
       "version_major": 2,
       "version_minor": 0
      },
      "text/plain": [
       "                                                                                                              …"
      ]
     },
     "metadata": {},
     "output_type": "display_data"
    },
    {
     "name": "stdout",
     "output_type": "stream",
     "text": [
      "Quality great, repetition 1/100\n"
     ]
    },
    {
     "data": {
      "application/vnd.jupyter.widget-view+json": {
       "model_id": "b8e1d9632db3483db40cdd3bfa082381",
       "version_major": 2,
       "version_minor": 0
      },
      "text/plain": [
       "                                                                                                              …"
      ]
     },
     "metadata": {},
     "output_type": "display_data"
    },
    {
     "name": "stdout",
     "output_type": "stream",
     "text": [
      "Quality perfect, repetition 2/100\n",
      "Saved to batch_second/low_30.txt\n",
      "Saved to batch_second/low_30.obj\n",
      "Saved to batch_second/low_30_fixed.txt\n",
      "Saved to batch_second/low_30_fixed.obj\n",
      "Misalignment: moderate\n"
     ]
    },
    {
     "data": {
      "application/vnd.jupyter.widget-view+json": {
       "model_id": "5a54e1c062174656827c0b28f3b0de7b",
       "version_major": 2,
       "version_minor": 0
      },
      "text/plain": [
       "                                                                                                              …"
      ]
     },
     "metadata": {},
     "output_type": "display_data"
    },
    {
     "name": "stdout",
     "output_type": "stream",
     "text": [
      "Quality great, repetition 0/10\n"
     ]
    },
    {
     "data": {
      "application/vnd.jupyter.widget-view+json": {
       "model_id": "d594e891625c4dd29d43d4451bdd5bfa",
       "version_major": 2,
       "version_minor": 0
      },
      "text/plain": [
       "                                                                                                              …"
      ]
     },
     "metadata": {},
     "output_type": "display_data"
    },
    {
     "name": "stdout",
     "output_type": "stream",
     "text": [
      "Quality great, repetition 1/10\n"
     ]
    },
    {
     "data": {
      "application/vnd.jupyter.widget-view+json": {
       "model_id": "d5535b3da33543daa4486a62120b4e1d",
       "version_major": 2,
       "version_minor": 0
      },
      "text/plain": [
       "                                                                                                              …"
      ]
     },
     "metadata": {},
     "output_type": "display_data"
    },
    {
     "name": "stdout",
     "output_type": "stream",
     "text": [
      "Quality great, repetition 2/10\n"
     ]
    },
    {
     "data": {
      "application/vnd.jupyter.widget-view+json": {
       "model_id": "b0aa628456ac4217902a3b54214fbf48",
       "version_major": 2,
       "version_minor": 0
      },
      "text/plain": [
       "                                                                                                              …"
      ]
     },
     "metadata": {},
     "output_type": "display_data"
    },
    {
     "name": "stdout",
     "output_type": "stream",
     "text": [
      "Quality perfect, repetition 3/10\n"
     ]
    },
    {
     "data": {
      "application/vnd.jupyter.widget-view+json": {
       "model_id": "fba326b895704c249df340efb4c75195",
       "version_major": 2,
       "version_minor": 0
      },
      "text/plain": [
       "                                                                                                              …"
      ]
     },
     "metadata": {},
     "output_type": "display_data"
    },
    {
     "name": "stdout",
     "output_type": "stream",
     "text": [
      "Quality bad, repetition 0/100\n"
     ]
    },
    {
     "data": {
      "application/vnd.jupyter.widget-view+json": {
       "model_id": "6d5cff484c0f40f993fcb568712efe37",
       "version_major": 2,
       "version_minor": 0
      },
      "text/plain": [
       "                                                                                                              …"
      ]
     },
     "metadata": {},
     "output_type": "display_data"
    },
    {
     "name": "stdout",
     "output_type": "stream",
     "text": [
      "Quality great, repetition 1/100\n"
     ]
    },
    {
     "data": {
      "application/vnd.jupyter.widget-view+json": {
       "model_id": "0e2167edfcaa4a7e9196099b7e6e1053",
       "version_major": 2,
       "version_minor": 0
      },
      "text/plain": [
       "                                                                                                              …"
      ]
     },
     "metadata": {},
     "output_type": "display_data"
    },
    {
     "name": "stdout",
     "output_type": "stream",
     "text": [
      "Quality great, repetition 2/100\n"
     ]
    },
    {
     "data": {
      "application/vnd.jupyter.widget-view+json": {
       "model_id": "a6971d91637a488abf615e7bc88f0bd7",
       "version_major": 2,
       "version_minor": 0
      },
      "text/plain": [
       "                                                                                                              …"
      ]
     },
     "metadata": {},
     "output_type": "display_data"
    },
    {
     "name": "stdout",
     "output_type": "stream",
     "text": [
      "Quality great, repetition 3/100\n"
     ]
    },
    {
     "data": {
      "application/vnd.jupyter.widget-view+json": {
       "model_id": "72d4db9e3cfb420b9d0b6e3d8fe5e9d9",
       "version_major": 2,
       "version_minor": 0
      },
      "text/plain": [
       "                                                                                                              …"
      ]
     },
     "metadata": {},
     "output_type": "display_data"
    },
    {
     "name": "stdout",
     "output_type": "stream",
     "text": [
      "Quality great, repetition 4/100\n"
     ]
    },
    {
     "data": {
      "application/vnd.jupyter.widget-view+json": {
       "model_id": "c9225e9a3a2a472d8c9fb8df14703503",
       "version_major": 2,
       "version_minor": 0
      },
      "text/plain": [
       "                                                                                                              …"
      ]
     },
     "metadata": {},
     "output_type": "display_data"
    },
    {
     "name": "stdout",
     "output_type": "stream",
     "text": [
      "Quality great, repetition 5/100\n"
     ]
    },
    {
     "data": {
      "application/vnd.jupyter.widget-view+json": {
       "model_id": "36c95617e00a462d8a95b003cdeb71a8",
       "version_major": 2,
       "version_minor": 0
      },
      "text/plain": [
       "                                                                                                              …"
      ]
     },
     "metadata": {},
     "output_type": "display_data"
    },
    {
     "name": "stdout",
     "output_type": "stream",
     "text": [
      "Quality great, repetition 6/100\n"
     ]
    },
    {
     "data": {
      "application/vnd.jupyter.widget-view+json": {
       "model_id": "76208d84f2df451ca09f2e8e48b04b9d",
       "version_major": 2,
       "version_minor": 0
      },
      "text/plain": [
       "                                                                                                              …"
      ]
     },
     "metadata": {},
     "output_type": "display_data"
    },
    {
     "name": "stdout",
     "output_type": "stream",
     "text": [
      "Quality great, repetition 7/100\n"
     ]
    },
    {
     "data": {
      "application/vnd.jupyter.widget-view+json": {
       "model_id": "d54703a266ce4705a76938334942f9c5",
       "version_major": 2,
       "version_minor": 0
      },
      "text/plain": [
       "                                                                                                              …"
      ]
     },
     "metadata": {},
     "output_type": "display_data"
    },
    {
     "name": "stdout",
     "output_type": "stream",
     "text": [
      "Quality great, repetition 8/100\n"
     ]
    },
    {
     "data": {
      "application/vnd.jupyter.widget-view+json": {
       "model_id": "19738fdf860346c4a1fcc19630686b28",
       "version_major": 2,
       "version_minor": 0
      },
      "text/plain": [
       "                                                                                                              …"
      ]
     },
     "metadata": {},
     "output_type": "display_data"
    },
    {
     "name": "stdout",
     "output_type": "stream",
     "text": [
      "Quality great, repetition 9/100\n"
     ]
    },
    {
     "data": {
      "application/vnd.jupyter.widget-view+json": {
       "model_id": "4914e8fd5caa4b9bbe7a5f77b6d11c34",
       "version_major": 2,
       "version_minor": 0
      },
      "text/plain": [
       "                                                                                                              …"
      ]
     },
     "metadata": {},
     "output_type": "display_data"
    },
    {
     "name": "stdout",
     "output_type": "stream",
     "text": [
      "Quality great, repetition 10/100\n"
     ]
    },
    {
     "data": {
      "application/vnd.jupyter.widget-view+json": {
       "model_id": "05ede07e33314df3b4d474b5aef8b9cf",
       "version_major": 2,
       "version_minor": 0
      },
      "text/plain": [
       "                                                                                                              …"
      ]
     },
     "metadata": {},
     "output_type": "display_data"
    },
    {
     "name": "stdout",
     "output_type": "stream",
     "text": [
      "Quality great, repetition 11/100\n"
     ]
    },
    {
     "data": {
      "application/vnd.jupyter.widget-view+json": {
       "model_id": "0c18d9b1d69d4e0eb84cf6d26681262f",
       "version_major": 2,
       "version_minor": 0
      },
      "text/plain": [
       "                                                                                                              …"
      ]
     },
     "metadata": {},
     "output_type": "display_data"
    },
    {
     "name": "stdout",
     "output_type": "stream",
     "text": [
      "Quality great, repetition 12/100\n"
     ]
    },
    {
     "data": {
      "application/vnd.jupyter.widget-view+json": {
       "model_id": "ad3da02d987741f3ba52a06e19918343",
       "version_major": 2,
       "version_minor": 0
      },
      "text/plain": [
       "                                                                                                              …"
      ]
     },
     "metadata": {},
     "output_type": "display_data"
    },
    {
     "name": "stdout",
     "output_type": "stream",
     "text": [
      "Quality great, repetition 13/100\n"
     ]
    },
    {
     "data": {
      "application/vnd.jupyter.widget-view+json": {
       "model_id": "baaf8537960948bf8ee9f25704d5e1b3",
       "version_major": 2,
       "version_minor": 0
      },
      "text/plain": [
       "                                                                                                              …"
      ]
     },
     "metadata": {},
     "output_type": "display_data"
    },
    {
     "name": "stdout",
     "output_type": "stream",
     "text": [
      "Quality great, repetition 14/100\n"
     ]
    },
    {
     "data": {
      "application/vnd.jupyter.widget-view+json": {
       "model_id": "1d69e234bc444e58a655508408082c0e",
       "version_major": 2,
       "version_minor": 0
      },
      "text/plain": [
       "                                                                                                              …"
      ]
     },
     "metadata": {},
     "output_type": "display_data"
    },
    {
     "name": "stdout",
     "output_type": "stream",
     "text": [
      "Quality great, repetition 15/100\n"
     ]
    },
    {
     "data": {
      "application/vnd.jupyter.widget-view+json": {
       "model_id": "3c770b046a0c4d52bf6e5901b1747033",
       "version_major": 2,
       "version_minor": 0
      },
      "text/plain": [
       "                                                                                                              …"
      ]
     },
     "metadata": {},
     "output_type": "display_data"
    },
    {
     "name": "stdout",
     "output_type": "stream",
     "text": [
      "Quality great, repetition 16/100\n"
     ]
    },
    {
     "data": {
      "application/vnd.jupyter.widget-view+json": {
       "model_id": "85efa4dcb4644b56a4ec9a45874f1a7c",
       "version_major": 2,
       "version_minor": 0
      },
      "text/plain": [
       "                                                                                                              …"
      ]
     },
     "metadata": {},
     "output_type": "display_data"
    },
    {
     "name": "stdout",
     "output_type": "stream",
     "text": [
      "Quality great, repetition 17/100\n"
     ]
    },
    {
     "data": {
      "application/vnd.jupyter.widget-view+json": {
       "model_id": "3a1943e77fb447d7b1011d77c7a2d2b8",
       "version_major": 2,
       "version_minor": 0
      },
      "text/plain": [
       "                                                                                                              …"
      ]
     },
     "metadata": {},
     "output_type": "display_data"
    },
    {
     "name": "stdout",
     "output_type": "stream",
     "text": [
      "Quality great, repetition 18/100\n"
     ]
    },
    {
     "data": {
      "application/vnd.jupyter.widget-view+json": {
       "model_id": "5fa749753c764199ad30bedffc89c60b",
       "version_major": 2,
       "version_minor": 0
      },
      "text/plain": [
       "                                                                                                              …"
      ]
     },
     "metadata": {},
     "output_type": "display_data"
    },
    {
     "name": "stdout",
     "output_type": "stream",
     "text": [
      "Quality great, repetition 19/100\n"
     ]
    },
    {
     "data": {
      "application/vnd.jupyter.widget-view+json": {
       "model_id": "4dd87f0cb81646369b9d83c9e988a91b",
       "version_major": 2,
       "version_minor": 0
      },
      "text/plain": [
       "                                                                                                              …"
      ]
     },
     "metadata": {},
     "output_type": "display_data"
    },
    {
     "name": "stdout",
     "output_type": "stream",
     "text": [
      "Quality great, repetition 20/100\n"
     ]
    },
    {
     "data": {
      "application/vnd.jupyter.widget-view+json": {
       "model_id": "a33965f197f2440483bd4ec416972b69",
       "version_major": 2,
       "version_minor": 0
      },
      "text/plain": [
       "                                                                                                              …"
      ]
     },
     "metadata": {},
     "output_type": "display_data"
    },
    {
     "name": "stdout",
     "output_type": "stream",
     "text": [
      "Quality perfect, repetition 21/100\n",
      "Saved to batch_second/moderate_30.txt\n",
      "Saved to batch_second/moderate_30.obj\n",
      "Saved to batch_second/moderate_30_fixed.txt\n",
      "Saved to batch_second/moderate_30_fixed.obj\n",
      "Misalignment: high\n"
     ]
    },
    {
     "data": {
      "application/vnd.jupyter.widget-view+json": {
       "model_id": "dd8e8847c30b46ac96e54ca22e85928f",
       "version_major": 2,
       "version_minor": 0
      },
      "text/plain": [
       "                                                                                                              …"
      ]
     },
     "metadata": {},
     "output_type": "display_data"
    },
    {
     "name": "stdout",
     "output_type": "stream",
     "text": [
      "Quality bad, repetition 0/10\n"
     ]
    },
    {
     "data": {
      "application/vnd.jupyter.widget-view+json": {
       "model_id": "07600ca54007402d8c55fd734ddf24bb",
       "version_major": 2,
       "version_minor": 0
      },
      "text/plain": [
       "                                                                                                              …"
      ]
     },
     "metadata": {},
     "output_type": "display_data"
    },
    {
     "name": "stdout",
     "output_type": "stream",
     "text": [
      "Quality perfect, repetition 1/10\n"
     ]
    },
    {
     "data": {
      "application/vnd.jupyter.widget-view+json": {
       "model_id": "722d5f8dfd6e430c8fa3add51bdfb223",
       "version_major": 2,
       "version_minor": 0
      },
      "text/plain": [
       "                                                                                                              …"
      ]
     },
     "metadata": {},
     "output_type": "display_data"
    },
    {
     "name": "stdout",
     "output_type": "stream",
     "text": [
      "Quality bad, repetition 0/100\n"
     ]
    },
    {
     "data": {
      "application/vnd.jupyter.widget-view+json": {
       "model_id": "2c2a962f10f2411aa9d571f132ff94e2",
       "version_major": 2,
       "version_minor": 0
      },
      "text/plain": [
       "                                                                                                              …"
      ]
     },
     "metadata": {},
     "output_type": "display_data"
    },
    {
     "name": "stdout",
     "output_type": "stream",
     "text": [
      "Quality great, repetition 1/100\n"
     ]
    },
    {
     "data": {
      "application/vnd.jupyter.widget-view+json": {
       "model_id": "6da7c0c70a6345ae94a0472349d22492",
       "version_major": 2,
       "version_minor": 0
      },
      "text/plain": [
       "                                                                                                              …"
      ]
     },
     "metadata": {},
     "output_type": "display_data"
    },
    {
     "name": "stdout",
     "output_type": "stream",
     "text": [
      "Quality great, repetition 2/100\n"
     ]
    },
    {
     "data": {
      "application/vnd.jupyter.widget-view+json": {
       "model_id": "ca459317859a40dd8b3509a67304227b",
       "version_major": 2,
       "version_minor": 0
      },
      "text/plain": [
       "                                                                                                              …"
      ]
     },
     "metadata": {},
     "output_type": "display_data"
    },
    {
     "name": "stdout",
     "output_type": "stream",
     "text": [
      "Quality great, repetition 3/100\n"
     ]
    },
    {
     "data": {
      "application/vnd.jupyter.widget-view+json": {
       "model_id": "f96548a90beb49ed997c892ea6fd3935",
       "version_major": 2,
       "version_minor": 0
      },
      "text/plain": [
       "                                                                                                              …"
      ]
     },
     "metadata": {},
     "output_type": "display_data"
    },
    {
     "name": "stdout",
     "output_type": "stream",
     "text": [
      "Quality great, repetition 4/100\n"
     ]
    },
    {
     "data": {
      "application/vnd.jupyter.widget-view+json": {
       "model_id": "d8817be6458f4875aba021ef5875cbbd",
       "version_major": 2,
       "version_minor": 0
      },
      "text/plain": [
       "                                                                                                              …"
      ]
     },
     "metadata": {},
     "output_type": "display_data"
    },
    {
     "name": "stdout",
     "output_type": "stream",
     "text": [
      "Quality great, repetition 5/100\n"
     ]
    },
    {
     "data": {
      "application/vnd.jupyter.widget-view+json": {
       "model_id": "4838457ec46243f3b20a136197593bbf",
       "version_major": 2,
       "version_minor": 0
      },
      "text/plain": [
       "                                                                                                              …"
      ]
     },
     "metadata": {},
     "output_type": "display_data"
    },
    {
     "name": "stdout",
     "output_type": "stream",
     "text": [
      "Quality great, repetition 6/100\n"
     ]
    },
    {
     "data": {
      "application/vnd.jupyter.widget-view+json": {
       "model_id": "f870540332c9486293f3065afa56a817",
       "version_major": 2,
       "version_minor": 0
      },
      "text/plain": [
       "                                                                                                              …"
      ]
     },
     "metadata": {},
     "output_type": "display_data"
    },
    {
     "name": "stdout",
     "output_type": "stream",
     "text": [
      "Quality great, repetition 7/100\n"
     ]
    },
    {
     "data": {
      "application/vnd.jupyter.widget-view+json": {
       "model_id": "20b48a7b21cd4580bbbefc8d984136aa",
       "version_major": 2,
       "version_minor": 0
      },
      "text/plain": [
       "                                                                                                              …"
      ]
     },
     "metadata": {},
     "output_type": "display_data"
    },
    {
     "name": "stdout",
     "output_type": "stream",
     "text": [
      "Quality great, repetition 8/100\n"
     ]
    },
    {
     "data": {
      "application/vnd.jupyter.widget-view+json": {
       "model_id": "04f2ff31f12548cd8537469d8031e9f7",
       "version_major": 2,
       "version_minor": 0
      },
      "text/plain": [
       "                                                                                                              …"
      ]
     },
     "metadata": {},
     "output_type": "display_data"
    },
    {
     "name": "stdout",
     "output_type": "stream",
     "text": [
      "Quality great, repetition 9/100\n"
     ]
    },
    {
     "data": {
      "application/vnd.jupyter.widget-view+json": {
       "model_id": "8bfcdff53f0e4b16a8bd746180cf5dfc",
       "version_major": 2,
       "version_minor": 0
      },
      "text/plain": [
       "                                                                                                              …"
      ]
     },
     "metadata": {},
     "output_type": "display_data"
    },
    {
     "name": "stdout",
     "output_type": "stream",
     "text": [
      "Quality great, repetition 10/100\n"
     ]
    },
    {
     "data": {
      "application/vnd.jupyter.widget-view+json": {
       "model_id": "61ad7818da1548669e0ea3423d83613a",
       "version_major": 2,
       "version_minor": 0
      },
      "text/plain": [
       "                                                                                                              …"
      ]
     },
     "metadata": {},
     "output_type": "display_data"
    },
    {
     "name": "stdout",
     "output_type": "stream",
     "text": [
      "Quality great, repetition 11/100\n"
     ]
    },
    {
     "data": {
      "application/vnd.jupyter.widget-view+json": {
       "model_id": "74b36a1512b34c8aaeb4d4b2f8247b90",
       "version_major": 2,
       "version_minor": 0
      },
      "text/plain": [
       "                                                                                                              …"
      ]
     },
     "metadata": {},
     "output_type": "display_data"
    },
    {
     "name": "stdout",
     "output_type": "stream",
     "text": [
      "Quality great, repetition 12/100\n"
     ]
    },
    {
     "data": {
      "application/vnd.jupyter.widget-view+json": {
       "model_id": "0178e0ef5e5948b995be9c8400716120",
       "version_major": 2,
       "version_minor": 0
      },
      "text/plain": [
       "                                                                                                              …"
      ]
     },
     "metadata": {},
     "output_type": "display_data"
    },
    {
     "name": "stdout",
     "output_type": "stream",
     "text": [
      "Quality great, repetition 13/100\n"
     ]
    },
    {
     "data": {
      "application/vnd.jupyter.widget-view+json": {
       "model_id": "725e9c4efc9d4799b00179689e5a216b",
       "version_major": 2,
       "version_minor": 0
      },
      "text/plain": [
       "                                                                                                              …"
      ]
     },
     "metadata": {},
     "output_type": "display_data"
    },
    {
     "name": "stdout",
     "output_type": "stream",
     "text": [
      "Quality great, repetition 14/100\n"
     ]
    },
    {
     "data": {
      "application/vnd.jupyter.widget-view+json": {
       "model_id": "d4f835f3e40345a28ce24947ca9eee3b",
       "version_major": 2,
       "version_minor": 0
      },
      "text/plain": [
       "                                                                                                              …"
      ]
     },
     "metadata": {},
     "output_type": "display_data"
    },
    {
     "name": "stdout",
     "output_type": "stream",
     "text": [
      "Quality great, repetition 15/100\n"
     ]
    },
    {
     "data": {
      "application/vnd.jupyter.widget-view+json": {
       "model_id": "d6044cd383584e788c653deeb8a534a9",
       "version_major": 2,
       "version_minor": 0
      },
      "text/plain": [
       "                                                                                                              …"
      ]
     },
     "metadata": {},
     "output_type": "display_data"
    },
    {
     "name": "stdout",
     "output_type": "stream",
     "text": [
      "Quality great, repetition 16/100\n"
     ]
    },
    {
     "data": {
      "application/vnd.jupyter.widget-view+json": {
       "model_id": "ab108376ffc44af181003326c2f6791a",
       "version_major": 2,
       "version_minor": 0
      },
      "text/plain": [
       "                                                                                                              …"
      ]
     },
     "metadata": {},
     "output_type": "display_data"
    },
    {
     "name": "stdout",
     "output_type": "stream",
     "text": [
      "Quality great, repetition 17/100\n"
     ]
    },
    {
     "data": {
      "application/vnd.jupyter.widget-view+json": {
       "model_id": "cdc3f838efec48dd84a72feae517e366",
       "version_major": 2,
       "version_minor": 0
      },
      "text/plain": [
       "                                                                                                              …"
      ]
     },
     "metadata": {},
     "output_type": "display_data"
    },
    {
     "name": "stdout",
     "output_type": "stream",
     "text": [
      "Quality great, repetition 18/100\n"
     ]
    },
    {
     "data": {
      "application/vnd.jupyter.widget-view+json": {
       "model_id": "1bfe358cac1540dab1eefcd17fc1db01",
       "version_major": 2,
       "version_minor": 0
      },
      "text/plain": [
       "                                                                                                              …"
      ]
     },
     "metadata": {},
     "output_type": "display_data"
    },
    {
     "name": "stdout",
     "output_type": "stream",
     "text": [
      "Quality great, repetition 19/100\n"
     ]
    },
    {
     "data": {
      "application/vnd.jupyter.widget-view+json": {
       "model_id": "0e321d05489145198d4b092e7b4dba8b",
       "version_major": 2,
       "version_minor": 0
      },
      "text/plain": [
       "                                                                                                              …"
      ]
     },
     "metadata": {},
     "output_type": "display_data"
    },
    {
     "name": "stdout",
     "output_type": "stream",
     "text": [
      "Quality great, repetition 20/100\n"
     ]
    },
    {
     "data": {
      "application/vnd.jupyter.widget-view+json": {
       "model_id": "d8856d09caf24766b4d9f68fbd303eb9",
       "version_major": 2,
       "version_minor": 0
      },
      "text/plain": [
       "                                                                                                              …"
      ]
     },
     "metadata": {},
     "output_type": "display_data"
    },
    {
     "name": "stdout",
     "output_type": "stream",
     "text": [
      "Quality great, repetition 21/100\n"
     ]
    },
    {
     "data": {
      "application/vnd.jupyter.widget-view+json": {
       "model_id": "84b3b15f590d42c0b010ba6b7e7f300b",
       "version_major": 2,
       "version_minor": 0
      },
      "text/plain": [
       "                                                                                                              …"
      ]
     },
     "metadata": {},
     "output_type": "display_data"
    },
    {
     "name": "stdout",
     "output_type": "stream",
     "text": [
      "Quality great, repetition 22/100\n"
     ]
    },
    {
     "data": {
      "application/vnd.jupyter.widget-view+json": {
       "model_id": "a57492c807004e8aa3a14d59a243fbe1",
       "version_major": 2,
       "version_minor": 0
      },
      "text/plain": [
       "                                                                                                              …"
      ]
     },
     "metadata": {},
     "output_type": "display_data"
    },
    {
     "name": "stdout",
     "output_type": "stream",
     "text": [
      "Quality great, repetition 23/100\n"
     ]
    },
    {
     "data": {
      "application/vnd.jupyter.widget-view+json": {
       "model_id": "30ac36e01ef64d379d85593816f23588",
       "version_major": 2,
       "version_minor": 0
      },
      "text/plain": [
       "                                                                                                              …"
      ]
     },
     "metadata": {},
     "output_type": "display_data"
    },
    {
     "name": "stdout",
     "output_type": "stream",
     "text": [
      "Quality great, repetition 24/100\n"
     ]
    },
    {
     "data": {
      "application/vnd.jupyter.widget-view+json": {
       "model_id": "063724bed70c4079a1e741d2e505faf3",
       "version_major": 2,
       "version_minor": 0
      },
      "text/plain": [
       "                                                                                                              …"
      ]
     },
     "metadata": {},
     "output_type": "display_data"
    },
    {
     "name": "stdout",
     "output_type": "stream",
     "text": [
      "Quality great, repetition 25/100\n"
     ]
    },
    {
     "data": {
      "application/vnd.jupyter.widget-view+json": {
       "model_id": "5563f523b3f7472396ce5642d82b255e",
       "version_major": 2,
       "version_minor": 0
      },
      "text/plain": [
       "                                                                                                              …"
      ]
     },
     "metadata": {},
     "output_type": "display_data"
    },
    {
     "name": "stdout",
     "output_type": "stream",
     "text": [
      "Quality great, repetition 26/100\n"
     ]
    },
    {
     "data": {
      "application/vnd.jupyter.widget-view+json": {
       "model_id": "3594315946f44052bac642d4911ba807",
       "version_major": 2,
       "version_minor": 0
      },
      "text/plain": [
       "                                                                                                              …"
      ]
     },
     "metadata": {},
     "output_type": "display_data"
    },
    {
     "name": "stdout",
     "output_type": "stream",
     "text": [
      "Quality great, repetition 27/100\n"
     ]
    },
    {
     "data": {
      "application/vnd.jupyter.widget-view+json": {
       "model_id": "ab7260f63fda41e299744bde41344d3b",
       "version_major": 2,
       "version_minor": 0
      },
      "text/plain": [
       "                                                                                                              …"
      ]
     },
     "metadata": {},
     "output_type": "display_data"
    },
    {
     "name": "stdout",
     "output_type": "stream",
     "text": [
      "Quality great, repetition 28/100\n"
     ]
    },
    {
     "data": {
      "application/vnd.jupyter.widget-view+json": {
       "model_id": "7fbba7a381294186a047abd4c53943ed",
       "version_major": 2,
       "version_minor": 0
      },
      "text/plain": [
       "                                                                                                              …"
      ]
     },
     "metadata": {},
     "output_type": "display_data"
    },
    {
     "name": "stdout",
     "output_type": "stream",
     "text": [
      "Quality great, repetition 29/100\n"
     ]
    },
    {
     "data": {
      "application/vnd.jupyter.widget-view+json": {
       "model_id": "7ab9ee084a0f41678ff7bd054368c171",
       "version_major": 2,
       "version_minor": 0
      },
      "text/plain": [
       "                                                                                                              …"
      ]
     },
     "metadata": {},
     "output_type": "display_data"
    },
    {
     "name": "stdout",
     "output_type": "stream",
     "text": [
      "Quality great, repetition 30/100\n"
     ]
    },
    {
     "data": {
      "application/vnd.jupyter.widget-view+json": {
       "model_id": "fd8cb807c159460ca51954529a7c896e",
       "version_major": 2,
       "version_minor": 0
      },
      "text/plain": [
       "                                                                                                              …"
      ]
     },
     "metadata": {},
     "output_type": "display_data"
    },
    {
     "name": "stdout",
     "output_type": "stream",
     "text": [
      "Quality great, repetition 31/100\n"
     ]
    },
    {
     "data": {
      "application/vnd.jupyter.widget-view+json": {
       "model_id": "4d45916636954bce93214f76e38f3ff0",
       "version_major": 2,
       "version_minor": 0
      },
      "text/plain": [
       "                                                                                                              …"
      ]
     },
     "metadata": {},
     "output_type": "display_data"
    },
    {
     "name": "stdout",
     "output_type": "stream",
     "text": [
      "Quality great, repetition 32/100\n"
     ]
    },
    {
     "data": {
      "application/vnd.jupyter.widget-view+json": {
       "model_id": "fec57cd669424cb3b7d40637ed8c15c7",
       "version_major": 2,
       "version_minor": 0
      },
      "text/plain": [
       "                                                                                                              …"
      ]
     },
     "metadata": {},
     "output_type": "display_data"
    },
    {
     "name": "stdout",
     "output_type": "stream",
     "text": [
      "Quality great, repetition 33/100\n"
     ]
    },
    {
     "data": {
      "application/vnd.jupyter.widget-view+json": {
       "model_id": "3ea8bc0d93a3461aa7a6f2176cc1a8fe",
       "version_major": 2,
       "version_minor": 0
      },
      "text/plain": [
       "                                                                                                              …"
      ]
     },
     "metadata": {},
     "output_type": "display_data"
    },
    {
     "name": "stdout",
     "output_type": "stream",
     "text": [
      "Quality great, repetition 34/100\n"
     ]
    },
    {
     "data": {
      "application/vnd.jupyter.widget-view+json": {
       "model_id": "52058665ee6349a190fd568d5b19fabe",
       "version_major": 2,
       "version_minor": 0
      },
      "text/plain": [
       "                                                                                                              …"
      ]
     },
     "metadata": {},
     "output_type": "display_data"
    },
    {
     "name": "stdout",
     "output_type": "stream",
     "text": [
      "Quality great, repetition 35/100\n"
     ]
    },
    {
     "data": {
      "application/vnd.jupyter.widget-view+json": {
       "model_id": "e986cdefe01647f3b5a416eb4ed95301",
       "version_major": 2,
       "version_minor": 0
      },
      "text/plain": [
       "                                                                                                              …"
      ]
     },
     "metadata": {},
     "output_type": "display_data"
    },
    {
     "name": "stdout",
     "output_type": "stream",
     "text": [
      "Quality great, repetition 36/100\n"
     ]
    },
    {
     "data": {
      "application/vnd.jupyter.widget-view+json": {
       "model_id": "2d017c2eda374752be633b99d57472ea",
       "version_major": 2,
       "version_minor": 0
      },
      "text/plain": [
       "                                                                                                              …"
      ]
     },
     "metadata": {},
     "output_type": "display_data"
    },
    {
     "name": "stdout",
     "output_type": "stream",
     "text": [
      "Quality great, repetition 37/100\n"
     ]
    },
    {
     "data": {
      "application/vnd.jupyter.widget-view+json": {
       "model_id": "73e83e2bdb37424092fe3fddb7161097",
       "version_major": 2,
       "version_minor": 0
      },
      "text/plain": [
       "                                                                                                              …"
      ]
     },
     "metadata": {},
     "output_type": "display_data"
    },
    {
     "name": "stdout",
     "output_type": "stream",
     "text": [
      "Quality great, repetition 38/100\n"
     ]
    },
    {
     "data": {
      "application/vnd.jupyter.widget-view+json": {
       "model_id": "3e0c794b64e7402988129d25748a998d",
       "version_major": 2,
       "version_minor": 0
      },
      "text/plain": [
       "                                                                                                              …"
      ]
     },
     "metadata": {},
     "output_type": "display_data"
    },
    {
     "name": "stdout",
     "output_type": "stream",
     "text": [
      "Quality great, repetition 39/100\n"
     ]
    },
    {
     "data": {
      "application/vnd.jupyter.widget-view+json": {
       "model_id": "b632db100c4544de82f769e5fd589d14",
       "version_major": 2,
       "version_minor": 0
      },
      "text/plain": [
       "                                                                                                              …"
      ]
     },
     "metadata": {},
     "output_type": "display_data"
    },
    {
     "name": "stdout",
     "output_type": "stream",
     "text": [
      "Quality great, repetition 40/100\n"
     ]
    },
    {
     "data": {
      "application/vnd.jupyter.widget-view+json": {
       "model_id": "27517c0bbadf42fc88cb238afffb0d91",
       "version_major": 2,
       "version_minor": 0
      },
      "text/plain": [
       "                                                                                                              …"
      ]
     },
     "metadata": {},
     "output_type": "display_data"
    },
    {
     "name": "stdout",
     "output_type": "stream",
     "text": [
      "Quality great, repetition 41/100\n"
     ]
    },
    {
     "data": {
      "application/vnd.jupyter.widget-view+json": {
       "model_id": "dc68e22c6c484ec48da90d59f3dcaf69",
       "version_major": 2,
       "version_minor": 0
      },
      "text/plain": [
       "                                                                                                              …"
      ]
     },
     "metadata": {},
     "output_type": "display_data"
    },
    {
     "name": "stdout",
     "output_type": "stream",
     "text": [
      "Quality great, repetition 42/100\n"
     ]
    },
    {
     "data": {
      "application/vnd.jupyter.widget-view+json": {
       "model_id": "c84ff66318f547ab9867fe7bd8df30eb",
       "version_major": 2,
       "version_minor": 0
      },
      "text/plain": [
       "                                                                                                              …"
      ]
     },
     "metadata": {},
     "output_type": "display_data"
    },
    {
     "name": "stdout",
     "output_type": "stream",
     "text": [
      "Quality great, repetition 43/100\n"
     ]
    },
    {
     "data": {
      "application/vnd.jupyter.widget-view+json": {
       "model_id": "eca5c35489a1404e9ac50c7543c4ec31",
       "version_major": 2,
       "version_minor": 0
      },
      "text/plain": [
       "                                                                                                              …"
      ]
     },
     "metadata": {},
     "output_type": "display_data"
    },
    {
     "name": "stdout",
     "output_type": "stream",
     "text": [
      "Quality great, repetition 44/100\n"
     ]
    },
    {
     "data": {
      "application/vnd.jupyter.widget-view+json": {
       "model_id": "1342f289470c4a62ac1c2bd597102d03",
       "version_major": 2,
       "version_minor": 0
      },
      "text/plain": [
       "                                                                                                              …"
      ]
     },
     "metadata": {},
     "output_type": "display_data"
    },
    {
     "name": "stdout",
     "output_type": "stream",
     "text": [
      "Quality great, repetition 45/100\n"
     ]
    },
    {
     "data": {
      "application/vnd.jupyter.widget-view+json": {
       "model_id": "25803730ef4b4a51b41dbca043fbd28a",
       "version_major": 2,
       "version_minor": 0
      },
      "text/plain": [
       "                                                                                                              …"
      ]
     },
     "metadata": {},
     "output_type": "display_data"
    },
    {
     "name": "stdout",
     "output_type": "stream",
     "text": [
      "Quality great, repetition 46/100\n"
     ]
    },
    {
     "data": {
      "application/vnd.jupyter.widget-view+json": {
       "model_id": "fa22c530fc0a4e0a90939db128d9cf24",
       "version_major": 2,
       "version_minor": 0
      },
      "text/plain": [
       "                                                                                                              …"
      ]
     },
     "metadata": {},
     "output_type": "display_data"
    },
    {
     "name": "stdout",
     "output_type": "stream",
     "text": [
      "Quality great, repetition 47/100\n"
     ]
    },
    {
     "data": {
      "application/vnd.jupyter.widget-view+json": {
       "model_id": "13b4069bdc7a4c5682aa3ddcddd2f21d",
       "version_major": 2,
       "version_minor": 0
      },
      "text/plain": [
       "                                                                                                              …"
      ]
     },
     "metadata": {},
     "output_type": "display_data"
    },
    {
     "name": "stdout",
     "output_type": "stream",
     "text": [
      "Quality great, repetition 48/100\n"
     ]
    },
    {
     "data": {
      "application/vnd.jupyter.widget-view+json": {
       "model_id": "218836d551e54d37a66ab4f7fafaa961",
       "version_major": 2,
       "version_minor": 0
      },
      "text/plain": [
       "                                                                                                              …"
      ]
     },
     "metadata": {},
     "output_type": "display_data"
    },
    {
     "name": "stdout",
     "output_type": "stream",
     "text": [
      "Quality great, repetition 49/100\n"
     ]
    },
    {
     "data": {
      "application/vnd.jupyter.widget-view+json": {
       "model_id": "1acd2d362d524b9fbc7beaf496442360",
       "version_major": 2,
       "version_minor": 0
      },
      "text/plain": [
       "                                                                                                              …"
      ]
     },
     "metadata": {},
     "output_type": "display_data"
    },
    {
     "name": "stdout",
     "output_type": "stream",
     "text": [
      "Quality great, repetition 50/100\n"
     ]
    },
    {
     "data": {
      "application/vnd.jupyter.widget-view+json": {
       "model_id": "7b55beb862ba4b458bcb78bc21c7f10c",
       "version_major": 2,
       "version_minor": 0
      },
      "text/plain": [
       "                                                                                                              …"
      ]
     },
     "metadata": {},
     "output_type": "display_data"
    },
    {
     "name": "stdout",
     "output_type": "stream",
     "text": [
      "Quality great, repetition 51/100\n"
     ]
    },
    {
     "data": {
      "application/vnd.jupyter.widget-view+json": {
       "model_id": "04eac1f616d44e208a4ef8a50db1a088",
       "version_major": 2,
       "version_minor": 0
      },
      "text/plain": [
       "                                                                                                              …"
      ]
     },
     "metadata": {},
     "output_type": "display_data"
    },
    {
     "name": "stdout",
     "output_type": "stream",
     "text": [
      "Quality perfect, repetition 52/100\n",
      "Saved to batch_second/high_30.txt\n",
      "Saved to batch_second/high_30.obj\n",
      "Saved to batch_second/high_30_fixed.txt\n",
      "Saved to batch_second/high_30_fixed.obj\n",
      "Misalignment: very high\n"
     ]
    },
    {
     "data": {
      "application/vnd.jupyter.widget-view+json": {
       "model_id": "d0221652219b4b2ba9bdc537b52e3841",
       "version_major": 2,
       "version_minor": 0
      },
      "text/plain": [
       "                                                                                                              …"
      ]
     },
     "metadata": {},
     "output_type": "display_data"
    },
    {
     "name": "stdout",
     "output_type": "stream",
     "text": [
      "Quality bad, repetition 0/10\n"
     ]
    },
    {
     "data": {
      "application/vnd.jupyter.widget-view+json": {
       "model_id": "9e097dc40bc04068bb2eaa07198cc40b",
       "version_major": 2,
       "version_minor": 0
      },
      "text/plain": [
       "                                                                                                              …"
      ]
     },
     "metadata": {},
     "output_type": "display_data"
    },
    {
     "name": "stdout",
     "output_type": "stream",
     "text": [
      "Quality perfect, repetition 1/10\n"
     ]
    },
    {
     "data": {
      "application/vnd.jupyter.widget-view+json": {
       "model_id": "1cff7d170ff64f33a19dc16bf3196cd7",
       "version_major": 2,
       "version_minor": 0
      },
      "text/plain": [
       "                                                                                                              …"
      ]
     },
     "metadata": {},
     "output_type": "display_data"
    },
    {
     "name": "stdout",
     "output_type": "stream",
     "text": [
      "Quality bad, repetition 0/100\n"
     ]
    },
    {
     "data": {
      "application/vnd.jupyter.widget-view+json": {
       "model_id": "750dca07645c45fa8f073a4b1ecbc428",
       "version_major": 2,
       "version_minor": 0
      },
      "text/plain": [
       "                                                                                                              …"
      ]
     },
     "metadata": {},
     "output_type": "display_data"
    },
    {
     "name": "stdout",
     "output_type": "stream",
     "text": [
      "Quality great, repetition 1/100\n"
     ]
    },
    {
     "data": {
      "application/vnd.jupyter.widget-view+json": {
       "model_id": "9b1a2bf50ca8427b9ad5142dd4e074cb",
       "version_major": 2,
       "version_minor": 0
      },
      "text/plain": [
       "                                                                                                              …"
      ]
     },
     "metadata": {},
     "output_type": "display_data"
    },
    {
     "name": "stdout",
     "output_type": "stream",
     "text": [
      "Quality great, repetition 2/100\n"
     ]
    },
    {
     "data": {
      "application/vnd.jupyter.widget-view+json": {
       "model_id": "84bf2d425ae54e80822b8c078158d99f",
       "version_major": 2,
       "version_minor": 0
      },
      "text/plain": [
       "                                                                                                              …"
      ]
     },
     "metadata": {},
     "output_type": "display_data"
    },
    {
     "name": "stdout",
     "output_type": "stream",
     "text": [
      "Quality great, repetition 3/100\n"
     ]
    },
    {
     "data": {
      "application/vnd.jupyter.widget-view+json": {
       "model_id": "47b714f527304e8b9f64c3662eb04bd6",
       "version_major": 2,
       "version_minor": 0
      },
      "text/plain": [
       "                                                                                                              …"
      ]
     },
     "metadata": {},
     "output_type": "display_data"
    },
    {
     "name": "stdout",
     "output_type": "stream",
     "text": [
      "Quality great, repetition 4/100\n"
     ]
    },
    {
     "data": {
      "application/vnd.jupyter.widget-view+json": {
       "model_id": "91ac5eef74fc449c9ec151fea643ab55",
       "version_major": 2,
       "version_minor": 0
      },
      "text/plain": [
       "                                                                                                              …"
      ]
     },
     "metadata": {},
     "output_type": "display_data"
    },
    {
     "name": "stdout",
     "output_type": "stream",
     "text": [
      "Quality great, repetition 5/100\n"
     ]
    },
    {
     "data": {
      "application/vnd.jupyter.widget-view+json": {
       "model_id": "27cc50f9964146ef97b49ad09244380e",
       "version_major": 2,
       "version_minor": 0
      },
      "text/plain": [
       "                                                                                                              …"
      ]
     },
     "metadata": {},
     "output_type": "display_data"
    },
    {
     "name": "stdout",
     "output_type": "stream",
     "text": [
      "Quality great, repetition 6/100\n"
     ]
    },
    {
     "data": {
      "application/vnd.jupyter.widget-view+json": {
       "model_id": "6452f7bf53364da2a78b2b5d246ee5db",
       "version_major": 2,
       "version_minor": 0
      },
      "text/plain": [
       "                                                                                                              …"
      ]
     },
     "metadata": {},
     "output_type": "display_data"
    },
    {
     "name": "stdout",
     "output_type": "stream",
     "text": [
      "Quality great, repetition 7/100\n"
     ]
    },
    {
     "data": {
      "application/vnd.jupyter.widget-view+json": {
       "model_id": "fb1eadb7421d428f99512a9c83855f01",
       "version_major": 2,
       "version_minor": 0
      },
      "text/plain": [
       "                                                                                                              …"
      ]
     },
     "metadata": {},
     "output_type": "display_data"
    },
    {
     "name": "stdout",
     "output_type": "stream",
     "text": [
      "Quality great, repetition 8/100\n"
     ]
    },
    {
     "data": {
      "application/vnd.jupyter.widget-view+json": {
       "model_id": "3c77125c7b684ff3a5a0555b3b0f975d",
       "version_major": 2,
       "version_minor": 0
      },
      "text/plain": [
       "                                                                                                              …"
      ]
     },
     "metadata": {},
     "output_type": "display_data"
    },
    {
     "name": "stdout",
     "output_type": "stream",
     "text": [
      "Quality great, repetition 9/100\n"
     ]
    },
    {
     "data": {
      "application/vnd.jupyter.widget-view+json": {
       "model_id": "75af0e045ec54343857c5a303dd8a7be",
       "version_major": 2,
       "version_minor": 0
      },
      "text/plain": [
       "                                                                                                              …"
      ]
     },
     "metadata": {},
     "output_type": "display_data"
    },
    {
     "name": "stdout",
     "output_type": "stream",
     "text": [
      "Quality great, repetition 10/100\n"
     ]
    },
    {
     "data": {
      "application/vnd.jupyter.widget-view+json": {
       "model_id": "e6e8e1adb93342249fe34e59db8817e1",
       "version_major": 2,
       "version_minor": 0
      },
      "text/plain": [
       "                                                                                                              …"
      ]
     },
     "metadata": {},
     "output_type": "display_data"
    },
    {
     "name": "stdout",
     "output_type": "stream",
     "text": [
      "Quality great, repetition 11/100\n"
     ]
    },
    {
     "data": {
      "application/vnd.jupyter.widget-view+json": {
       "model_id": "013c1a2105474d3c81981f564a97a8b9",
       "version_major": 2,
       "version_minor": 0
      },
      "text/plain": [
       "                                                                                                              …"
      ]
     },
     "metadata": {},
     "output_type": "display_data"
    },
    {
     "name": "stdout",
     "output_type": "stream",
     "text": [
      "Quality great, repetition 12/100\n"
     ]
    },
    {
     "data": {
      "application/vnd.jupyter.widget-view+json": {
       "model_id": "896142128faf49d5b9b81c97d1fb1651",
       "version_major": 2,
       "version_minor": 0
      },
      "text/plain": [
       "                                                                                                              …"
      ]
     },
     "metadata": {},
     "output_type": "display_data"
    },
    {
     "name": "stdout",
     "output_type": "stream",
     "text": [
      "Quality great, repetition 13/100\n"
     ]
    },
    {
     "data": {
      "application/vnd.jupyter.widget-view+json": {
       "model_id": "9db860dc5193432fb8f4f533c3514ffa",
       "version_major": 2,
       "version_minor": 0
      },
      "text/plain": [
       "                                                                                                              …"
      ]
     },
     "metadata": {},
     "output_type": "display_data"
    },
    {
     "name": "stdout",
     "output_type": "stream",
     "text": [
      "Quality great, repetition 14/100\n"
     ]
    },
    {
     "data": {
      "application/vnd.jupyter.widget-view+json": {
       "model_id": "74e2b4594bc64c2597327a1fd3ee750c",
       "version_major": 2,
       "version_minor": 0
      },
      "text/plain": [
       "                                                                                                              …"
      ]
     },
     "metadata": {},
     "output_type": "display_data"
    },
    {
     "name": "stdout",
     "output_type": "stream",
     "text": [
      "Quality great, repetition 15/100\n"
     ]
    },
    {
     "data": {
      "application/vnd.jupyter.widget-view+json": {
       "model_id": "3dfefd2c39194b41b7dc50d17f2f0e53",
       "version_major": 2,
       "version_minor": 0
      },
      "text/plain": [
       "                                                                                                              …"
      ]
     },
     "metadata": {},
     "output_type": "display_data"
    },
    {
     "name": "stdout",
     "output_type": "stream",
     "text": [
      "Quality great, repetition 16/100\n"
     ]
    },
    {
     "data": {
      "application/vnd.jupyter.widget-view+json": {
       "model_id": "f046bd5587744650a4fc3e8d4171cafe",
       "version_major": 2,
       "version_minor": 0
      },
      "text/plain": [
       "                                                                                                              …"
      ]
     },
     "metadata": {},
     "output_type": "display_data"
    },
    {
     "name": "stdout",
     "output_type": "stream",
     "text": [
      "Quality great, repetition 17/100\n"
     ]
    },
    {
     "data": {
      "application/vnd.jupyter.widget-view+json": {
       "model_id": "3d0cfebeaa90427193faa0b507ca5652",
       "version_major": 2,
       "version_minor": 0
      },
      "text/plain": [
       "                                                                                                              …"
      ]
     },
     "metadata": {},
     "output_type": "display_data"
    },
    {
     "name": "stdout",
     "output_type": "stream",
     "text": [
      "Quality great, repetition 18/100\n"
     ]
    },
    {
     "data": {
      "application/vnd.jupyter.widget-view+json": {
       "model_id": "3de8500cab3844e2b25ccecf261f255f",
       "version_major": 2,
       "version_minor": 0
      },
      "text/plain": [
       "                                                                                                              …"
      ]
     },
     "metadata": {},
     "output_type": "display_data"
    },
    {
     "name": "stdout",
     "output_type": "stream",
     "text": [
      "Quality great, repetition 19/100\n"
     ]
    },
    {
     "data": {
      "application/vnd.jupyter.widget-view+json": {
       "model_id": "63f3e589460e4133b6e4520b5ec05bf0",
       "version_major": 2,
       "version_minor": 0
      },
      "text/plain": [
       "                                                                                                              …"
      ]
     },
     "metadata": {},
     "output_type": "display_data"
    },
    {
     "name": "stdout",
     "output_type": "stream",
     "text": [
      "Quality great, repetition 20/100\n"
     ]
    },
    {
     "data": {
      "application/vnd.jupyter.widget-view+json": {
       "model_id": "5d488ad79657475e80eebf54b2b43125",
       "version_major": 2,
       "version_minor": 0
      },
      "text/plain": [
       "                                                                                                              …"
      ]
     },
     "metadata": {},
     "output_type": "display_data"
    },
    {
     "name": "stdout",
     "output_type": "stream",
     "text": [
      "Quality great, repetition 21/100\n"
     ]
    },
    {
     "data": {
      "application/vnd.jupyter.widget-view+json": {
       "model_id": "46620fce6769486a81f733a1365a5cc3",
       "version_major": 2,
       "version_minor": 0
      },
      "text/plain": [
       "                                                                                                              …"
      ]
     },
     "metadata": {},
     "output_type": "display_data"
    },
    {
     "name": "stdout",
     "output_type": "stream",
     "text": [
      "Quality great, repetition 22/100\n"
     ]
    },
    {
     "data": {
      "application/vnd.jupyter.widget-view+json": {
       "model_id": "2bccf2e43a25466594a44c202395ed85",
       "version_major": 2,
       "version_minor": 0
      },
      "text/plain": [
       "                                                                                                              …"
      ]
     },
     "metadata": {},
     "output_type": "display_data"
    },
    {
     "name": "stdout",
     "output_type": "stream",
     "text": [
      "Quality great, repetition 23/100\n"
     ]
    },
    {
     "data": {
      "application/vnd.jupyter.widget-view+json": {
       "model_id": "a3470d306402409a9e6e9e92a1b84188",
       "version_major": 2,
       "version_minor": 0
      },
      "text/plain": [
       "                                                                                                              …"
      ]
     },
     "metadata": {},
     "output_type": "display_data"
    },
    {
     "name": "stdout",
     "output_type": "stream",
     "text": [
      "Quality great, repetition 24/100\n"
     ]
    },
    {
     "data": {
      "application/vnd.jupyter.widget-view+json": {
       "model_id": "f8787d03dc67474893bcc0fe8099b968",
       "version_major": 2,
       "version_minor": 0
      },
      "text/plain": [
       "                                                                                                              …"
      ]
     },
     "metadata": {},
     "output_type": "display_data"
    },
    {
     "name": "stdout",
     "output_type": "stream",
     "text": [
      "Quality great, repetition 25/100\n"
     ]
    },
    {
     "data": {
      "application/vnd.jupyter.widget-view+json": {
       "model_id": "811c003a6e74440abdb98cb1cb512608",
       "version_major": 2,
       "version_minor": 0
      },
      "text/plain": [
       "                                                                                                              …"
      ]
     },
     "metadata": {},
     "output_type": "display_data"
    },
    {
     "name": "stdout",
     "output_type": "stream",
     "text": [
      "Quality great, repetition 26/100\n"
     ]
    },
    {
     "data": {
      "application/vnd.jupyter.widget-view+json": {
       "model_id": "e4f38a9a025b4950abc648c17c5bdb5e",
       "version_major": 2,
       "version_minor": 0
      },
      "text/plain": [
       "                                                                                                              …"
      ]
     },
     "metadata": {},
     "output_type": "display_data"
    },
    {
     "name": "stdout",
     "output_type": "stream",
     "text": [
      "Quality great, repetition 27/100\n"
     ]
    },
    {
     "data": {
      "application/vnd.jupyter.widget-view+json": {
       "model_id": "b90ce05e3a034801982c8a5146c11669",
       "version_major": 2,
       "version_minor": 0
      },
      "text/plain": [
       "                                                                                                              …"
      ]
     },
     "metadata": {},
     "output_type": "display_data"
    },
    {
     "name": "stdout",
     "output_type": "stream",
     "text": [
      "Quality great, repetition 28/100\n"
     ]
    },
    {
     "data": {
      "application/vnd.jupyter.widget-view+json": {
       "model_id": "088e1a673b974db1b5ef4c413b0ffc5e",
       "version_major": 2,
       "version_minor": 0
      },
      "text/plain": [
       "                                                                                                              …"
      ]
     },
     "metadata": {},
     "output_type": "display_data"
    },
    {
     "name": "stdout",
     "output_type": "stream",
     "text": [
      "Quality great, repetition 29/100\n"
     ]
    },
    {
     "data": {
      "application/vnd.jupyter.widget-view+json": {
       "model_id": "d1aa1fd66a524af3953e312b0fea1d48",
       "version_major": 2,
       "version_minor": 0
      },
      "text/plain": [
       "                                                                                                              …"
      ]
     },
     "metadata": {},
     "output_type": "display_data"
    },
    {
     "name": "stdout",
     "output_type": "stream",
     "text": [
      "Quality great, repetition 30/100\n"
     ]
    },
    {
     "data": {
      "application/vnd.jupyter.widget-view+json": {
       "model_id": "fbb082c0fa8f4e7b8784f0685979545b",
       "version_major": 2,
       "version_minor": 0
      },
      "text/plain": [
       "                                                                                                              …"
      ]
     },
     "metadata": {},
     "output_type": "display_data"
    },
    {
     "name": "stdout",
     "output_type": "stream",
     "text": [
      "Quality great, repetition 31/100\n"
     ]
    },
    {
     "data": {
      "application/vnd.jupyter.widget-view+json": {
       "model_id": "7f1a01679f534a8f941e1e02b86a95f6",
       "version_major": 2,
       "version_minor": 0
      },
      "text/plain": [
       "                                                                                                              …"
      ]
     },
     "metadata": {},
     "output_type": "display_data"
    },
    {
     "name": "stdout",
     "output_type": "stream",
     "text": [
      "Quality great, repetition 32/100\n"
     ]
    },
    {
     "data": {
      "application/vnd.jupyter.widget-view+json": {
       "model_id": "5f23b8c7ac774a578c9c6f73af2494b0",
       "version_major": 2,
       "version_minor": 0
      },
      "text/plain": [
       "                                                                                                              …"
      ]
     },
     "metadata": {},
     "output_type": "display_data"
    },
    {
     "name": "stdout",
     "output_type": "stream",
     "text": [
      "Quality great, repetition 33/100\n"
     ]
    },
    {
     "data": {
      "application/vnd.jupyter.widget-view+json": {
       "model_id": "5d591d422efc43c68bfc413385e4f399",
       "version_major": 2,
       "version_minor": 0
      },
      "text/plain": [
       "                                                                                                              …"
      ]
     },
     "metadata": {},
     "output_type": "display_data"
    },
    {
     "name": "stdout",
     "output_type": "stream",
     "text": [
      "Quality great, repetition 34/100\n"
     ]
    },
    {
     "data": {
      "application/vnd.jupyter.widget-view+json": {
       "model_id": "5e97f72697184162bc5efca6ec676626",
       "version_major": 2,
       "version_minor": 0
      },
      "text/plain": [
       "                                                                                                              …"
      ]
     },
     "metadata": {},
     "output_type": "display_data"
    },
    {
     "name": "stdout",
     "output_type": "stream",
     "text": [
      "Quality great, repetition 35/100\n"
     ]
    },
    {
     "data": {
      "application/vnd.jupyter.widget-view+json": {
       "model_id": "6d2e776649aa46498b5283d1189389e0",
       "version_major": 2,
       "version_minor": 0
      },
      "text/plain": [
       "                                                                                                              …"
      ]
     },
     "metadata": {},
     "output_type": "display_data"
    },
    {
     "name": "stdout",
     "output_type": "stream",
     "text": [
      "Quality great, repetition 36/100\n"
     ]
    },
    {
     "data": {
      "application/vnd.jupyter.widget-view+json": {
       "model_id": "ab4c25c631824a02bc3102d47b5dfda6",
       "version_major": 2,
       "version_minor": 0
      },
      "text/plain": [
       "                                                                                                              …"
      ]
     },
     "metadata": {},
     "output_type": "display_data"
    },
    {
     "name": "stdout",
     "output_type": "stream",
     "text": [
      "Quality great, repetition 37/100\n"
     ]
    },
    {
     "data": {
      "application/vnd.jupyter.widget-view+json": {
       "model_id": "4f89009debc1487b9e3b9a706b4a5a49",
       "version_major": 2,
       "version_minor": 0
      },
      "text/plain": [
       "                                                                                                              …"
      ]
     },
     "metadata": {},
     "output_type": "display_data"
    },
    {
     "name": "stdout",
     "output_type": "stream",
     "text": [
      "Quality great, repetition 38/100\n"
     ]
    },
    {
     "data": {
      "application/vnd.jupyter.widget-view+json": {
       "model_id": "82de4c7eecfc4e08befd3d5ae1cb24a7",
       "version_major": 2,
       "version_minor": 0
      },
      "text/plain": [
       "                                                                                                              …"
      ]
     },
     "metadata": {},
     "output_type": "display_data"
    },
    {
     "name": "stdout",
     "output_type": "stream",
     "text": [
      "Quality great, repetition 39/100\n"
     ]
    },
    {
     "data": {
      "application/vnd.jupyter.widget-view+json": {
       "model_id": "314d9c9609fe4bbca160d3e2404da15e",
       "version_major": 2,
       "version_minor": 0
      },
      "text/plain": [
       "                                                                                                              …"
      ]
     },
     "metadata": {},
     "output_type": "display_data"
    },
    {
     "name": "stdout",
     "output_type": "stream",
     "text": [
      "Quality great, repetition 40/100\n"
     ]
    },
    {
     "data": {
      "application/vnd.jupyter.widget-view+json": {
       "model_id": "e192961bbb594e4da74bf93ea3938a4f",
       "version_major": 2,
       "version_minor": 0
      },
      "text/plain": [
       "                                                                                                              …"
      ]
     },
     "metadata": {},
     "output_type": "display_data"
    },
    {
     "name": "stdout",
     "output_type": "stream",
     "text": [
      "Quality great, repetition 41/100\n"
     ]
    },
    {
     "data": {
      "application/vnd.jupyter.widget-view+json": {
       "model_id": "cfb028bba6034fefacef8c999553d30f",
       "version_major": 2,
       "version_minor": 0
      },
      "text/plain": [
       "                                                                                                              …"
      ]
     },
     "metadata": {},
     "output_type": "display_data"
    },
    {
     "name": "stdout",
     "output_type": "stream",
     "text": [
      "Quality great, repetition 42/100\n"
     ]
    },
    {
     "data": {
      "application/vnd.jupyter.widget-view+json": {
       "model_id": "acb8e09702ac4a9ca76d90802031fea0",
       "version_major": 2,
       "version_minor": 0
      },
      "text/plain": [
       "                                                                                                              …"
      ]
     },
     "metadata": {},
     "output_type": "display_data"
    },
    {
     "name": "stdout",
     "output_type": "stream",
     "text": [
      "Quality great, repetition 43/100\n"
     ]
    },
    {
     "data": {
      "application/vnd.jupyter.widget-view+json": {
       "model_id": "4ad44de6e50c47299a7b650a2ac25bf2",
       "version_major": 2,
       "version_minor": 0
      },
      "text/plain": [
       "                                                                                                              …"
      ]
     },
     "metadata": {},
     "output_type": "display_data"
    },
    {
     "name": "stdout",
     "output_type": "stream",
     "text": [
      "Quality great, repetition 44/100\n"
     ]
    },
    {
     "data": {
      "application/vnd.jupyter.widget-view+json": {
       "model_id": "0ef731088c8e47f3b0f4706b3392090b",
       "version_major": 2,
       "version_minor": 0
      },
      "text/plain": [
       "                                                                                                              …"
      ]
     },
     "metadata": {},
     "output_type": "display_data"
    },
    {
     "name": "stdout",
     "output_type": "stream",
     "text": [
      "Quality great, repetition 45/100\n"
     ]
    },
    {
     "data": {
      "application/vnd.jupyter.widget-view+json": {
       "model_id": "d1d2d8ab10c948e292426f773bdb1a06",
       "version_major": 2,
       "version_minor": 0
      },
      "text/plain": [
       "                                                                                                              …"
      ]
     },
     "metadata": {},
     "output_type": "display_data"
    },
    {
     "name": "stdout",
     "output_type": "stream",
     "text": [
      "Quality great, repetition 46/100\n"
     ]
    },
    {
     "data": {
      "application/vnd.jupyter.widget-view+json": {
       "model_id": "ca2269a1748849e38da9a42fc48bda48",
       "version_major": 2,
       "version_minor": 0
      },
      "text/plain": [
       "                                                                                                              …"
      ]
     },
     "metadata": {},
     "output_type": "display_data"
    },
    {
     "name": "stdout",
     "output_type": "stream",
     "text": [
      "Quality great, repetition 47/100\n"
     ]
    },
    {
     "data": {
      "application/vnd.jupyter.widget-view+json": {
       "model_id": "f5f4aad082cc4893b116b37b4226d57c",
       "version_major": 2,
       "version_minor": 0
      },
      "text/plain": [
       "                                                                                                              …"
      ]
     },
     "metadata": {},
     "output_type": "display_data"
    },
    {
     "name": "stdout",
     "output_type": "stream",
     "text": [
      "Quality great, repetition 48/100\n"
     ]
    },
    {
     "data": {
      "application/vnd.jupyter.widget-view+json": {
       "model_id": "dd269d0c5c1a45d59fe5ce7c12b32890",
       "version_major": 2,
       "version_minor": 0
      },
      "text/plain": [
       "                                                                                                              …"
      ]
     },
     "metadata": {},
     "output_type": "display_data"
    },
    {
     "name": "stdout",
     "output_type": "stream",
     "text": [
      "Quality great, repetition 49/100\n"
     ]
    },
    {
     "data": {
      "application/vnd.jupyter.widget-view+json": {
       "model_id": "dfc17cf498c14c79a9af9a188a3053c4",
       "version_major": 2,
       "version_minor": 0
      },
      "text/plain": [
       "                                                                                                              …"
      ]
     },
     "metadata": {},
     "output_type": "display_data"
    },
    {
     "name": "stdout",
     "output_type": "stream",
     "text": [
      "Quality great, repetition 50/100\n"
     ]
    },
    {
     "data": {
      "application/vnd.jupyter.widget-view+json": {
       "model_id": "123ad0da0b2b40f2a33be2cfa5a7cb5b",
       "version_major": 2,
       "version_minor": 0
      },
      "text/plain": [
       "                                                                                                              …"
      ]
     },
     "metadata": {},
     "output_type": "display_data"
    },
    {
     "name": "stdout",
     "output_type": "stream",
     "text": [
      "Quality great, repetition 51/100\n"
     ]
    },
    {
     "data": {
      "application/vnd.jupyter.widget-view+json": {
       "model_id": "cc452ab84a374afe81d1fc5cc5f0dccf",
       "version_major": 2,
       "version_minor": 0
      },
      "text/plain": [
       "                                                                                                              …"
      ]
     },
     "metadata": {},
     "output_type": "display_data"
    },
    {
     "name": "stdout",
     "output_type": "stream",
     "text": [
      "Quality great, repetition 52/100\n"
     ]
    },
    {
     "data": {
      "application/vnd.jupyter.widget-view+json": {
       "model_id": "49dcd484899f412c9f9c17fb9dd93d74",
       "version_major": 2,
       "version_minor": 0
      },
      "text/plain": [
       "                                                                                                              …"
      ]
     },
     "metadata": {},
     "output_type": "display_data"
    },
    {
     "name": "stdout",
     "output_type": "stream",
     "text": [
      "Quality great, repetition 53/100\n"
     ]
    },
    {
     "data": {
      "application/vnd.jupyter.widget-view+json": {
       "model_id": "eeb7c3628d324c9d997e4141eea29e3f",
       "version_major": 2,
       "version_minor": 0
      },
      "text/plain": [
       "                                                                                                              …"
      ]
     },
     "metadata": {},
     "output_type": "display_data"
    },
    {
     "name": "stdout",
     "output_type": "stream",
     "text": [
      "Quality great, repetition 54/100\n"
     ]
    },
    {
     "data": {
      "application/vnd.jupyter.widget-view+json": {
       "model_id": "e46f5f73c96e4384822f5ad0d16f44b9",
       "version_major": 2,
       "version_minor": 0
      },
      "text/plain": [
       "                                                                                                              …"
      ]
     },
     "metadata": {},
     "output_type": "display_data"
    },
    {
     "name": "stdout",
     "output_type": "stream",
     "text": [
      "Quality great, repetition 55/100\n"
     ]
    },
    {
     "data": {
      "application/vnd.jupyter.widget-view+json": {
       "model_id": "515725a2bdb74d87945f34087f7b08f3",
       "version_major": 2,
       "version_minor": 0
      },
      "text/plain": [
       "                                                                                                              …"
      ]
     },
     "metadata": {},
     "output_type": "display_data"
    },
    {
     "name": "stdout",
     "output_type": "stream",
     "text": [
      "Quality great, repetition 56/100\n"
     ]
    },
    {
     "data": {
      "application/vnd.jupyter.widget-view+json": {
       "model_id": "cad9b50e49e04c438416a0b63b719a69",
       "version_major": 2,
       "version_minor": 0
      },
      "text/plain": [
       "                                                                                                              …"
      ]
     },
     "metadata": {},
     "output_type": "display_data"
    },
    {
     "name": "stdout",
     "output_type": "stream",
     "text": [
      "Quality great, repetition 57/100\n"
     ]
    },
    {
     "data": {
      "application/vnd.jupyter.widget-view+json": {
       "model_id": "3563ed5c9da74e2fb1fbd6df37127129",
       "version_major": 2,
       "version_minor": 0
      },
      "text/plain": [
       "                                                                                                              …"
      ]
     },
     "metadata": {},
     "output_type": "display_data"
    },
    {
     "name": "stdout",
     "output_type": "stream",
     "text": [
      "Quality great, repetition 58/100\n"
     ]
    },
    {
     "data": {
      "application/vnd.jupyter.widget-view+json": {
       "model_id": "bdb9336cb9654c1ea84d0ae5fbdd5dd8",
       "version_major": 2,
       "version_minor": 0
      },
      "text/plain": [
       "                                                                                                              …"
      ]
     },
     "metadata": {},
     "output_type": "display_data"
    },
    {
     "name": "stdout",
     "output_type": "stream",
     "text": [
      "Quality great, repetition 59/100\n"
     ]
    },
    {
     "data": {
      "application/vnd.jupyter.widget-view+json": {
       "model_id": "062f8f0684e74d159c0404b420bb8009",
       "version_major": 2,
       "version_minor": 0
      },
      "text/plain": [
       "                                                                                                              …"
      ]
     },
     "metadata": {},
     "output_type": "display_data"
    },
    {
     "name": "stdout",
     "output_type": "stream",
     "text": [
      "Quality great, repetition 60/100\n"
     ]
    },
    {
     "data": {
      "application/vnd.jupyter.widget-view+json": {
       "model_id": "540b507f98bc48f39f9958c4e892665c",
       "version_major": 2,
       "version_minor": 0
      },
      "text/plain": [
       "                                                                                                              …"
      ]
     },
     "metadata": {},
     "output_type": "display_data"
    },
    {
     "name": "stdout",
     "output_type": "stream",
     "text": [
      "Quality great, repetition 61/100\n"
     ]
    },
    {
     "data": {
      "application/vnd.jupyter.widget-view+json": {
       "model_id": "d72c1c38fb6346a8bed0dd4c018b64f2",
       "version_major": 2,
       "version_minor": 0
      },
      "text/plain": [
       "                                                                                                              …"
      ]
     },
     "metadata": {},
     "output_type": "display_data"
    },
    {
     "name": "stdout",
     "output_type": "stream",
     "text": [
      "Quality perfect, repetition 62/100\n",
      "Saved to batch_second/very high_30.txt\n",
      "Saved to batch_second/very high_30.obj\n",
      "Saved to batch_second/very high_30_fixed.txt\n",
      "Saved to batch_second/very high_30_fixed.obj\n",
      "Fibre volume fraction: 40\n",
      "Using device mps\n"
     ]
    },
    {
     "data": {
      "application/vnd.jupyter.widget-view+json": {
       "model_id": "47d148ff46304a8eb0ce837a64690fe0",
       "version_major": 2,
       "version_minor": 0
      },
      "text/plain": [
       "                                                                                                              …"
      ]
     },
     "metadata": {},
     "output_type": "display_data"
    },
    {
     "name": "stdout",
     "output_type": "stream",
     "text": [
      "Quality great, repetition 0/10\n"
     ]
    },
    {
     "data": {
      "application/vnd.jupyter.widget-view+json": {
       "model_id": "b93b8bab307e4e79aa78d47173e5d742",
       "version_major": 2,
       "version_minor": 0
      },
      "text/plain": [
       "                                                                                                              …"
      ]
     },
     "metadata": {},
     "output_type": "display_data"
    },
    {
     "name": "stdout",
     "output_type": "stream",
     "text": [
      "Quality perfect, repetition 1/10\n",
      "Misalignment: very low\n"
     ]
    },
    {
     "data": {
      "application/vnd.jupyter.widget-view+json": {
       "model_id": "4d2ab655be704b9bb1550dd20f93d5cf",
       "version_major": 2,
       "version_minor": 0
      },
      "text/plain": [
       "                                                                                                              …"
      ]
     },
     "metadata": {},
     "output_type": "display_data"
    },
    {
     "name": "stdout",
     "output_type": "stream",
     "text": [
      "Quality perfect, repetition 0/10\n"
     ]
    },
    {
     "data": {
      "application/vnd.jupyter.widget-view+json": {
       "model_id": "65db7957745544309caf638a0e61b785",
       "version_major": 2,
       "version_minor": 0
      },
      "text/plain": [
       "                                                                                                              …"
      ]
     },
     "metadata": {},
     "output_type": "display_data"
    },
    {
     "name": "stdout",
     "output_type": "stream",
     "text": [
      "Quality great, repetition 0/100\n"
     ]
    },
    {
     "data": {
      "application/vnd.jupyter.widget-view+json": {
       "model_id": "f8107d30a98b4423ac6dd72147f4c3f1",
       "version_major": 2,
       "version_minor": 0
      },
      "text/plain": [
       "                                                                                                              …"
      ]
     },
     "metadata": {},
     "output_type": "display_data"
    },
    {
     "name": "stdout",
     "output_type": "stream",
     "text": [
      "Quality perfect, repetition 1/100\n",
      "Saved to batch_second/very low_40.txt\n",
      "Saved to batch_second/very low_40.obj\n",
      "Saved to batch_second/very low_40_fixed.txt\n",
      "Saved to batch_second/very low_40_fixed.obj\n",
      "Misalignment: low\n"
     ]
    },
    {
     "data": {
      "application/vnd.jupyter.widget-view+json": {
       "model_id": "8782bf153cee4b11a639099e61ae294c",
       "version_major": 2,
       "version_minor": 0
      },
      "text/plain": [
       "                                                                                                              …"
      ]
     },
     "metadata": {},
     "output_type": "display_data"
    },
    {
     "name": "stdout",
     "output_type": "stream",
     "text": [
      "Quality perfect, repetition 0/10\n"
     ]
    },
    {
     "data": {
      "application/vnd.jupyter.widget-view+json": {
       "model_id": "4b0f9d5eb3734212bcd62877b5d1a322",
       "version_major": 2,
       "version_minor": 0
      },
      "text/plain": [
       "                                                                                                              …"
      ]
     },
     "metadata": {},
     "output_type": "display_data"
    },
    {
     "name": "stdout",
     "output_type": "stream",
     "text": [
      "Quality bad, repetition 0/100\n"
     ]
    },
    {
     "data": {
      "application/vnd.jupyter.widget-view+json": {
       "model_id": "7aeb8356bdc64ec89a571a14d4d40051",
       "version_major": 2,
       "version_minor": 0
      },
      "text/plain": [
       "                                                                                                              …"
      ]
     },
     "metadata": {},
     "output_type": "display_data"
    },
    {
     "name": "stdout",
     "output_type": "stream",
     "text": [
      "Quality great, repetition 1/100\n"
     ]
    },
    {
     "data": {
      "application/vnd.jupyter.widget-view+json": {
       "model_id": "ccbb95220f3b4f1aa1f852418f21666e",
       "version_major": 2,
       "version_minor": 0
      },
      "text/plain": [
       "                                                                                                              …"
      ]
     },
     "metadata": {},
     "output_type": "display_data"
    },
    {
     "name": "stdout",
     "output_type": "stream",
     "text": [
      "Quality perfect, repetition 2/100\n",
      "Saved to batch_second/low_40.txt\n",
      "Saved to batch_second/low_40.obj\n",
      "Saved to batch_second/low_40_fixed.txt\n",
      "Saved to batch_second/low_40_fixed.obj\n",
      "Misalignment: moderate\n"
     ]
    },
    {
     "data": {
      "application/vnd.jupyter.widget-view+json": {
       "model_id": "bb6c375190904152b40f025f54b4fa5d",
       "version_major": 2,
       "version_minor": 0
      },
      "text/plain": [
       "                                                                                                              …"
      ]
     },
     "metadata": {},
     "output_type": "display_data"
    },
    {
     "name": "stdout",
     "output_type": "stream",
     "text": [
      "Quality great, repetition 0/10\n"
     ]
    },
    {
     "data": {
      "application/vnd.jupyter.widget-view+json": {
       "model_id": "850d29ab138040f8b8d38c58f044b215",
       "version_major": 2,
       "version_minor": 0
      },
      "text/plain": [
       "                                                                                                              …"
      ]
     },
     "metadata": {},
     "output_type": "display_data"
    },
    {
     "name": "stdout",
     "output_type": "stream",
     "text": [
      "Quality great, repetition 1/10\n"
     ]
    },
    {
     "data": {
      "application/vnd.jupyter.widget-view+json": {
       "model_id": "9cfb49ef6618434988a190d977490a72",
       "version_major": 2,
       "version_minor": 0
      },
      "text/plain": [
       "                                                                                                              …"
      ]
     },
     "metadata": {},
     "output_type": "display_data"
    },
    {
     "name": "stdout",
     "output_type": "stream",
     "text": [
      "Quality great, repetition 2/10\n"
     ]
    },
    {
     "data": {
      "application/vnd.jupyter.widget-view+json": {
       "model_id": "5c8c1352340948e6931de2ea762fc4d2",
       "version_major": 2,
       "version_minor": 0
      },
      "text/plain": [
       "                                                                                                              …"
      ]
     },
     "metadata": {},
     "output_type": "display_data"
    },
    {
     "name": "stdout",
     "output_type": "stream",
     "text": [
      "Quality perfect, repetition 3/10\n"
     ]
    },
    {
     "data": {
      "application/vnd.jupyter.widget-view+json": {
       "model_id": "e1c0dde464934668b2cf8160efb2222f",
       "version_major": 2,
       "version_minor": 0
      },
      "text/plain": [
       "                                                                                                              …"
      ]
     },
     "metadata": {},
     "output_type": "display_data"
    },
    {
     "name": "stdout",
     "output_type": "stream",
     "text": [
      "Quality bad, repetition 0/100\n"
     ]
    },
    {
     "data": {
      "application/vnd.jupyter.widget-view+json": {
       "model_id": "fac631ba173343ebac9db020e8428446",
       "version_major": 2,
       "version_minor": 0
      },
      "text/plain": [
       "                                                                                                              …"
      ]
     },
     "metadata": {},
     "output_type": "display_data"
    },
    {
     "name": "stdout",
     "output_type": "stream",
     "text": [
      "Quality great, repetition 1/100\n"
     ]
    },
    {
     "data": {
      "application/vnd.jupyter.widget-view+json": {
       "model_id": "d9697cb40b264f62b3307a264429ed05",
       "version_major": 2,
       "version_minor": 0
      },
      "text/plain": [
       "                                                                                                              …"
      ]
     },
     "metadata": {},
     "output_type": "display_data"
    },
    {
     "name": "stdout",
     "output_type": "stream",
     "text": [
      "Quality great, repetition 2/100\n"
     ]
    },
    {
     "data": {
      "application/vnd.jupyter.widget-view+json": {
       "model_id": "3ecbb664af8047bb8b34d009992f9e93",
       "version_major": 2,
       "version_minor": 0
      },
      "text/plain": [
       "                                                                                                              …"
      ]
     },
     "metadata": {},
     "output_type": "display_data"
    },
    {
     "name": "stdout",
     "output_type": "stream",
     "text": [
      "Quality great, repetition 3/100\n"
     ]
    },
    {
     "data": {
      "application/vnd.jupyter.widget-view+json": {
       "model_id": "631c2ec60a3149079cf070b295b4b791",
       "version_major": 2,
       "version_minor": 0
      },
      "text/plain": [
       "                                                                                                              …"
      ]
     },
     "metadata": {},
     "output_type": "display_data"
    },
    {
     "name": "stdout",
     "output_type": "stream",
     "text": [
      "Quality great, repetition 4/100\n"
     ]
    },
    {
     "data": {
      "application/vnd.jupyter.widget-view+json": {
       "model_id": "750b731c976443d6be8084248114cb22",
       "version_major": 2,
       "version_minor": 0
      },
      "text/plain": [
       "                                                                                                              …"
      ]
     },
     "metadata": {},
     "output_type": "display_data"
    },
    {
     "name": "stdout",
     "output_type": "stream",
     "text": [
      "Quality great, repetition 5/100\n"
     ]
    },
    {
     "data": {
      "application/vnd.jupyter.widget-view+json": {
       "model_id": "37ab748336dc4a43a9eb2ae2adf639f3",
       "version_major": 2,
       "version_minor": 0
      },
      "text/plain": [
       "                                                                                                              …"
      ]
     },
     "metadata": {},
     "output_type": "display_data"
    },
    {
     "name": "stdout",
     "output_type": "stream",
     "text": [
      "Quality great, repetition 6/100\n"
     ]
    },
    {
     "data": {
      "application/vnd.jupyter.widget-view+json": {
       "model_id": "62517449f79c4d8ba4830e38c998c9a1",
       "version_major": 2,
       "version_minor": 0
      },
      "text/plain": [
       "                                                                                                              …"
      ]
     },
     "metadata": {},
     "output_type": "display_data"
    },
    {
     "name": "stdout",
     "output_type": "stream",
     "text": [
      "Quality great, repetition 7/100\n"
     ]
    },
    {
     "data": {
      "application/vnd.jupyter.widget-view+json": {
       "model_id": "bbac3412bbe4433db977e215573fd365",
       "version_major": 2,
       "version_minor": 0
      },
      "text/plain": [
       "                                                                                                              …"
      ]
     },
     "metadata": {},
     "output_type": "display_data"
    },
    {
     "name": "stdout",
     "output_type": "stream",
     "text": [
      "Quality great, repetition 8/100\n"
     ]
    },
    {
     "data": {
      "application/vnd.jupyter.widget-view+json": {
       "model_id": "accce1e30bb54879afa7b3d5d6fd8d92",
       "version_major": 2,
       "version_minor": 0
      },
      "text/plain": [
       "                                                                                                              …"
      ]
     },
     "metadata": {},
     "output_type": "display_data"
    },
    {
     "name": "stdout",
     "output_type": "stream",
     "text": [
      "Quality great, repetition 9/100\n"
     ]
    },
    {
     "data": {
      "application/vnd.jupyter.widget-view+json": {
       "model_id": "a5dc2afb194640fc8fc38d4779f59279",
       "version_major": 2,
       "version_minor": 0
      },
      "text/plain": [
       "                                                                                                              …"
      ]
     },
     "metadata": {},
     "output_type": "display_data"
    },
    {
     "name": "stdout",
     "output_type": "stream",
     "text": [
      "Quality great, repetition 10/100\n"
     ]
    },
    {
     "data": {
      "application/vnd.jupyter.widget-view+json": {
       "model_id": "5e88cbd95ef448f48321c0ab0051094e",
       "version_major": 2,
       "version_minor": 0
      },
      "text/plain": [
       "                                                                                                              …"
      ]
     },
     "metadata": {},
     "output_type": "display_data"
    },
    {
     "name": "stdout",
     "output_type": "stream",
     "text": [
      "Quality great, repetition 11/100\n"
     ]
    },
    {
     "data": {
      "application/vnd.jupyter.widget-view+json": {
       "model_id": "2c2d71b009994d519159d9492af0c9de",
       "version_major": 2,
       "version_minor": 0
      },
      "text/plain": [
       "                                                                                                              …"
      ]
     },
     "metadata": {},
     "output_type": "display_data"
    },
    {
     "name": "stdout",
     "output_type": "stream",
     "text": [
      "Quality great, repetition 12/100\n"
     ]
    },
    {
     "data": {
      "application/vnd.jupyter.widget-view+json": {
       "model_id": "4ef96e8742ef4df7a64ad2df97d40982",
       "version_major": 2,
       "version_minor": 0
      },
      "text/plain": [
       "                                                                                                              …"
      ]
     },
     "metadata": {},
     "output_type": "display_data"
    },
    {
     "name": "stdout",
     "output_type": "stream",
     "text": [
      "Quality great, repetition 13/100\n"
     ]
    },
    {
     "data": {
      "application/vnd.jupyter.widget-view+json": {
       "model_id": "fc753b30303b4b179a314b418c1f8944",
       "version_major": 2,
       "version_minor": 0
      },
      "text/plain": [
       "                                                                                                              …"
      ]
     },
     "metadata": {},
     "output_type": "display_data"
    },
    {
     "name": "stdout",
     "output_type": "stream",
     "text": [
      "Quality great, repetition 14/100\n"
     ]
    },
    {
     "data": {
      "application/vnd.jupyter.widget-view+json": {
       "model_id": "66191c81935849a187a1f9d514c7b6bf",
       "version_major": 2,
       "version_minor": 0
      },
      "text/plain": [
       "                                                                                                              …"
      ]
     },
     "metadata": {},
     "output_type": "display_data"
    },
    {
     "name": "stdout",
     "output_type": "stream",
     "text": [
      "Quality great, repetition 15/100\n"
     ]
    },
    {
     "data": {
      "application/vnd.jupyter.widget-view+json": {
       "model_id": "6831cfb30b0d47cdb9cd99329944f5a9",
       "version_major": 2,
       "version_minor": 0
      },
      "text/plain": [
       "                                                                                                              …"
      ]
     },
     "metadata": {},
     "output_type": "display_data"
    },
    {
     "name": "stdout",
     "output_type": "stream",
     "text": [
      "Quality great, repetition 16/100\n"
     ]
    },
    {
     "data": {
      "application/vnd.jupyter.widget-view+json": {
       "model_id": "a78e1bce61c5424fb3e3ead63ade2a8d",
       "version_major": 2,
       "version_minor": 0
      },
      "text/plain": [
       "                                                                                                              …"
      ]
     },
     "metadata": {},
     "output_type": "display_data"
    },
    {
     "name": "stdout",
     "output_type": "stream",
     "text": [
      "Quality great, repetition 17/100\n"
     ]
    },
    {
     "data": {
      "application/vnd.jupyter.widget-view+json": {
       "model_id": "1e078902ef824e95a559bff843e7f5fa",
       "version_major": 2,
       "version_minor": 0
      },
      "text/plain": [
       "                                                                                                              …"
      ]
     },
     "metadata": {},
     "output_type": "display_data"
    },
    {
     "name": "stdout",
     "output_type": "stream",
     "text": [
      "Quality great, repetition 18/100\n"
     ]
    },
    {
     "data": {
      "application/vnd.jupyter.widget-view+json": {
       "model_id": "ec68d921d9354623b091a47283c59064",
       "version_major": 2,
       "version_minor": 0
      },
      "text/plain": [
       "                                                                                                              …"
      ]
     },
     "metadata": {},
     "output_type": "display_data"
    },
    {
     "name": "stdout",
     "output_type": "stream",
     "text": [
      "Quality great, repetition 19/100\n"
     ]
    },
    {
     "data": {
      "application/vnd.jupyter.widget-view+json": {
       "model_id": "f957fedc376f4e0697831a109306e520",
       "version_major": 2,
       "version_minor": 0
      },
      "text/plain": [
       "                                                                                                              …"
      ]
     },
     "metadata": {},
     "output_type": "display_data"
    },
    {
     "name": "stdout",
     "output_type": "stream",
     "text": [
      "Quality great, repetition 20/100\n"
     ]
    },
    {
     "data": {
      "application/vnd.jupyter.widget-view+json": {
       "model_id": "d117fd959b4c4e6aaf82f6e098c0e682",
       "version_major": 2,
       "version_minor": 0
      },
      "text/plain": [
       "                                                                                                              …"
      ]
     },
     "metadata": {},
     "output_type": "display_data"
    },
    {
     "name": "stdout",
     "output_type": "stream",
     "text": [
      "Quality great, repetition 21/100\n"
     ]
    },
    {
     "data": {
      "application/vnd.jupyter.widget-view+json": {
       "model_id": "cb1aaf442ee9447aba2de9574b5d90e1",
       "version_major": 2,
       "version_minor": 0
      },
      "text/plain": [
       "                                                                                                              …"
      ]
     },
     "metadata": {},
     "output_type": "display_data"
    },
    {
     "name": "stdout",
     "output_type": "stream",
     "text": [
      "Quality great, repetition 22/100\n"
     ]
    },
    {
     "data": {
      "application/vnd.jupyter.widget-view+json": {
       "model_id": "eab6a020aae64803a9068692f23f9424",
       "version_major": 2,
       "version_minor": 0
      },
      "text/plain": [
       "                                                                                                              …"
      ]
     },
     "metadata": {},
     "output_type": "display_data"
    },
    {
     "name": "stdout",
     "output_type": "stream",
     "text": [
      "Quality great, repetition 23/100\n"
     ]
    },
    {
     "data": {
      "application/vnd.jupyter.widget-view+json": {
       "model_id": "e0f307d4219e4cc6ad87222f81871b9c",
       "version_major": 2,
       "version_minor": 0
      },
      "text/plain": [
       "                                                                                                              …"
      ]
     },
     "metadata": {},
     "output_type": "display_data"
    },
    {
     "name": "stdout",
     "output_type": "stream",
     "text": [
      "Quality great, repetition 24/100\n"
     ]
    },
    {
     "data": {
      "application/vnd.jupyter.widget-view+json": {
       "model_id": "81e96e840617447a92959fcc872e336e",
       "version_major": 2,
       "version_minor": 0
      },
      "text/plain": [
       "                                                                                                              …"
      ]
     },
     "metadata": {},
     "output_type": "display_data"
    },
    {
     "name": "stdout",
     "output_type": "stream",
     "text": [
      "Quality great, repetition 25/100\n"
     ]
    },
    {
     "data": {
      "application/vnd.jupyter.widget-view+json": {
       "model_id": "b95b5a642f5f46b6b6fcaaf827be7e14",
       "version_major": 2,
       "version_minor": 0
      },
      "text/plain": [
       "                                                                                                              …"
      ]
     },
     "metadata": {},
     "output_type": "display_data"
    },
    {
     "name": "stdout",
     "output_type": "stream",
     "text": [
      "Quality great, repetition 26/100\n"
     ]
    },
    {
     "data": {
      "application/vnd.jupyter.widget-view+json": {
       "model_id": "4b760ce8eae0442ab705a1b259161201",
       "version_major": 2,
       "version_minor": 0
      },
      "text/plain": [
       "                                                                                                              …"
      ]
     },
     "metadata": {},
     "output_type": "display_data"
    },
    {
     "name": "stdout",
     "output_type": "stream",
     "text": [
      "Quality great, repetition 27/100\n"
     ]
    },
    {
     "data": {
      "application/vnd.jupyter.widget-view+json": {
       "model_id": "c7f51548ddff49e2967f56a519af1aba",
       "version_major": 2,
       "version_minor": 0
      },
      "text/plain": [
       "                                                                                                              …"
      ]
     },
     "metadata": {},
     "output_type": "display_data"
    },
    {
     "name": "stdout",
     "output_type": "stream",
     "text": [
      "Quality great, repetition 28/100\n"
     ]
    },
    {
     "data": {
      "application/vnd.jupyter.widget-view+json": {
       "model_id": "9263be65e1254fa2aaf9492fe09e469c",
       "version_major": 2,
       "version_minor": 0
      },
      "text/plain": [
       "                                                                                                              …"
      ]
     },
     "metadata": {},
     "output_type": "display_data"
    },
    {
     "name": "stdout",
     "output_type": "stream",
     "text": [
      "Quality great, repetition 29/100\n"
     ]
    },
    {
     "data": {
      "application/vnd.jupyter.widget-view+json": {
       "model_id": "8cd6164988eb4282b52753a9421374fc",
       "version_major": 2,
       "version_minor": 0
      },
      "text/plain": [
       "                                                                                                              …"
      ]
     },
     "metadata": {},
     "output_type": "display_data"
    },
    {
     "name": "stdout",
     "output_type": "stream",
     "text": [
      "Quality great, repetition 30/100\n"
     ]
    },
    {
     "data": {
      "application/vnd.jupyter.widget-view+json": {
       "model_id": "4f1c5d1a987b4114b68773537f52d901",
       "version_major": 2,
       "version_minor": 0
      },
      "text/plain": [
       "                                                                                                              …"
      ]
     },
     "metadata": {},
     "output_type": "display_data"
    },
    {
     "name": "stdout",
     "output_type": "stream",
     "text": [
      "Quality great, repetition 31/100\n"
     ]
    },
    {
     "data": {
      "application/vnd.jupyter.widget-view+json": {
       "model_id": "ea082e0009e54b509360307bcd2dea2a",
       "version_major": 2,
       "version_minor": 0
      },
      "text/plain": [
       "                                                                                                              …"
      ]
     },
     "metadata": {},
     "output_type": "display_data"
    },
    {
     "name": "stdout",
     "output_type": "stream",
     "text": [
      "Quality great, repetition 32/100\n"
     ]
    },
    {
     "data": {
      "application/vnd.jupyter.widget-view+json": {
       "model_id": "8869bb17ce3244e5bf4443450d80f7b0",
       "version_major": 2,
       "version_minor": 0
      },
      "text/plain": [
       "                                                                                                              …"
      ]
     },
     "metadata": {},
     "output_type": "display_data"
    },
    {
     "name": "stdout",
     "output_type": "stream",
     "text": [
      "Quality great, repetition 33/100\n"
     ]
    },
    {
     "data": {
      "application/vnd.jupyter.widget-view+json": {
       "model_id": "678e96d840e940a6bf7df484fd0b1bd1",
       "version_major": 2,
       "version_minor": 0
      },
      "text/plain": [
       "                                                                                                              …"
      ]
     },
     "metadata": {},
     "output_type": "display_data"
    },
    {
     "name": "stdout",
     "output_type": "stream",
     "text": [
      "Quality great, repetition 34/100\n"
     ]
    },
    {
     "data": {
      "application/vnd.jupyter.widget-view+json": {
       "model_id": "5ec1a4616e3c4ace9fbbad7f73aa9378",
       "version_major": 2,
       "version_minor": 0
      },
      "text/plain": [
       "                                                                                                              …"
      ]
     },
     "metadata": {},
     "output_type": "display_data"
    },
    {
     "name": "stdout",
     "output_type": "stream",
     "text": [
      "Quality great, repetition 35/100\n"
     ]
    },
    {
     "data": {
      "application/vnd.jupyter.widget-view+json": {
       "model_id": "8bdbb148b1254814a90866b1cd30c430",
       "version_major": 2,
       "version_minor": 0
      },
      "text/plain": [
       "                                                                                                              …"
      ]
     },
     "metadata": {},
     "output_type": "display_data"
    },
    {
     "name": "stdout",
     "output_type": "stream",
     "text": [
      "Quality great, repetition 36/100\n"
     ]
    },
    {
     "data": {
      "application/vnd.jupyter.widget-view+json": {
       "model_id": "d8789111d045423081dfc966f908a38b",
       "version_major": 2,
       "version_minor": 0
      },
      "text/plain": [
       "                                                                                                              …"
      ]
     },
     "metadata": {},
     "output_type": "display_data"
    },
    {
     "name": "stdout",
     "output_type": "stream",
     "text": [
      "Quality great, repetition 37/100\n"
     ]
    },
    {
     "data": {
      "application/vnd.jupyter.widget-view+json": {
       "model_id": "cb4d16136ec7411f8aa1e699f5c07212",
       "version_major": 2,
       "version_minor": 0
      },
      "text/plain": [
       "                                                                                                              …"
      ]
     },
     "metadata": {},
     "output_type": "display_data"
    },
    {
     "name": "stdout",
     "output_type": "stream",
     "text": [
      "Quality great, repetition 38/100\n"
     ]
    },
    {
     "data": {
      "application/vnd.jupyter.widget-view+json": {
       "model_id": "26eff412492b4365bb025aec6e4e5dc1",
       "version_major": 2,
       "version_minor": 0
      },
      "text/plain": [
       "                                                                                                              …"
      ]
     },
     "metadata": {},
     "output_type": "display_data"
    },
    {
     "name": "stdout",
     "output_type": "stream",
     "text": [
      "Quality great, repetition 39/100\n"
     ]
    },
    {
     "data": {
      "application/vnd.jupyter.widget-view+json": {
       "model_id": "892a94dd4d314e22ac3713642ec584de",
       "version_major": 2,
       "version_minor": 0
      },
      "text/plain": [
       "                                                                                                              …"
      ]
     },
     "metadata": {},
     "output_type": "display_data"
    },
    {
     "name": "stdout",
     "output_type": "stream",
     "text": [
      "Quality great, repetition 40/100\n"
     ]
    },
    {
     "data": {
      "application/vnd.jupyter.widget-view+json": {
       "model_id": "7404751616e447aeb262eb40dc48f6c9",
       "version_major": 2,
       "version_minor": 0
      },
      "text/plain": [
       "                                                                                                              …"
      ]
     },
     "metadata": {},
     "output_type": "display_data"
    },
    {
     "name": "stdout",
     "output_type": "stream",
     "text": [
      "Quality great, repetition 41/100\n"
     ]
    },
    {
     "data": {
      "application/vnd.jupyter.widget-view+json": {
       "model_id": "99bb0b08f1ec45f6a16469290e377357",
       "version_major": 2,
       "version_minor": 0
      },
      "text/plain": [
       "                                                                                                              …"
      ]
     },
     "metadata": {},
     "output_type": "display_data"
    },
    {
     "name": "stdout",
     "output_type": "stream",
     "text": [
      "Quality great, repetition 42/100\n"
     ]
    },
    {
     "data": {
      "application/vnd.jupyter.widget-view+json": {
       "model_id": "107856b0ff5a4f1abe389d92c9fecf74",
       "version_major": 2,
       "version_minor": 0
      },
      "text/plain": [
       "                                                                                                              …"
      ]
     },
     "metadata": {},
     "output_type": "display_data"
    },
    {
     "name": "stdout",
     "output_type": "stream",
     "text": [
      "Quality great, repetition 43/100\n"
     ]
    },
    {
     "data": {
      "application/vnd.jupyter.widget-view+json": {
       "model_id": "4aa921f01b2441e7b1cbe2c348245950",
       "version_major": 2,
       "version_minor": 0
      },
      "text/plain": [
       "                                                                                                              …"
      ]
     },
     "metadata": {},
     "output_type": "display_data"
    },
    {
     "name": "stdout",
     "output_type": "stream",
     "text": [
      "Quality great, repetition 44/100\n"
     ]
    },
    {
     "data": {
      "application/vnd.jupyter.widget-view+json": {
       "model_id": "e98f935e7bfc45258b8eef5dd489b23f",
       "version_major": 2,
       "version_minor": 0
      },
      "text/plain": [
       "                                                                                                              …"
      ]
     },
     "metadata": {},
     "output_type": "display_data"
    },
    {
     "name": "stdout",
     "output_type": "stream",
     "text": [
      "Quality great, repetition 45/100\n"
     ]
    },
    {
     "data": {
      "application/vnd.jupyter.widget-view+json": {
       "model_id": "3f62e46ef27f43cf8c0c93ff180369d3",
       "version_major": 2,
       "version_minor": 0
      },
      "text/plain": [
       "                                                                                                              …"
      ]
     },
     "metadata": {},
     "output_type": "display_data"
    },
    {
     "name": "stdout",
     "output_type": "stream",
     "text": [
      "Quality great, repetition 46/100\n"
     ]
    },
    {
     "data": {
      "application/vnd.jupyter.widget-view+json": {
       "model_id": "52310bc5b8f249f089d1623c5355de73",
       "version_major": 2,
       "version_minor": 0
      },
      "text/plain": [
       "                                                                                                              …"
      ]
     },
     "metadata": {},
     "output_type": "display_data"
    },
    {
     "name": "stdout",
     "output_type": "stream",
     "text": [
      "Quality great, repetition 47/100\n"
     ]
    },
    {
     "data": {
      "application/vnd.jupyter.widget-view+json": {
       "model_id": "1312ad4f685045999f03fd0825b0dfb5",
       "version_major": 2,
       "version_minor": 0
      },
      "text/plain": [
       "                                                                                                              …"
      ]
     },
     "metadata": {},
     "output_type": "display_data"
    },
    {
     "name": "stdout",
     "output_type": "stream",
     "text": [
      "Quality great, repetition 48/100\n"
     ]
    },
    {
     "data": {
      "application/vnd.jupyter.widget-view+json": {
       "model_id": "40ce4281e9bd4655b5583712c7cb745e",
       "version_major": 2,
       "version_minor": 0
      },
      "text/plain": [
       "                                                                                                              …"
      ]
     },
     "metadata": {},
     "output_type": "display_data"
    },
    {
     "name": "stdout",
     "output_type": "stream",
     "text": [
      "Quality great, repetition 49/100\n"
     ]
    },
    {
     "data": {
      "application/vnd.jupyter.widget-view+json": {
       "model_id": "81cb6e2d308b491ab4d35871243d374e",
       "version_major": 2,
       "version_minor": 0
      },
      "text/plain": [
       "                                                                                                              …"
      ]
     },
     "metadata": {},
     "output_type": "display_data"
    },
    {
     "name": "stdout",
     "output_type": "stream",
     "text": [
      "Quality great, repetition 50/100\n"
     ]
    },
    {
     "data": {
      "application/vnd.jupyter.widget-view+json": {
       "model_id": "e610658da93d4483bc9617abfd91b586",
       "version_major": 2,
       "version_minor": 0
      },
      "text/plain": [
       "                                                                                                              …"
      ]
     },
     "metadata": {},
     "output_type": "display_data"
    },
    {
     "name": "stdout",
     "output_type": "stream",
     "text": [
      "Quality great, repetition 51/100\n"
     ]
    },
    {
     "data": {
      "application/vnd.jupyter.widget-view+json": {
       "model_id": "978bcd0c1ae441b2aaf3c41c1014df1d",
       "version_major": 2,
       "version_minor": 0
      },
      "text/plain": [
       "                                                                                                              …"
      ]
     },
     "metadata": {},
     "output_type": "display_data"
    },
    {
     "name": "stdout",
     "output_type": "stream",
     "text": [
      "Quality great, repetition 52/100\n"
     ]
    },
    {
     "data": {
      "application/vnd.jupyter.widget-view+json": {
       "model_id": "553b38284726490bba094338ef5d4cad",
       "version_major": 2,
       "version_minor": 0
      },
      "text/plain": [
       "                                                                                                              …"
      ]
     },
     "metadata": {},
     "output_type": "display_data"
    },
    {
     "name": "stdout",
     "output_type": "stream",
     "text": [
      "Quality great, repetition 53/100\n"
     ]
    },
    {
     "data": {
      "application/vnd.jupyter.widget-view+json": {
       "model_id": "e27c0ab25d234486961266462eba0770",
       "version_major": 2,
       "version_minor": 0
      },
      "text/plain": [
       "                                                                                                              …"
      ]
     },
     "metadata": {},
     "output_type": "display_data"
    },
    {
     "name": "stdout",
     "output_type": "stream",
     "text": [
      "Quality great, repetition 54/100\n"
     ]
    },
    {
     "data": {
      "application/vnd.jupyter.widget-view+json": {
       "model_id": "33e481e4c6dc4c6fb404803d42845401",
       "version_major": 2,
       "version_minor": 0
      },
      "text/plain": [
       "                                                                                                              …"
      ]
     },
     "metadata": {},
     "output_type": "display_data"
    },
    {
     "name": "stdout",
     "output_type": "stream",
     "text": [
      "Quality great, repetition 55/100\n"
     ]
    },
    {
     "data": {
      "application/vnd.jupyter.widget-view+json": {
       "model_id": "4e78d36340f54a9b9c93238c40fb9d24",
       "version_major": 2,
       "version_minor": 0
      },
      "text/plain": [
       "                                                                                                              …"
      ]
     },
     "metadata": {},
     "output_type": "display_data"
    },
    {
     "name": "stdout",
     "output_type": "stream",
     "text": [
      "Quality great, repetition 56/100\n"
     ]
    },
    {
     "data": {
      "application/vnd.jupyter.widget-view+json": {
       "model_id": "57cf8572d6964ea898cf8a80d6afff91",
       "version_major": 2,
       "version_minor": 0
      },
      "text/plain": [
       "                                                                                                              …"
      ]
     },
     "metadata": {},
     "output_type": "display_data"
    },
    {
     "name": "stdout",
     "output_type": "stream",
     "text": [
      "Quality great, repetition 57/100\n"
     ]
    },
    {
     "data": {
      "application/vnd.jupyter.widget-view+json": {
       "model_id": "71a4def8765f42a988abf46fe80e21a6",
       "version_major": 2,
       "version_minor": 0
      },
      "text/plain": [
       "                                                                                                              …"
      ]
     },
     "metadata": {},
     "output_type": "display_data"
    },
    {
     "name": "stdout",
     "output_type": "stream",
     "text": [
      "Quality great, repetition 58/100\n"
     ]
    },
    {
     "data": {
      "application/vnd.jupyter.widget-view+json": {
       "model_id": "88a6777d31ed4e51a075c532351d888a",
       "version_major": 2,
       "version_minor": 0
      },
      "text/plain": [
       "                                                                                                              …"
      ]
     },
     "metadata": {},
     "output_type": "display_data"
    },
    {
     "name": "stdout",
     "output_type": "stream",
     "text": [
      "Quality great, repetition 59/100\n"
     ]
    },
    {
     "data": {
      "application/vnd.jupyter.widget-view+json": {
       "model_id": "6e20a415e61b402a863fa5cc02bc454d",
       "version_major": 2,
       "version_minor": 0
      },
      "text/plain": [
       "                                                                                                              …"
      ]
     },
     "metadata": {},
     "output_type": "display_data"
    },
    {
     "name": "stdout",
     "output_type": "stream",
     "text": [
      "Quality great, repetition 60/100\n"
     ]
    },
    {
     "data": {
      "application/vnd.jupyter.widget-view+json": {
       "model_id": "3ba2e2c1c1534babb9f0fba12d452a72",
       "version_major": 2,
       "version_minor": 0
      },
      "text/plain": [
       "                                                                                                              …"
      ]
     },
     "metadata": {},
     "output_type": "display_data"
    },
    {
     "name": "stdout",
     "output_type": "stream",
     "text": [
      "Quality great, repetition 61/100\n"
     ]
    },
    {
     "data": {
      "application/vnd.jupyter.widget-view+json": {
       "model_id": "2e6ed114664346a4b0402d007734c471",
       "version_major": 2,
       "version_minor": 0
      },
      "text/plain": [
       "                                                                                                              …"
      ]
     },
     "metadata": {},
     "output_type": "display_data"
    },
    {
     "name": "stdout",
     "output_type": "stream",
     "text": [
      "Quality great, repetition 62/100\n"
     ]
    },
    {
     "data": {
      "application/vnd.jupyter.widget-view+json": {
       "model_id": "12f9da65715c4d8590f30db1e5961c03",
       "version_major": 2,
       "version_minor": 0
      },
      "text/plain": [
       "                                                                                                              …"
      ]
     },
     "metadata": {},
     "output_type": "display_data"
    },
    {
     "name": "stdout",
     "output_type": "stream",
     "text": [
      "Quality great, repetition 63/100\n"
     ]
    },
    {
     "data": {
      "application/vnd.jupyter.widget-view+json": {
       "model_id": "677d201f00774570ab08057c0c25f297",
       "version_major": 2,
       "version_minor": 0
      },
      "text/plain": [
       "                                                                                                              …"
      ]
     },
     "metadata": {},
     "output_type": "display_data"
    },
    {
     "name": "stdout",
     "output_type": "stream",
     "text": [
      "Quality great, repetition 64/100\n"
     ]
    },
    {
     "data": {
      "application/vnd.jupyter.widget-view+json": {
       "model_id": "69f8865ab3514a4cbf6ee7aa2edeabf3",
       "version_major": 2,
       "version_minor": 0
      },
      "text/plain": [
       "                                                                                                              …"
      ]
     },
     "metadata": {},
     "output_type": "display_data"
    },
    {
     "name": "stdout",
     "output_type": "stream",
     "text": [
      "Quality great, repetition 65/100\n"
     ]
    },
    {
     "data": {
      "application/vnd.jupyter.widget-view+json": {
       "model_id": "26a9020dde8748908030c0ed3903b9da",
       "version_major": 2,
       "version_minor": 0
      },
      "text/plain": [
       "                                                                                                              …"
      ]
     },
     "metadata": {},
     "output_type": "display_data"
    },
    {
     "name": "stdout",
     "output_type": "stream",
     "text": [
      "Quality great, repetition 66/100\n"
     ]
    },
    {
     "data": {
      "application/vnd.jupyter.widget-view+json": {
       "model_id": "d42f4c68a5ed40feac5b3e20a2282f21",
       "version_major": 2,
       "version_minor": 0
      },
      "text/plain": [
       "                                                                                                              …"
      ]
     },
     "metadata": {},
     "output_type": "display_data"
    },
    {
     "name": "stdout",
     "output_type": "stream",
     "text": [
      "Quality perfect, repetition 67/100\n",
      "Saved to batch_second/moderate_40.txt\n",
      "Saved to batch_second/moderate_40.obj\n",
      "Saved to batch_second/moderate_40_fixed.txt\n",
      "Saved to batch_second/moderate_40_fixed.obj\n",
      "Misalignment: high\n"
     ]
    },
    {
     "data": {
      "application/vnd.jupyter.widget-view+json": {
       "model_id": "a902fe1562494515ac8e3d297082f258",
       "version_major": 2,
       "version_minor": 0
      },
      "text/plain": [
       "                                                                                                              …"
      ]
     },
     "metadata": {},
     "output_type": "display_data"
    },
    {
     "name": "stdout",
     "output_type": "stream",
     "text": [
      "Quality bad, repetition 0/10\n"
     ]
    },
    {
     "data": {
      "application/vnd.jupyter.widget-view+json": {
       "model_id": "c2af7095568748a485cc1cbac604dc98",
       "version_major": 2,
       "version_minor": 0
      },
      "text/plain": [
       "                                                                                                              …"
      ]
     },
     "metadata": {},
     "output_type": "display_data"
    },
    {
     "name": "stdout",
     "output_type": "stream",
     "text": [
      "Quality perfect, repetition 1/10\n"
     ]
    },
    {
     "data": {
      "application/vnd.jupyter.widget-view+json": {
       "model_id": "c5dcd6edfe714bd987ebf9162bcba7f9",
       "version_major": 2,
       "version_minor": 0
      },
      "text/plain": [
       "                                                                                                              …"
      ]
     },
     "metadata": {},
     "output_type": "display_data"
    },
    {
     "name": "stdout",
     "output_type": "stream",
     "text": [
      "Quality bad, repetition 0/100\n"
     ]
    },
    {
     "data": {
      "application/vnd.jupyter.widget-view+json": {
       "model_id": "51e7d632bfbc4644814be5aee1376eea",
       "version_major": 2,
       "version_minor": 0
      },
      "text/plain": [
       "                                                                                                              …"
      ]
     },
     "metadata": {},
     "output_type": "display_data"
    },
    {
     "name": "stdout",
     "output_type": "stream",
     "text": [
      "Quality great, repetition 1/100\n"
     ]
    },
    {
     "data": {
      "application/vnd.jupyter.widget-view+json": {
       "model_id": "cd00373214ed421d85cc29ef8ce49ac5",
       "version_major": 2,
       "version_minor": 0
      },
      "text/plain": [
       "                                                                                                              …"
      ]
     },
     "metadata": {},
     "output_type": "display_data"
    },
    {
     "name": "stdout",
     "output_type": "stream",
     "text": [
      "Quality great, repetition 2/100\n"
     ]
    },
    {
     "data": {
      "application/vnd.jupyter.widget-view+json": {
       "model_id": "51a0501c260c47b395622c0ecead79d7",
       "version_major": 2,
       "version_minor": 0
      },
      "text/plain": [
       "                                                                                                              …"
      ]
     },
     "metadata": {},
     "output_type": "display_data"
    },
    {
     "name": "stdout",
     "output_type": "stream",
     "text": [
      "Quality great, repetition 3/100\n"
     ]
    },
    {
     "data": {
      "application/vnd.jupyter.widget-view+json": {
       "model_id": "6ea39ba44d154d9099fed7d7777ceee1",
       "version_major": 2,
       "version_minor": 0
      },
      "text/plain": [
       "                                                                                                              …"
      ]
     },
     "metadata": {},
     "output_type": "display_data"
    },
    {
     "name": "stdout",
     "output_type": "stream",
     "text": [
      "Quality great, repetition 4/100\n"
     ]
    },
    {
     "data": {
      "application/vnd.jupyter.widget-view+json": {
       "model_id": "477de308cf364289af48d5ed8a92c136",
       "version_major": 2,
       "version_minor": 0
      },
      "text/plain": [
       "                                                                                                              …"
      ]
     },
     "metadata": {},
     "output_type": "display_data"
    },
    {
     "name": "stdout",
     "output_type": "stream",
     "text": [
      "Quality great, repetition 5/100\n"
     ]
    },
    {
     "data": {
      "application/vnd.jupyter.widget-view+json": {
       "model_id": "4ad6a94fa0684162add1b500b8273523",
       "version_major": 2,
       "version_minor": 0
      },
      "text/plain": [
       "                                                                                                              …"
      ]
     },
     "metadata": {},
     "output_type": "display_data"
    },
    {
     "name": "stdout",
     "output_type": "stream",
     "text": [
      "Quality great, repetition 6/100\n"
     ]
    },
    {
     "data": {
      "application/vnd.jupyter.widget-view+json": {
       "model_id": "9b11b5f9f75e48b5b8075de4d3ec60c3",
       "version_major": 2,
       "version_minor": 0
      },
      "text/plain": [
       "                                                                                                              …"
      ]
     },
     "metadata": {},
     "output_type": "display_data"
    },
    {
     "name": "stdout",
     "output_type": "stream",
     "text": [
      "Quality great, repetition 7/100\n"
     ]
    },
    {
     "data": {
      "application/vnd.jupyter.widget-view+json": {
       "model_id": "5d5e66f7237d4b94b48565174970f146",
       "version_major": 2,
       "version_minor": 0
      },
      "text/plain": [
       "                                                                                                              …"
      ]
     },
     "metadata": {},
     "output_type": "display_data"
    },
    {
     "name": "stdout",
     "output_type": "stream",
     "text": [
      "Quality great, repetition 8/100\n"
     ]
    },
    {
     "data": {
      "application/vnd.jupyter.widget-view+json": {
       "model_id": "c4da538b7eb8464e937557fe50b21997",
       "version_major": 2,
       "version_minor": 0
      },
      "text/plain": [
       "                                                                                                              …"
      ]
     },
     "metadata": {},
     "output_type": "display_data"
    },
    {
     "name": "stdout",
     "output_type": "stream",
     "text": [
      "Quality great, repetition 9/100\n"
     ]
    },
    {
     "data": {
      "application/vnd.jupyter.widget-view+json": {
       "model_id": "4e9f31ff11844badae29745ae6761099",
       "version_major": 2,
       "version_minor": 0
      },
      "text/plain": [
       "                                                                                                              …"
      ]
     },
     "metadata": {},
     "output_type": "display_data"
    },
    {
     "name": "stdout",
     "output_type": "stream",
     "text": [
      "Quality great, repetition 10/100\n"
     ]
    },
    {
     "data": {
      "application/vnd.jupyter.widget-view+json": {
       "model_id": "c2b5bed889ea4f04b73e2b18b3cbbc7a",
       "version_major": 2,
       "version_minor": 0
      },
      "text/plain": [
       "                                                                                                              …"
      ]
     },
     "metadata": {},
     "output_type": "display_data"
    },
    {
     "name": "stdout",
     "output_type": "stream",
     "text": [
      "Quality great, repetition 11/100\n"
     ]
    },
    {
     "data": {
      "application/vnd.jupyter.widget-view+json": {
       "model_id": "aef66f15e82f4f90be2dbae52d190ce7",
       "version_major": 2,
       "version_minor": 0
      },
      "text/plain": [
       "                                                                                                              …"
      ]
     },
     "metadata": {},
     "output_type": "display_data"
    },
    {
     "name": "stdout",
     "output_type": "stream",
     "text": [
      "Quality great, repetition 12/100\n"
     ]
    },
    {
     "data": {
      "application/vnd.jupyter.widget-view+json": {
       "model_id": "58f67d1c85384219902fbecb0172443b",
       "version_major": 2,
       "version_minor": 0
      },
      "text/plain": [
       "                                                                                                              …"
      ]
     },
     "metadata": {},
     "output_type": "display_data"
    },
    {
     "name": "stdout",
     "output_type": "stream",
     "text": [
      "Quality great, repetition 13/100\n"
     ]
    },
    {
     "data": {
      "application/vnd.jupyter.widget-view+json": {
       "model_id": "e79677c4ac4741428b87a62a82b7a860",
       "version_major": 2,
       "version_minor": 0
      },
      "text/plain": [
       "                                                                                                              …"
      ]
     },
     "metadata": {},
     "output_type": "display_data"
    },
    {
     "name": "stdout",
     "output_type": "stream",
     "text": [
      "Quality great, repetition 14/100\n"
     ]
    },
    {
     "data": {
      "application/vnd.jupyter.widget-view+json": {
       "model_id": "8ca55b31241b4db4950918ffa667cdd0",
       "version_major": 2,
       "version_minor": 0
      },
      "text/plain": [
       "                                                                                                              …"
      ]
     },
     "metadata": {},
     "output_type": "display_data"
    },
    {
     "name": "stdout",
     "output_type": "stream",
     "text": [
      "Quality great, repetition 15/100\n"
     ]
    },
    {
     "data": {
      "application/vnd.jupyter.widget-view+json": {
       "model_id": "dd999a1f76d847ffb081903261e7ee9a",
       "version_major": 2,
       "version_minor": 0
      },
      "text/plain": [
       "                                                                                                              …"
      ]
     },
     "metadata": {},
     "output_type": "display_data"
    },
    {
     "name": "stdout",
     "output_type": "stream",
     "text": [
      "Quality great, repetition 16/100\n"
     ]
    },
    {
     "data": {
      "application/vnd.jupyter.widget-view+json": {
       "model_id": "5bfb4f3f3fca4989bd889e11dcdcec90",
       "version_major": 2,
       "version_minor": 0
      },
      "text/plain": [
       "                                                                                                              …"
      ]
     },
     "metadata": {},
     "output_type": "display_data"
    },
    {
     "name": "stdout",
     "output_type": "stream",
     "text": [
      "Quality perfect, repetition 17/100\n",
      "Saved to batch_second/high_40.txt\n",
      "Saved to batch_second/high_40.obj\n",
      "Saved to batch_second/high_40_fixed.txt\n",
      "Saved to batch_second/high_40_fixed.obj\n",
      "Misalignment: very high\n"
     ]
    },
    {
     "data": {
      "application/vnd.jupyter.widget-view+json": {
       "model_id": "d532934018af4bba98f67b5b5c2c9c88",
       "version_major": 2,
       "version_minor": 0
      },
      "text/plain": [
       "                                                                                                              …"
      ]
     },
     "metadata": {},
     "output_type": "display_data"
    },
    {
     "name": "stdout",
     "output_type": "stream",
     "text": [
      "Quality bad, repetition 0/10\n"
     ]
    },
    {
     "data": {
      "application/vnd.jupyter.widget-view+json": {
       "model_id": "84c875b9303e43fcb3a7da6ac62f3527",
       "version_major": 2,
       "version_minor": 0
      },
      "text/plain": [
       "                                                                                                              …"
      ]
     },
     "metadata": {},
     "output_type": "display_data"
    },
    {
     "name": "stdout",
     "output_type": "stream",
     "text": [
      "Quality great, repetition 1/10\n"
     ]
    },
    {
     "data": {
      "application/vnd.jupyter.widget-view+json": {
       "model_id": "d37052be3ab44a2c973aa3f37cbdfef1",
       "version_major": 2,
       "version_minor": 0
      },
      "text/plain": [
       "                                                                                                              …"
      ]
     },
     "metadata": {},
     "output_type": "display_data"
    },
    {
     "name": "stdout",
     "output_type": "stream",
     "text": [
      "Quality perfect, repetition 2/10\n"
     ]
    },
    {
     "data": {
      "application/vnd.jupyter.widget-view+json": {
       "model_id": "5616817739784b48b9ee28851cc48d41",
       "version_major": 2,
       "version_minor": 0
      },
      "text/plain": [
       "                                                                                                              …"
      ]
     },
     "metadata": {},
     "output_type": "display_data"
    },
    {
     "name": "stdout",
     "output_type": "stream",
     "text": [
      "Quality bad, repetition 0/100\n"
     ]
    },
    {
     "data": {
      "application/vnd.jupyter.widget-view+json": {
       "model_id": "72e38291bbab4ed6974825e0c27cb160",
       "version_major": 2,
       "version_minor": 0
      },
      "text/plain": [
       "                                                                                                              …"
      ]
     },
     "metadata": {},
     "output_type": "display_data"
    },
    {
     "name": "stdout",
     "output_type": "stream",
     "text": [
      "Quality ok, repetition 1/100\n"
     ]
    },
    {
     "data": {
      "application/vnd.jupyter.widget-view+json": {
       "model_id": "e0f4cca5d27b4bc0b060c4b526dc1b3a",
       "version_major": 2,
       "version_minor": 0
      },
      "text/plain": [
       "                                                                                                              …"
      ]
     },
     "metadata": {},
     "output_type": "display_data"
    },
    {
     "name": "stdout",
     "output_type": "stream",
     "text": [
      "Quality great, repetition 2/100\n"
     ]
    },
    {
     "data": {
      "application/vnd.jupyter.widget-view+json": {
       "model_id": "5df88fb246354cd683b8729480ab8245",
       "version_major": 2,
       "version_minor": 0
      },
      "text/plain": [
       "                                                                                                              …"
      ]
     },
     "metadata": {},
     "output_type": "display_data"
    },
    {
     "name": "stdout",
     "output_type": "stream",
     "text": [
      "Quality great, repetition 3/100\n"
     ]
    },
    {
     "data": {
      "application/vnd.jupyter.widget-view+json": {
       "model_id": "eea5805ebbbd45928e3dd5ac7345427c",
       "version_major": 2,
       "version_minor": 0
      },
      "text/plain": [
       "                                                                                                              …"
      ]
     },
     "metadata": {},
     "output_type": "display_data"
    },
    {
     "name": "stdout",
     "output_type": "stream",
     "text": [
      "Quality great, repetition 4/100\n"
     ]
    },
    {
     "data": {
      "application/vnd.jupyter.widget-view+json": {
       "model_id": "9873254a458c414c884b776b87e811d5",
       "version_major": 2,
       "version_minor": 0
      },
      "text/plain": [
       "                                                                                                              …"
      ]
     },
     "metadata": {},
     "output_type": "display_data"
    },
    {
     "name": "stdout",
     "output_type": "stream",
     "text": [
      "Quality great, repetition 5/100\n"
     ]
    },
    {
     "data": {
      "application/vnd.jupyter.widget-view+json": {
       "model_id": "f4389d9c85c5425982665a6a1d4e848b",
       "version_major": 2,
       "version_minor": 0
      },
      "text/plain": [
       "                                                                                                              …"
      ]
     },
     "metadata": {},
     "output_type": "display_data"
    },
    {
     "name": "stdout",
     "output_type": "stream",
     "text": [
      "Quality great, repetition 6/100\n"
     ]
    },
    {
     "data": {
      "application/vnd.jupyter.widget-view+json": {
       "model_id": "5bc694d33fc747f296e3679d7be4aad8",
       "version_major": 2,
       "version_minor": 0
      },
      "text/plain": [
       "                                                                                                              …"
      ]
     },
     "metadata": {},
     "output_type": "display_data"
    },
    {
     "name": "stdout",
     "output_type": "stream",
     "text": [
      "Quality great, repetition 7/100\n"
     ]
    },
    {
     "data": {
      "application/vnd.jupyter.widget-view+json": {
       "model_id": "8735c21f4c0e42a5abfcdea44c08abff",
       "version_major": 2,
       "version_minor": 0
      },
      "text/plain": [
       "                                                                                                              …"
      ]
     },
     "metadata": {},
     "output_type": "display_data"
    },
    {
     "name": "stdout",
     "output_type": "stream",
     "text": [
      "Quality great, repetition 8/100\n"
     ]
    },
    {
     "data": {
      "application/vnd.jupyter.widget-view+json": {
       "model_id": "3c36322f5f5e4350a92affd14b297939",
       "version_major": 2,
       "version_minor": 0
      },
      "text/plain": [
       "                                                                                                              …"
      ]
     },
     "metadata": {},
     "output_type": "display_data"
    },
    {
     "name": "stdout",
     "output_type": "stream",
     "text": [
      "Quality great, repetition 9/100\n"
     ]
    },
    {
     "data": {
      "application/vnd.jupyter.widget-view+json": {
       "model_id": "5e1d47e708f04257ab559f2c542073dc",
       "version_major": 2,
       "version_minor": 0
      },
      "text/plain": [
       "                                                                                                              …"
      ]
     },
     "metadata": {},
     "output_type": "display_data"
    },
    {
     "name": "stdout",
     "output_type": "stream",
     "text": [
      "Quality great, repetition 10/100\n"
     ]
    },
    {
     "data": {
      "application/vnd.jupyter.widget-view+json": {
       "model_id": "499eb77f11b245268bcf6650ac0da25f",
       "version_major": 2,
       "version_minor": 0
      },
      "text/plain": [
       "                                                                                                              …"
      ]
     },
     "metadata": {},
     "output_type": "display_data"
    },
    {
     "name": "stdout",
     "output_type": "stream",
     "text": [
      "Quality great, repetition 11/100\n"
     ]
    },
    {
     "data": {
      "application/vnd.jupyter.widget-view+json": {
       "model_id": "f84403f5e1d247738ba5645fd99efe53",
       "version_major": 2,
       "version_minor": 0
      },
      "text/plain": [
       "                                                                                                              …"
      ]
     },
     "metadata": {},
     "output_type": "display_data"
    },
    {
     "name": "stdout",
     "output_type": "stream",
     "text": [
      "Quality great, repetition 12/100\n"
     ]
    },
    {
     "data": {
      "application/vnd.jupyter.widget-view+json": {
       "model_id": "544340f6a34a46e68db5d6f362b2eedf",
       "version_major": 2,
       "version_minor": 0
      },
      "text/plain": [
       "                                                                                                              …"
      ]
     },
     "metadata": {},
     "output_type": "display_data"
    },
    {
     "name": "stdout",
     "output_type": "stream",
     "text": [
      "Quality great, repetition 13/100\n"
     ]
    },
    {
     "data": {
      "application/vnd.jupyter.widget-view+json": {
       "model_id": "f5571d932f5f4ecd95c24b6d010e1dc8",
       "version_major": 2,
       "version_minor": 0
      },
      "text/plain": [
       "                                                                                                              …"
      ]
     },
     "metadata": {},
     "output_type": "display_data"
    },
    {
     "name": "stdout",
     "output_type": "stream",
     "text": [
      "Quality great, repetition 14/100\n"
     ]
    },
    {
     "data": {
      "application/vnd.jupyter.widget-view+json": {
       "model_id": "4949aa52c94743089ab6e0872c64b703",
       "version_major": 2,
       "version_minor": 0
      },
      "text/plain": [
       "                                                                                                              …"
      ]
     },
     "metadata": {},
     "output_type": "display_data"
    },
    {
     "name": "stdout",
     "output_type": "stream",
     "text": [
      "Quality great, repetition 15/100\n"
     ]
    },
    {
     "data": {
      "application/vnd.jupyter.widget-view+json": {
       "model_id": "9452aef65bcf4f98bc91296f1f9c15ac",
       "version_major": 2,
       "version_minor": 0
      },
      "text/plain": [
       "                                                                                                              …"
      ]
     },
     "metadata": {},
     "output_type": "display_data"
    },
    {
     "name": "stdout",
     "output_type": "stream",
     "text": [
      "Quality great, repetition 16/100\n"
     ]
    },
    {
     "data": {
      "application/vnd.jupyter.widget-view+json": {
       "model_id": "25974100f4c048a8989426ba0f58d5ed",
       "version_major": 2,
       "version_minor": 0
      },
      "text/plain": [
       "                                                                                                              …"
      ]
     },
     "metadata": {},
     "output_type": "display_data"
    },
    {
     "name": "stdout",
     "output_type": "stream",
     "text": [
      "Quality great, repetition 17/100\n"
     ]
    },
    {
     "data": {
      "application/vnd.jupyter.widget-view+json": {
       "model_id": "c8b4012f176549688f4289b4c6f14fa1",
       "version_major": 2,
       "version_minor": 0
      },
      "text/plain": [
       "                                                                                                              …"
      ]
     },
     "metadata": {},
     "output_type": "display_data"
    },
    {
     "name": "stdout",
     "output_type": "stream",
     "text": [
      "Quality great, repetition 18/100\n"
     ]
    },
    {
     "data": {
      "application/vnd.jupyter.widget-view+json": {
       "model_id": "a43818386383425f97ecac9bea9c2694",
       "version_major": 2,
       "version_minor": 0
      },
      "text/plain": [
       "                                                                                                              …"
      ]
     },
     "metadata": {},
     "output_type": "display_data"
    },
    {
     "name": "stdout",
     "output_type": "stream",
     "text": [
      "Quality great, repetition 19/100\n"
     ]
    },
    {
     "data": {
      "application/vnd.jupyter.widget-view+json": {
       "model_id": "d36c9014233442c4963fd89dc51cb008",
       "version_major": 2,
       "version_minor": 0
      },
      "text/plain": [
       "                                                                                                              …"
      ]
     },
     "metadata": {},
     "output_type": "display_data"
    },
    {
     "name": "stdout",
     "output_type": "stream",
     "text": [
      "Quality great, repetition 20/100\n"
     ]
    },
    {
     "data": {
      "application/vnd.jupyter.widget-view+json": {
       "model_id": "5d10571d333748dabece781680e287f5",
       "version_major": 2,
       "version_minor": 0
      },
      "text/plain": [
       "                                                                                                              …"
      ]
     },
     "metadata": {},
     "output_type": "display_data"
    },
    {
     "name": "stdout",
     "output_type": "stream",
     "text": [
      "Quality great, repetition 21/100\n"
     ]
    },
    {
     "data": {
      "application/vnd.jupyter.widget-view+json": {
       "model_id": "080d7440d07d4a67903c85bb8c1145c7",
       "version_major": 2,
       "version_minor": 0
      },
      "text/plain": [
       "                                                                                                              …"
      ]
     },
     "metadata": {},
     "output_type": "display_data"
    },
    {
     "name": "stdout",
     "output_type": "stream",
     "text": [
      "Quality great, repetition 22/100\n"
     ]
    },
    {
     "data": {
      "application/vnd.jupyter.widget-view+json": {
       "model_id": "b1ac34fa19ad4c7098765e3990288f66",
       "version_major": 2,
       "version_minor": 0
      },
      "text/plain": [
       "                                                                                                              …"
      ]
     },
     "metadata": {},
     "output_type": "display_data"
    },
    {
     "name": "stdout",
     "output_type": "stream",
     "text": [
      "Quality great, repetition 23/100\n"
     ]
    },
    {
     "data": {
      "application/vnd.jupyter.widget-view+json": {
       "model_id": "f38e0766015341ea92e0274fb01280b4",
       "version_major": 2,
       "version_minor": 0
      },
      "text/plain": [
       "                                                                                                              …"
      ]
     },
     "metadata": {},
     "output_type": "display_data"
    },
    {
     "name": "stdout",
     "output_type": "stream",
     "text": [
      "Quality great, repetition 24/100\n"
     ]
    },
    {
     "data": {
      "application/vnd.jupyter.widget-view+json": {
       "model_id": "88ab1a1ad3464545ab188d12a8b5788d",
       "version_major": 2,
       "version_minor": 0
      },
      "text/plain": [
       "                                                                                                              …"
      ]
     },
     "metadata": {},
     "output_type": "display_data"
    },
    {
     "name": "stdout",
     "output_type": "stream",
     "text": [
      "Quality great, repetition 25/100\n"
     ]
    },
    {
     "data": {
      "application/vnd.jupyter.widget-view+json": {
       "model_id": "ac27c92be01c4ff99e331b34fa80c32a",
       "version_major": 2,
       "version_minor": 0
      },
      "text/plain": [
       "                                                                                                              …"
      ]
     },
     "metadata": {},
     "output_type": "display_data"
    },
    {
     "name": "stdout",
     "output_type": "stream",
     "text": [
      "Quality great, repetition 26/100\n"
     ]
    },
    {
     "data": {
      "application/vnd.jupyter.widget-view+json": {
       "model_id": "958641c98a1c422d8c8348b74d34ba0b",
       "version_major": 2,
       "version_minor": 0
      },
      "text/plain": [
       "                                                                                                              …"
      ]
     },
     "metadata": {},
     "output_type": "display_data"
    },
    {
     "name": "stdout",
     "output_type": "stream",
     "text": [
      "Quality great, repetition 27/100\n"
     ]
    },
    {
     "data": {
      "application/vnd.jupyter.widget-view+json": {
       "model_id": "796acc2149de4ef6aa5c2ce9a3936a7b",
       "version_major": 2,
       "version_minor": 0
      },
      "text/plain": [
       "                                                                                                              …"
      ]
     },
     "metadata": {},
     "output_type": "display_data"
    },
    {
     "name": "stdout",
     "output_type": "stream",
     "text": [
      "Quality great, repetition 28/100\n"
     ]
    },
    {
     "data": {
      "application/vnd.jupyter.widget-view+json": {
       "model_id": "fec141d6500d4a8c8a481069c918ea05",
       "version_major": 2,
       "version_minor": 0
      },
      "text/plain": [
       "                                                                                                              …"
      ]
     },
     "metadata": {},
     "output_type": "display_data"
    },
    {
     "name": "stdout",
     "output_type": "stream",
     "text": [
      "Quality great, repetition 29/100\n"
     ]
    },
    {
     "data": {
      "application/vnd.jupyter.widget-view+json": {
       "model_id": "bd59823de4974de98b466c6a5075390b",
       "version_major": 2,
       "version_minor": 0
      },
      "text/plain": [
       "                                                                                                              …"
      ]
     },
     "metadata": {},
     "output_type": "display_data"
    },
    {
     "name": "stdout",
     "output_type": "stream",
     "text": [
      "Quality great, repetition 30/100\n"
     ]
    },
    {
     "data": {
      "application/vnd.jupyter.widget-view+json": {
       "model_id": "1092f546c77c4388b73c1bfe78e64c4a",
       "version_major": 2,
       "version_minor": 0
      },
      "text/plain": [
       "                                                                                                              …"
      ]
     },
     "metadata": {},
     "output_type": "display_data"
    },
    {
     "name": "stdout",
     "output_type": "stream",
     "text": [
      "Quality great, repetition 31/100\n"
     ]
    },
    {
     "data": {
      "application/vnd.jupyter.widget-view+json": {
       "model_id": "e2717701b382410ab9204db71e731082",
       "version_major": 2,
       "version_minor": 0
      },
      "text/plain": [
       "                                                                                                              …"
      ]
     },
     "metadata": {},
     "output_type": "display_data"
    },
    {
     "name": "stdout",
     "output_type": "stream",
     "text": [
      "Quality great, repetition 32/100\n"
     ]
    },
    {
     "data": {
      "application/vnd.jupyter.widget-view+json": {
       "model_id": "3309065185f8443a87f0971ccc56a540",
       "version_major": 2,
       "version_minor": 0
      },
      "text/plain": [
       "                                                                                                              …"
      ]
     },
     "metadata": {},
     "output_type": "display_data"
    },
    {
     "name": "stdout",
     "output_type": "stream",
     "text": [
      "Quality great, repetition 33/100\n"
     ]
    },
    {
     "data": {
      "application/vnd.jupyter.widget-view+json": {
       "model_id": "e354213eecd34f82aa6cdad57a966d4e",
       "version_major": 2,
       "version_minor": 0
      },
      "text/plain": [
       "                                                                                                              …"
      ]
     },
     "metadata": {},
     "output_type": "display_data"
    },
    {
     "name": "stdout",
     "output_type": "stream",
     "text": [
      "Quality great, repetition 34/100\n"
     ]
    },
    {
     "data": {
      "application/vnd.jupyter.widget-view+json": {
       "model_id": "491a84d64e764b12ba2d59800c255717",
       "version_major": 2,
       "version_minor": 0
      },
      "text/plain": [
       "                                                                                                              …"
      ]
     },
     "metadata": {},
     "output_type": "display_data"
    },
    {
     "name": "stdout",
     "output_type": "stream",
     "text": [
      "Quality great, repetition 35/100\n"
     ]
    },
    {
     "data": {
      "application/vnd.jupyter.widget-view+json": {
       "model_id": "d438b86b6c0b40e6aaaaca451f88156a",
       "version_major": 2,
       "version_minor": 0
      },
      "text/plain": [
       "                                                                                                              …"
      ]
     },
     "metadata": {},
     "output_type": "display_data"
    },
    {
     "name": "stdout",
     "output_type": "stream",
     "text": [
      "Quality great, repetition 36/100\n"
     ]
    },
    {
     "data": {
      "application/vnd.jupyter.widget-view+json": {
       "model_id": "5f1f08a5cd924c3a9034088f04dc9270",
       "version_major": 2,
       "version_minor": 0
      },
      "text/plain": [
       "                                                                                                              …"
      ]
     },
     "metadata": {},
     "output_type": "display_data"
    },
    {
     "name": "stdout",
     "output_type": "stream",
     "text": [
      "Quality great, repetition 37/100\n"
     ]
    },
    {
     "data": {
      "application/vnd.jupyter.widget-view+json": {
       "model_id": "efb357fcc76e4c3cb9317b163c38c027",
       "version_major": 2,
       "version_minor": 0
      },
      "text/plain": [
       "                                                                                                              …"
      ]
     },
     "metadata": {},
     "output_type": "display_data"
    },
    {
     "name": "stdout",
     "output_type": "stream",
     "text": [
      "Quality great, repetition 38/100\n"
     ]
    },
    {
     "data": {
      "application/vnd.jupyter.widget-view+json": {
       "model_id": "9ce787fd3f894c7681caa3194feeef26",
       "version_major": 2,
       "version_minor": 0
      },
      "text/plain": [
       "                                                                                                              …"
      ]
     },
     "metadata": {},
     "output_type": "display_data"
    },
    {
     "name": "stdout",
     "output_type": "stream",
     "text": [
      "Quality great, repetition 39/100\n"
     ]
    },
    {
     "data": {
      "application/vnd.jupyter.widget-view+json": {
       "model_id": "5a9234e5c73b49ecb01e3fc54aaa96e3",
       "version_major": 2,
       "version_minor": 0
      },
      "text/plain": [
       "                                                                                                              …"
      ]
     },
     "metadata": {},
     "output_type": "display_data"
    },
    {
     "name": "stdout",
     "output_type": "stream",
     "text": [
      "Quality great, repetition 40/100\n"
     ]
    },
    {
     "data": {
      "application/vnd.jupyter.widget-view+json": {
       "model_id": "3d3e21c0e7f9410f884f8639c7701fcc",
       "version_major": 2,
       "version_minor": 0
      },
      "text/plain": [
       "                                                                                                              …"
      ]
     },
     "metadata": {},
     "output_type": "display_data"
    },
    {
     "name": "stdout",
     "output_type": "stream",
     "text": [
      "Quality great, repetition 41/100\n"
     ]
    },
    {
     "data": {
      "application/vnd.jupyter.widget-view+json": {
       "model_id": "8adcc52400e54261b1671ac7b8a2ea36",
       "version_major": 2,
       "version_minor": 0
      },
      "text/plain": [
       "                                                                                                              …"
      ]
     },
     "metadata": {},
     "output_type": "display_data"
    },
    {
     "name": "stdout",
     "output_type": "stream",
     "text": [
      "Quality great, repetition 42/100\n"
     ]
    },
    {
     "data": {
      "application/vnd.jupyter.widget-view+json": {
       "model_id": "eccdfa15f4fe45b0a990d866602d43b6",
       "version_major": 2,
       "version_minor": 0
      },
      "text/plain": [
       "                                                                                                              …"
      ]
     },
     "metadata": {},
     "output_type": "display_data"
    },
    {
     "name": "stdout",
     "output_type": "stream",
     "text": [
      "Quality great, repetition 43/100\n"
     ]
    },
    {
     "data": {
      "application/vnd.jupyter.widget-view+json": {
       "model_id": "fa2a10be42aa4f4a8462d18ef28f2a79",
       "version_major": 2,
       "version_minor": 0
      },
      "text/plain": [
       "                                                                                                              …"
      ]
     },
     "metadata": {},
     "output_type": "display_data"
    },
    {
     "name": "stdout",
     "output_type": "stream",
     "text": [
      "Quality great, repetition 44/100\n"
     ]
    },
    {
     "data": {
      "application/vnd.jupyter.widget-view+json": {
       "model_id": "183a2d53980b42b18a66046e9ad42a14",
       "version_major": 2,
       "version_minor": 0
      },
      "text/plain": [
       "                                                                                                              …"
      ]
     },
     "metadata": {},
     "output_type": "display_data"
    },
    {
     "name": "stdout",
     "output_type": "stream",
     "text": [
      "Quality great, repetition 45/100\n"
     ]
    },
    {
     "data": {
      "application/vnd.jupyter.widget-view+json": {
       "model_id": "73cd86d336524d85812f7059b327a3da",
       "version_major": 2,
       "version_minor": 0
      },
      "text/plain": [
       "                                                                                                              …"
      ]
     },
     "metadata": {},
     "output_type": "display_data"
    },
    {
     "name": "stdout",
     "output_type": "stream",
     "text": [
      "Quality great, repetition 46/100\n"
     ]
    },
    {
     "data": {
      "application/vnd.jupyter.widget-view+json": {
       "model_id": "91bf44e8fd534bd4b22edc08da687bfd",
       "version_major": 2,
       "version_minor": 0
      },
      "text/plain": [
       "                                                                                                              …"
      ]
     },
     "metadata": {},
     "output_type": "display_data"
    },
    {
     "name": "stdout",
     "output_type": "stream",
     "text": [
      "Quality great, repetition 47/100\n"
     ]
    },
    {
     "data": {
      "application/vnd.jupyter.widget-view+json": {
       "model_id": "7aff673e6a0843f29924aaf801ad4dfa",
       "version_major": 2,
       "version_minor": 0
      },
      "text/plain": [
       "                                                                                                              …"
      ]
     },
     "metadata": {},
     "output_type": "display_data"
    },
    {
     "name": "stdout",
     "output_type": "stream",
     "text": [
      "Quality great, repetition 48/100\n"
     ]
    },
    {
     "data": {
      "application/vnd.jupyter.widget-view+json": {
       "model_id": "62192669ab874e75b9658e484869a852",
       "version_major": 2,
       "version_minor": 0
      },
      "text/plain": [
       "                                                                                                              …"
      ]
     },
     "metadata": {},
     "output_type": "display_data"
    },
    {
     "name": "stdout",
     "output_type": "stream",
     "text": [
      "Quality great, repetition 49/100\n"
     ]
    },
    {
     "data": {
      "application/vnd.jupyter.widget-view+json": {
       "model_id": "4f18bb4bc49948368f899bfbed2d4a4f",
       "version_major": 2,
       "version_minor": 0
      },
      "text/plain": [
       "                                                                                                              …"
      ]
     },
     "metadata": {},
     "output_type": "display_data"
    },
    {
     "name": "stdout",
     "output_type": "stream",
     "text": [
      "Quality great, repetition 50/100\n"
     ]
    },
    {
     "data": {
      "application/vnd.jupyter.widget-view+json": {
       "model_id": "2b4d9c6b9c884358aa12df6a806f1fd1",
       "version_major": 2,
       "version_minor": 0
      },
      "text/plain": [
       "                                                                                                              …"
      ]
     },
     "metadata": {},
     "output_type": "display_data"
    },
    {
     "name": "stdout",
     "output_type": "stream",
     "text": [
      "Quality great, repetition 51/100\n"
     ]
    },
    {
     "data": {
      "application/vnd.jupyter.widget-view+json": {
       "model_id": "67acfa7925f340be9c942e6852995417",
       "version_major": 2,
       "version_minor": 0
      },
      "text/plain": [
       "                                                                                                              …"
      ]
     },
     "metadata": {},
     "output_type": "display_data"
    },
    {
     "name": "stdout",
     "output_type": "stream",
     "text": [
      "Quality great, repetition 52/100\n"
     ]
    },
    {
     "data": {
      "application/vnd.jupyter.widget-view+json": {
       "model_id": "1fc7137fc3f34bed804c6b3fe0eae259",
       "version_major": 2,
       "version_minor": 0
      },
      "text/plain": [
       "                                                                                                              …"
      ]
     },
     "metadata": {},
     "output_type": "display_data"
    },
    {
     "name": "stdout",
     "output_type": "stream",
     "text": [
      "Quality great, repetition 53/100\n"
     ]
    },
    {
     "data": {
      "application/vnd.jupyter.widget-view+json": {
       "model_id": "2565e907e1df4b529e1ccc7affd403f7",
       "version_major": 2,
       "version_minor": 0
      },
      "text/plain": [
       "                                                                                                              …"
      ]
     },
     "metadata": {},
     "output_type": "display_data"
    },
    {
     "name": "stdout",
     "output_type": "stream",
     "text": [
      "Quality great, repetition 54/100\n"
     ]
    },
    {
     "data": {
      "application/vnd.jupyter.widget-view+json": {
       "model_id": "2e401e74fab640c6853c090cd82527ec",
       "version_major": 2,
       "version_minor": 0
      },
      "text/plain": [
       "                                                                                                              …"
      ]
     },
     "metadata": {},
     "output_type": "display_data"
    },
    {
     "name": "stdout",
     "output_type": "stream",
     "text": [
      "Quality great, repetition 55/100\n"
     ]
    },
    {
     "data": {
      "application/vnd.jupyter.widget-view+json": {
       "model_id": "618047bbc0a04039bb34d974d67a23b8",
       "version_major": 2,
       "version_minor": 0
      },
      "text/plain": [
       "                                                                                                              …"
      ]
     },
     "metadata": {},
     "output_type": "display_data"
    },
    {
     "name": "stdout",
     "output_type": "stream",
     "text": [
      "Quality great, repetition 56/100\n"
     ]
    },
    {
     "data": {
      "application/vnd.jupyter.widget-view+json": {
       "model_id": "c84cdcd0bb2e4ea8a0215ac47e3e2172",
       "version_major": 2,
       "version_minor": 0
      },
      "text/plain": [
       "                                                                                                              …"
      ]
     },
     "metadata": {},
     "output_type": "display_data"
    },
    {
     "name": "stdout",
     "output_type": "stream",
     "text": [
      "Quality great, repetition 57/100\n"
     ]
    },
    {
     "data": {
      "application/vnd.jupyter.widget-view+json": {
       "model_id": "ebe6732aa8bc48e9878b8df71cfe8aac",
       "version_major": 2,
       "version_minor": 0
      },
      "text/plain": [
       "                                                                                                              …"
      ]
     },
     "metadata": {},
     "output_type": "display_data"
    },
    {
     "name": "stdout",
     "output_type": "stream",
     "text": [
      "Quality great, repetition 58/100\n"
     ]
    },
    {
     "data": {
      "application/vnd.jupyter.widget-view+json": {
       "model_id": "6b7549f868bc4609a173dc14ba4b8b62",
       "version_major": 2,
       "version_minor": 0
      },
      "text/plain": [
       "                                                                                                              …"
      ]
     },
     "metadata": {},
     "output_type": "display_data"
    },
    {
     "name": "stdout",
     "output_type": "stream",
     "text": [
      "Quality great, repetition 59/100\n"
     ]
    },
    {
     "data": {
      "application/vnd.jupyter.widget-view+json": {
       "model_id": "e244bb9f34f84a4ea502e3f11682fec1",
       "version_major": 2,
       "version_minor": 0
      },
      "text/plain": [
       "                                                                                                              …"
      ]
     },
     "metadata": {},
     "output_type": "display_data"
    },
    {
     "name": "stdout",
     "output_type": "stream",
     "text": [
      "Quality great, repetition 60/100\n"
     ]
    },
    {
     "data": {
      "application/vnd.jupyter.widget-view+json": {
       "model_id": "24ce6700b74b4418a94b8696070203ca",
       "version_major": 2,
       "version_minor": 0
      },
      "text/plain": [
       "                                                                                                              …"
      ]
     },
     "metadata": {},
     "output_type": "display_data"
    },
    {
     "name": "stdout",
     "output_type": "stream",
     "text": [
      "Quality great, repetition 61/100\n"
     ]
    },
    {
     "data": {
      "application/vnd.jupyter.widget-view+json": {
       "model_id": "29c02e4685674885a9a445ddff3dd10e",
       "version_major": 2,
       "version_minor": 0
      },
      "text/plain": [
       "                                                                                                              …"
      ]
     },
     "metadata": {},
     "output_type": "display_data"
    },
    {
     "name": "stdout",
     "output_type": "stream",
     "text": [
      "Quality great, repetition 62/100\n"
     ]
    },
    {
     "data": {
      "application/vnd.jupyter.widget-view+json": {
       "model_id": "d86a7f05d39b41789f2b739f5c194bad",
       "version_major": 2,
       "version_minor": 0
      },
      "text/plain": [
       "                                                                                                              …"
      ]
     },
     "metadata": {},
     "output_type": "display_data"
    },
    {
     "name": "stdout",
     "output_type": "stream",
     "text": [
      "Quality great, repetition 63/100\n"
     ]
    },
    {
     "data": {
      "application/vnd.jupyter.widget-view+json": {
       "model_id": "c2c488c1b0544261b2c5187667b6e405",
       "version_major": 2,
       "version_minor": 0
      },
      "text/plain": [
       "                                                                                                              …"
      ]
     },
     "metadata": {},
     "output_type": "display_data"
    },
    {
     "name": "stdout",
     "output_type": "stream",
     "text": [
      "Quality great, repetition 64/100\n"
     ]
    },
    {
     "data": {
      "application/vnd.jupyter.widget-view+json": {
       "model_id": "ec4e7902084540a1954c8d2130e0a1d0",
       "version_major": 2,
       "version_minor": 0
      },
      "text/plain": [
       "                                                                                                              …"
      ]
     },
     "metadata": {},
     "output_type": "display_data"
    },
    {
     "name": "stdout",
     "output_type": "stream",
     "text": [
      "Quality great, repetition 65/100\n"
     ]
    },
    {
     "data": {
      "application/vnd.jupyter.widget-view+json": {
       "model_id": "60388715c3bf4f39b9b82c9d3c34ad9e",
       "version_major": 2,
       "version_minor": 0
      },
      "text/plain": [
       "                                                                                                              …"
      ]
     },
     "metadata": {},
     "output_type": "display_data"
    },
    {
     "name": "stdout",
     "output_type": "stream",
     "text": [
      "Quality great, repetition 66/100\n"
     ]
    },
    {
     "data": {
      "application/vnd.jupyter.widget-view+json": {
       "model_id": "8df4f5b606d1434d900f2891f4969cbd",
       "version_major": 2,
       "version_minor": 0
      },
      "text/plain": [
       "                                                                                                              …"
      ]
     },
     "metadata": {},
     "output_type": "display_data"
    },
    {
     "name": "stdout",
     "output_type": "stream",
     "text": [
      "Quality great, repetition 67/100\n"
     ]
    },
    {
     "data": {
      "application/vnd.jupyter.widget-view+json": {
       "model_id": "87aaa0f1ad5c4ac0b1db4d107c1c6439",
       "version_major": 2,
       "version_minor": 0
      },
      "text/plain": [
       "                                                                                                              …"
      ]
     },
     "metadata": {},
     "output_type": "display_data"
    },
    {
     "name": "stdout",
     "output_type": "stream",
     "text": [
      "Quality great, repetition 68/100\n"
     ]
    },
    {
     "data": {
      "application/vnd.jupyter.widget-view+json": {
       "model_id": "8a064a959b824819b00a4c717104e38d",
       "version_major": 2,
       "version_minor": 0
      },
      "text/plain": [
       "                                                                                                              …"
      ]
     },
     "metadata": {},
     "output_type": "display_data"
    },
    {
     "name": "stdout",
     "output_type": "stream",
     "text": [
      "Quality great, repetition 69/100\n"
     ]
    },
    {
     "data": {
      "application/vnd.jupyter.widget-view+json": {
       "model_id": "e50d987087154a4fbf87e5e57b540687",
       "version_major": 2,
       "version_minor": 0
      },
      "text/plain": [
       "                                                                                                              …"
      ]
     },
     "metadata": {},
     "output_type": "display_data"
    },
    {
     "name": "stdout",
     "output_type": "stream",
     "text": [
      "Quality great, repetition 70/100\n"
     ]
    },
    {
     "data": {
      "application/vnd.jupyter.widget-view+json": {
       "model_id": "d9fa7afb38e54d04912596f388ac7ec4",
       "version_major": 2,
       "version_minor": 0
      },
      "text/plain": [
       "                                                                                                              …"
      ]
     },
     "metadata": {},
     "output_type": "display_data"
    },
    {
     "name": "stdout",
     "output_type": "stream",
     "text": [
      "Quality great, repetition 71/100\n"
     ]
    },
    {
     "data": {
      "application/vnd.jupyter.widget-view+json": {
       "model_id": "91013b26935b4420b94fbff6fe8343de",
       "version_major": 2,
       "version_minor": 0
      },
      "text/plain": [
       "                                                                                                              …"
      ]
     },
     "metadata": {},
     "output_type": "display_data"
    },
    {
     "name": "stdout",
     "output_type": "stream",
     "text": [
      "Quality great, repetition 72/100\n"
     ]
    },
    {
     "data": {
      "application/vnd.jupyter.widget-view+json": {
       "model_id": "1c8811a192c14b21a571e3dad4a12346",
       "version_major": 2,
       "version_minor": 0
      },
      "text/plain": [
       "                                                                                                              …"
      ]
     },
     "metadata": {},
     "output_type": "display_data"
    },
    {
     "name": "stdout",
     "output_type": "stream",
     "text": [
      "Quality great, repetition 73/100\n"
     ]
    },
    {
     "data": {
      "application/vnd.jupyter.widget-view+json": {
       "model_id": "4efb02eef43548dbbca635868526e060",
       "version_major": 2,
       "version_minor": 0
      },
      "text/plain": [
       "                                                                                                              …"
      ]
     },
     "metadata": {},
     "output_type": "display_data"
    },
    {
     "name": "stdout",
     "output_type": "stream",
     "text": [
      "Quality great, repetition 74/100\n"
     ]
    },
    {
     "data": {
      "application/vnd.jupyter.widget-view+json": {
       "model_id": "0c11cd03fa7c4a11b7cf1739abcd3672",
       "version_major": 2,
       "version_minor": 0
      },
      "text/plain": [
       "                                                                                                              …"
      ]
     },
     "metadata": {},
     "output_type": "display_data"
    },
    {
     "name": "stdout",
     "output_type": "stream",
     "text": [
      "Quality great, repetition 75/100\n"
     ]
    },
    {
     "data": {
      "application/vnd.jupyter.widget-view+json": {
       "model_id": "d1856353d83a4da6be3d5c77e6a1213b",
       "version_major": 2,
       "version_minor": 0
      },
      "text/plain": [
       "                                                                                                              …"
      ]
     },
     "metadata": {},
     "output_type": "display_data"
    },
    {
     "name": "stdout",
     "output_type": "stream",
     "text": [
      "Quality great, repetition 76/100\n"
     ]
    },
    {
     "data": {
      "application/vnd.jupyter.widget-view+json": {
       "model_id": "c58507b540d94438ac76edcb34b035f6",
       "version_major": 2,
       "version_minor": 0
      },
      "text/plain": [
       "                                                                                                              …"
      ]
     },
     "metadata": {},
     "output_type": "display_data"
    },
    {
     "name": "stdout",
     "output_type": "stream",
     "text": [
      "Quality great, repetition 77/100\n"
     ]
    },
    {
     "data": {
      "application/vnd.jupyter.widget-view+json": {
       "model_id": "fb3984e3875c445f984cf515b623f7d4",
       "version_major": 2,
       "version_minor": 0
      },
      "text/plain": [
       "                                                                                                              …"
      ]
     },
     "metadata": {},
     "output_type": "display_data"
    },
    {
     "name": "stdout",
     "output_type": "stream",
     "text": [
      "Quality great, repetition 78/100\n"
     ]
    },
    {
     "data": {
      "application/vnd.jupyter.widget-view+json": {
       "model_id": "cf248d5544f340009243d5dd0d5cfbdc",
       "version_major": 2,
       "version_minor": 0
      },
      "text/plain": [
       "                                                                                                              …"
      ]
     },
     "metadata": {},
     "output_type": "display_data"
    },
    {
     "name": "stdout",
     "output_type": "stream",
     "text": [
      "Quality great, repetition 79/100\n"
     ]
    },
    {
     "data": {
      "application/vnd.jupyter.widget-view+json": {
       "model_id": "139a2b2f39b04196b2614ad630fbf141",
       "version_major": 2,
       "version_minor": 0
      },
      "text/plain": [
       "                                                                                                              …"
      ]
     },
     "metadata": {},
     "output_type": "display_data"
    },
    {
     "name": "stdout",
     "output_type": "stream",
     "text": [
      "Quality great, repetition 80/100\n"
     ]
    },
    {
     "data": {
      "application/vnd.jupyter.widget-view+json": {
       "model_id": "aef2238eb2f84b919c1ae9ffb22188e7",
       "version_major": 2,
       "version_minor": 0
      },
      "text/plain": [
       "                                                                                                              …"
      ]
     },
     "metadata": {},
     "output_type": "display_data"
    },
    {
     "name": "stdout",
     "output_type": "stream",
     "text": [
      "Quality great, repetition 81/100\n"
     ]
    },
    {
     "data": {
      "application/vnd.jupyter.widget-view+json": {
       "model_id": "6f4338e7150f4fbbb9bcfe6b048daa1f",
       "version_major": 2,
       "version_minor": 0
      },
      "text/plain": [
       "                                                                                                              …"
      ]
     },
     "metadata": {},
     "output_type": "display_data"
    },
    {
     "name": "stdout",
     "output_type": "stream",
     "text": [
      "Quality great, repetition 82/100\n"
     ]
    },
    {
     "data": {
      "application/vnd.jupyter.widget-view+json": {
       "model_id": "e20a070321594a31801a44dbeff7d8a2",
       "version_major": 2,
       "version_minor": 0
      },
      "text/plain": [
       "                                                                                                              …"
      ]
     },
     "metadata": {},
     "output_type": "display_data"
    },
    {
     "name": "stdout",
     "output_type": "stream",
     "text": [
      "Quality great, repetition 83/100\n"
     ]
    },
    {
     "data": {
      "application/vnd.jupyter.widget-view+json": {
       "model_id": "45d382feaff1462b8b139022022cb346",
       "version_major": 2,
       "version_minor": 0
      },
      "text/plain": [
       "                                                                                                              …"
      ]
     },
     "metadata": {},
     "output_type": "display_data"
    },
    {
     "name": "stdout",
     "output_type": "stream",
     "text": [
      "Quality great, repetition 84/100\n"
     ]
    },
    {
     "data": {
      "application/vnd.jupyter.widget-view+json": {
       "model_id": "f57f211536b64fc5aa093699bd8f183e",
       "version_major": 2,
       "version_minor": 0
      },
      "text/plain": [
       "                                                                                                              …"
      ]
     },
     "metadata": {},
     "output_type": "display_data"
    },
    {
     "name": "stdout",
     "output_type": "stream",
     "text": [
      "Quality great, repetition 85/100\n"
     ]
    },
    {
     "data": {
      "application/vnd.jupyter.widget-view+json": {
       "model_id": "ae9e2779aa994794bfee9e40dbd2f3e1",
       "version_major": 2,
       "version_minor": 0
      },
      "text/plain": [
       "                                                                                                              …"
      ]
     },
     "metadata": {},
     "output_type": "display_data"
    },
    {
     "name": "stdout",
     "output_type": "stream",
     "text": [
      "Quality great, repetition 86/100\n"
     ]
    },
    {
     "data": {
      "application/vnd.jupyter.widget-view+json": {
       "model_id": "ffa98250114148f88eb9c8b0387a89e7",
       "version_major": 2,
       "version_minor": 0
      },
      "text/plain": [
       "                                                                                                              …"
      ]
     },
     "metadata": {},
     "output_type": "display_data"
    },
    {
     "name": "stdout",
     "output_type": "stream",
     "text": [
      "Quality great, repetition 87/100\n"
     ]
    },
    {
     "data": {
      "application/vnd.jupyter.widget-view+json": {
       "model_id": "441f0c9b9d214789ae1af600d59c4989",
       "version_major": 2,
       "version_minor": 0
      },
      "text/plain": [
       "                                                                                                              …"
      ]
     },
     "metadata": {},
     "output_type": "display_data"
    },
    {
     "name": "stdout",
     "output_type": "stream",
     "text": [
      "Quality great, repetition 88/100\n"
     ]
    },
    {
     "data": {
      "application/vnd.jupyter.widget-view+json": {
       "model_id": "acbf16ddaefa4c18acf3324f4add8de8",
       "version_major": 2,
       "version_minor": 0
      },
      "text/plain": [
       "                                                                                                              …"
      ]
     },
     "metadata": {},
     "output_type": "display_data"
    },
    {
     "name": "stdout",
     "output_type": "stream",
     "text": [
      "Quality great, repetition 89/100\n"
     ]
    },
    {
     "data": {
      "application/vnd.jupyter.widget-view+json": {
       "model_id": "84ad8600ff4f41c08dc2a20951741e3a",
       "version_major": 2,
       "version_minor": 0
      },
      "text/plain": [
       "                                                                                                              …"
      ]
     },
     "metadata": {},
     "output_type": "display_data"
    },
    {
     "name": "stdout",
     "output_type": "stream",
     "text": [
      "Quality great, repetition 90/100\n"
     ]
    },
    {
     "data": {
      "application/vnd.jupyter.widget-view+json": {
       "model_id": "7d2a0d9c697b4c17a5614d72392c2353",
       "version_major": 2,
       "version_minor": 0
      },
      "text/plain": [
       "                                                                                                              …"
      ]
     },
     "metadata": {},
     "output_type": "display_data"
    },
    {
     "name": "stdout",
     "output_type": "stream",
     "text": [
      "Quality great, repetition 91/100\n"
     ]
    },
    {
     "data": {
      "application/vnd.jupyter.widget-view+json": {
       "model_id": "e88c3bbe8387485daca005fa8cc45d86",
       "version_major": 2,
       "version_minor": 0
      },
      "text/plain": [
       "                                                                                                              …"
      ]
     },
     "metadata": {},
     "output_type": "display_data"
    },
    {
     "name": "stdout",
     "output_type": "stream",
     "text": [
      "Quality great, repetition 92/100\n"
     ]
    },
    {
     "data": {
      "application/vnd.jupyter.widget-view+json": {
       "model_id": "ccf06cf139584d5caef7dde4b023a2c7",
       "version_major": 2,
       "version_minor": 0
      },
      "text/plain": [
       "                                                                                                              …"
      ]
     },
     "metadata": {},
     "output_type": "display_data"
    },
    {
     "name": "stdout",
     "output_type": "stream",
     "text": [
      "Quality great, repetition 93/100\n"
     ]
    },
    {
     "data": {
      "application/vnd.jupyter.widget-view+json": {
       "model_id": "a595c55ca77f4f7a90df3d2c9700275b",
       "version_major": 2,
       "version_minor": 0
      },
      "text/plain": [
       "                                                                                                              …"
      ]
     },
     "metadata": {},
     "output_type": "display_data"
    },
    {
     "name": "stdout",
     "output_type": "stream",
     "text": [
      "Quality great, repetition 94/100\n"
     ]
    },
    {
     "data": {
      "application/vnd.jupyter.widget-view+json": {
       "model_id": "6aa3c405dba940639949f0f1c43019d0",
       "version_major": 2,
       "version_minor": 0
      },
      "text/plain": [
       "                                                                                                              …"
      ]
     },
     "metadata": {},
     "output_type": "display_data"
    },
    {
     "name": "stdout",
     "output_type": "stream",
     "text": [
      "Quality great, repetition 95/100\n"
     ]
    },
    {
     "data": {
      "application/vnd.jupyter.widget-view+json": {
       "model_id": "6521db4432974ef0a7b0766550c5eae6",
       "version_major": 2,
       "version_minor": 0
      },
      "text/plain": [
       "                                                                                                              …"
      ]
     },
     "metadata": {},
     "output_type": "display_data"
    },
    {
     "name": "stdout",
     "output_type": "stream",
     "text": [
      "Quality great, repetition 96/100\n"
     ]
    },
    {
     "data": {
      "application/vnd.jupyter.widget-view+json": {
       "model_id": "5034ed5c2f8e43d2a2f43c9d72bcf918",
       "version_major": 2,
       "version_minor": 0
      },
      "text/plain": [
       "                                                                                                              …"
      ]
     },
     "metadata": {},
     "output_type": "display_data"
    },
    {
     "name": "stdout",
     "output_type": "stream",
     "text": [
      "Quality great, repetition 97/100\n"
     ]
    },
    {
     "data": {
      "application/vnd.jupyter.widget-view+json": {
       "model_id": "8a3eb5e148d64bff99348c4f205f2e1a",
       "version_major": 2,
       "version_minor": 0
      },
      "text/plain": [
       "                                                                                                              …"
      ]
     },
     "metadata": {},
     "output_type": "display_data"
    },
    {
     "name": "stdout",
     "output_type": "stream",
     "text": [
      "Quality great, repetition 98/100\n"
     ]
    },
    {
     "data": {
      "application/vnd.jupyter.widget-view+json": {
       "model_id": "25a0eb982e4c41c2b831cff0be120636",
       "version_major": 2,
       "version_minor": 0
      },
      "text/plain": [
       "                                                                                                              …"
      ]
     },
     "metadata": {},
     "output_type": "display_data"
    },
    {
     "name": "stdout",
     "output_type": "stream",
     "text": [
      "Quality great, repetition 99/100\n",
      "Using best quality great\n",
      "Saved to batch_second/very high_40.txt\n",
      "Saved to batch_second/very high_40.obj\n",
      "Saved to batch_second/very high_40_fixed.txt\n",
      "Saved to batch_second/very high_40_fixed.obj\n",
      "Fibre volume fraction: 50\n",
      "Using device mps\n"
     ]
    },
    {
     "data": {
      "application/vnd.jupyter.widget-view+json": {
       "model_id": "56de7646ebc94c02805827cb30b4bc2f",
       "version_major": 2,
       "version_minor": 0
      },
      "text/plain": [
       "                                                                                                              …"
      ]
     },
     "metadata": {},
     "output_type": "display_data"
    },
    {
     "name": "stdout",
     "output_type": "stream",
     "text": [
      "Quality great, repetition 0/10\n"
     ]
    },
    {
     "data": {
      "application/vnd.jupyter.widget-view+json": {
       "model_id": "8b7774ecf9ca4a27beab2d5e4d418a89",
       "version_major": 2,
       "version_minor": 0
      },
      "text/plain": [
       "                                                                                                              …"
      ]
     },
     "metadata": {},
     "output_type": "display_data"
    },
    {
     "name": "stdout",
     "output_type": "stream",
     "text": [
      "Quality great, repetition 1/10\n"
     ]
    },
    {
     "data": {
      "application/vnd.jupyter.widget-view+json": {
       "model_id": "751d7c886e7c4b3b9153d258a42aa4cd",
       "version_major": 2,
       "version_minor": 0
      },
      "text/plain": [
       "                                                                                                              …"
      ]
     },
     "metadata": {},
     "output_type": "display_data"
    },
    {
     "name": "stdout",
     "output_type": "stream",
     "text": [
      "Quality perfect, repetition 2/10\n",
      "Misalignment: very low\n"
     ]
    },
    {
     "data": {
      "application/vnd.jupyter.widget-view+json": {
       "model_id": "cc9234891bf1460eba998ac54699c364",
       "version_major": 2,
       "version_minor": 0
      },
      "text/plain": [
       "                                                                                                              …"
      ]
     },
     "metadata": {},
     "output_type": "display_data"
    },
    {
     "name": "stdout",
     "output_type": "stream",
     "text": [
      "Quality perfect, repetition 0/10\n"
     ]
    },
    {
     "data": {
      "application/vnd.jupyter.widget-view+json": {
       "model_id": "dd1314547ef24c56b5313b1767a0e352",
       "version_major": 2,
       "version_minor": 0
      },
      "text/plain": [
       "                                                                                                              …"
      ]
     },
     "metadata": {},
     "output_type": "display_data"
    },
    {
     "name": "stdout",
     "output_type": "stream",
     "text": [
      "Quality great, repetition 0/100\n"
     ]
    },
    {
     "data": {
      "application/vnd.jupyter.widget-view+json": {
       "model_id": "8add7855be964017858aef515b01c770",
       "version_major": 2,
       "version_minor": 0
      },
      "text/plain": [
       "                                                                                                              …"
      ]
     },
     "metadata": {},
     "output_type": "display_data"
    },
    {
     "name": "stdout",
     "output_type": "stream",
     "text": [
      "Quality perfect, repetition 1/100\n",
      "Saved to batch_second/very low_50.txt\n",
      "Saved to batch_second/very low_50.obj\n",
      "Saved to batch_second/very low_50_fixed.txt\n",
      "Saved to batch_second/very low_50_fixed.obj\n",
      "Misalignment: low\n"
     ]
    },
    {
     "data": {
      "application/vnd.jupyter.widget-view+json": {
       "model_id": "3bbffadeceac41c2baf18c9ff6c9fd19",
       "version_major": 2,
       "version_minor": 0
      },
      "text/plain": [
       "                                                                                                              …"
      ]
     },
     "metadata": {},
     "output_type": "display_data"
    },
    {
     "name": "stdout",
     "output_type": "stream",
     "text": [
      "Quality great, repetition 0/10\n"
     ]
    },
    {
     "data": {
      "application/vnd.jupyter.widget-view+json": {
       "model_id": "fd6751d766014265805d2336731058a0",
       "version_major": 2,
       "version_minor": 0
      },
      "text/plain": [
       "                                                                                                              …"
      ]
     },
     "metadata": {},
     "output_type": "display_data"
    },
    {
     "name": "stdout",
     "output_type": "stream",
     "text": [
      "Quality perfect, repetition 1/10\n"
     ]
    },
    {
     "data": {
      "application/vnd.jupyter.widget-view+json": {
       "model_id": "b9422b4dc7d64457b44ae2a2c48a41c2",
       "version_major": 2,
       "version_minor": 0
      },
      "text/plain": [
       "                                                                                                              …"
      ]
     },
     "metadata": {},
     "output_type": "display_data"
    },
    {
     "name": "stdout",
     "output_type": "stream",
     "text": [
      "Quality bad, repetition 0/100\n"
     ]
    },
    {
     "data": {
      "application/vnd.jupyter.widget-view+json": {
       "model_id": "53163e5ca09b427eb5e3b090aff1adab",
       "version_major": 2,
       "version_minor": 0
      },
      "text/plain": [
       "                                                                                                              …"
      ]
     },
     "metadata": {},
     "output_type": "display_data"
    },
    {
     "name": "stdout",
     "output_type": "stream",
     "text": [
      "Quality great, repetition 1/100\n"
     ]
    },
    {
     "data": {
      "application/vnd.jupyter.widget-view+json": {
       "model_id": "460caa2655ff46f3b31dcf222e911a59",
       "version_major": 2,
       "version_minor": 0
      },
      "text/plain": [
       "                                                                                                              …"
      ]
     },
     "metadata": {},
     "output_type": "display_data"
    },
    {
     "name": "stdout",
     "output_type": "stream",
     "text": [
      "Quality great, repetition 2/100\n"
     ]
    },
    {
     "data": {
      "application/vnd.jupyter.widget-view+json": {
       "model_id": "9eaf2d72ce9c478ea879220053245a1d",
       "version_major": 2,
       "version_minor": 0
      },
      "text/plain": [
       "                                                                                                              …"
      ]
     },
     "metadata": {},
     "output_type": "display_data"
    },
    {
     "name": "stdout",
     "output_type": "stream",
     "text": [
      "Quality perfect, repetition 3/100\n",
      "Saved to batch_second/low_50.txt\n",
      "Saved to batch_second/low_50.obj\n",
      "Saved to batch_second/low_50_fixed.txt\n",
      "Saved to batch_second/low_50_fixed.obj\n",
      "Misalignment: moderate\n"
     ]
    },
    {
     "data": {
      "application/vnd.jupyter.widget-view+json": {
       "model_id": "586ad1edd65b46cabb985ca6eb5c967b",
       "version_major": 2,
       "version_minor": 0
      },
      "text/plain": [
       "                                                                                                              …"
      ]
     },
     "metadata": {},
     "output_type": "display_data"
    },
    {
     "name": "stdout",
     "output_type": "stream",
     "text": [
      "Quality great, repetition 0/10\n"
     ]
    },
    {
     "data": {
      "application/vnd.jupyter.widget-view+json": {
       "model_id": "42ac6a3a3e8148c098f2e4fa799bff47",
       "version_major": 2,
       "version_minor": 0
      },
      "text/plain": [
       "                                                                                                              …"
      ]
     },
     "metadata": {},
     "output_type": "display_data"
    },
    {
     "name": "stdout",
     "output_type": "stream",
     "text": [
      "Quality perfect, repetition 1/10\n"
     ]
    },
    {
     "data": {
      "application/vnd.jupyter.widget-view+json": {
       "model_id": "c225a5f74ece46aca013dc4f36a1c052",
       "version_major": 2,
       "version_minor": 0
      },
      "text/plain": [
       "                                                                                                              …"
      ]
     },
     "metadata": {},
     "output_type": "display_data"
    },
    {
     "name": "stdout",
     "output_type": "stream",
     "text": [
      "Quality bad, repetition 0/100\n"
     ]
    },
    {
     "data": {
      "application/vnd.jupyter.widget-view+json": {
       "model_id": "bc52578237cd4073af42247c8e3484d4",
       "version_major": 2,
       "version_minor": 0
      },
      "text/plain": [
       "                                                                                                              …"
      ]
     },
     "metadata": {},
     "output_type": "display_data"
    },
    {
     "name": "stdout",
     "output_type": "stream",
     "text": [
      "Quality great, repetition 1/100\n"
     ]
    },
    {
     "data": {
      "application/vnd.jupyter.widget-view+json": {
       "model_id": "eeeb7dd0c8b042eaab30d010d060358c",
       "version_major": 2,
       "version_minor": 0
      },
      "text/plain": [
       "                                                                                                              …"
      ]
     },
     "metadata": {},
     "output_type": "display_data"
    },
    {
     "name": "stdout",
     "output_type": "stream",
     "text": [
      "Quality great, repetition 2/100\n"
     ]
    },
    {
     "data": {
      "application/vnd.jupyter.widget-view+json": {
       "model_id": "3695df8baab74487a4f8d91ad59373e4",
       "version_major": 2,
       "version_minor": 0
      },
      "text/plain": [
       "                                                                                                              …"
      ]
     },
     "metadata": {},
     "output_type": "display_data"
    },
    {
     "name": "stdout",
     "output_type": "stream",
     "text": [
      "Quality great, repetition 3/100\n"
     ]
    },
    {
     "data": {
      "application/vnd.jupyter.widget-view+json": {
       "model_id": "6ce3c8a917ae452caf6ef35c9b6944af",
       "version_major": 2,
       "version_minor": 0
      },
      "text/plain": [
       "                                                                                                              …"
      ]
     },
     "metadata": {},
     "output_type": "display_data"
    },
    {
     "name": "stdout",
     "output_type": "stream",
     "text": [
      "Quality great, repetition 4/100\n"
     ]
    },
    {
     "data": {
      "application/vnd.jupyter.widget-view+json": {
       "model_id": "286cd77bb57940908cf3ef582d980f5d",
       "version_major": 2,
       "version_minor": 0
      },
      "text/plain": [
       "                                                                                                              …"
      ]
     },
     "metadata": {},
     "output_type": "display_data"
    },
    {
     "name": "stdout",
     "output_type": "stream",
     "text": [
      "Quality great, repetition 5/100\n"
     ]
    },
    {
     "data": {
      "application/vnd.jupyter.widget-view+json": {
       "model_id": "09cb34875c2a480ead27add9aa49ed38",
       "version_major": 2,
       "version_minor": 0
      },
      "text/plain": [
       "                                                                                                              …"
      ]
     },
     "metadata": {},
     "output_type": "display_data"
    },
    {
     "name": "stdout",
     "output_type": "stream",
     "text": [
      "Quality great, repetition 6/100\n"
     ]
    },
    {
     "data": {
      "application/vnd.jupyter.widget-view+json": {
       "model_id": "91965c6129af48fb87171493009af72b",
       "version_major": 2,
       "version_minor": 0
      },
      "text/plain": [
       "                                                                                                              …"
      ]
     },
     "metadata": {},
     "output_type": "display_data"
    },
    {
     "name": "stdout",
     "output_type": "stream",
     "text": [
      "Quality great, repetition 7/100\n"
     ]
    },
    {
     "data": {
      "application/vnd.jupyter.widget-view+json": {
       "model_id": "2c71c0b89c3b49d9bf825a9bd3225d4a",
       "version_major": 2,
       "version_minor": 0
      },
      "text/plain": [
       "                                                                                                              …"
      ]
     },
     "metadata": {},
     "output_type": "display_data"
    },
    {
     "name": "stdout",
     "output_type": "stream",
     "text": [
      "Quality perfect, repetition 8/100\n",
      "Saved to batch_second/moderate_50.txt\n",
      "Saved to batch_second/moderate_50.obj\n",
      "Saved to batch_second/moderate_50_fixed.txt\n",
      "Saved to batch_second/moderate_50_fixed.obj\n",
      "Misalignment: high\n"
     ]
    },
    {
     "data": {
      "application/vnd.jupyter.widget-view+json": {
       "model_id": "c229a9388362490d8755df40615b3b41",
       "version_major": 2,
       "version_minor": 0
      },
      "text/plain": [
       "                                                                                                              …"
      ]
     },
     "metadata": {},
     "output_type": "display_data"
    },
    {
     "name": "stdout",
     "output_type": "stream",
     "text": [
      "Quality bad, repetition 0/10\n"
     ]
    },
    {
     "data": {
      "application/vnd.jupyter.widget-view+json": {
       "model_id": "d94fc8f6829a4639a5c9c14f492c7471",
       "version_major": 2,
       "version_minor": 0
      },
      "text/plain": [
       "                                                                                                              …"
      ]
     },
     "metadata": {},
     "output_type": "display_data"
    },
    {
     "name": "stdout",
     "output_type": "stream",
     "text": [
      "Quality great, repetition 1/10\n"
     ]
    },
    {
     "data": {
      "application/vnd.jupyter.widget-view+json": {
       "model_id": "f4994f1abd9c4da6b732a3c2dabf3600",
       "version_major": 2,
       "version_minor": 0
      },
      "text/plain": [
       "                                                                                                              …"
      ]
     },
     "metadata": {},
     "output_type": "display_data"
    },
    {
     "name": "stdout",
     "output_type": "stream",
     "text": [
      "Quality perfect, repetition 2/10\n"
     ]
    },
    {
     "data": {
      "application/vnd.jupyter.widget-view+json": {
       "model_id": "995f95fecd154485b71a0343ea803f9c",
       "version_major": 2,
       "version_minor": 0
      },
      "text/plain": [
       "                                                                                                              …"
      ]
     },
     "metadata": {},
     "output_type": "display_data"
    },
    {
     "name": "stdout",
     "output_type": "stream",
     "text": [
      "Quality bad, repetition 0/100\n"
     ]
    },
    {
     "data": {
      "application/vnd.jupyter.widget-view+json": {
       "model_id": "9cec46b1333041f3bca255c5a05f5e7b",
       "version_major": 2,
       "version_minor": 0
      },
      "text/plain": [
       "                                                                                                              …"
      ]
     },
     "metadata": {},
     "output_type": "display_data"
    },
    {
     "name": "stdout",
     "output_type": "stream",
     "text": [
      "Quality great, repetition 1/100\n"
     ]
    },
    {
     "data": {
      "application/vnd.jupyter.widget-view+json": {
       "model_id": "339fae94c11e4ab294eac00790e667af",
       "version_major": 2,
       "version_minor": 0
      },
      "text/plain": [
       "                                                                                                              …"
      ]
     },
     "metadata": {},
     "output_type": "display_data"
    },
    {
     "name": "stdout",
     "output_type": "stream",
     "text": [
      "Quality great, repetition 2/100\n"
     ]
    },
    {
     "data": {
      "application/vnd.jupyter.widget-view+json": {
       "model_id": "8a8ad900b8fc467d8893b670df11b834",
       "version_major": 2,
       "version_minor": 0
      },
      "text/plain": [
       "                                                                                                              …"
      ]
     },
     "metadata": {},
     "output_type": "display_data"
    },
    {
     "name": "stdout",
     "output_type": "stream",
     "text": [
      "Quality great, repetition 3/100\n"
     ]
    },
    {
     "data": {
      "application/vnd.jupyter.widget-view+json": {
       "model_id": "6c43c167351c4ebbb11603a85bddfdae",
       "version_major": 2,
       "version_minor": 0
      },
      "text/plain": [
       "                                                                                                              …"
      ]
     },
     "metadata": {},
     "output_type": "display_data"
    },
    {
     "name": "stdout",
     "output_type": "stream",
     "text": [
      "Quality great, repetition 4/100\n"
     ]
    },
    {
     "data": {
      "application/vnd.jupyter.widget-view+json": {
       "model_id": "532438aef79c49c49be7bbd2863d564d",
       "version_major": 2,
       "version_minor": 0
      },
      "text/plain": [
       "                                                                                                              …"
      ]
     },
     "metadata": {},
     "output_type": "display_data"
    },
    {
     "name": "stdout",
     "output_type": "stream",
     "text": [
      "Quality great, repetition 5/100\n"
     ]
    },
    {
     "data": {
      "application/vnd.jupyter.widget-view+json": {
       "model_id": "91ce4b1944444511a7a7094a251215f1",
       "version_major": 2,
       "version_minor": 0
      },
      "text/plain": [
       "                                                                                                              …"
      ]
     },
     "metadata": {},
     "output_type": "display_data"
    },
    {
     "name": "stdout",
     "output_type": "stream",
     "text": [
      "Quality great, repetition 6/100\n"
     ]
    },
    {
     "data": {
      "application/vnd.jupyter.widget-view+json": {
       "model_id": "9f9d051e8c5d47ab9fb5b4adeea03e85",
       "version_major": 2,
       "version_minor": 0
      },
      "text/plain": [
       "                                                                                                              …"
      ]
     },
     "metadata": {},
     "output_type": "display_data"
    },
    {
     "name": "stdout",
     "output_type": "stream",
     "text": [
      "Quality great, repetition 7/100\n"
     ]
    },
    {
     "data": {
      "application/vnd.jupyter.widget-view+json": {
       "model_id": "110669dbb42e42e9abf717cb592b6936",
       "version_major": 2,
       "version_minor": 0
      },
      "text/plain": [
       "                                                                                                              …"
      ]
     },
     "metadata": {},
     "output_type": "display_data"
    },
    {
     "name": "stdout",
     "output_type": "stream",
     "text": [
      "Quality great, repetition 8/100\n"
     ]
    },
    {
     "data": {
      "application/vnd.jupyter.widget-view+json": {
       "model_id": "1a7d21fa864d462899a8c6b12322a711",
       "version_major": 2,
       "version_minor": 0
      },
      "text/plain": [
       "                                                                                                              …"
      ]
     },
     "metadata": {},
     "output_type": "display_data"
    },
    {
     "name": "stdout",
     "output_type": "stream",
     "text": [
      "Quality great, repetition 9/100\n"
     ]
    },
    {
     "data": {
      "application/vnd.jupyter.widget-view+json": {
       "model_id": "bbbebb9d478e42b89d6bbf088d873eed",
       "version_major": 2,
       "version_minor": 0
      },
      "text/plain": [
       "                                                                                                              …"
      ]
     },
     "metadata": {},
     "output_type": "display_data"
    },
    {
     "name": "stdout",
     "output_type": "stream",
     "text": [
      "Quality great, repetition 10/100\n"
     ]
    },
    {
     "data": {
      "application/vnd.jupyter.widget-view+json": {
       "model_id": "e223aba68e2545d08ba6048714efd6da",
       "version_major": 2,
       "version_minor": 0
      },
      "text/plain": [
       "                                                                                                              …"
      ]
     },
     "metadata": {},
     "output_type": "display_data"
    },
    {
     "name": "stdout",
     "output_type": "stream",
     "text": [
      "Quality great, repetition 11/100\n"
     ]
    },
    {
     "data": {
      "application/vnd.jupyter.widget-view+json": {
       "model_id": "4fbb74f046a84b57ae87abfb9debfd91",
       "version_major": 2,
       "version_minor": 0
      },
      "text/plain": [
       "                                                                                                              …"
      ]
     },
     "metadata": {},
     "output_type": "display_data"
    },
    {
     "name": "stdout",
     "output_type": "stream",
     "text": [
      "Quality great, repetition 12/100\n"
     ]
    },
    {
     "data": {
      "application/vnd.jupyter.widget-view+json": {
       "model_id": "dc8339e94eea4cdf9e5c1f2cd2963c3d",
       "version_major": 2,
       "version_minor": 0
      },
      "text/plain": [
       "                                                                                                              …"
      ]
     },
     "metadata": {},
     "output_type": "display_data"
    },
    {
     "name": "stdout",
     "output_type": "stream",
     "text": [
      "Quality great, repetition 13/100\n"
     ]
    },
    {
     "data": {
      "application/vnd.jupyter.widget-view+json": {
       "model_id": "0c38ff29bc564d80adbbef1271885b17",
       "version_major": 2,
       "version_minor": 0
      },
      "text/plain": [
       "                                                                                                              …"
      ]
     },
     "metadata": {},
     "output_type": "display_data"
    },
    {
     "name": "stdout",
     "output_type": "stream",
     "text": [
      "Quality great, repetition 14/100\n"
     ]
    },
    {
     "data": {
      "application/vnd.jupyter.widget-view+json": {
       "model_id": "9dbde1a09c0c447687fb31b743d021a2",
       "version_major": 2,
       "version_minor": 0
      },
      "text/plain": [
       "                                                                                                              …"
      ]
     },
     "metadata": {},
     "output_type": "display_data"
    },
    {
     "name": "stdout",
     "output_type": "stream",
     "text": [
      "Quality great, repetition 15/100\n"
     ]
    },
    {
     "data": {
      "application/vnd.jupyter.widget-view+json": {
       "model_id": "cf38d3c67dd84474bcf28e2552fbe011",
       "version_major": 2,
       "version_minor": 0
      },
      "text/plain": [
       "                                                                                                              …"
      ]
     },
     "metadata": {},
     "output_type": "display_data"
    },
    {
     "name": "stdout",
     "output_type": "stream",
     "text": [
      "Quality great, repetition 16/100\n"
     ]
    },
    {
     "data": {
      "application/vnd.jupyter.widget-view+json": {
       "model_id": "fdf18db337ea47efa356a855fe40026e",
       "version_major": 2,
       "version_minor": 0
      },
      "text/plain": [
       "                                                                                                              …"
      ]
     },
     "metadata": {},
     "output_type": "display_data"
    },
    {
     "name": "stdout",
     "output_type": "stream",
     "text": [
      "Quality great, repetition 17/100\n"
     ]
    },
    {
     "data": {
      "application/vnd.jupyter.widget-view+json": {
       "model_id": "0aff81f12de84ae0907a1286a993da29",
       "version_major": 2,
       "version_minor": 0
      },
      "text/plain": [
       "                                                                                                              …"
      ]
     },
     "metadata": {},
     "output_type": "display_data"
    },
    {
     "name": "stdout",
     "output_type": "stream",
     "text": [
      "Quality great, repetition 18/100\n"
     ]
    },
    {
     "data": {
      "application/vnd.jupyter.widget-view+json": {
       "model_id": "f8f8523cff2c40a58f403bc030a5872a",
       "version_major": 2,
       "version_minor": 0
      },
      "text/plain": [
       "                                                                                                              …"
      ]
     },
     "metadata": {},
     "output_type": "display_data"
    },
    {
     "name": "stdout",
     "output_type": "stream",
     "text": [
      "Quality great, repetition 19/100\n"
     ]
    },
    {
     "data": {
      "application/vnd.jupyter.widget-view+json": {
       "model_id": "c8fd2dd3b1f4428f98ce25e678b870b8",
       "version_major": 2,
       "version_minor": 0
      },
      "text/plain": [
       "                                                                                                              …"
      ]
     },
     "metadata": {},
     "output_type": "display_data"
    },
    {
     "name": "stdout",
     "output_type": "stream",
     "text": [
      "Quality great, repetition 20/100\n"
     ]
    },
    {
     "data": {
      "application/vnd.jupyter.widget-view+json": {
       "model_id": "991422c9ead4424891a187ae3c6895df",
       "version_major": 2,
       "version_minor": 0
      },
      "text/plain": [
       "                                                                                                              …"
      ]
     },
     "metadata": {},
     "output_type": "display_data"
    },
    {
     "name": "stdout",
     "output_type": "stream",
     "text": [
      "Quality great, repetition 21/100\n"
     ]
    },
    {
     "data": {
      "application/vnd.jupyter.widget-view+json": {
       "model_id": "3940d15cbb054f3a87fb046e2dd2bba1",
       "version_major": 2,
       "version_minor": 0
      },
      "text/plain": [
       "                                                                                                              …"
      ]
     },
     "metadata": {},
     "output_type": "display_data"
    },
    {
     "name": "stdout",
     "output_type": "stream",
     "text": [
      "Quality great, repetition 22/100\n"
     ]
    },
    {
     "data": {
      "application/vnd.jupyter.widget-view+json": {
       "model_id": "e4b5935573844562a05f7c1267bb6ac3",
       "version_major": 2,
       "version_minor": 0
      },
      "text/plain": [
       "                                                                                                              …"
      ]
     },
     "metadata": {},
     "output_type": "display_data"
    },
    {
     "name": "stdout",
     "output_type": "stream",
     "text": [
      "Quality great, repetition 23/100\n"
     ]
    },
    {
     "data": {
      "application/vnd.jupyter.widget-view+json": {
       "model_id": "d9d1fd9b7931421a84e670ae83baf89e",
       "version_major": 2,
       "version_minor": 0
      },
      "text/plain": [
       "                                                                                                              …"
      ]
     },
     "metadata": {},
     "output_type": "display_data"
    },
    {
     "name": "stdout",
     "output_type": "stream",
     "text": [
      "Quality great, repetition 24/100\n"
     ]
    },
    {
     "data": {
      "application/vnd.jupyter.widget-view+json": {
       "model_id": "e1838cce71284cf586decae64d5e342b",
       "version_major": 2,
       "version_minor": 0
      },
      "text/plain": [
       "                                                                                                              …"
      ]
     },
     "metadata": {},
     "output_type": "display_data"
    },
    {
     "name": "stdout",
     "output_type": "stream",
     "text": [
      "Quality great, repetition 25/100\n"
     ]
    },
    {
     "data": {
      "application/vnd.jupyter.widget-view+json": {
       "model_id": "8d8fa5b099734cfd9541c34b080d57d9",
       "version_major": 2,
       "version_minor": 0
      },
      "text/plain": [
       "                                                                                                              …"
      ]
     },
     "metadata": {},
     "output_type": "display_data"
    },
    {
     "name": "stdout",
     "output_type": "stream",
     "text": [
      "Quality great, repetition 26/100\n"
     ]
    },
    {
     "data": {
      "application/vnd.jupyter.widget-view+json": {
       "model_id": "49d4e1a587514a2a987322da2cba15e5",
       "version_major": 2,
       "version_minor": 0
      },
      "text/plain": [
       "                                                                                                              …"
      ]
     },
     "metadata": {},
     "output_type": "display_data"
    },
    {
     "name": "stdout",
     "output_type": "stream",
     "text": [
      "Quality great, repetition 27/100\n"
     ]
    },
    {
     "data": {
      "application/vnd.jupyter.widget-view+json": {
       "model_id": "323dee844f3c48ae83f988c1394a7f20",
       "version_major": 2,
       "version_minor": 0
      },
      "text/plain": [
       "                                                                                                              …"
      ]
     },
     "metadata": {},
     "output_type": "display_data"
    },
    {
     "name": "stdout",
     "output_type": "stream",
     "text": [
      "Quality great, repetition 28/100\n"
     ]
    },
    {
     "data": {
      "application/vnd.jupyter.widget-view+json": {
       "model_id": "b4b54bfbe43e4fcba73125ed09553db5",
       "version_major": 2,
       "version_minor": 0
      },
      "text/plain": [
       "                                                                                                              …"
      ]
     },
     "metadata": {},
     "output_type": "display_data"
    },
    {
     "name": "stdout",
     "output_type": "stream",
     "text": [
      "Quality great, repetition 29/100\n"
     ]
    },
    {
     "data": {
      "application/vnd.jupyter.widget-view+json": {
       "model_id": "bad083a6515841ddac3cf1289addb182",
       "version_major": 2,
       "version_minor": 0
      },
      "text/plain": [
       "                                                                                                              …"
      ]
     },
     "metadata": {},
     "output_type": "display_data"
    },
    {
     "name": "stdout",
     "output_type": "stream",
     "text": [
      "Quality great, repetition 30/100\n"
     ]
    },
    {
     "data": {
      "application/vnd.jupyter.widget-view+json": {
       "model_id": "a2a28607b8f7402fa99841b3864934fe",
       "version_major": 2,
       "version_minor": 0
      },
      "text/plain": [
       "                                                                                                              …"
      ]
     },
     "metadata": {},
     "output_type": "display_data"
    },
    {
     "name": "stdout",
     "output_type": "stream",
     "text": [
      "Quality great, repetition 31/100\n"
     ]
    },
    {
     "data": {
      "application/vnd.jupyter.widget-view+json": {
       "model_id": "2485a73e62ba4c70b9f045588d6c4ba7",
       "version_major": 2,
       "version_minor": 0
      },
      "text/plain": [
       "                                                                                                              …"
      ]
     },
     "metadata": {},
     "output_type": "display_data"
    },
    {
     "name": "stdout",
     "output_type": "stream",
     "text": [
      "Quality great, repetition 32/100\n"
     ]
    },
    {
     "data": {
      "application/vnd.jupyter.widget-view+json": {
       "model_id": "3c136d967d524941b5aba390e4deaa71",
       "version_major": 2,
       "version_minor": 0
      },
      "text/plain": [
       "                                                                                                              …"
      ]
     },
     "metadata": {},
     "output_type": "display_data"
    },
    {
     "name": "stdout",
     "output_type": "stream",
     "text": [
      "Quality great, repetition 33/100\n"
     ]
    },
    {
     "data": {
      "application/vnd.jupyter.widget-view+json": {
       "model_id": "6b69c933ff074c74ac468b2c8eeb8df7",
       "version_major": 2,
       "version_minor": 0
      },
      "text/plain": [
       "                                                                                                              …"
      ]
     },
     "metadata": {},
     "output_type": "display_data"
    },
    {
     "name": "stdout",
     "output_type": "stream",
     "text": [
      "Quality great, repetition 34/100\n"
     ]
    },
    {
     "data": {
      "application/vnd.jupyter.widget-view+json": {
       "model_id": "94739773db7f4052a5551808f0996af1",
       "version_major": 2,
       "version_minor": 0
      },
      "text/plain": [
       "                                                                                                              …"
      ]
     },
     "metadata": {},
     "output_type": "display_data"
    },
    {
     "name": "stdout",
     "output_type": "stream",
     "text": [
      "Quality great, repetition 35/100\n"
     ]
    },
    {
     "data": {
      "application/vnd.jupyter.widget-view+json": {
       "model_id": "c78c9d2ab80049a59c5535a11ccdf0eb",
       "version_major": 2,
       "version_minor": 0
      },
      "text/plain": [
       "                                                                                                              …"
      ]
     },
     "metadata": {},
     "output_type": "display_data"
    },
    {
     "name": "stdout",
     "output_type": "stream",
     "text": [
      "Quality great, repetition 36/100\n"
     ]
    },
    {
     "data": {
      "application/vnd.jupyter.widget-view+json": {
       "model_id": "4d1ccdaf0338461ebcbd54d1716ff276",
       "version_major": 2,
       "version_minor": 0
      },
      "text/plain": [
       "                                                                                                              …"
      ]
     },
     "metadata": {},
     "output_type": "display_data"
    },
    {
     "name": "stdout",
     "output_type": "stream",
     "text": [
      "Quality great, repetition 37/100\n"
     ]
    },
    {
     "data": {
      "application/vnd.jupyter.widget-view+json": {
       "model_id": "9e8d65117488424791a65b966643e1ed",
       "version_major": 2,
       "version_minor": 0
      },
      "text/plain": [
       "                                                                                                              …"
      ]
     },
     "metadata": {},
     "output_type": "display_data"
    },
    {
     "name": "stdout",
     "output_type": "stream",
     "text": [
      "Quality great, repetition 38/100\n"
     ]
    },
    {
     "data": {
      "application/vnd.jupyter.widget-view+json": {
       "model_id": "df56c27a276a4cec87f11a0858d662a7",
       "version_major": 2,
       "version_minor": 0
      },
      "text/plain": [
       "                                                                                                              …"
      ]
     },
     "metadata": {},
     "output_type": "display_data"
    },
    {
     "name": "stdout",
     "output_type": "stream",
     "text": [
      "Quality great, repetition 39/100\n"
     ]
    },
    {
     "data": {
      "application/vnd.jupyter.widget-view+json": {
       "model_id": "2bfde5470e9948258570cd48ed621f81",
       "version_major": 2,
       "version_minor": 0
      },
      "text/plain": [
       "                                                                                                              …"
      ]
     },
     "metadata": {},
     "output_type": "display_data"
    },
    {
     "name": "stdout",
     "output_type": "stream",
     "text": [
      "Quality great, repetition 40/100\n"
     ]
    },
    {
     "data": {
      "application/vnd.jupyter.widget-view+json": {
       "model_id": "250d563d06794a14998786bccade0a2e",
       "version_major": 2,
       "version_minor": 0
      },
      "text/plain": [
       "                                                                                                              …"
      ]
     },
     "metadata": {},
     "output_type": "display_data"
    },
    {
     "name": "stdout",
     "output_type": "stream",
     "text": [
      "Quality great, repetition 41/100\n"
     ]
    },
    {
     "data": {
      "application/vnd.jupyter.widget-view+json": {
       "model_id": "71b67e4bca214e73a643dc17386ef526",
       "version_major": 2,
       "version_minor": 0
      },
      "text/plain": [
       "                                                                                                              …"
      ]
     },
     "metadata": {},
     "output_type": "display_data"
    },
    {
     "name": "stdout",
     "output_type": "stream",
     "text": [
      "Quality great, repetition 42/100\n"
     ]
    },
    {
     "data": {
      "application/vnd.jupyter.widget-view+json": {
       "model_id": "99d3e22143824689a6de2d4f6b1cdca5",
       "version_major": 2,
       "version_minor": 0
      },
      "text/plain": [
       "                                                                                                              …"
      ]
     },
     "metadata": {},
     "output_type": "display_data"
    },
    {
     "name": "stdout",
     "output_type": "stream",
     "text": [
      "Quality great, repetition 43/100\n"
     ]
    },
    {
     "data": {
      "application/vnd.jupyter.widget-view+json": {
       "model_id": "436a67b809a646f38431231abf41a029",
       "version_major": 2,
       "version_minor": 0
      },
      "text/plain": [
       "                                                                                                              …"
      ]
     },
     "metadata": {},
     "output_type": "display_data"
    },
    {
     "name": "stdout",
     "output_type": "stream",
     "text": [
      "Quality great, repetition 44/100\n"
     ]
    },
    {
     "data": {
      "application/vnd.jupyter.widget-view+json": {
       "model_id": "67d7f06c7d68407982e235a5b910bee2",
       "version_major": 2,
       "version_minor": 0
      },
      "text/plain": [
       "                                                                                                              …"
      ]
     },
     "metadata": {},
     "output_type": "display_data"
    },
    {
     "name": "stdout",
     "output_type": "stream",
     "text": [
      "Quality great, repetition 45/100\n"
     ]
    },
    {
     "data": {
      "application/vnd.jupyter.widget-view+json": {
       "model_id": "41bc2fe116c0494a84327a77f1e8818f",
       "version_major": 2,
       "version_minor": 0
      },
      "text/plain": [
       "                                                                                                              …"
      ]
     },
     "metadata": {},
     "output_type": "display_data"
    },
    {
     "name": "stdout",
     "output_type": "stream",
     "text": [
      "Quality great, repetition 46/100\n"
     ]
    },
    {
     "data": {
      "application/vnd.jupyter.widget-view+json": {
       "model_id": "aefe5344cd394fc7b3872b4be9f109e6",
       "version_major": 2,
       "version_minor": 0
      },
      "text/plain": [
       "                                                                                                              …"
      ]
     },
     "metadata": {},
     "output_type": "display_data"
    },
    {
     "name": "stdout",
     "output_type": "stream",
     "text": [
      "Quality great, repetition 47/100\n"
     ]
    },
    {
     "data": {
      "application/vnd.jupyter.widget-view+json": {
       "model_id": "da9b02af52c947d39c78c799b53fb0f2",
       "version_major": 2,
       "version_minor": 0
      },
      "text/plain": [
       "                                                                                                              …"
      ]
     },
     "metadata": {},
     "output_type": "display_data"
    },
    {
     "name": "stdout",
     "output_type": "stream",
     "text": [
      "Quality great, repetition 48/100\n"
     ]
    },
    {
     "data": {
      "application/vnd.jupyter.widget-view+json": {
       "model_id": "95ffb3cf1a554229a521bfa354b0517c",
       "version_major": 2,
       "version_minor": 0
      },
      "text/plain": [
       "                                                                                                              …"
      ]
     },
     "metadata": {},
     "output_type": "display_data"
    },
    {
     "name": "stdout",
     "output_type": "stream",
     "text": [
      "Quality great, repetition 49/100\n"
     ]
    },
    {
     "data": {
      "application/vnd.jupyter.widget-view+json": {
       "model_id": "e4cf04598e67450ba3d1bc2e657037b5",
       "version_major": 2,
       "version_minor": 0
      },
      "text/plain": [
       "                                                                                                              …"
      ]
     },
     "metadata": {},
     "output_type": "display_data"
    },
    {
     "name": "stdout",
     "output_type": "stream",
     "text": [
      "Quality great, repetition 50/100\n"
     ]
    },
    {
     "data": {
      "application/vnd.jupyter.widget-view+json": {
       "model_id": "cf4c3e20da1e4a88a4a4d7b48f20a3b0",
       "version_major": 2,
       "version_minor": 0
      },
      "text/plain": [
       "                                                                                                              …"
      ]
     },
     "metadata": {},
     "output_type": "display_data"
    },
    {
     "name": "stdout",
     "output_type": "stream",
     "text": [
      "Quality great, repetition 51/100\n"
     ]
    },
    {
     "data": {
      "application/vnd.jupyter.widget-view+json": {
       "model_id": "3844d6ffa59a49aea942ae65d6317ec5",
       "version_major": 2,
       "version_minor": 0
      },
      "text/plain": [
       "                                                                                                              …"
      ]
     },
     "metadata": {},
     "output_type": "display_data"
    },
    {
     "name": "stdout",
     "output_type": "stream",
     "text": [
      "Quality great, repetition 52/100\n"
     ]
    },
    {
     "data": {
      "application/vnd.jupyter.widget-view+json": {
       "model_id": "705cc9541b2b47a9b08230507b738539",
       "version_major": 2,
       "version_minor": 0
      },
      "text/plain": [
       "                                                                                                              …"
      ]
     },
     "metadata": {},
     "output_type": "display_data"
    },
    {
     "name": "stdout",
     "output_type": "stream",
     "text": [
      "Quality great, repetition 53/100\n"
     ]
    },
    {
     "data": {
      "application/vnd.jupyter.widget-view+json": {
       "model_id": "afed876b47934d1f8c2434b713182422",
       "version_major": 2,
       "version_minor": 0
      },
      "text/plain": [
       "                                                                                                              …"
      ]
     },
     "metadata": {},
     "output_type": "display_data"
    },
    {
     "name": "stdout",
     "output_type": "stream",
     "text": [
      "Quality great, repetition 54/100\n"
     ]
    },
    {
     "data": {
      "application/vnd.jupyter.widget-view+json": {
       "model_id": "612428a1ef20470d9987e35227effa54",
       "version_major": 2,
       "version_minor": 0
      },
      "text/plain": [
       "                                                                                                              …"
      ]
     },
     "metadata": {},
     "output_type": "display_data"
    },
    {
     "name": "stdout",
     "output_type": "stream",
     "text": [
      "Quality great, repetition 55/100\n"
     ]
    },
    {
     "data": {
      "application/vnd.jupyter.widget-view+json": {
       "model_id": "78ebbfd6585c4b8e816bb37f1d2e1d75",
       "version_major": 2,
       "version_minor": 0
      },
      "text/plain": [
       "                                                                                                              …"
      ]
     },
     "metadata": {},
     "output_type": "display_data"
    },
    {
     "name": "stdout",
     "output_type": "stream",
     "text": [
      "Quality great, repetition 56/100\n"
     ]
    },
    {
     "data": {
      "application/vnd.jupyter.widget-view+json": {
       "model_id": "bec420391ed7475489f41a29e2b26530",
       "version_major": 2,
       "version_minor": 0
      },
      "text/plain": [
       "                                                                                                              …"
      ]
     },
     "metadata": {},
     "output_type": "display_data"
    },
    {
     "name": "stdout",
     "output_type": "stream",
     "text": [
      "Quality great, repetition 57/100\n"
     ]
    },
    {
     "data": {
      "application/vnd.jupyter.widget-view+json": {
       "model_id": "03894e39dbf846a1b3d3ba8058966e71",
       "version_major": 2,
       "version_minor": 0
      },
      "text/plain": [
       "                                                                                                              …"
      ]
     },
     "metadata": {},
     "output_type": "display_data"
    },
    {
     "name": "stdout",
     "output_type": "stream",
     "text": [
      "Quality great, repetition 58/100\n"
     ]
    },
    {
     "data": {
      "application/vnd.jupyter.widget-view+json": {
       "model_id": "4f134be0dc924cb1aac153c0ec90c2dd",
       "version_major": 2,
       "version_minor": 0
      },
      "text/plain": [
       "                                                                                                              …"
      ]
     },
     "metadata": {},
     "output_type": "display_data"
    },
    {
     "name": "stdout",
     "output_type": "stream",
     "text": [
      "Quality great, repetition 59/100\n"
     ]
    },
    {
     "data": {
      "application/vnd.jupyter.widget-view+json": {
       "model_id": "0a2afded082345c893a964538ad16d11",
       "version_major": 2,
       "version_minor": 0
      },
      "text/plain": [
       "                                                                                                              …"
      ]
     },
     "metadata": {},
     "output_type": "display_data"
    },
    {
     "name": "stdout",
     "output_type": "stream",
     "text": [
      "Quality great, repetition 60/100\n"
     ]
    },
    {
     "data": {
      "application/vnd.jupyter.widget-view+json": {
       "model_id": "12e6c336771f49e7a71346529b754e85",
       "version_major": 2,
       "version_minor": 0
      },
      "text/plain": [
       "                                                                                                              …"
      ]
     },
     "metadata": {},
     "output_type": "display_data"
    },
    {
     "name": "stdout",
     "output_type": "stream",
     "text": [
      "Quality great, repetition 61/100\n"
     ]
    },
    {
     "data": {
      "application/vnd.jupyter.widget-view+json": {
       "model_id": "0a4f87be3c44470aa58bbd74baef6490",
       "version_major": 2,
       "version_minor": 0
      },
      "text/plain": [
       "                                                                                                              …"
      ]
     },
     "metadata": {},
     "output_type": "display_data"
    },
    {
     "name": "stdout",
     "output_type": "stream",
     "text": [
      "Quality great, repetition 62/100\n"
     ]
    },
    {
     "data": {
      "application/vnd.jupyter.widget-view+json": {
       "model_id": "dd118c4b8c6f4c528a31af62415f54db",
       "version_major": 2,
       "version_minor": 0
      },
      "text/plain": [
       "                                                                                                              …"
      ]
     },
     "metadata": {},
     "output_type": "display_data"
    },
    {
     "name": "stdout",
     "output_type": "stream",
     "text": [
      "Quality great, repetition 63/100\n"
     ]
    },
    {
     "data": {
      "application/vnd.jupyter.widget-view+json": {
       "model_id": "4529cbfb0fea43b689305b7c74dc8834",
       "version_major": 2,
       "version_minor": 0
      },
      "text/plain": [
       "                                                                                                              …"
      ]
     },
     "metadata": {},
     "output_type": "display_data"
    },
    {
     "name": "stdout",
     "output_type": "stream",
     "text": [
      "Quality great, repetition 64/100\n"
     ]
    },
    {
     "data": {
      "application/vnd.jupyter.widget-view+json": {
       "model_id": "57f7537af1974e9b966695e540f3a083",
       "version_major": 2,
       "version_minor": 0
      },
      "text/plain": [
       "                                                                                                              …"
      ]
     },
     "metadata": {},
     "output_type": "display_data"
    },
    {
     "name": "stdout",
     "output_type": "stream",
     "text": [
      "Quality great, repetition 65/100\n"
     ]
    },
    {
     "data": {
      "application/vnd.jupyter.widget-view+json": {
       "model_id": "4884ae56e5b243958f8eacc5cca2a7da",
       "version_major": 2,
       "version_minor": 0
      },
      "text/plain": [
       "                                                                                                              …"
      ]
     },
     "metadata": {},
     "output_type": "display_data"
    },
    {
     "name": "stdout",
     "output_type": "stream",
     "text": [
      "Quality great, repetition 66/100\n"
     ]
    },
    {
     "data": {
      "application/vnd.jupyter.widget-view+json": {
       "model_id": "9b45053f061e45578613ababb5f54b2c",
       "version_major": 2,
       "version_minor": 0
      },
      "text/plain": [
       "                                                                                                              …"
      ]
     },
     "metadata": {},
     "output_type": "display_data"
    },
    {
     "name": "stdout",
     "output_type": "stream",
     "text": [
      "Quality great, repetition 67/100\n"
     ]
    },
    {
     "data": {
      "application/vnd.jupyter.widget-view+json": {
       "model_id": "575fd112b79a47abb168f3257e68e660",
       "version_major": 2,
       "version_minor": 0
      },
      "text/plain": [
       "                                                                                                              …"
      ]
     },
     "metadata": {},
     "output_type": "display_data"
    },
    {
     "name": "stdout",
     "output_type": "stream",
     "text": [
      "Quality great, repetition 68/100\n"
     ]
    },
    {
     "data": {
      "application/vnd.jupyter.widget-view+json": {
       "model_id": "eec70ee8e3a54994b290d01f4b6c4ae4",
       "version_major": 2,
       "version_minor": 0
      },
      "text/plain": [
       "                                                                                                              …"
      ]
     },
     "metadata": {},
     "output_type": "display_data"
    },
    {
     "name": "stdout",
     "output_type": "stream",
     "text": [
      "Quality great, repetition 69/100\n"
     ]
    },
    {
     "data": {
      "application/vnd.jupyter.widget-view+json": {
       "model_id": "448cbceed9e84f159b90fc6c5c55cd09",
       "version_major": 2,
       "version_minor": 0
      },
      "text/plain": [
       "                                                                                                              …"
      ]
     },
     "metadata": {},
     "output_type": "display_data"
    },
    {
     "name": "stdout",
     "output_type": "stream",
     "text": [
      "Quality great, repetition 70/100\n"
     ]
    },
    {
     "data": {
      "application/vnd.jupyter.widget-view+json": {
       "model_id": "29ab741277c14358bd0bf79361c9bf2b",
       "version_major": 2,
       "version_minor": 0
      },
      "text/plain": [
       "                                                                                                              …"
      ]
     },
     "metadata": {},
     "output_type": "display_data"
    },
    {
     "name": "stdout",
     "output_type": "stream",
     "text": [
      "Quality great, repetition 71/100\n"
     ]
    },
    {
     "data": {
      "application/vnd.jupyter.widget-view+json": {
       "model_id": "e2490c48d2e2449486e19e69d2491978",
       "version_major": 2,
       "version_minor": 0
      },
      "text/plain": [
       "                                                                                                              …"
      ]
     },
     "metadata": {},
     "output_type": "display_data"
    },
    {
     "name": "stdout",
     "output_type": "stream",
     "text": [
      "Quality great, repetition 72/100\n"
     ]
    },
    {
     "data": {
      "application/vnd.jupyter.widget-view+json": {
       "model_id": "f41f5896d1b148ceb988bea930313663",
       "version_major": 2,
       "version_minor": 0
      },
      "text/plain": [
       "                                                                                                              …"
      ]
     },
     "metadata": {},
     "output_type": "display_data"
    },
    {
     "name": "stdout",
     "output_type": "stream",
     "text": [
      "Quality great, repetition 73/100\n"
     ]
    },
    {
     "data": {
      "application/vnd.jupyter.widget-view+json": {
       "model_id": "6f0f80dc507f4d18ba821f4ebb280554",
       "version_major": 2,
       "version_minor": 0
      },
      "text/plain": [
       "                                                                                                              …"
      ]
     },
     "metadata": {},
     "output_type": "display_data"
    },
    {
     "name": "stdout",
     "output_type": "stream",
     "text": [
      "Quality great, repetition 74/100\n"
     ]
    },
    {
     "data": {
      "application/vnd.jupyter.widget-view+json": {
       "model_id": "bc92d7678c514e2491ec6151797d4d09",
       "version_major": 2,
       "version_minor": 0
      },
      "text/plain": [
       "                                                                                                              …"
      ]
     },
     "metadata": {},
     "output_type": "display_data"
    },
    {
     "name": "stdout",
     "output_type": "stream",
     "text": [
      "Quality great, repetition 75/100\n"
     ]
    },
    {
     "data": {
      "application/vnd.jupyter.widget-view+json": {
       "model_id": "63a3930a40364cd29c93858fa21169c5",
       "version_major": 2,
       "version_minor": 0
      },
      "text/plain": [
       "                                                                                                              …"
      ]
     },
     "metadata": {},
     "output_type": "display_data"
    },
    {
     "name": "stdout",
     "output_type": "stream",
     "text": [
      "Quality great, repetition 76/100\n"
     ]
    },
    {
     "data": {
      "application/vnd.jupyter.widget-view+json": {
       "model_id": "c776a7b31a234624835f4a8e7da6dbf6",
       "version_major": 2,
       "version_minor": 0
      },
      "text/plain": [
       "                                                                                                              …"
      ]
     },
     "metadata": {},
     "output_type": "display_data"
    },
    {
     "name": "stdout",
     "output_type": "stream",
     "text": [
      "Quality great, repetition 77/100\n"
     ]
    },
    {
     "data": {
      "application/vnd.jupyter.widget-view+json": {
       "model_id": "03edd8136c6d4ffebef1e89ed8b5c8b1",
       "version_major": 2,
       "version_minor": 0
      },
      "text/plain": [
       "                                                                                                              …"
      ]
     },
     "metadata": {},
     "output_type": "display_data"
    },
    {
     "name": "stdout",
     "output_type": "stream",
     "text": [
      "Quality great, repetition 78/100\n"
     ]
    },
    {
     "data": {
      "application/vnd.jupyter.widget-view+json": {
       "model_id": "4b636b467a7942c19d11d495ac147eb1",
       "version_major": 2,
       "version_minor": 0
      },
      "text/plain": [
       "                                                                                                              …"
      ]
     },
     "metadata": {},
     "output_type": "display_data"
    },
    {
     "name": "stdout",
     "output_type": "stream",
     "text": [
      "Quality great, repetition 79/100\n"
     ]
    },
    {
     "data": {
      "application/vnd.jupyter.widget-view+json": {
       "model_id": "93d9c531750c4946ba72f10546994b62",
       "version_major": 2,
       "version_minor": 0
      },
      "text/plain": [
       "                                                                                                              …"
      ]
     },
     "metadata": {},
     "output_type": "display_data"
    },
    {
     "name": "stdout",
     "output_type": "stream",
     "text": [
      "Quality great, repetition 80/100\n"
     ]
    },
    {
     "data": {
      "application/vnd.jupyter.widget-view+json": {
       "model_id": "cb5b21e4007649e2acabfa9bfc0739bf",
       "version_major": 2,
       "version_minor": 0
      },
      "text/plain": [
       "                                                                                                              …"
      ]
     },
     "metadata": {},
     "output_type": "display_data"
    },
    {
     "name": "stdout",
     "output_type": "stream",
     "text": [
      "Quality great, repetition 81/100\n"
     ]
    },
    {
     "data": {
      "application/vnd.jupyter.widget-view+json": {
       "model_id": "195a0502b3824d3a91c00c7ad8ea1515",
       "version_major": 2,
       "version_minor": 0
      },
      "text/plain": [
       "                                                                                                              …"
      ]
     },
     "metadata": {},
     "output_type": "display_data"
    },
    {
     "name": "stdout",
     "output_type": "stream",
     "text": [
      "Quality great, repetition 82/100\n"
     ]
    },
    {
     "data": {
      "application/vnd.jupyter.widget-view+json": {
       "model_id": "44974d0609ca4454b12e8a0fd137d8b2",
       "version_major": 2,
       "version_minor": 0
      },
      "text/plain": [
       "                                                                                                              …"
      ]
     },
     "metadata": {},
     "output_type": "display_data"
    },
    {
     "name": "stdout",
     "output_type": "stream",
     "text": [
      "Quality great, repetition 83/100\n"
     ]
    },
    {
     "data": {
      "application/vnd.jupyter.widget-view+json": {
       "model_id": "277e5d60b380421c9b8497363e3e7e80",
       "version_major": 2,
       "version_minor": 0
      },
      "text/plain": [
       "                                                                                                              …"
      ]
     },
     "metadata": {},
     "output_type": "display_data"
    },
    {
     "name": "stdout",
     "output_type": "stream",
     "text": [
      "Quality great, repetition 84/100\n"
     ]
    },
    {
     "data": {
      "application/vnd.jupyter.widget-view+json": {
       "model_id": "0b82e6aa4e984f75be3a86281f0faaf6",
       "version_major": 2,
       "version_minor": 0
      },
      "text/plain": [
       "                                                                                                              …"
      ]
     },
     "metadata": {},
     "output_type": "display_data"
    },
    {
     "name": "stdout",
     "output_type": "stream",
     "text": [
      "Quality great, repetition 85/100\n"
     ]
    },
    {
     "data": {
      "application/vnd.jupyter.widget-view+json": {
       "model_id": "6261da571edc40c2b3c6d7a523eb6607",
       "version_major": 2,
       "version_minor": 0
      },
      "text/plain": [
       "                                                                                                              …"
      ]
     },
     "metadata": {},
     "output_type": "display_data"
    },
    {
     "name": "stdout",
     "output_type": "stream",
     "text": [
      "Quality great, repetition 86/100\n"
     ]
    },
    {
     "data": {
      "application/vnd.jupyter.widget-view+json": {
       "model_id": "21a269862b1f4766a7335a5b0c9149aa",
       "version_major": 2,
       "version_minor": 0
      },
      "text/plain": [
       "                                                                                                              …"
      ]
     },
     "metadata": {},
     "output_type": "display_data"
    },
    {
     "name": "stdout",
     "output_type": "stream",
     "text": [
      "Quality great, repetition 87/100\n"
     ]
    },
    {
     "data": {
      "application/vnd.jupyter.widget-view+json": {
       "model_id": "4dcc315e422d4575abd49e38e528e708",
       "version_major": 2,
       "version_minor": 0
      },
      "text/plain": [
       "                                                                                                              …"
      ]
     },
     "metadata": {},
     "output_type": "display_data"
    },
    {
     "name": "stdout",
     "output_type": "stream",
     "text": [
      "Quality great, repetition 88/100\n"
     ]
    },
    {
     "data": {
      "application/vnd.jupyter.widget-view+json": {
       "model_id": "c21de23533854a509bf2e74d7f6b600e",
       "version_major": 2,
       "version_minor": 0
      },
      "text/plain": [
       "                                                                                                              …"
      ]
     },
     "metadata": {},
     "output_type": "display_data"
    },
    {
     "name": "stdout",
     "output_type": "stream",
     "text": [
      "Quality great, repetition 89/100\n"
     ]
    },
    {
     "data": {
      "application/vnd.jupyter.widget-view+json": {
       "model_id": "c1f7a056709c4c2fa5cfe0b11a487520",
       "version_major": 2,
       "version_minor": 0
      },
      "text/plain": [
       "                                                                                                              …"
      ]
     },
     "metadata": {},
     "output_type": "display_data"
    },
    {
     "name": "stdout",
     "output_type": "stream",
     "text": [
      "Quality great, repetition 90/100\n"
     ]
    },
    {
     "data": {
      "application/vnd.jupyter.widget-view+json": {
       "model_id": "f93d00b6630449a48f023359fe084d2b",
       "version_major": 2,
       "version_minor": 0
      },
      "text/plain": [
       "                                                                                                              …"
      ]
     },
     "metadata": {},
     "output_type": "display_data"
    },
    {
     "name": "stdout",
     "output_type": "stream",
     "text": [
      "Quality great, repetition 91/100\n"
     ]
    },
    {
     "data": {
      "application/vnd.jupyter.widget-view+json": {
       "model_id": "aebfa22520b1454d840311c7bd0dfebe",
       "version_major": 2,
       "version_minor": 0
      },
      "text/plain": [
       "                                                                                                              …"
      ]
     },
     "metadata": {},
     "output_type": "display_data"
    },
    {
     "name": "stdout",
     "output_type": "stream",
     "text": [
      "Quality great, repetition 92/100\n"
     ]
    },
    {
     "data": {
      "application/vnd.jupyter.widget-view+json": {
       "model_id": "222a3370181d43c298f5eed8e3e9a452",
       "version_major": 2,
       "version_minor": 0
      },
      "text/plain": [
       "                                                                                                              …"
      ]
     },
     "metadata": {},
     "output_type": "display_data"
    },
    {
     "name": "stdout",
     "output_type": "stream",
     "text": [
      "Quality great, repetition 93/100\n"
     ]
    },
    {
     "data": {
      "application/vnd.jupyter.widget-view+json": {
       "model_id": "a0c2e0a8358642d98fbb10d6bf770766",
       "version_major": 2,
       "version_minor": 0
      },
      "text/plain": [
       "                                                                                                              …"
      ]
     },
     "metadata": {},
     "output_type": "display_data"
    },
    {
     "name": "stdout",
     "output_type": "stream",
     "text": [
      "Quality great, repetition 94/100\n"
     ]
    },
    {
     "data": {
      "application/vnd.jupyter.widget-view+json": {
       "model_id": "f0af4995b57a4e76af51acddd2141ba0",
       "version_major": 2,
       "version_minor": 0
      },
      "text/plain": [
       "                                                                                                              …"
      ]
     },
     "metadata": {},
     "output_type": "display_data"
    },
    {
     "name": "stdout",
     "output_type": "stream",
     "text": [
      "Quality great, repetition 95/100\n"
     ]
    },
    {
     "data": {
      "application/vnd.jupyter.widget-view+json": {
       "model_id": "f4e1a383eae140848c8bd46fd4d2a970",
       "version_major": 2,
       "version_minor": 0
      },
      "text/plain": [
       "                                                                                                              …"
      ]
     },
     "metadata": {},
     "output_type": "display_data"
    },
    {
     "name": "stdout",
     "output_type": "stream",
     "text": [
      "Quality great, repetition 96/100\n"
     ]
    },
    {
     "data": {
      "application/vnd.jupyter.widget-view+json": {
       "model_id": "764a8152fd704528a6ab1f9ad596b86d",
       "version_major": 2,
       "version_minor": 0
      },
      "text/plain": [
       "                                                                                                              …"
      ]
     },
     "metadata": {},
     "output_type": "display_data"
    },
    {
     "name": "stdout",
     "output_type": "stream",
     "text": [
      "Quality great, repetition 97/100\n"
     ]
    },
    {
     "data": {
      "application/vnd.jupyter.widget-view+json": {
       "model_id": "eda9f50a76494092a2217d714774151b",
       "version_major": 2,
       "version_minor": 0
      },
      "text/plain": [
       "                                                                                                              …"
      ]
     },
     "metadata": {},
     "output_type": "display_data"
    },
    {
     "name": "stdout",
     "output_type": "stream",
     "text": [
      "Quality great, repetition 98/100\n"
     ]
    },
    {
     "data": {
      "application/vnd.jupyter.widget-view+json": {
       "model_id": "768d42e1e8ed4d6da824f403d5452e2a",
       "version_major": 2,
       "version_minor": 0
      },
      "text/plain": [
       "                                                                                                              …"
      ]
     },
     "metadata": {},
     "output_type": "display_data"
    },
    {
     "name": "stdout",
     "output_type": "stream",
     "text": [
      "Quality great, repetition 99/100\n",
      "Using best quality great\n",
      "Saved to batch_second/high_50.txt\n",
      "Saved to batch_second/high_50.obj\n",
      "Saved to batch_second/high_50_fixed.txt\n",
      "Saved to batch_second/high_50_fixed.obj\n",
      "Misalignment: very high\n"
     ]
    },
    {
     "data": {
      "application/vnd.jupyter.widget-view+json": {
       "model_id": "8f1484b76d1349f4acd1fde3729ca3cd",
       "version_major": 2,
       "version_minor": 0
      },
      "text/plain": [
       "                                                                                                              …"
      ]
     },
     "metadata": {},
     "output_type": "display_data"
    },
    {
     "name": "stdout",
     "output_type": "stream",
     "text": [
      "Quality bad, repetition 0/10\n"
     ]
    },
    {
     "data": {
      "application/vnd.jupyter.widget-view+json": {
       "model_id": "3d1e447039a143e3a51f407e119bf701",
       "version_major": 2,
       "version_minor": 0
      },
      "text/plain": [
       "                                                                                                              …"
      ]
     },
     "metadata": {},
     "output_type": "display_data"
    },
    {
     "name": "stdout",
     "output_type": "stream",
     "text": [
      "Quality great, repetition 1/10\n"
     ]
    },
    {
     "data": {
      "application/vnd.jupyter.widget-view+json": {
       "model_id": "75374bf222614ae9bb5483250da10fd0",
       "version_major": 2,
       "version_minor": 0
      },
      "text/plain": [
       "                                                                                                              …"
      ]
     },
     "metadata": {},
     "output_type": "display_data"
    },
    {
     "name": "stdout",
     "output_type": "stream",
     "text": [
      "Quality perfect, repetition 2/10\n"
     ]
    },
    {
     "data": {
      "application/vnd.jupyter.widget-view+json": {
       "model_id": "be9f53459cb8447996994218da645a9a",
       "version_major": 2,
       "version_minor": 0
      },
      "text/plain": [
       "                                                                                                              …"
      ]
     },
     "metadata": {},
     "output_type": "display_data"
    },
    {
     "name": "stdout",
     "output_type": "stream",
     "text": [
      "Quality bad, repetition 0/100\n"
     ]
    },
    {
     "data": {
      "application/vnd.jupyter.widget-view+json": {
       "model_id": "fb7b9c59c865454f9fcf74b7114ddab9",
       "version_major": 2,
       "version_minor": 0
      },
      "text/plain": [
       "                                                                                                              …"
      ]
     },
     "metadata": {},
     "output_type": "display_data"
    },
    {
     "name": "stdout",
     "output_type": "stream",
     "text": [
      "Quality great, repetition 1/100\n"
     ]
    },
    {
     "data": {
      "application/vnd.jupyter.widget-view+json": {
       "model_id": "db73c434f1144222b89deb09d8edaf2e",
       "version_major": 2,
       "version_minor": 0
      },
      "text/plain": [
       "                                                                                                              …"
      ]
     },
     "metadata": {},
     "output_type": "display_data"
    },
    {
     "name": "stdout",
     "output_type": "stream",
     "text": [
      "Quality great, repetition 2/100\n"
     ]
    },
    {
     "data": {
      "application/vnd.jupyter.widget-view+json": {
       "model_id": "fbca63c9a8db40dc92069d9fe7ba1a66",
       "version_major": 2,
       "version_minor": 0
      },
      "text/plain": [
       "                                                                                                              …"
      ]
     },
     "metadata": {},
     "output_type": "display_data"
    },
    {
     "name": "stdout",
     "output_type": "stream",
     "text": [
      "Quality great, repetition 3/100\n"
     ]
    },
    {
     "data": {
      "application/vnd.jupyter.widget-view+json": {
       "model_id": "4c71676c659d46d594b0d698ec9ea15a",
       "version_major": 2,
       "version_minor": 0
      },
      "text/plain": [
       "                                                                                                              …"
      ]
     },
     "metadata": {},
     "output_type": "display_data"
    },
    {
     "name": "stdout",
     "output_type": "stream",
     "text": [
      "Quality great, repetition 4/100\n"
     ]
    },
    {
     "data": {
      "application/vnd.jupyter.widget-view+json": {
       "model_id": "5dda863b508446b29f331a597ef79b07",
       "version_major": 2,
       "version_minor": 0
      },
      "text/plain": [
       "                                                                                                              …"
      ]
     },
     "metadata": {},
     "output_type": "display_data"
    },
    {
     "name": "stdout",
     "output_type": "stream",
     "text": [
      "Quality great, repetition 5/100\n"
     ]
    },
    {
     "data": {
      "application/vnd.jupyter.widget-view+json": {
       "model_id": "38c8db39ffc849d0a533823d34b087d8",
       "version_major": 2,
       "version_minor": 0
      },
      "text/plain": [
       "                                                                                                              …"
      ]
     },
     "metadata": {},
     "output_type": "display_data"
    },
    {
     "name": "stdout",
     "output_type": "stream",
     "text": [
      "Quality great, repetition 6/100\n"
     ]
    },
    {
     "data": {
      "application/vnd.jupyter.widget-view+json": {
       "model_id": "1ce0954ec3fd44c4b6b953d5b906f9d5",
       "version_major": 2,
       "version_minor": 0
      },
      "text/plain": [
       "                                                                                                              …"
      ]
     },
     "metadata": {},
     "output_type": "display_data"
    },
    {
     "name": "stdout",
     "output_type": "stream",
     "text": [
      "Quality great, repetition 7/100\n"
     ]
    },
    {
     "data": {
      "application/vnd.jupyter.widget-view+json": {
       "model_id": "9636223a72254163978aea4ea716e7d0",
       "version_major": 2,
       "version_minor": 0
      },
      "text/plain": [
       "                                                                                                              …"
      ]
     },
     "metadata": {},
     "output_type": "display_data"
    },
    {
     "name": "stdout",
     "output_type": "stream",
     "text": [
      "Quality great, repetition 8/100\n"
     ]
    },
    {
     "data": {
      "application/vnd.jupyter.widget-view+json": {
       "model_id": "fa605fbe37b948f782295c2302b5e691",
       "version_major": 2,
       "version_minor": 0
      },
      "text/plain": [
       "                                                                                                              …"
      ]
     },
     "metadata": {},
     "output_type": "display_data"
    },
    {
     "name": "stdout",
     "output_type": "stream",
     "text": [
      "Quality great, repetition 9/100\n"
     ]
    },
    {
     "data": {
      "application/vnd.jupyter.widget-view+json": {
       "model_id": "0d6b3b563a274055a7634873f59d7f81",
       "version_major": 2,
       "version_minor": 0
      },
      "text/plain": [
       "                                                                                                              …"
      ]
     },
     "metadata": {},
     "output_type": "display_data"
    },
    {
     "name": "stdout",
     "output_type": "stream",
     "text": [
      "Quality great, repetition 10/100\n"
     ]
    },
    {
     "data": {
      "application/vnd.jupyter.widget-view+json": {
       "model_id": "e024b135de5949ec9d1c696873790cf6",
       "version_major": 2,
       "version_minor": 0
      },
      "text/plain": [
       "                                                                                                              …"
      ]
     },
     "metadata": {},
     "output_type": "display_data"
    },
    {
     "name": "stdout",
     "output_type": "stream",
     "text": [
      "Quality great, repetition 11/100\n"
     ]
    },
    {
     "data": {
      "application/vnd.jupyter.widget-view+json": {
       "model_id": "b55c5fdc0645463bb7bf7171f397d2a4",
       "version_major": 2,
       "version_minor": 0
      },
      "text/plain": [
       "                                                                                                              …"
      ]
     },
     "metadata": {},
     "output_type": "display_data"
    },
    {
     "name": "stdout",
     "output_type": "stream",
     "text": [
      "Quality great, repetition 12/100\n"
     ]
    },
    {
     "data": {
      "application/vnd.jupyter.widget-view+json": {
       "model_id": "1aa3d59d34e1482db051cf4a68ecc113",
       "version_major": 2,
       "version_minor": 0
      },
      "text/plain": [
       "                                                                                                              …"
      ]
     },
     "metadata": {},
     "output_type": "display_data"
    },
    {
     "name": "stdout",
     "output_type": "stream",
     "text": [
      "Quality great, repetition 13/100\n"
     ]
    },
    {
     "data": {
      "application/vnd.jupyter.widget-view+json": {
       "model_id": "e49825dc7c7440198602700f740af274",
       "version_major": 2,
       "version_minor": 0
      },
      "text/plain": [
       "                                                                                                              …"
      ]
     },
     "metadata": {},
     "output_type": "display_data"
    },
    {
     "name": "stdout",
     "output_type": "stream",
     "text": [
      "Quality great, repetition 14/100\n"
     ]
    },
    {
     "data": {
      "application/vnd.jupyter.widget-view+json": {
       "model_id": "ef86e314868347de9033e3949cffc308",
       "version_major": 2,
       "version_minor": 0
      },
      "text/plain": [
       "                                                                                                              …"
      ]
     },
     "metadata": {},
     "output_type": "display_data"
    },
    {
     "name": "stdout",
     "output_type": "stream",
     "text": [
      "Quality great, repetition 15/100\n"
     ]
    },
    {
     "data": {
      "application/vnd.jupyter.widget-view+json": {
       "model_id": "47e13a562b1347b38c6ba86525304ba5",
       "version_major": 2,
       "version_minor": 0
      },
      "text/plain": [
       "                                                                                                              …"
      ]
     },
     "metadata": {},
     "output_type": "display_data"
    },
    {
     "name": "stdout",
     "output_type": "stream",
     "text": [
      "Quality great, repetition 16/100\n"
     ]
    },
    {
     "data": {
      "application/vnd.jupyter.widget-view+json": {
       "model_id": "29412a3958d34e67aafcea025b94c31b",
       "version_major": 2,
       "version_minor": 0
      },
      "text/plain": [
       "                                                                                                              …"
      ]
     },
     "metadata": {},
     "output_type": "display_data"
    },
    {
     "name": "stdout",
     "output_type": "stream",
     "text": [
      "Quality great, repetition 17/100\n"
     ]
    },
    {
     "data": {
      "application/vnd.jupyter.widget-view+json": {
       "model_id": "72dd8bcdf6f54e7eb97ee9a1c0223aa0",
       "version_major": 2,
       "version_minor": 0
      },
      "text/plain": [
       "                                                                                                              …"
      ]
     },
     "metadata": {},
     "output_type": "display_data"
    },
    {
     "name": "stdout",
     "output_type": "stream",
     "text": [
      "Quality great, repetition 18/100\n"
     ]
    },
    {
     "data": {
      "application/vnd.jupyter.widget-view+json": {
       "model_id": "9c4040b943c143059da60e89d40da8f7",
       "version_major": 2,
       "version_minor": 0
      },
      "text/plain": [
       "                                                                                                              …"
      ]
     },
     "metadata": {},
     "output_type": "display_data"
    },
    {
     "name": "stdout",
     "output_type": "stream",
     "text": [
      "Quality great, repetition 19/100\n"
     ]
    },
    {
     "data": {
      "application/vnd.jupyter.widget-view+json": {
       "model_id": "d18229e44ad246cab5438271eedde4d9",
       "version_major": 2,
       "version_minor": 0
      },
      "text/plain": [
       "                                                                                                              …"
      ]
     },
     "metadata": {},
     "output_type": "display_data"
    },
    {
     "name": "stdout",
     "output_type": "stream",
     "text": [
      "Quality great, repetition 20/100\n"
     ]
    },
    {
     "data": {
      "application/vnd.jupyter.widget-view+json": {
       "model_id": "43ac327f390846c3917a99476306caae",
       "version_major": 2,
       "version_minor": 0
      },
      "text/plain": [
       "                                                                                                              …"
      ]
     },
     "metadata": {},
     "output_type": "display_data"
    },
    {
     "name": "stdout",
     "output_type": "stream",
     "text": [
      "Quality great, repetition 21/100\n"
     ]
    },
    {
     "data": {
      "application/vnd.jupyter.widget-view+json": {
       "model_id": "c431075ea863478283354167c5f94f76",
       "version_major": 2,
       "version_minor": 0
      },
      "text/plain": [
       "                                                                                                              …"
      ]
     },
     "metadata": {},
     "output_type": "display_data"
    },
    {
     "name": "stdout",
     "output_type": "stream",
     "text": [
      "Quality great, repetition 22/100\n"
     ]
    },
    {
     "data": {
      "application/vnd.jupyter.widget-view+json": {
       "model_id": "f21fa86a7b204abbade70fd481e819b1",
       "version_major": 2,
       "version_minor": 0
      },
      "text/plain": [
       "                                                                                                              …"
      ]
     },
     "metadata": {},
     "output_type": "display_data"
    },
    {
     "name": "stdout",
     "output_type": "stream",
     "text": [
      "Quality great, repetition 23/100\n"
     ]
    },
    {
     "data": {
      "application/vnd.jupyter.widget-view+json": {
       "model_id": "4b437032db9c43e6abfc00640124f8c1",
       "version_major": 2,
       "version_minor": 0
      },
      "text/plain": [
       "                                                                                                              …"
      ]
     },
     "metadata": {},
     "output_type": "display_data"
    },
    {
     "name": "stdout",
     "output_type": "stream",
     "text": [
      "Quality great, repetition 24/100\n"
     ]
    },
    {
     "data": {
      "application/vnd.jupyter.widget-view+json": {
       "model_id": "daa74fd783934029a5e7a228b2f7a88b",
       "version_major": 2,
       "version_minor": 0
      },
      "text/plain": [
       "                                                                                                              …"
      ]
     },
     "metadata": {},
     "output_type": "display_data"
    },
    {
     "name": "stdout",
     "output_type": "stream",
     "text": [
      "Quality great, repetition 25/100\n"
     ]
    },
    {
     "data": {
      "application/vnd.jupyter.widget-view+json": {
       "model_id": "a5111bcbdc04446ba170ba34d1e28409",
       "version_major": 2,
       "version_minor": 0
      },
      "text/plain": [
       "                                                                                                              …"
      ]
     },
     "metadata": {},
     "output_type": "display_data"
    },
    {
     "name": "stdout",
     "output_type": "stream",
     "text": [
      "Quality great, repetition 26/100\n"
     ]
    },
    {
     "data": {
      "application/vnd.jupyter.widget-view+json": {
       "model_id": "aa950669af744afca8cabb6493da4779",
       "version_major": 2,
       "version_minor": 0
      },
      "text/plain": [
       "                                                                                                              …"
      ]
     },
     "metadata": {},
     "output_type": "display_data"
    },
    {
     "name": "stdout",
     "output_type": "stream",
     "text": [
      "Quality great, repetition 27/100\n"
     ]
    },
    {
     "data": {
      "application/vnd.jupyter.widget-view+json": {
       "model_id": "66c5bdfd9efe4876bc6c54faebb2faad",
       "version_major": 2,
       "version_minor": 0
      },
      "text/plain": [
       "                                                                                                              …"
      ]
     },
     "metadata": {},
     "output_type": "display_data"
    },
    {
     "name": "stdout",
     "output_type": "stream",
     "text": [
      "Quality great, repetition 28/100\n"
     ]
    },
    {
     "data": {
      "application/vnd.jupyter.widget-view+json": {
       "model_id": "ea627c5054c2450a9122870741aff317",
       "version_major": 2,
       "version_minor": 0
      },
      "text/plain": [
       "                                                                                                              …"
      ]
     },
     "metadata": {},
     "output_type": "display_data"
    },
    {
     "name": "stdout",
     "output_type": "stream",
     "text": [
      "Quality great, repetition 29/100\n"
     ]
    },
    {
     "data": {
      "application/vnd.jupyter.widget-view+json": {
       "model_id": "ea432d173ea34d29a45c19fa9fdc196a",
       "version_major": 2,
       "version_minor": 0
      },
      "text/plain": [
       "                                                                                                              …"
      ]
     },
     "metadata": {},
     "output_type": "display_data"
    },
    {
     "name": "stdout",
     "output_type": "stream",
     "text": [
      "Quality great, repetition 30/100\n"
     ]
    },
    {
     "data": {
      "application/vnd.jupyter.widget-view+json": {
       "model_id": "f551d489141c4827a194fd3a243e264e",
       "version_major": 2,
       "version_minor": 0
      },
      "text/plain": [
       "                                                                                                              …"
      ]
     },
     "metadata": {},
     "output_type": "display_data"
    },
    {
     "name": "stdout",
     "output_type": "stream",
     "text": [
      "Quality great, repetition 31/100\n"
     ]
    },
    {
     "data": {
      "application/vnd.jupyter.widget-view+json": {
       "model_id": "ed94f6e0019448428aa9f3df3ff36c64",
       "version_major": 2,
       "version_minor": 0
      },
      "text/plain": [
       "                                                                                                              …"
      ]
     },
     "metadata": {},
     "output_type": "display_data"
    },
    {
     "name": "stdout",
     "output_type": "stream",
     "text": [
      "Quality great, repetition 32/100\n"
     ]
    },
    {
     "data": {
      "application/vnd.jupyter.widget-view+json": {
       "model_id": "24672a9e77c146b68a45c9850c417810",
       "version_major": 2,
       "version_minor": 0
      },
      "text/plain": [
       "                                                                                                              …"
      ]
     },
     "metadata": {},
     "output_type": "display_data"
    },
    {
     "name": "stdout",
     "output_type": "stream",
     "text": [
      "Quality great, repetition 33/100\n"
     ]
    },
    {
     "data": {
      "application/vnd.jupyter.widget-view+json": {
       "model_id": "995584fd620a4ea587be253542efd578",
       "version_major": 2,
       "version_minor": 0
      },
      "text/plain": [
       "                                                                                                              …"
      ]
     },
     "metadata": {},
     "output_type": "display_data"
    },
    {
     "name": "stdout",
     "output_type": "stream",
     "text": [
      "Quality great, repetition 34/100\n"
     ]
    },
    {
     "data": {
      "application/vnd.jupyter.widget-view+json": {
       "model_id": "56179e3a808846b0b33b22471b97d10c",
       "version_major": 2,
       "version_minor": 0
      },
      "text/plain": [
       "                                                                                                              …"
      ]
     },
     "metadata": {},
     "output_type": "display_data"
    },
    {
     "name": "stdout",
     "output_type": "stream",
     "text": [
      "Quality great, repetition 35/100\n"
     ]
    },
    {
     "data": {
      "application/vnd.jupyter.widget-view+json": {
       "model_id": "b2d875fe4d0a42939104135ee3113270",
       "version_major": 2,
       "version_minor": 0
      },
      "text/plain": [
       "                                                                                                              …"
      ]
     },
     "metadata": {},
     "output_type": "display_data"
    },
    {
     "name": "stdout",
     "output_type": "stream",
     "text": [
      "Quality great, repetition 36/100\n"
     ]
    },
    {
     "data": {
      "application/vnd.jupyter.widget-view+json": {
       "model_id": "4ed777a86e6142c187f5c54d317e66bf",
       "version_major": 2,
       "version_minor": 0
      },
      "text/plain": [
       "                                                                                                              …"
      ]
     },
     "metadata": {},
     "output_type": "display_data"
    },
    {
     "name": "stdout",
     "output_type": "stream",
     "text": [
      "Quality great, repetition 37/100\n"
     ]
    },
    {
     "data": {
      "application/vnd.jupyter.widget-view+json": {
       "model_id": "557fc3eb3d8f4d1e8db3fa49413814d7",
       "version_major": 2,
       "version_minor": 0
      },
      "text/plain": [
       "                                                                                                              …"
      ]
     },
     "metadata": {},
     "output_type": "display_data"
    },
    {
     "name": "stdout",
     "output_type": "stream",
     "text": [
      "Quality great, repetition 38/100\n"
     ]
    },
    {
     "data": {
      "application/vnd.jupyter.widget-view+json": {
       "model_id": "692a982fb63e475eb3b80a5afbe9206c",
       "version_major": 2,
       "version_minor": 0
      },
      "text/plain": [
       "                                                                                                              …"
      ]
     },
     "metadata": {},
     "output_type": "display_data"
    },
    {
     "name": "stdout",
     "output_type": "stream",
     "text": [
      "Quality great, repetition 39/100\n"
     ]
    },
    {
     "data": {
      "application/vnd.jupyter.widget-view+json": {
       "model_id": "f9f125aa83c9494a9e90ae4d42cfab06",
       "version_major": 2,
       "version_minor": 0
      },
      "text/plain": [
       "                                                                                                              …"
      ]
     },
     "metadata": {},
     "output_type": "display_data"
    },
    {
     "name": "stdout",
     "output_type": "stream",
     "text": [
      "Quality great, repetition 40/100\n"
     ]
    },
    {
     "data": {
      "application/vnd.jupyter.widget-view+json": {
       "model_id": "c944bd28674545308e2b8e4f57cb0c90",
       "version_major": 2,
       "version_minor": 0
      },
      "text/plain": [
       "                                                                                                              …"
      ]
     },
     "metadata": {},
     "output_type": "display_data"
    },
    {
     "name": "stdout",
     "output_type": "stream",
     "text": [
      "Quality great, repetition 41/100\n"
     ]
    },
    {
     "data": {
      "application/vnd.jupyter.widget-view+json": {
       "model_id": "207e6ea35c034e82aa043c6e653713ea",
       "version_major": 2,
       "version_minor": 0
      },
      "text/plain": [
       "                                                                                                              …"
      ]
     },
     "metadata": {},
     "output_type": "display_data"
    },
    {
     "name": "stdout",
     "output_type": "stream",
     "text": [
      "Quality great, repetition 42/100\n"
     ]
    },
    {
     "data": {
      "application/vnd.jupyter.widget-view+json": {
       "model_id": "c0c05c90078247288cdb1cd186b11ab7",
       "version_major": 2,
       "version_minor": 0
      },
      "text/plain": [
       "                                                                                                              …"
      ]
     },
     "metadata": {},
     "output_type": "display_data"
    },
    {
     "name": "stdout",
     "output_type": "stream",
     "text": [
      "Quality great, repetition 43/100\n"
     ]
    },
    {
     "data": {
      "application/vnd.jupyter.widget-view+json": {
       "model_id": "0277e9123931492baefe2eba6bb07020",
       "version_major": 2,
       "version_minor": 0
      },
      "text/plain": [
       "                                                                                                              …"
      ]
     },
     "metadata": {},
     "output_type": "display_data"
    },
    {
     "name": "stdout",
     "output_type": "stream",
     "text": [
      "Quality great, repetition 44/100\n"
     ]
    },
    {
     "data": {
      "application/vnd.jupyter.widget-view+json": {
       "model_id": "6567f1055e2c401b9e57aff35f396f8b",
       "version_major": 2,
       "version_minor": 0
      },
      "text/plain": [
       "                                                                                                              …"
      ]
     },
     "metadata": {},
     "output_type": "display_data"
    },
    {
     "name": "stdout",
     "output_type": "stream",
     "text": [
      "Quality great, repetition 45/100\n"
     ]
    },
    {
     "data": {
      "application/vnd.jupyter.widget-view+json": {
       "model_id": "07a00890439b4fd798a0b79bdbc3a9b6",
       "version_major": 2,
       "version_minor": 0
      },
      "text/plain": [
       "                                                                                                              …"
      ]
     },
     "metadata": {},
     "output_type": "display_data"
    },
    {
     "name": "stdout",
     "output_type": "stream",
     "text": [
      "Quality great, repetition 46/100\n"
     ]
    },
    {
     "data": {
      "application/vnd.jupyter.widget-view+json": {
       "model_id": "0987d7312176487f8fbacebe5434f297",
       "version_major": 2,
       "version_minor": 0
      },
      "text/plain": [
       "                                                                                                              …"
      ]
     },
     "metadata": {},
     "output_type": "display_data"
    },
    {
     "name": "stdout",
     "output_type": "stream",
     "text": [
      "Quality great, repetition 47/100\n"
     ]
    },
    {
     "data": {
      "application/vnd.jupyter.widget-view+json": {
       "model_id": "f02c904c169b4482937347b92ccfc060",
       "version_major": 2,
       "version_minor": 0
      },
      "text/plain": [
       "                                                                                                              …"
      ]
     },
     "metadata": {},
     "output_type": "display_data"
    },
    {
     "name": "stdout",
     "output_type": "stream",
     "text": [
      "Quality great, repetition 48/100\n"
     ]
    },
    {
     "data": {
      "application/vnd.jupyter.widget-view+json": {
       "model_id": "e69ce40da26c43f0a4afda478308433e",
       "version_major": 2,
       "version_minor": 0
      },
      "text/plain": [
       "                                                                                                              …"
      ]
     },
     "metadata": {},
     "output_type": "display_data"
    },
    {
     "name": "stdout",
     "output_type": "stream",
     "text": [
      "Quality great, repetition 49/100\n"
     ]
    },
    {
     "data": {
      "application/vnd.jupyter.widget-view+json": {
       "model_id": "4cb2529aaf374d92a73aaee7fa9c307b",
       "version_major": 2,
       "version_minor": 0
      },
      "text/plain": [
       "                                                                                                              …"
      ]
     },
     "metadata": {},
     "output_type": "display_data"
    },
    {
     "name": "stdout",
     "output_type": "stream",
     "text": [
      "Quality great, repetition 50/100\n"
     ]
    },
    {
     "data": {
      "application/vnd.jupyter.widget-view+json": {
       "model_id": "346f052a97134f61b6d39441681d2b50",
       "version_major": 2,
       "version_minor": 0
      },
      "text/plain": [
       "                                                                                                              …"
      ]
     },
     "metadata": {},
     "output_type": "display_data"
    },
    {
     "name": "stdout",
     "output_type": "stream",
     "text": [
      "Quality great, repetition 51/100\n"
     ]
    },
    {
     "data": {
      "application/vnd.jupyter.widget-view+json": {
       "model_id": "f53db6f3f4c8485783b4881b95254803",
       "version_major": 2,
       "version_minor": 0
      },
      "text/plain": [
       "                                                                                                              …"
      ]
     },
     "metadata": {},
     "output_type": "display_data"
    },
    {
     "name": "stdout",
     "output_type": "stream",
     "text": [
      "Quality great, repetition 52/100\n"
     ]
    },
    {
     "data": {
      "application/vnd.jupyter.widget-view+json": {
       "model_id": "e467bfebfed44cb781edcd410f484441",
       "version_major": 2,
       "version_minor": 0
      },
      "text/plain": [
       "                                                                                                              …"
      ]
     },
     "metadata": {},
     "output_type": "display_data"
    },
    {
     "name": "stdout",
     "output_type": "stream",
     "text": [
      "Quality great, repetition 53/100\n"
     ]
    },
    {
     "data": {
      "application/vnd.jupyter.widget-view+json": {
       "model_id": "9e6c21903cdd4465b4bd0991578b59bb",
       "version_major": 2,
       "version_minor": 0
      },
      "text/plain": [
       "                                                                                                              …"
      ]
     },
     "metadata": {},
     "output_type": "display_data"
    },
    {
     "name": "stdout",
     "output_type": "stream",
     "text": [
      "Quality great, repetition 54/100\n"
     ]
    },
    {
     "data": {
      "application/vnd.jupyter.widget-view+json": {
       "model_id": "328258a77ef34430ba1013f8d842da7a",
       "version_major": 2,
       "version_minor": 0
      },
      "text/plain": [
       "                                                                                                              …"
      ]
     },
     "metadata": {},
     "output_type": "display_data"
    },
    {
     "name": "stdout",
     "output_type": "stream",
     "text": [
      "Quality great, repetition 55/100\n"
     ]
    },
    {
     "data": {
      "application/vnd.jupyter.widget-view+json": {
       "model_id": "adb93a4ce2a54d48b3ff592c93353c76",
       "version_major": 2,
       "version_minor": 0
      },
      "text/plain": [
       "                                                                                                              …"
      ]
     },
     "metadata": {},
     "output_type": "display_data"
    },
    {
     "name": "stdout",
     "output_type": "stream",
     "text": [
      "Quality great, repetition 56/100\n"
     ]
    },
    {
     "data": {
      "application/vnd.jupyter.widget-view+json": {
       "model_id": "b13b3c337edc4cb0b94fdb8bbbc87ae6",
       "version_major": 2,
       "version_minor": 0
      },
      "text/plain": [
       "                                                                                                              …"
      ]
     },
     "metadata": {},
     "output_type": "display_data"
    },
    {
     "name": "stdout",
     "output_type": "stream",
     "text": [
      "Quality great, repetition 57/100\n"
     ]
    },
    {
     "data": {
      "application/vnd.jupyter.widget-view+json": {
       "model_id": "6bdd9f7c1aeb4f4ab329ac1b22d28d22",
       "version_major": 2,
       "version_minor": 0
      },
      "text/plain": [
       "                                                                                                              …"
      ]
     },
     "metadata": {},
     "output_type": "display_data"
    },
    {
     "name": "stdout",
     "output_type": "stream",
     "text": [
      "Quality great, repetition 58/100\n"
     ]
    },
    {
     "data": {
      "application/vnd.jupyter.widget-view+json": {
       "model_id": "ce50040a4e7c4e1e95400a81ba46af6c",
       "version_major": 2,
       "version_minor": 0
      },
      "text/plain": [
       "                                                                                                              …"
      ]
     },
     "metadata": {},
     "output_type": "display_data"
    },
    {
     "name": "stdout",
     "output_type": "stream",
     "text": [
      "Quality great, repetition 59/100\n"
     ]
    },
    {
     "data": {
      "application/vnd.jupyter.widget-view+json": {
       "model_id": "810135d1688c4e9c84c390fd8b4299c7",
       "version_major": 2,
       "version_minor": 0
      },
      "text/plain": [
       "                                                                                                              …"
      ]
     },
     "metadata": {},
     "output_type": "display_data"
    },
    {
     "name": "stdout",
     "output_type": "stream",
     "text": [
      "Quality great, repetition 60/100\n"
     ]
    },
    {
     "data": {
      "application/vnd.jupyter.widget-view+json": {
       "model_id": "07c4f7dce8f54b2a9a6c82b00f8119ce",
       "version_major": 2,
       "version_minor": 0
      },
      "text/plain": [
       "                                                                                                              …"
      ]
     },
     "metadata": {},
     "output_type": "display_data"
    },
    {
     "name": "stdout",
     "output_type": "stream",
     "text": [
      "Quality great, repetition 61/100\n"
     ]
    },
    {
     "data": {
      "application/vnd.jupyter.widget-view+json": {
       "model_id": "5abe02e15f584c72af25bdbcb3aada10",
       "version_major": 2,
       "version_minor": 0
      },
      "text/plain": [
       "                                                                                                              …"
      ]
     },
     "metadata": {},
     "output_type": "display_data"
    },
    {
     "name": "stdout",
     "output_type": "stream",
     "text": [
      "Quality great, repetition 62/100\n"
     ]
    },
    {
     "data": {
      "application/vnd.jupyter.widget-view+json": {
       "model_id": "7e90daa52abe4b2398734d095cf14b79",
       "version_major": 2,
       "version_minor": 0
      },
      "text/plain": [
       "                                                                                                              …"
      ]
     },
     "metadata": {},
     "output_type": "display_data"
    },
    {
     "name": "stdout",
     "output_type": "stream",
     "text": [
      "Quality great, repetition 63/100\n"
     ]
    },
    {
     "data": {
      "application/vnd.jupyter.widget-view+json": {
       "model_id": "6a44d0462f8b45a8bacaecf2e936889b",
       "version_major": 2,
       "version_minor": 0
      },
      "text/plain": [
       "                                                                                                              …"
      ]
     },
     "metadata": {},
     "output_type": "display_data"
    },
    {
     "name": "stdout",
     "output_type": "stream",
     "text": [
      "Quality great, repetition 64/100\n"
     ]
    },
    {
     "data": {
      "application/vnd.jupyter.widget-view+json": {
       "model_id": "de5869e16bad48d0b03e82e0ca7461ca",
       "version_major": 2,
       "version_minor": 0
      },
      "text/plain": [
       "                                                                                                              …"
      ]
     },
     "metadata": {},
     "output_type": "display_data"
    },
    {
     "name": "stdout",
     "output_type": "stream",
     "text": [
      "Quality great, repetition 65/100\n"
     ]
    },
    {
     "data": {
      "application/vnd.jupyter.widget-view+json": {
       "model_id": "b177c4009e594beea2ec09f89f0c2bc6",
       "version_major": 2,
       "version_minor": 0
      },
      "text/plain": [
       "                                                                                                              …"
      ]
     },
     "metadata": {},
     "output_type": "display_data"
    },
    {
     "name": "stdout",
     "output_type": "stream",
     "text": [
      "Quality great, repetition 66/100\n"
     ]
    },
    {
     "data": {
      "application/vnd.jupyter.widget-view+json": {
       "model_id": "c14aef50f37046c8a68c85d26dcacee8",
       "version_major": 2,
       "version_minor": 0
      },
      "text/plain": [
       "                                                                                                              …"
      ]
     },
     "metadata": {},
     "output_type": "display_data"
    },
    {
     "name": "stdout",
     "output_type": "stream",
     "text": [
      "Quality great, repetition 67/100\n"
     ]
    },
    {
     "data": {
      "application/vnd.jupyter.widget-view+json": {
       "model_id": "eeae8767f8e045c5a2e1b7c0fdb33121",
       "version_major": 2,
       "version_minor": 0
      },
      "text/plain": [
       "                                                                                                              …"
      ]
     },
     "metadata": {},
     "output_type": "display_data"
    },
    {
     "name": "stdout",
     "output_type": "stream",
     "text": [
      "Quality great, repetition 68/100\n"
     ]
    },
    {
     "data": {
      "application/vnd.jupyter.widget-view+json": {
       "model_id": "92911103714340bbbf25476a514cb822",
       "version_major": 2,
       "version_minor": 0
      },
      "text/plain": [
       "                                                                                                              …"
      ]
     },
     "metadata": {},
     "output_type": "display_data"
    },
    {
     "name": "stdout",
     "output_type": "stream",
     "text": [
      "Quality great, repetition 69/100\n"
     ]
    },
    {
     "data": {
      "application/vnd.jupyter.widget-view+json": {
       "model_id": "fe32aab3796f41e79c66dc4caa6322a1",
       "version_major": 2,
       "version_minor": 0
      },
      "text/plain": [
       "                                                                                                              …"
      ]
     },
     "metadata": {},
     "output_type": "display_data"
    },
    {
     "name": "stdout",
     "output_type": "stream",
     "text": [
      "Quality great, repetition 70/100\n"
     ]
    },
    {
     "data": {
      "application/vnd.jupyter.widget-view+json": {
       "model_id": "49aad9a8feda4c9b8d6771586ea975e8",
       "version_major": 2,
       "version_minor": 0
      },
      "text/plain": [
       "                                                                                                              …"
      ]
     },
     "metadata": {},
     "output_type": "display_data"
    },
    {
     "name": "stdout",
     "output_type": "stream",
     "text": [
      "Quality great, repetition 71/100\n"
     ]
    },
    {
     "data": {
      "application/vnd.jupyter.widget-view+json": {
       "model_id": "7146b198f4894736a485cf82e0e300a8",
       "version_major": 2,
       "version_minor": 0
      },
      "text/plain": [
       "                                                                                                              …"
      ]
     },
     "metadata": {},
     "output_type": "display_data"
    },
    {
     "name": "stdout",
     "output_type": "stream",
     "text": [
      "Quality great, repetition 72/100\n"
     ]
    },
    {
     "data": {
      "application/vnd.jupyter.widget-view+json": {
       "model_id": "1951b7e70b09454db1e8cfa9695e586c",
       "version_major": 2,
       "version_minor": 0
      },
      "text/plain": [
       "                                                                                                              …"
      ]
     },
     "metadata": {},
     "output_type": "display_data"
    },
    {
     "name": "stdout",
     "output_type": "stream",
     "text": [
      "Quality great, repetition 73/100\n"
     ]
    },
    {
     "data": {
      "application/vnd.jupyter.widget-view+json": {
       "model_id": "ef872260e9c44948af7f430e7180ba02",
       "version_major": 2,
       "version_minor": 0
      },
      "text/plain": [
       "                                                                                                              …"
      ]
     },
     "metadata": {},
     "output_type": "display_data"
    },
    {
     "name": "stdout",
     "output_type": "stream",
     "text": [
      "Quality great, repetition 74/100\n"
     ]
    },
    {
     "data": {
      "application/vnd.jupyter.widget-view+json": {
       "model_id": "e4eea638da0b4f83be50d457e32ad612",
       "version_major": 2,
       "version_minor": 0
      },
      "text/plain": [
       "                                                                                                              …"
      ]
     },
     "metadata": {},
     "output_type": "display_data"
    },
    {
     "name": "stdout",
     "output_type": "stream",
     "text": [
      "Quality great, repetition 75/100\n"
     ]
    },
    {
     "data": {
      "application/vnd.jupyter.widget-view+json": {
       "model_id": "3ce73c664cd3451692599a1f9cbf3e37",
       "version_major": 2,
       "version_minor": 0
      },
      "text/plain": [
       "                                                                                                              …"
      ]
     },
     "metadata": {},
     "output_type": "display_data"
    },
    {
     "name": "stdout",
     "output_type": "stream",
     "text": [
      "Quality great, repetition 76/100\n"
     ]
    },
    {
     "data": {
      "application/vnd.jupyter.widget-view+json": {
       "model_id": "54b58eb953a148d1a637c11c61133f1f",
       "version_major": 2,
       "version_minor": 0
      },
      "text/plain": [
       "                                                                                                              …"
      ]
     },
     "metadata": {},
     "output_type": "display_data"
    },
    {
     "name": "stdout",
     "output_type": "stream",
     "text": [
      "Quality great, repetition 77/100\n"
     ]
    },
    {
     "data": {
      "application/vnd.jupyter.widget-view+json": {
       "model_id": "c7a24fb2fa434d15839fb471278e453e",
       "version_major": 2,
       "version_minor": 0
      },
      "text/plain": [
       "                                                                                                              …"
      ]
     },
     "metadata": {},
     "output_type": "display_data"
    },
    {
     "name": "stdout",
     "output_type": "stream",
     "text": [
      "Quality great, repetition 78/100\n"
     ]
    },
    {
     "data": {
      "application/vnd.jupyter.widget-view+json": {
       "model_id": "d3a6068fa7044adaaac90ceb68125470",
       "version_major": 2,
       "version_minor": 0
      },
      "text/plain": [
       "                                                                                                              …"
      ]
     },
     "metadata": {},
     "output_type": "display_data"
    },
    {
     "name": "stdout",
     "output_type": "stream",
     "text": [
      "Quality great, repetition 79/100\n"
     ]
    },
    {
     "data": {
      "application/vnd.jupyter.widget-view+json": {
       "model_id": "a10d36eed0d64629a507a55bc1e4aede",
       "version_major": 2,
       "version_minor": 0
      },
      "text/plain": [
       "                                                                                                              …"
      ]
     },
     "metadata": {},
     "output_type": "display_data"
    },
    {
     "name": "stdout",
     "output_type": "stream",
     "text": [
      "Quality great, repetition 80/100\n"
     ]
    },
    {
     "data": {
      "application/vnd.jupyter.widget-view+json": {
       "model_id": "6093fb156bb743d38ad9d4253f1d422e",
       "version_major": 2,
       "version_minor": 0
      },
      "text/plain": [
       "                                                                                                              …"
      ]
     },
     "metadata": {},
     "output_type": "display_data"
    },
    {
     "name": "stdout",
     "output_type": "stream",
     "text": [
      "Quality great, repetition 81/100\n"
     ]
    },
    {
     "data": {
      "application/vnd.jupyter.widget-view+json": {
       "model_id": "f4d5570f7b0c4790bf1b2ea3dc284e8a",
       "version_major": 2,
       "version_minor": 0
      },
      "text/plain": [
       "                                                                                                              …"
      ]
     },
     "metadata": {},
     "output_type": "display_data"
    },
    {
     "name": "stdout",
     "output_type": "stream",
     "text": [
      "Quality great, repetition 82/100\n"
     ]
    },
    {
     "data": {
      "application/vnd.jupyter.widget-view+json": {
       "model_id": "402428e561b642a29c0af4c235c9873a",
       "version_major": 2,
       "version_minor": 0
      },
      "text/plain": [
       "                                                                                                              …"
      ]
     },
     "metadata": {},
     "output_type": "display_data"
    },
    {
     "name": "stdout",
     "output_type": "stream",
     "text": [
      "Quality great, repetition 83/100\n"
     ]
    },
    {
     "data": {
      "application/vnd.jupyter.widget-view+json": {
       "model_id": "bf014aa07f83472c972341c4c74b6423",
       "version_major": 2,
       "version_minor": 0
      },
      "text/plain": [
       "                                                                                                              …"
      ]
     },
     "metadata": {},
     "output_type": "display_data"
    },
    {
     "name": "stdout",
     "output_type": "stream",
     "text": [
      "Quality great, repetition 84/100\n"
     ]
    },
    {
     "data": {
      "application/vnd.jupyter.widget-view+json": {
       "model_id": "4fb6c038d8f84f64b58543cf09de2f16",
       "version_major": 2,
       "version_minor": 0
      },
      "text/plain": [
       "                                                                                                              …"
      ]
     },
     "metadata": {},
     "output_type": "display_data"
    },
    {
     "name": "stdout",
     "output_type": "stream",
     "text": [
      "Quality great, repetition 85/100\n"
     ]
    },
    {
     "data": {
      "application/vnd.jupyter.widget-view+json": {
       "model_id": "2b586730ae7f447d91f5131b913ef3cd",
       "version_major": 2,
       "version_minor": 0
      },
      "text/plain": [
       "                                                                                                              …"
      ]
     },
     "metadata": {},
     "output_type": "display_data"
    },
    {
     "name": "stdout",
     "output_type": "stream",
     "text": [
      "Quality great, repetition 86/100\n"
     ]
    },
    {
     "data": {
      "application/vnd.jupyter.widget-view+json": {
       "model_id": "dcde2454d92b4bdd973a8cdbf73033a2",
       "version_major": 2,
       "version_minor": 0
      },
      "text/plain": [
       "                                                                                                              …"
      ]
     },
     "metadata": {},
     "output_type": "display_data"
    },
    {
     "name": "stdout",
     "output_type": "stream",
     "text": [
      "Quality great, repetition 87/100\n"
     ]
    },
    {
     "data": {
      "application/vnd.jupyter.widget-view+json": {
       "model_id": "3d91e5fcba9b4d219d20e24d92f7f84a",
       "version_major": 2,
       "version_minor": 0
      },
      "text/plain": [
       "                                                                                                              …"
      ]
     },
     "metadata": {},
     "output_type": "display_data"
    },
    {
     "name": "stdout",
     "output_type": "stream",
     "text": [
      "Quality great, repetition 88/100\n"
     ]
    },
    {
     "data": {
      "application/vnd.jupyter.widget-view+json": {
       "model_id": "e227321e8a604ed38a5795a9b062facd",
       "version_major": 2,
       "version_minor": 0
      },
      "text/plain": [
       "                                                                                                              …"
      ]
     },
     "metadata": {},
     "output_type": "display_data"
    },
    {
     "name": "stdout",
     "output_type": "stream",
     "text": [
      "Quality great, repetition 89/100\n"
     ]
    },
    {
     "data": {
      "application/vnd.jupyter.widget-view+json": {
       "model_id": "a867a31e2b9e497eb4546446e82eca5c",
       "version_major": 2,
       "version_minor": 0
      },
      "text/plain": [
       "                                                                                                              …"
      ]
     },
     "metadata": {},
     "output_type": "display_data"
    },
    {
     "name": "stdout",
     "output_type": "stream",
     "text": [
      "Quality great, repetition 90/100\n"
     ]
    },
    {
     "data": {
      "application/vnd.jupyter.widget-view+json": {
       "model_id": "a6f43cafc14649a3a1bd07819e659185",
       "version_major": 2,
       "version_minor": 0
      },
      "text/plain": [
       "                                                                                                              …"
      ]
     },
     "metadata": {},
     "output_type": "display_data"
    },
    {
     "name": "stdout",
     "output_type": "stream",
     "text": [
      "Quality great, repetition 91/100\n"
     ]
    },
    {
     "data": {
      "application/vnd.jupyter.widget-view+json": {
       "model_id": "ed89da82647744babefa40fd08256cb6",
       "version_major": 2,
       "version_minor": 0
      },
      "text/plain": [
       "                                                                                                              …"
      ]
     },
     "metadata": {},
     "output_type": "display_data"
    },
    {
     "name": "stdout",
     "output_type": "stream",
     "text": [
      "Quality great, repetition 92/100\n"
     ]
    },
    {
     "data": {
      "application/vnd.jupyter.widget-view+json": {
       "model_id": "028991e710d74747bdcd73b087152e6a",
       "version_major": 2,
       "version_minor": 0
      },
      "text/plain": [
       "                                                                                                              …"
      ]
     },
     "metadata": {},
     "output_type": "display_data"
    },
    {
     "name": "stdout",
     "output_type": "stream",
     "text": [
      "Quality great, repetition 93/100\n"
     ]
    },
    {
     "data": {
      "application/vnd.jupyter.widget-view+json": {
       "model_id": "a182c67233a34b60bac7737b43ab5dbf",
       "version_major": 2,
       "version_minor": 0
      },
      "text/plain": [
       "                                                                                                              …"
      ]
     },
     "metadata": {},
     "output_type": "display_data"
    },
    {
     "name": "stdout",
     "output_type": "stream",
     "text": [
      "Quality great, repetition 94/100\n"
     ]
    },
    {
     "data": {
      "application/vnd.jupyter.widget-view+json": {
       "model_id": "179d9527750a4812836c126a2cb5f276",
       "version_major": 2,
       "version_minor": 0
      },
      "text/plain": [
       "                                                                                                              …"
      ]
     },
     "metadata": {},
     "output_type": "display_data"
    },
    {
     "name": "stdout",
     "output_type": "stream",
     "text": [
      "Quality great, repetition 95/100\n"
     ]
    },
    {
     "data": {
      "application/vnd.jupyter.widget-view+json": {
       "model_id": "71f4523219524ad385366afdf1b82c47",
       "version_major": 2,
       "version_minor": 0
      },
      "text/plain": [
       "                                                                                                              …"
      ]
     },
     "metadata": {},
     "output_type": "display_data"
    },
    {
     "name": "stdout",
     "output_type": "stream",
     "text": [
      "Quality great, repetition 96/100\n"
     ]
    },
    {
     "data": {
      "application/vnd.jupyter.widget-view+json": {
       "model_id": "b02205c10ae04a4ab51908c48753411c",
       "version_major": 2,
       "version_minor": 0
      },
      "text/plain": [
       "                                                                                                              …"
      ]
     },
     "metadata": {},
     "output_type": "display_data"
    },
    {
     "name": "stdout",
     "output_type": "stream",
     "text": [
      "Quality great, repetition 97/100\n"
     ]
    },
    {
     "data": {
      "application/vnd.jupyter.widget-view+json": {
       "model_id": "491c59fd51dc4120ad19657e5ba94754",
       "version_major": 2,
       "version_minor": 0
      },
      "text/plain": [
       "                                                                                                              …"
      ]
     },
     "metadata": {},
     "output_type": "display_data"
    },
    {
     "name": "stdout",
     "output_type": "stream",
     "text": [
      "Quality great, repetition 98/100\n"
     ]
    },
    {
     "data": {
      "application/vnd.jupyter.widget-view+json": {
       "model_id": "a5fd1fc808954508aaa7e3afdbee0343",
       "version_major": 2,
       "version_minor": 0
      },
      "text/plain": [
       "                                                                                                              …"
      ]
     },
     "metadata": {},
     "output_type": "display_data"
    },
    {
     "name": "stdout",
     "output_type": "stream",
     "text": [
      "Quality great, repetition 99/100\n",
      "Using best quality great\n",
      "Saved to batch_second/very high_50.txt\n",
      "Saved to batch_second/very high_50.obj\n",
      "Saved to batch_second/very high_50_fixed.txt\n",
      "Saved to batch_second/very high_50_fixed.obj\n",
      "Fibre volume fraction: 60\n",
      "Using device mps\n"
     ]
    },
    {
     "data": {
      "application/vnd.jupyter.widget-view+json": {
       "model_id": "8197f26515654f3faa6993f6fd4833e4",
       "version_major": 2,
       "version_minor": 0
      },
      "text/plain": [
       "                                                                                                              …"
      ]
     },
     "metadata": {},
     "output_type": "display_data"
    },
    {
     "name": "stdout",
     "output_type": "stream",
     "text": [
      "Quality bad, repetition 0/10\n"
     ]
    },
    {
     "data": {
      "application/vnd.jupyter.widget-view+json": {
       "model_id": "bd3a8dcc0f29473f9cb3eee36acdfea1",
       "version_major": 2,
       "version_minor": 0
      },
      "text/plain": [
       "                                                                                                              …"
      ]
     },
     "metadata": {},
     "output_type": "display_data"
    },
    {
     "name": "stdout",
     "output_type": "stream",
     "text": [
      "Quality great, repetition 1/10\n"
     ]
    },
    {
     "data": {
      "application/vnd.jupyter.widget-view+json": {
       "model_id": "fe6586226b254a5793c4c40e54eaaee7",
       "version_major": 2,
       "version_minor": 0
      },
      "text/plain": [
       "                                                                                                              …"
      ]
     },
     "metadata": {},
     "output_type": "display_data"
    },
    {
     "name": "stdout",
     "output_type": "stream",
     "text": [
      "Quality great, repetition 2/10\n"
     ]
    },
    {
     "data": {
      "application/vnd.jupyter.widget-view+json": {
       "model_id": "1c5698555d934c12980527940001571e",
       "version_major": 2,
       "version_minor": 0
      },
      "text/plain": [
       "                                                                                                              …"
      ]
     },
     "metadata": {},
     "output_type": "display_data"
    },
    {
     "name": "stdout",
     "output_type": "stream",
     "text": [
      "Quality perfect, repetition 3/10\n",
      "Misalignment: very low\n"
     ]
    },
    {
     "data": {
      "application/vnd.jupyter.widget-view+json": {
       "model_id": "6d1af5d2267044598c1f3c0c85ee4902",
       "version_major": 2,
       "version_minor": 0
      },
      "text/plain": [
       "                                                                                                              …"
      ]
     },
     "metadata": {},
     "output_type": "display_data"
    },
    {
     "name": "stdout",
     "output_type": "stream",
     "text": [
      "Quality perfect, repetition 0/10\n"
     ]
    },
    {
     "data": {
      "application/vnd.jupyter.widget-view+json": {
       "model_id": "628df44b7af24408a7930647278a6732",
       "version_major": 2,
       "version_minor": 0
      },
      "text/plain": [
       "                                                                                                              …"
      ]
     },
     "metadata": {},
     "output_type": "display_data"
    },
    {
     "name": "stdout",
     "output_type": "stream",
     "text": [
      "Quality great, repetition 0/100\n"
     ]
    },
    {
     "data": {
      "application/vnd.jupyter.widget-view+json": {
       "model_id": "14b26e5c4d284124b82f494ab685a150",
       "version_major": 2,
       "version_minor": 0
      },
      "text/plain": [
       "                                                                                                              …"
      ]
     },
     "metadata": {},
     "output_type": "display_data"
    },
    {
     "name": "stdout",
     "output_type": "stream",
     "text": [
      "Quality perfect, repetition 1/100\n",
      "Saved to batch_second/very low_60.txt\n",
      "Saved to batch_second/very low_60.obj\n",
      "Saved to batch_second/very low_60_fixed.txt\n",
      "Saved to batch_second/very low_60_fixed.obj\n",
      "Misalignment: low\n"
     ]
    },
    {
     "data": {
      "application/vnd.jupyter.widget-view+json": {
       "model_id": "ba350c3ef59b4fef957d79a85ae9ea58",
       "version_major": 2,
       "version_minor": 0
      },
      "text/plain": [
       "                                                                                                              …"
      ]
     },
     "metadata": {},
     "output_type": "display_data"
    },
    {
     "name": "stdout",
     "output_type": "stream",
     "text": [
      "Quality great, repetition 0/10\n"
     ]
    },
    {
     "data": {
      "application/vnd.jupyter.widget-view+json": {
       "model_id": "6016c736b78d4d39b2c4a00ec7261172",
       "version_major": 2,
       "version_minor": 0
      },
      "text/plain": [
       "                                                                                                              …"
      ]
     },
     "metadata": {},
     "output_type": "display_data"
    },
    {
     "name": "stdout",
     "output_type": "stream",
     "text": [
      "Quality great, repetition 1/10\n"
     ]
    },
    {
     "data": {
      "application/vnd.jupyter.widget-view+json": {
       "model_id": "eeb4ef1cf5034a798c8f23dd6df4eb89",
       "version_major": 2,
       "version_minor": 0
      },
      "text/plain": [
       "                                                                                                              …"
      ]
     },
     "metadata": {},
     "output_type": "display_data"
    },
    {
     "name": "stdout",
     "output_type": "stream",
     "text": [
      "Quality perfect, repetition 2/10\n"
     ]
    },
    {
     "data": {
      "application/vnd.jupyter.widget-view+json": {
       "model_id": "6600c10a1f3946058abf63d5745baae3",
       "version_major": 2,
       "version_minor": 0
      },
      "text/plain": [
       "                                                                                                              …"
      ]
     },
     "metadata": {},
     "output_type": "display_data"
    },
    {
     "name": "stdout",
     "output_type": "stream",
     "text": [
      "Quality bad, repetition 0/100\n"
     ]
    },
    {
     "data": {
      "application/vnd.jupyter.widget-view+json": {
       "model_id": "f8aafe32cd204a6683d7e4783d2a51e4",
       "version_major": 2,
       "version_minor": 0
      },
      "text/plain": [
       "                                                                                                              …"
      ]
     },
     "metadata": {},
     "output_type": "display_data"
    },
    {
     "name": "stdout",
     "output_type": "stream",
     "text": [
      "Quality great, repetition 1/100\n"
     ]
    },
    {
     "data": {
      "application/vnd.jupyter.widget-view+json": {
       "model_id": "f16c8531c775497ebc64c8c7752da6cd",
       "version_major": 2,
       "version_minor": 0
      },
      "text/plain": [
       "                                                                                                              …"
      ]
     },
     "metadata": {},
     "output_type": "display_data"
    },
    {
     "name": "stdout",
     "output_type": "stream",
     "text": [
      "Quality great, repetition 2/100\n"
     ]
    },
    {
     "data": {
      "application/vnd.jupyter.widget-view+json": {
       "model_id": "43d2b39312984b5e91459a95cd9a7468",
       "version_major": 2,
       "version_minor": 0
      },
      "text/plain": [
       "                                                                                                              …"
      ]
     },
     "metadata": {},
     "output_type": "display_data"
    },
    {
     "name": "stdout",
     "output_type": "stream",
     "text": [
      "Quality great, repetition 3/100\n"
     ]
    },
    {
     "data": {
      "application/vnd.jupyter.widget-view+json": {
       "model_id": "4babc2c2cc63409e9ec37fc2e38131cf",
       "version_major": 2,
       "version_minor": 0
      },
      "text/plain": [
       "                                                                                                              …"
      ]
     },
     "metadata": {},
     "output_type": "display_data"
    },
    {
     "name": "stdout",
     "output_type": "stream",
     "text": [
      "Quality great, repetition 4/100\n"
     ]
    },
    {
     "data": {
      "application/vnd.jupyter.widget-view+json": {
       "model_id": "9176533f7982439ab101f8284ca4b4b9",
       "version_major": 2,
       "version_minor": 0
      },
      "text/plain": [
       "                                                                                                              …"
      ]
     },
     "metadata": {},
     "output_type": "display_data"
    },
    {
     "name": "stdout",
     "output_type": "stream",
     "text": [
      "Quality great, repetition 5/100\n"
     ]
    },
    {
     "data": {
      "application/vnd.jupyter.widget-view+json": {
       "model_id": "87fc062e6ba14f5983f84d773ca866b8",
       "version_major": 2,
       "version_minor": 0
      },
      "text/plain": [
       "                                                                                                              …"
      ]
     },
     "metadata": {},
     "output_type": "display_data"
    },
    {
     "name": "stdout",
     "output_type": "stream",
     "text": [
      "Quality great, repetition 6/100\n"
     ]
    },
    {
     "data": {
      "application/vnd.jupyter.widget-view+json": {
       "model_id": "90e14dbafba0461d8131a093ce086633",
       "version_major": 2,
       "version_minor": 0
      },
      "text/plain": [
       "                                                                                                              …"
      ]
     },
     "metadata": {},
     "output_type": "display_data"
    },
    {
     "name": "stdout",
     "output_type": "stream",
     "text": [
      "Quality great, repetition 7/100\n"
     ]
    },
    {
     "data": {
      "application/vnd.jupyter.widget-view+json": {
       "model_id": "4a008abe8e0043dfb44186aaf306161e",
       "version_major": 2,
       "version_minor": 0
      },
      "text/plain": [
       "                                                                                                              …"
      ]
     },
     "metadata": {},
     "output_type": "display_data"
    },
    {
     "name": "stdout",
     "output_type": "stream",
     "text": [
      "Quality great, repetition 8/100\n"
     ]
    },
    {
     "data": {
      "application/vnd.jupyter.widget-view+json": {
       "model_id": "1f7d24c0f7e54b9ebec2e825c873c005",
       "version_major": 2,
       "version_minor": 0
      },
      "text/plain": [
       "                                                                                                              …"
      ]
     },
     "metadata": {},
     "output_type": "display_data"
    },
    {
     "name": "stdout",
     "output_type": "stream",
     "text": [
      "Quality great, repetition 9/100\n"
     ]
    },
    {
     "data": {
      "application/vnd.jupyter.widget-view+json": {
       "model_id": "4b5da7e095ca4e7ab6af60160165579a",
       "version_major": 2,
       "version_minor": 0
      },
      "text/plain": [
       "                                                                                                              …"
      ]
     },
     "metadata": {},
     "output_type": "display_data"
    },
    {
     "name": "stdout",
     "output_type": "stream",
     "text": [
      "Quality great, repetition 10/100\n"
     ]
    },
    {
     "data": {
      "application/vnd.jupyter.widget-view+json": {
       "model_id": "fd265296687f4af1a25811cf3653572b",
       "version_major": 2,
       "version_minor": 0
      },
      "text/plain": [
       "                                                                                                              …"
      ]
     },
     "metadata": {},
     "output_type": "display_data"
    },
    {
     "name": "stdout",
     "output_type": "stream",
     "text": [
      "Quality great, repetition 11/100\n"
     ]
    },
    {
     "data": {
      "application/vnd.jupyter.widget-view+json": {
       "model_id": "b0bc7b1e7e7d406fb5c2de1e83d095ad",
       "version_major": 2,
       "version_minor": 0
      },
      "text/plain": [
       "                                                                                                              …"
      ]
     },
     "metadata": {},
     "output_type": "display_data"
    },
    {
     "name": "stdout",
     "output_type": "stream",
     "text": [
      "Quality great, repetition 12/100\n"
     ]
    },
    {
     "data": {
      "application/vnd.jupyter.widget-view+json": {
       "model_id": "83758c00552c4d1b8e566368b0070a41",
       "version_major": 2,
       "version_minor": 0
      },
      "text/plain": [
       "                                                                                                              …"
      ]
     },
     "metadata": {},
     "output_type": "display_data"
    },
    {
     "name": "stdout",
     "output_type": "stream",
     "text": [
      "Quality great, repetition 13/100\n"
     ]
    },
    {
     "data": {
      "application/vnd.jupyter.widget-view+json": {
       "model_id": "422e1767468140048f51f1baea128fe6",
       "version_major": 2,
       "version_minor": 0
      },
      "text/plain": [
       "                                                                                                              …"
      ]
     },
     "metadata": {},
     "output_type": "display_data"
    },
    {
     "name": "stdout",
     "output_type": "stream",
     "text": [
      "Quality perfect, repetition 14/100\n",
      "Saved to batch_second/low_60.txt\n",
      "Saved to batch_second/low_60.obj\n",
      "Saved to batch_second/low_60_fixed.txt\n",
      "Saved to batch_second/low_60_fixed.obj\n",
      "Misalignment: moderate\n"
     ]
    },
    {
     "data": {
      "application/vnd.jupyter.widget-view+json": {
       "model_id": "2c9e9f12e1bf4207963e051d5c8b6d25",
       "version_major": 2,
       "version_minor": 0
      },
      "text/plain": [
       "                                                                                                              …"
      ]
     },
     "metadata": {},
     "output_type": "display_data"
    },
    {
     "name": "stdout",
     "output_type": "stream",
     "text": [
      "Quality bad, repetition 0/10\n"
     ]
    },
    {
     "data": {
      "application/vnd.jupyter.widget-view+json": {
       "model_id": "91097194ad924ebe8d8b7ce2a718f6fe",
       "version_major": 2,
       "version_minor": 0
      },
      "text/plain": [
       "                                                                                                              …"
      ]
     },
     "metadata": {},
     "output_type": "display_data"
    },
    {
     "name": "stdout",
     "output_type": "stream",
     "text": [
      "Quality perfect, repetition 1/10\n"
     ]
    },
    {
     "data": {
      "application/vnd.jupyter.widget-view+json": {
       "model_id": "9dd1dd1790524e7cb14e6a73d1322b77",
       "version_major": 2,
       "version_minor": 0
      },
      "text/plain": [
       "                                                                                                              …"
      ]
     },
     "metadata": {},
     "output_type": "display_data"
    },
    {
     "name": "stdout",
     "output_type": "stream",
     "text": [
      "Quality bad, repetition 0/100\n"
     ]
    },
    {
     "data": {
      "application/vnd.jupyter.widget-view+json": {
       "model_id": "5ed27224333b4aad87a93ef9b3c8b88d",
       "version_major": 2,
       "version_minor": 0
      },
      "text/plain": [
       "                                                                                                              …"
      ]
     },
     "metadata": {},
     "output_type": "display_data"
    },
    {
     "name": "stdout",
     "output_type": "stream",
     "text": [
      "Quality great, repetition 1/100\n"
     ]
    },
    {
     "data": {
      "application/vnd.jupyter.widget-view+json": {
       "model_id": "48e42ac82086493aba521abc9a31a7df",
       "version_major": 2,
       "version_minor": 0
      },
      "text/plain": [
       "                                                                                                              …"
      ]
     },
     "metadata": {},
     "output_type": "display_data"
    },
    {
     "name": "stdout",
     "output_type": "stream",
     "text": [
      "Quality great, repetition 2/100\n"
     ]
    },
    {
     "data": {
      "application/vnd.jupyter.widget-view+json": {
       "model_id": "d1027a3536814f169b8b24124e227edc",
       "version_major": 2,
       "version_minor": 0
      },
      "text/plain": [
       "                                                                                                              …"
      ]
     },
     "metadata": {},
     "output_type": "display_data"
    },
    {
     "name": "stdout",
     "output_type": "stream",
     "text": [
      "Quality great, repetition 3/100\n"
     ]
    },
    {
     "data": {
      "application/vnd.jupyter.widget-view+json": {
       "model_id": "e75ae0ef76a8493f8c81f06cebf60e8c",
       "version_major": 2,
       "version_minor": 0
      },
      "text/plain": [
       "                                                                                                              …"
      ]
     },
     "metadata": {},
     "output_type": "display_data"
    },
    {
     "name": "stdout",
     "output_type": "stream",
     "text": [
      "Quality great, repetition 4/100\n"
     ]
    },
    {
     "data": {
      "application/vnd.jupyter.widget-view+json": {
       "model_id": "fee6374611d64dab820c2d9d91f60e22",
       "version_major": 2,
       "version_minor": 0
      },
      "text/plain": [
       "                                                                                                              …"
      ]
     },
     "metadata": {},
     "output_type": "display_data"
    },
    {
     "name": "stdout",
     "output_type": "stream",
     "text": [
      "Quality great, repetition 5/100\n"
     ]
    },
    {
     "data": {
      "application/vnd.jupyter.widget-view+json": {
       "model_id": "4f7eb5345cd84fcab570e29e4c9c6704",
       "version_major": 2,
       "version_minor": 0
      },
      "text/plain": [
       "                                                                                                              …"
      ]
     },
     "metadata": {},
     "output_type": "display_data"
    },
    {
     "name": "stdout",
     "output_type": "stream",
     "text": [
      "Quality great, repetition 6/100\n"
     ]
    },
    {
     "data": {
      "application/vnd.jupyter.widget-view+json": {
       "model_id": "ba2a9b3f79d54ac199918e730768815b",
       "version_major": 2,
       "version_minor": 0
      },
      "text/plain": [
       "                                                                                                              …"
      ]
     },
     "metadata": {},
     "output_type": "display_data"
    },
    {
     "name": "stdout",
     "output_type": "stream",
     "text": [
      "Quality great, repetition 7/100\n"
     ]
    },
    {
     "data": {
      "application/vnd.jupyter.widget-view+json": {
       "model_id": "809ba95c05be447a89061d69fb45b68a",
       "version_major": 2,
       "version_minor": 0
      },
      "text/plain": [
       "                                                                                                              …"
      ]
     },
     "metadata": {},
     "output_type": "display_data"
    },
    {
     "name": "stdout",
     "output_type": "stream",
     "text": [
      "Quality great, repetition 8/100\n"
     ]
    },
    {
     "data": {
      "application/vnd.jupyter.widget-view+json": {
       "model_id": "6f46bef17526403d95c4d129cd313f8c",
       "version_major": 2,
       "version_minor": 0
      },
      "text/plain": [
       "                                                                                                              …"
      ]
     },
     "metadata": {},
     "output_type": "display_data"
    },
    {
     "name": "stdout",
     "output_type": "stream",
     "text": [
      "Quality great, repetition 9/100\n"
     ]
    },
    {
     "data": {
      "application/vnd.jupyter.widget-view+json": {
       "model_id": "cd0b620e5144432490bd5f446e4e5fdb",
       "version_major": 2,
       "version_minor": 0
      },
      "text/plain": [
       "                                                                                                              …"
      ]
     },
     "metadata": {},
     "output_type": "display_data"
    },
    {
     "name": "stdout",
     "output_type": "stream",
     "text": [
      "Quality great, repetition 10/100\n"
     ]
    },
    {
     "data": {
      "application/vnd.jupyter.widget-view+json": {
       "model_id": "2844620db0f842b8914f35193f56a9b8",
       "version_major": 2,
       "version_minor": 0
      },
      "text/plain": [
       "                                                                                                              …"
      ]
     },
     "metadata": {},
     "output_type": "display_data"
    },
    {
     "name": "stdout",
     "output_type": "stream",
     "text": [
      "Quality great, repetition 11/100\n"
     ]
    },
    {
     "data": {
      "application/vnd.jupyter.widget-view+json": {
       "model_id": "ae0ed5736c1d45f5817f907cd088d235",
       "version_major": 2,
       "version_minor": 0
      },
      "text/plain": [
       "                                                                                                              …"
      ]
     },
     "metadata": {},
     "output_type": "display_data"
    },
    {
     "name": "stdout",
     "output_type": "stream",
     "text": [
      "Quality great, repetition 12/100\n"
     ]
    },
    {
     "data": {
      "application/vnd.jupyter.widget-view+json": {
       "model_id": "9fd7bea969c546a8b4dc7e81b7107667",
       "version_major": 2,
       "version_minor": 0
      },
      "text/plain": [
       "                                                                                                              …"
      ]
     },
     "metadata": {},
     "output_type": "display_data"
    },
    {
     "name": "stdout",
     "output_type": "stream",
     "text": [
      "Quality great, repetition 13/100\n"
     ]
    },
    {
     "data": {
      "application/vnd.jupyter.widget-view+json": {
       "model_id": "2162631c833e4325abfe1f8e26b6223c",
       "version_major": 2,
       "version_minor": 0
      },
      "text/plain": [
       "                                                                                                              …"
      ]
     },
     "metadata": {},
     "output_type": "display_data"
    },
    {
     "name": "stdout",
     "output_type": "stream",
     "text": [
      "Quality great, repetition 14/100\n"
     ]
    },
    {
     "data": {
      "application/vnd.jupyter.widget-view+json": {
       "model_id": "2d6be3dfd14b4724a0582e1fa22fa5dd",
       "version_major": 2,
       "version_minor": 0
      },
      "text/plain": [
       "                                                                                                              …"
      ]
     },
     "metadata": {},
     "output_type": "display_data"
    },
    {
     "name": "stdout",
     "output_type": "stream",
     "text": [
      "Quality great, repetition 15/100\n"
     ]
    },
    {
     "data": {
      "application/vnd.jupyter.widget-view+json": {
       "model_id": "31a14299d9f64c1f92027ee0830c6f05",
       "version_major": 2,
       "version_minor": 0
      },
      "text/plain": [
       "                                                                                                              …"
      ]
     },
     "metadata": {},
     "output_type": "display_data"
    },
    {
     "name": "stdout",
     "output_type": "stream",
     "text": [
      "Quality great, repetition 16/100\n"
     ]
    },
    {
     "data": {
      "application/vnd.jupyter.widget-view+json": {
       "model_id": "552586a3234c44c0aa2f2be4eca59100",
       "version_major": 2,
       "version_minor": 0
      },
      "text/plain": [
       "                                                                                                              …"
      ]
     },
     "metadata": {},
     "output_type": "display_data"
    },
    {
     "name": "stdout",
     "output_type": "stream",
     "text": [
      "Quality great, repetition 17/100\n"
     ]
    },
    {
     "data": {
      "application/vnd.jupyter.widget-view+json": {
       "model_id": "2a0d8cdbda5a4113b90d969e48a64020",
       "version_major": 2,
       "version_minor": 0
      },
      "text/plain": [
       "                                                                                                              …"
      ]
     },
     "metadata": {},
     "output_type": "display_data"
    },
    {
     "name": "stdout",
     "output_type": "stream",
     "text": [
      "Quality great, repetition 18/100\n"
     ]
    },
    {
     "data": {
      "application/vnd.jupyter.widget-view+json": {
       "model_id": "70263de680d241ce9d670d208873f58e",
       "version_major": 2,
       "version_minor": 0
      },
      "text/plain": [
       "                                                                                                              …"
      ]
     },
     "metadata": {},
     "output_type": "display_data"
    },
    {
     "name": "stdout",
     "output_type": "stream",
     "text": [
      "Quality great, repetition 19/100\n"
     ]
    },
    {
     "data": {
      "application/vnd.jupyter.widget-view+json": {
       "model_id": "ce0e2e254a534014953d708b34338130",
       "version_major": 2,
       "version_minor": 0
      },
      "text/plain": [
       "                                                                                                              …"
      ]
     },
     "metadata": {},
     "output_type": "display_data"
    },
    {
     "name": "stdout",
     "output_type": "stream",
     "text": [
      "Quality great, repetition 20/100\n"
     ]
    },
    {
     "data": {
      "application/vnd.jupyter.widget-view+json": {
       "model_id": "dafc2d0dd433453798e2b59ca594be6b",
       "version_major": 2,
       "version_minor": 0
      },
      "text/plain": [
       "                                                                                                              …"
      ]
     },
     "metadata": {},
     "output_type": "display_data"
    },
    {
     "name": "stdout",
     "output_type": "stream",
     "text": [
      "Quality great, repetition 21/100\n"
     ]
    },
    {
     "data": {
      "application/vnd.jupyter.widget-view+json": {
       "model_id": "de0f5eaf0d1a43bbbb16daa1861a116f",
       "version_major": 2,
       "version_minor": 0
      },
      "text/plain": [
       "                                                                                                              …"
      ]
     },
     "metadata": {},
     "output_type": "display_data"
    },
    {
     "name": "stdout",
     "output_type": "stream",
     "text": [
      "Quality great, repetition 22/100\n"
     ]
    },
    {
     "data": {
      "application/vnd.jupyter.widget-view+json": {
       "model_id": "0e98766474e64bcaa3395e677d9458a5",
       "version_major": 2,
       "version_minor": 0
      },
      "text/plain": [
       "                                                                                                              …"
      ]
     },
     "metadata": {},
     "output_type": "display_data"
    },
    {
     "name": "stdout",
     "output_type": "stream",
     "text": [
      "Quality great, repetition 23/100\n"
     ]
    },
    {
     "data": {
      "application/vnd.jupyter.widget-view+json": {
       "model_id": "6c4444c330234e3482f3792ea0da0ccc",
       "version_major": 2,
       "version_minor": 0
      },
      "text/plain": [
       "                                                                                                              …"
      ]
     },
     "metadata": {},
     "output_type": "display_data"
    },
    {
     "name": "stdout",
     "output_type": "stream",
     "text": [
      "Quality great, repetition 24/100\n"
     ]
    },
    {
     "data": {
      "application/vnd.jupyter.widget-view+json": {
       "model_id": "867fa31a9a2449dea1758d80ba2a78c1",
       "version_major": 2,
       "version_minor": 0
      },
      "text/plain": [
       "                                                                                                              …"
      ]
     },
     "metadata": {},
     "output_type": "display_data"
    },
    {
     "name": "stdout",
     "output_type": "stream",
     "text": [
      "Quality great, repetition 25/100\n"
     ]
    },
    {
     "data": {
      "application/vnd.jupyter.widget-view+json": {
       "model_id": "8580a44845894602a39714f5d57fdacb",
       "version_major": 2,
       "version_minor": 0
      },
      "text/plain": [
       "                                                                                                              …"
      ]
     },
     "metadata": {},
     "output_type": "display_data"
    },
    {
     "name": "stdout",
     "output_type": "stream",
     "text": [
      "Quality great, repetition 26/100\n"
     ]
    },
    {
     "data": {
      "application/vnd.jupyter.widget-view+json": {
       "model_id": "b0da967743d940c0b7c417eabad0c410",
       "version_major": 2,
       "version_minor": 0
      },
      "text/plain": [
       "                                                                                                              …"
      ]
     },
     "metadata": {},
     "output_type": "display_data"
    },
    {
     "name": "stdout",
     "output_type": "stream",
     "text": [
      "Quality great, repetition 27/100\n"
     ]
    },
    {
     "data": {
      "application/vnd.jupyter.widget-view+json": {
       "model_id": "c68623eeaace4e418c7ba6542543b12b",
       "version_major": 2,
       "version_minor": 0
      },
      "text/plain": [
       "                                                                                                              …"
      ]
     },
     "metadata": {},
     "output_type": "display_data"
    },
    {
     "name": "stdout",
     "output_type": "stream",
     "text": [
      "Quality great, repetition 28/100\n"
     ]
    },
    {
     "data": {
      "application/vnd.jupyter.widget-view+json": {
       "model_id": "647e4e70319747d69a7ab670cc3f7d07",
       "version_major": 2,
       "version_minor": 0
      },
      "text/plain": [
       "                                                                                                              …"
      ]
     },
     "metadata": {},
     "output_type": "display_data"
    },
    {
     "name": "stdout",
     "output_type": "stream",
     "text": [
      "Quality great, repetition 29/100\n"
     ]
    },
    {
     "data": {
      "application/vnd.jupyter.widget-view+json": {
       "model_id": "d81adacad034442cbecf5f362297a7f0",
       "version_major": 2,
       "version_minor": 0
      },
      "text/plain": [
       "                                                                                                              …"
      ]
     },
     "metadata": {},
     "output_type": "display_data"
    },
    {
     "name": "stdout",
     "output_type": "stream",
     "text": [
      "Quality great, repetition 30/100\n"
     ]
    },
    {
     "data": {
      "application/vnd.jupyter.widget-view+json": {
       "model_id": "ed45d4a42cfe494e9e784c2d872c9d2f",
       "version_major": 2,
       "version_minor": 0
      },
      "text/plain": [
       "                                                                                                              …"
      ]
     },
     "metadata": {},
     "output_type": "display_data"
    },
    {
     "name": "stdout",
     "output_type": "stream",
     "text": [
      "Quality great, repetition 31/100\n"
     ]
    },
    {
     "data": {
      "application/vnd.jupyter.widget-view+json": {
       "model_id": "27e70583a8f343bfa5510181b4087c07",
       "version_major": 2,
       "version_minor": 0
      },
      "text/plain": [
       "                                                                                                              …"
      ]
     },
     "metadata": {},
     "output_type": "display_data"
    },
    {
     "name": "stdout",
     "output_type": "stream",
     "text": [
      "Quality great, repetition 32/100\n"
     ]
    },
    {
     "data": {
      "application/vnd.jupyter.widget-view+json": {
       "model_id": "6186cb0cb72c4d9baf66c5b565688f10",
       "version_major": 2,
       "version_minor": 0
      },
      "text/plain": [
       "                                                                                                              …"
      ]
     },
     "metadata": {},
     "output_type": "display_data"
    },
    {
     "name": "stdout",
     "output_type": "stream",
     "text": [
      "Quality great, repetition 33/100\n"
     ]
    },
    {
     "data": {
      "application/vnd.jupyter.widget-view+json": {
       "model_id": "155de4a4173b40e297e038210f19e20b",
       "version_major": 2,
       "version_minor": 0
      },
      "text/plain": [
       "                                                                                                              …"
      ]
     },
     "metadata": {},
     "output_type": "display_data"
    },
    {
     "name": "stdout",
     "output_type": "stream",
     "text": [
      "Quality great, repetition 34/100\n"
     ]
    },
    {
     "data": {
      "application/vnd.jupyter.widget-view+json": {
       "model_id": "3dd6b95d9f69420b933cc50789a664b3",
       "version_major": 2,
       "version_minor": 0
      },
      "text/plain": [
       "                                                                                                              …"
      ]
     },
     "metadata": {},
     "output_type": "display_data"
    },
    {
     "name": "stdout",
     "output_type": "stream",
     "text": [
      "Quality great, repetition 35/100\n"
     ]
    },
    {
     "data": {
      "application/vnd.jupyter.widget-view+json": {
       "model_id": "b049d0a9b7f24eb584251edb2bd0276b",
       "version_major": 2,
       "version_minor": 0
      },
      "text/plain": [
       "                                                                                                              …"
      ]
     },
     "metadata": {},
     "output_type": "display_data"
    },
    {
     "name": "stdout",
     "output_type": "stream",
     "text": [
      "Quality great, repetition 36/100\n"
     ]
    },
    {
     "data": {
      "application/vnd.jupyter.widget-view+json": {
       "model_id": "497e16718cb746a7b7779676215b8707",
       "version_major": 2,
       "version_minor": 0
      },
      "text/plain": [
       "                                                                                                              …"
      ]
     },
     "metadata": {},
     "output_type": "display_data"
    },
    {
     "name": "stdout",
     "output_type": "stream",
     "text": [
      "Quality great, repetition 37/100\n"
     ]
    },
    {
     "data": {
      "application/vnd.jupyter.widget-view+json": {
       "model_id": "264c7d1a2f8a4e21bdd7988fa379295d",
       "version_major": 2,
       "version_minor": 0
      },
      "text/plain": [
       "                                                                                                              …"
      ]
     },
     "metadata": {},
     "output_type": "display_data"
    },
    {
     "name": "stdout",
     "output_type": "stream",
     "text": [
      "Quality great, repetition 38/100\n"
     ]
    },
    {
     "data": {
      "application/vnd.jupyter.widget-view+json": {
       "model_id": "ebf13cfb15e74065b3420f419cecbdf9",
       "version_major": 2,
       "version_minor": 0
      },
      "text/plain": [
       "                                                                                                              …"
      ]
     },
     "metadata": {},
     "output_type": "display_data"
    },
    {
     "name": "stdout",
     "output_type": "stream",
     "text": [
      "Quality great, repetition 39/100\n"
     ]
    },
    {
     "data": {
      "application/vnd.jupyter.widget-view+json": {
       "model_id": "a712163edaf24d7cb8d768b7b06ec514",
       "version_major": 2,
       "version_minor": 0
      },
      "text/plain": [
       "                                                                                                              …"
      ]
     },
     "metadata": {},
     "output_type": "display_data"
    },
    {
     "name": "stdout",
     "output_type": "stream",
     "text": [
      "Quality great, repetition 40/100\n"
     ]
    },
    {
     "data": {
      "application/vnd.jupyter.widget-view+json": {
       "model_id": "d1ce3ffd7c0f4a658e131aab85c8bfa7",
       "version_major": 2,
       "version_minor": 0
      },
      "text/plain": [
       "                                                                                                              …"
      ]
     },
     "metadata": {},
     "output_type": "display_data"
    },
    {
     "name": "stdout",
     "output_type": "stream",
     "text": [
      "Quality great, repetition 41/100\n"
     ]
    },
    {
     "data": {
      "application/vnd.jupyter.widget-view+json": {
       "model_id": "9581f7bc555948caa8f8cd3b38a2b729",
       "version_major": 2,
       "version_minor": 0
      },
      "text/plain": [
       "                                                                                                              …"
      ]
     },
     "metadata": {},
     "output_type": "display_data"
    },
    {
     "name": "stdout",
     "output_type": "stream",
     "text": [
      "Quality great, repetition 42/100\n"
     ]
    },
    {
     "data": {
      "application/vnd.jupyter.widget-view+json": {
       "model_id": "6e736e8d97ae4f699659c8b54931ae40",
       "version_major": 2,
       "version_minor": 0
      },
      "text/plain": [
       "                                                                                                              …"
      ]
     },
     "metadata": {},
     "output_type": "display_data"
    },
    {
     "name": "stdout",
     "output_type": "stream",
     "text": [
      "Quality great, repetition 43/100\n"
     ]
    },
    {
     "data": {
      "application/vnd.jupyter.widget-view+json": {
       "model_id": "9b62f98d2978477da90f6ee9da7e2d50",
       "version_major": 2,
       "version_minor": 0
      },
      "text/plain": [
       "                                                                                                              …"
      ]
     },
     "metadata": {},
     "output_type": "display_data"
    },
    {
     "name": "stdout",
     "output_type": "stream",
     "text": [
      "Quality great, repetition 44/100\n"
     ]
    },
    {
     "data": {
      "application/vnd.jupyter.widget-view+json": {
       "model_id": "94a29c432db14a678e642d9d6bdcf363",
       "version_major": 2,
       "version_minor": 0
      },
      "text/plain": [
       "                                                                                                              …"
      ]
     },
     "metadata": {},
     "output_type": "display_data"
    },
    {
     "name": "stdout",
     "output_type": "stream",
     "text": [
      "Quality great, repetition 45/100\n"
     ]
    },
    {
     "data": {
      "application/vnd.jupyter.widget-view+json": {
       "model_id": "023f05464b654c2583c744dbac0e7ad4",
       "version_major": 2,
       "version_minor": 0
      },
      "text/plain": [
       "                                                                                                              …"
      ]
     },
     "metadata": {},
     "output_type": "display_data"
    },
    {
     "name": "stdout",
     "output_type": "stream",
     "text": [
      "Quality great, repetition 46/100\n"
     ]
    },
    {
     "data": {
      "application/vnd.jupyter.widget-view+json": {
       "model_id": "87ca84fff8864273a7913f216042d38b",
       "version_major": 2,
       "version_minor": 0
      },
      "text/plain": [
       "                                                                                                              …"
      ]
     },
     "metadata": {},
     "output_type": "display_data"
    },
    {
     "name": "stdout",
     "output_type": "stream",
     "text": [
      "Quality great, repetition 47/100\n"
     ]
    },
    {
     "data": {
      "application/vnd.jupyter.widget-view+json": {
       "model_id": "d80f4b44f7cc4b538f63a81afd87e4f1",
       "version_major": 2,
       "version_minor": 0
      },
      "text/plain": [
       "                                                                                                              …"
      ]
     },
     "metadata": {},
     "output_type": "display_data"
    },
    {
     "name": "stdout",
     "output_type": "stream",
     "text": [
      "Quality great, repetition 48/100\n"
     ]
    },
    {
     "data": {
      "application/vnd.jupyter.widget-view+json": {
       "model_id": "827cffd1a5974ccfab16c15acd766797",
       "version_major": 2,
       "version_minor": 0
      },
      "text/plain": [
       "                                                                                                              …"
      ]
     },
     "metadata": {},
     "output_type": "display_data"
    },
    {
     "name": "stdout",
     "output_type": "stream",
     "text": [
      "Quality great, repetition 49/100\n"
     ]
    },
    {
     "data": {
      "application/vnd.jupyter.widget-view+json": {
       "model_id": "d05ea865cfb6458a9fa0098ee3b49f2b",
       "version_major": 2,
       "version_minor": 0
      },
      "text/plain": [
       "                                                                                                              …"
      ]
     },
     "metadata": {},
     "output_type": "display_data"
    },
    {
     "name": "stdout",
     "output_type": "stream",
     "text": [
      "Quality great, repetition 50/100\n"
     ]
    },
    {
     "data": {
      "application/vnd.jupyter.widget-view+json": {
       "model_id": "9f2bdaa19cde4a0aaacabc79388022d8",
       "version_major": 2,
       "version_minor": 0
      },
      "text/plain": [
       "                                                                                                              …"
      ]
     },
     "metadata": {},
     "output_type": "display_data"
    },
    {
     "name": "stdout",
     "output_type": "stream",
     "text": [
      "Quality great, repetition 51/100\n"
     ]
    },
    {
     "data": {
      "application/vnd.jupyter.widget-view+json": {
       "model_id": "845c2566fe7541f3a4c40f2b8d226ee0",
       "version_major": 2,
       "version_minor": 0
      },
      "text/plain": [
       "                                                                                                              …"
      ]
     },
     "metadata": {},
     "output_type": "display_data"
    },
    {
     "name": "stdout",
     "output_type": "stream",
     "text": [
      "Quality great, repetition 52/100\n"
     ]
    },
    {
     "data": {
      "application/vnd.jupyter.widget-view+json": {
       "model_id": "99cdd033026648d091b96dbe92ec1b08",
       "version_major": 2,
       "version_minor": 0
      },
      "text/plain": [
       "                                                                                                              …"
      ]
     },
     "metadata": {},
     "output_type": "display_data"
    },
    {
     "name": "stdout",
     "output_type": "stream",
     "text": [
      "Quality great, repetition 53/100\n"
     ]
    },
    {
     "data": {
      "application/vnd.jupyter.widget-view+json": {
       "model_id": "cc17283e3b6b4c24b4c6f9e52be8db92",
       "version_major": 2,
       "version_minor": 0
      },
      "text/plain": [
       "                                                                                                              …"
      ]
     },
     "metadata": {},
     "output_type": "display_data"
    },
    {
     "name": "stdout",
     "output_type": "stream",
     "text": [
      "Quality great, repetition 54/100\n"
     ]
    },
    {
     "data": {
      "application/vnd.jupyter.widget-view+json": {
       "model_id": "654ea8b5ac754fbc93642c819bf77c02",
       "version_major": 2,
       "version_minor": 0
      },
      "text/plain": [
       "                                                                                                              …"
      ]
     },
     "metadata": {},
     "output_type": "display_data"
    },
    {
     "name": "stdout",
     "output_type": "stream",
     "text": [
      "Quality great, repetition 55/100\n"
     ]
    },
    {
     "data": {
      "application/vnd.jupyter.widget-view+json": {
       "model_id": "e7a36cdf4fbf4584bc88c5c60d018718",
       "version_major": 2,
       "version_minor": 0
      },
      "text/plain": [
       "                                                                                                              …"
      ]
     },
     "metadata": {},
     "output_type": "display_data"
    },
    {
     "name": "stdout",
     "output_type": "stream",
     "text": [
      "Quality great, repetition 56/100\n"
     ]
    },
    {
     "data": {
      "application/vnd.jupyter.widget-view+json": {
       "model_id": "19f17416c13a4075b5b95cc1200e30f1",
       "version_major": 2,
       "version_minor": 0
      },
      "text/plain": [
       "                                                                                                              …"
      ]
     },
     "metadata": {},
     "output_type": "display_data"
    },
    {
     "name": "stdout",
     "output_type": "stream",
     "text": [
      "Quality great, repetition 57/100\n"
     ]
    },
    {
     "data": {
      "application/vnd.jupyter.widget-view+json": {
       "model_id": "98c1b0351d794099bb2fae30eba9de34",
       "version_major": 2,
       "version_minor": 0
      },
      "text/plain": [
       "                                                                                                              …"
      ]
     },
     "metadata": {},
     "output_type": "display_data"
    },
    {
     "name": "stdout",
     "output_type": "stream",
     "text": [
      "Quality great, repetition 58/100\n"
     ]
    },
    {
     "data": {
      "application/vnd.jupyter.widget-view+json": {
       "model_id": "d9f0ecb026c74898a35c0ec0b4f03b4c",
       "version_major": 2,
       "version_minor": 0
      },
      "text/plain": [
       "                                                                                                              …"
      ]
     },
     "metadata": {},
     "output_type": "display_data"
    },
    {
     "name": "stdout",
     "output_type": "stream",
     "text": [
      "Quality great, repetition 59/100\n"
     ]
    },
    {
     "data": {
      "application/vnd.jupyter.widget-view+json": {
       "model_id": "f03e7e37a6fb4a5697e21e0ed219dfd1",
       "version_major": 2,
       "version_minor": 0
      },
      "text/plain": [
       "                                                                                                              …"
      ]
     },
     "metadata": {},
     "output_type": "display_data"
    },
    {
     "name": "stdout",
     "output_type": "stream",
     "text": [
      "Quality great, repetition 60/100\n"
     ]
    },
    {
     "data": {
      "application/vnd.jupyter.widget-view+json": {
       "model_id": "29baadd3971a48958b224470a7bce5b0",
       "version_major": 2,
       "version_minor": 0
      },
      "text/plain": [
       "                                                                                                              …"
      ]
     },
     "metadata": {},
     "output_type": "display_data"
    },
    {
     "name": "stdout",
     "output_type": "stream",
     "text": [
      "Quality great, repetition 61/100\n"
     ]
    },
    {
     "data": {
      "application/vnd.jupyter.widget-view+json": {
       "model_id": "f30b3590ac7f42fea6d069e9e6af92d9",
       "version_major": 2,
       "version_minor": 0
      },
      "text/plain": [
       "                                                                                                              …"
      ]
     },
     "metadata": {},
     "output_type": "display_data"
    },
    {
     "name": "stdout",
     "output_type": "stream",
     "text": [
      "Quality great, repetition 62/100\n"
     ]
    },
    {
     "data": {
      "application/vnd.jupyter.widget-view+json": {
       "model_id": "de851b07b5464e26a2e1da172e6de7c6",
       "version_major": 2,
       "version_minor": 0
      },
      "text/plain": [
       "                                                                                                              …"
      ]
     },
     "metadata": {},
     "output_type": "display_data"
    },
    {
     "name": "stdout",
     "output_type": "stream",
     "text": [
      "Quality great, repetition 63/100\n"
     ]
    },
    {
     "data": {
      "application/vnd.jupyter.widget-view+json": {
       "model_id": "13513e86123b4901bc13496a2fe042e7",
       "version_major": 2,
       "version_minor": 0
      },
      "text/plain": [
       "                                                                                                              …"
      ]
     },
     "metadata": {},
     "output_type": "display_data"
    },
    {
     "name": "stdout",
     "output_type": "stream",
     "text": [
      "Quality great, repetition 64/100\n"
     ]
    },
    {
     "data": {
      "application/vnd.jupyter.widget-view+json": {
       "model_id": "d894eb56d4a64be78d52a836eb081577",
       "version_major": 2,
       "version_minor": 0
      },
      "text/plain": [
       "                                                                                                              …"
      ]
     },
     "metadata": {},
     "output_type": "display_data"
    },
    {
     "name": "stdout",
     "output_type": "stream",
     "text": [
      "Quality great, repetition 65/100\n"
     ]
    },
    {
     "data": {
      "application/vnd.jupyter.widget-view+json": {
       "model_id": "4b997443f02a466d911f95efea179aaf",
       "version_major": 2,
       "version_minor": 0
      },
      "text/plain": [
       "                                                                                                              …"
      ]
     },
     "metadata": {},
     "output_type": "display_data"
    },
    {
     "name": "stdout",
     "output_type": "stream",
     "text": [
      "Quality great, repetition 66/100\n"
     ]
    },
    {
     "data": {
      "application/vnd.jupyter.widget-view+json": {
       "model_id": "81eeb0128be14d5abea5900a654d74a2",
       "version_major": 2,
       "version_minor": 0
      },
      "text/plain": [
       "                                                                                                              …"
      ]
     },
     "metadata": {},
     "output_type": "display_data"
    },
    {
     "name": "stdout",
     "output_type": "stream",
     "text": [
      "Quality great, repetition 67/100\n"
     ]
    },
    {
     "data": {
      "application/vnd.jupyter.widget-view+json": {
       "model_id": "601dc68f62b745efa77d1380b4dcd370",
       "version_major": 2,
       "version_minor": 0
      },
      "text/plain": [
       "                                                                                                              …"
      ]
     },
     "metadata": {},
     "output_type": "display_data"
    },
    {
     "name": "stdout",
     "output_type": "stream",
     "text": [
      "Quality great, repetition 68/100\n"
     ]
    },
    {
     "data": {
      "application/vnd.jupyter.widget-view+json": {
       "model_id": "ead2d601fcc44604b9f8e063f0e07234",
       "version_major": 2,
       "version_minor": 0
      },
      "text/plain": [
       "                                                                                                              …"
      ]
     },
     "metadata": {},
     "output_type": "display_data"
    },
    {
     "name": "stdout",
     "output_type": "stream",
     "text": [
      "Quality great, repetition 69/100\n"
     ]
    },
    {
     "data": {
      "application/vnd.jupyter.widget-view+json": {
       "model_id": "c05c966f3eb24491818540236bf65790",
       "version_major": 2,
       "version_minor": 0
      },
      "text/plain": [
       "                                                                                                              …"
      ]
     },
     "metadata": {},
     "output_type": "display_data"
    },
    {
     "name": "stdout",
     "output_type": "stream",
     "text": [
      "Quality great, repetition 70/100\n"
     ]
    },
    {
     "data": {
      "application/vnd.jupyter.widget-view+json": {
       "model_id": "c3a84004f0074f92bfddc169a480eba1",
       "version_major": 2,
       "version_minor": 0
      },
      "text/plain": [
       "                                                                                                              …"
      ]
     },
     "metadata": {},
     "output_type": "display_data"
    },
    {
     "name": "stdout",
     "output_type": "stream",
     "text": [
      "Quality great, repetition 71/100\n"
     ]
    },
    {
     "data": {
      "application/vnd.jupyter.widget-view+json": {
       "model_id": "d19200e881ee4f90bfaca28987b6b386",
       "version_major": 2,
       "version_minor": 0
      },
      "text/plain": [
       "                                                                                                              …"
      ]
     },
     "metadata": {},
     "output_type": "display_data"
    },
    {
     "name": "stdout",
     "output_type": "stream",
     "text": [
      "Quality great, repetition 72/100\n"
     ]
    },
    {
     "data": {
      "application/vnd.jupyter.widget-view+json": {
       "model_id": "b4396cd26cd84664a41b825d3bc05238",
       "version_major": 2,
       "version_minor": 0
      },
      "text/plain": [
       "                                                                                                              …"
      ]
     },
     "metadata": {},
     "output_type": "display_data"
    },
    {
     "name": "stdout",
     "output_type": "stream",
     "text": [
      "Quality great, repetition 73/100\n"
     ]
    },
    {
     "data": {
      "application/vnd.jupyter.widget-view+json": {
       "model_id": "78c03139b3134b88a10e4386a0902284",
       "version_major": 2,
       "version_minor": 0
      },
      "text/plain": [
       "                                                                                                              …"
      ]
     },
     "metadata": {},
     "output_type": "display_data"
    },
    {
     "name": "stdout",
     "output_type": "stream",
     "text": [
      "Quality great, repetition 74/100\n"
     ]
    },
    {
     "data": {
      "application/vnd.jupyter.widget-view+json": {
       "model_id": "af390fb100854bba8eb0a32f272a60fc",
       "version_major": 2,
       "version_minor": 0
      },
      "text/plain": [
       "                                                                                                              …"
      ]
     },
     "metadata": {},
     "output_type": "display_data"
    },
    {
     "name": "stdout",
     "output_type": "stream",
     "text": [
      "Quality great, repetition 75/100\n"
     ]
    },
    {
     "data": {
      "application/vnd.jupyter.widget-view+json": {
       "model_id": "9b9fbb0d03084813b77907bd6a902087",
       "version_major": 2,
       "version_minor": 0
      },
      "text/plain": [
       "                                                                                                              …"
      ]
     },
     "metadata": {},
     "output_type": "display_data"
    },
    {
     "name": "stdout",
     "output_type": "stream",
     "text": [
      "Quality great, repetition 76/100\n"
     ]
    },
    {
     "data": {
      "application/vnd.jupyter.widget-view+json": {
       "model_id": "a5e3434854174ed9abecdaecdf162900",
       "version_major": 2,
       "version_minor": 0
      },
      "text/plain": [
       "                                                                                                              …"
      ]
     },
     "metadata": {},
     "output_type": "display_data"
    },
    {
     "name": "stdout",
     "output_type": "stream",
     "text": [
      "Quality great, repetition 77/100\n"
     ]
    },
    {
     "data": {
      "application/vnd.jupyter.widget-view+json": {
       "model_id": "b67d4652505e41f9b32a0b046b529a11",
       "version_major": 2,
       "version_minor": 0
      },
      "text/plain": [
       "                                                                                                              …"
      ]
     },
     "metadata": {},
     "output_type": "display_data"
    },
    {
     "name": "stdout",
     "output_type": "stream",
     "text": [
      "Quality great, repetition 78/100\n"
     ]
    },
    {
     "data": {
      "application/vnd.jupyter.widget-view+json": {
       "model_id": "d7c8d2bbb3ec4f0f8399e6241da66cc4",
       "version_major": 2,
       "version_minor": 0
      },
      "text/plain": [
       "                                                                                                              …"
      ]
     },
     "metadata": {},
     "output_type": "display_data"
    },
    {
     "name": "stdout",
     "output_type": "stream",
     "text": [
      "Quality great, repetition 79/100\n"
     ]
    },
    {
     "data": {
      "application/vnd.jupyter.widget-view+json": {
       "model_id": "862aa32b529249ad9b4c45eca05256b7",
       "version_major": 2,
       "version_minor": 0
      },
      "text/plain": [
       "                                                                                                              …"
      ]
     },
     "metadata": {},
     "output_type": "display_data"
    },
    {
     "name": "stdout",
     "output_type": "stream",
     "text": [
      "Quality great, repetition 80/100\n"
     ]
    },
    {
     "data": {
      "application/vnd.jupyter.widget-view+json": {
       "model_id": "ac936b5edbf044bab646c6a69f0ac10b",
       "version_major": 2,
       "version_minor": 0
      },
      "text/plain": [
       "                                                                                                              …"
      ]
     },
     "metadata": {},
     "output_type": "display_data"
    },
    {
     "name": "stdout",
     "output_type": "stream",
     "text": [
      "Quality great, repetition 81/100\n"
     ]
    },
    {
     "data": {
      "application/vnd.jupyter.widget-view+json": {
       "model_id": "31d3a93813a842aeab21bccc28dea288",
       "version_major": 2,
       "version_minor": 0
      },
      "text/plain": [
       "                                                                                                              …"
      ]
     },
     "metadata": {},
     "output_type": "display_data"
    },
    {
     "name": "stdout",
     "output_type": "stream",
     "text": [
      "Quality great, repetition 82/100\n"
     ]
    },
    {
     "data": {
      "application/vnd.jupyter.widget-view+json": {
       "model_id": "9ed3d6f5939b4cff96d7272dba611054",
       "version_major": 2,
       "version_minor": 0
      },
      "text/plain": [
       "                                                                                                              …"
      ]
     },
     "metadata": {},
     "output_type": "display_data"
    },
    {
     "name": "stdout",
     "output_type": "stream",
     "text": [
      "Quality great, repetition 83/100\n"
     ]
    },
    {
     "data": {
      "application/vnd.jupyter.widget-view+json": {
       "model_id": "89ec78434fd8433395bb94a5847f1f9e",
       "version_major": 2,
       "version_minor": 0
      },
      "text/plain": [
       "                                                                                                              …"
      ]
     },
     "metadata": {},
     "output_type": "display_data"
    },
    {
     "name": "stdout",
     "output_type": "stream",
     "text": [
      "Quality great, repetition 84/100\n"
     ]
    },
    {
     "data": {
      "application/vnd.jupyter.widget-view+json": {
       "model_id": "5ca1d38883b8437e848ccc6854c05d66",
       "version_major": 2,
       "version_minor": 0
      },
      "text/plain": [
       "                                                                                                              …"
      ]
     },
     "metadata": {},
     "output_type": "display_data"
    },
    {
     "name": "stdout",
     "output_type": "stream",
     "text": [
      "Quality great, repetition 85/100\n"
     ]
    },
    {
     "data": {
      "application/vnd.jupyter.widget-view+json": {
       "model_id": "42e3a3228fdf4a75badb9b768712d966",
       "version_major": 2,
       "version_minor": 0
      },
      "text/plain": [
       "                                                                                                              …"
      ]
     },
     "metadata": {},
     "output_type": "display_data"
    },
    {
     "name": "stdout",
     "output_type": "stream",
     "text": [
      "Quality great, repetition 86/100\n"
     ]
    },
    {
     "data": {
      "application/vnd.jupyter.widget-view+json": {
       "model_id": "f4fd9adde9d1401f86053dd997ef4ebc",
       "version_major": 2,
       "version_minor": 0
      },
      "text/plain": [
       "                                                                                                              …"
      ]
     },
     "metadata": {},
     "output_type": "display_data"
    },
    {
     "name": "stdout",
     "output_type": "stream",
     "text": [
      "Quality great, repetition 87/100\n"
     ]
    },
    {
     "data": {
      "application/vnd.jupyter.widget-view+json": {
       "model_id": "8bce38df04714d5da6f2ef471c98450c",
       "version_major": 2,
       "version_minor": 0
      },
      "text/plain": [
       "                                                                                                              …"
      ]
     },
     "metadata": {},
     "output_type": "display_data"
    },
    {
     "name": "stdout",
     "output_type": "stream",
     "text": [
      "Quality great, repetition 88/100\n"
     ]
    },
    {
     "data": {
      "application/vnd.jupyter.widget-view+json": {
       "model_id": "48a63d2f21a7438b9b1e7b1361a05848",
       "version_major": 2,
       "version_minor": 0
      },
      "text/plain": [
       "                                                                                                              …"
      ]
     },
     "metadata": {},
     "output_type": "display_data"
    },
    {
     "name": "stdout",
     "output_type": "stream",
     "text": [
      "Quality great, repetition 89/100\n"
     ]
    },
    {
     "data": {
      "application/vnd.jupyter.widget-view+json": {
       "model_id": "138a0d1975ec4995aca8fc18d8571dc3",
       "version_major": 2,
       "version_minor": 0
      },
      "text/plain": [
       "                                                                                                              …"
      ]
     },
     "metadata": {},
     "output_type": "display_data"
    },
    {
     "name": "stdout",
     "output_type": "stream",
     "text": [
      "Quality great, repetition 90/100\n"
     ]
    },
    {
     "data": {
      "application/vnd.jupyter.widget-view+json": {
       "model_id": "15392093634844beb02084d4bfa2074f",
       "version_major": 2,
       "version_minor": 0
      },
      "text/plain": [
       "                                                                                                              …"
      ]
     },
     "metadata": {},
     "output_type": "display_data"
    },
    {
     "name": "stdout",
     "output_type": "stream",
     "text": [
      "Quality great, repetition 91/100\n"
     ]
    },
    {
     "data": {
      "application/vnd.jupyter.widget-view+json": {
       "model_id": "b21348c67bd343858b7dbe3e273a996e",
       "version_major": 2,
       "version_minor": 0
      },
      "text/plain": [
       "                                                                                                              …"
      ]
     },
     "metadata": {},
     "output_type": "display_data"
    },
    {
     "name": "stdout",
     "output_type": "stream",
     "text": [
      "Quality great, repetition 92/100\n"
     ]
    },
    {
     "data": {
      "application/vnd.jupyter.widget-view+json": {
       "model_id": "90058f95361d44a49be0f508b05195ea",
       "version_major": 2,
       "version_minor": 0
      },
      "text/plain": [
       "                                                                                                              …"
      ]
     },
     "metadata": {},
     "output_type": "display_data"
    },
    {
     "name": "stdout",
     "output_type": "stream",
     "text": [
      "Quality great, repetition 93/100\n"
     ]
    },
    {
     "data": {
      "application/vnd.jupyter.widget-view+json": {
       "model_id": "d4824c4f63df4d96b032f01d050a9def",
       "version_major": 2,
       "version_minor": 0
      },
      "text/plain": [
       "                                                                                                              …"
      ]
     },
     "metadata": {},
     "output_type": "display_data"
    },
    {
     "name": "stdout",
     "output_type": "stream",
     "text": [
      "Quality great, repetition 94/100\n"
     ]
    },
    {
     "data": {
      "application/vnd.jupyter.widget-view+json": {
       "model_id": "f93288b989ac406782c7a0aa1b99b98c",
       "version_major": 2,
       "version_minor": 0
      },
      "text/plain": [
       "                                                                                                              …"
      ]
     },
     "metadata": {},
     "output_type": "display_data"
    },
    {
     "name": "stdout",
     "output_type": "stream",
     "text": [
      "Quality great, repetition 95/100\n"
     ]
    },
    {
     "data": {
      "application/vnd.jupyter.widget-view+json": {
       "model_id": "82f6097e4fed4510ad634a398f071cc2",
       "version_major": 2,
       "version_minor": 0
      },
      "text/plain": [
       "                                                                                                              …"
      ]
     },
     "metadata": {},
     "output_type": "display_data"
    },
    {
     "name": "stdout",
     "output_type": "stream",
     "text": [
      "Quality great, repetition 96/100\n"
     ]
    },
    {
     "data": {
      "application/vnd.jupyter.widget-view+json": {
       "model_id": "9443c7b4939a4721936001e296d4651c",
       "version_major": 2,
       "version_minor": 0
      },
      "text/plain": [
       "                                                                                                              …"
      ]
     },
     "metadata": {},
     "output_type": "display_data"
    },
    {
     "name": "stdout",
     "output_type": "stream",
     "text": [
      "Quality great, repetition 97/100\n"
     ]
    },
    {
     "data": {
      "application/vnd.jupyter.widget-view+json": {
       "model_id": "770efe238b684a5fbdd09e2643769add",
       "version_major": 2,
       "version_minor": 0
      },
      "text/plain": [
       "                                                                                                              …"
      ]
     },
     "metadata": {},
     "output_type": "display_data"
    },
    {
     "name": "stdout",
     "output_type": "stream",
     "text": [
      "Quality great, repetition 98/100\n"
     ]
    },
    {
     "data": {
      "application/vnd.jupyter.widget-view+json": {
       "model_id": "9e35c6a1090e43ccb4d86187fca63271",
       "version_major": 2,
       "version_minor": 0
      },
      "text/plain": [
       "                                                                                                              …"
      ]
     },
     "metadata": {},
     "output_type": "display_data"
    },
    {
     "name": "stdout",
     "output_type": "stream",
     "text": [
      "Quality great, repetition 99/100\n",
      "Using best quality great\n",
      "Saved to batch_second/moderate_60.txt\n",
      "Saved to batch_second/moderate_60.obj\n",
      "Saved to batch_second/moderate_60_fixed.txt\n",
      "Saved to batch_second/moderate_60_fixed.obj\n",
      "Misalignment: high\n"
     ]
    },
    {
     "data": {
      "application/vnd.jupyter.widget-view+json": {
       "model_id": "a695649ded0946a1820b661a8dd4e46a",
       "version_major": 2,
       "version_minor": 0
      },
      "text/plain": [
       "                                                                                                              …"
      ]
     },
     "metadata": {},
     "output_type": "display_data"
    },
    {
     "name": "stdout",
     "output_type": "stream",
     "text": [
      "Quality bad, repetition 0/10\n"
     ]
    },
    {
     "data": {
      "application/vnd.jupyter.widget-view+json": {
       "model_id": "fb566e9bd1a04f1f83bba83cd8b11a17",
       "version_major": 2,
       "version_minor": 0
      },
      "text/plain": [
       "                                                                                                              …"
      ]
     },
     "metadata": {},
     "output_type": "display_data"
    },
    {
     "name": "stdout",
     "output_type": "stream",
     "text": [
      "Quality great, repetition 1/10\n"
     ]
    },
    {
     "data": {
      "application/vnd.jupyter.widget-view+json": {
       "model_id": "cc4920400cf84239837998f8caf927eb",
       "version_major": 2,
       "version_minor": 0
      },
      "text/plain": [
       "                                                                                                              …"
      ]
     },
     "metadata": {},
     "output_type": "display_data"
    },
    {
     "name": "stdout",
     "output_type": "stream",
     "text": [
      "Quality great, repetition 2/10\n"
     ]
    },
    {
     "data": {
      "application/vnd.jupyter.widget-view+json": {
       "model_id": "dfc85295724840be8412231cc348c5db",
       "version_major": 2,
       "version_minor": 0
      },
      "text/plain": [
       "                                                                                                              …"
      ]
     },
     "metadata": {},
     "output_type": "display_data"
    },
    {
     "name": "stdout",
     "output_type": "stream",
     "text": [
      "Quality perfect, repetition 3/10\n"
     ]
    },
    {
     "data": {
      "application/vnd.jupyter.widget-view+json": {
       "model_id": "a5274cb9eda147e288d60aac4c62e4eb",
       "version_major": 2,
       "version_minor": 0
      },
      "text/plain": [
       "                                                                                                              …"
      ]
     },
     "metadata": {},
     "output_type": "display_data"
    },
    {
     "name": "stdout",
     "output_type": "stream",
     "text": [
      "Quality bad, repetition 0/100\n"
     ]
    },
    {
     "data": {
      "application/vnd.jupyter.widget-view+json": {
       "model_id": "10242e9f64ce402484e9ca0e09a843a4",
       "version_major": 2,
       "version_minor": 0
      },
      "text/plain": [
       "                                                                                                              …"
      ]
     },
     "metadata": {},
     "output_type": "display_data"
    },
    {
     "name": "stdout",
     "output_type": "stream",
     "text": [
      "Quality great, repetition 1/100\n"
     ]
    },
    {
     "data": {
      "application/vnd.jupyter.widget-view+json": {
       "model_id": "e56caf7840504cc997a7ad188647feeb",
       "version_major": 2,
       "version_minor": 0
      },
      "text/plain": [
       "                                                                                                              …"
      ]
     },
     "metadata": {},
     "output_type": "display_data"
    },
    {
     "name": "stdout",
     "output_type": "stream",
     "text": [
      "Quality great, repetition 2/100\n"
     ]
    },
    {
     "data": {
      "application/vnd.jupyter.widget-view+json": {
       "model_id": "f87609b67bbe431fa3172acd90ef17b4",
       "version_major": 2,
       "version_minor": 0
      },
      "text/plain": [
       "                                                                                                              …"
      ]
     },
     "metadata": {},
     "output_type": "display_data"
    },
    {
     "name": "stdout",
     "output_type": "stream",
     "text": [
      "Quality great, repetition 3/100\n"
     ]
    },
    {
     "data": {
      "application/vnd.jupyter.widget-view+json": {
       "model_id": "25c831406efe4627857e3090e8a0116f",
       "version_major": 2,
       "version_minor": 0
      },
      "text/plain": [
       "                                                                                                              …"
      ]
     },
     "metadata": {},
     "output_type": "display_data"
    },
    {
     "name": "stdout",
     "output_type": "stream",
     "text": [
      "Quality great, repetition 4/100\n"
     ]
    },
    {
     "data": {
      "application/vnd.jupyter.widget-view+json": {
       "model_id": "4b2a7e14ef994af88900f55074ef9b5a",
       "version_major": 2,
       "version_minor": 0
      },
      "text/plain": [
       "                                                                                                              …"
      ]
     },
     "metadata": {},
     "output_type": "display_data"
    },
    {
     "name": "stdout",
     "output_type": "stream",
     "text": [
      "Quality great, repetition 5/100\n"
     ]
    },
    {
     "data": {
      "application/vnd.jupyter.widget-view+json": {
       "model_id": "81c285110b45453aa21420b93b17e065",
       "version_major": 2,
       "version_minor": 0
      },
      "text/plain": [
       "                                                                                                              …"
      ]
     },
     "metadata": {},
     "output_type": "display_data"
    },
    {
     "name": "stdout",
     "output_type": "stream",
     "text": [
      "Quality great, repetition 6/100\n"
     ]
    },
    {
     "data": {
      "application/vnd.jupyter.widget-view+json": {
       "model_id": "463fb5e68d2b44c88e278c1004ff2892",
       "version_major": 2,
       "version_minor": 0
      },
      "text/plain": [
       "                                                                                                              …"
      ]
     },
     "metadata": {},
     "output_type": "display_data"
    },
    {
     "name": "stdout",
     "output_type": "stream",
     "text": [
      "Quality great, repetition 7/100\n"
     ]
    },
    {
     "data": {
      "application/vnd.jupyter.widget-view+json": {
       "model_id": "0ca0e95819c046379d6696778fbc4878",
       "version_major": 2,
       "version_minor": 0
      },
      "text/plain": [
       "                                                                                                              …"
      ]
     },
     "metadata": {},
     "output_type": "display_data"
    },
    {
     "name": "stdout",
     "output_type": "stream",
     "text": [
      "Quality great, repetition 8/100\n"
     ]
    },
    {
     "data": {
      "application/vnd.jupyter.widget-view+json": {
       "model_id": "7f6bbbf4a4bd4ee681c7ce14133680be",
       "version_major": 2,
       "version_minor": 0
      },
      "text/plain": [
       "                                                                                                              …"
      ]
     },
     "metadata": {},
     "output_type": "display_data"
    },
    {
     "name": "stdout",
     "output_type": "stream",
     "text": [
      "Quality great, repetition 9/100\n"
     ]
    },
    {
     "data": {
      "application/vnd.jupyter.widget-view+json": {
       "model_id": "c86eb6abff644c31ba0c9d5dad4079bb",
       "version_major": 2,
       "version_minor": 0
      },
      "text/plain": [
       "                                                                                                              …"
      ]
     },
     "metadata": {},
     "output_type": "display_data"
    },
    {
     "name": "stdout",
     "output_type": "stream",
     "text": [
      "Quality great, repetition 10/100\n"
     ]
    },
    {
     "data": {
      "application/vnd.jupyter.widget-view+json": {
       "model_id": "d063390ce0094759995bd5c7cfd84cb0",
       "version_major": 2,
       "version_minor": 0
      },
      "text/plain": [
       "                                                                                                              …"
      ]
     },
     "metadata": {},
     "output_type": "display_data"
    },
    {
     "name": "stdout",
     "output_type": "stream",
     "text": [
      "Quality great, repetition 11/100\n"
     ]
    },
    {
     "data": {
      "application/vnd.jupyter.widget-view+json": {
       "model_id": "29011362133749d883ce1577d899bd9e",
       "version_major": 2,
       "version_minor": 0
      },
      "text/plain": [
       "                                                                                                              …"
      ]
     },
     "metadata": {},
     "output_type": "display_data"
    },
    {
     "name": "stdout",
     "output_type": "stream",
     "text": [
      "Quality great, repetition 12/100\n"
     ]
    },
    {
     "data": {
      "application/vnd.jupyter.widget-view+json": {
       "model_id": "87c8d3a903914fdfb9a65885bb5ac942",
       "version_major": 2,
       "version_minor": 0
      },
      "text/plain": [
       "                                                                                                              …"
      ]
     },
     "metadata": {},
     "output_type": "display_data"
    },
    {
     "name": "stdout",
     "output_type": "stream",
     "text": [
      "Quality great, repetition 13/100\n"
     ]
    },
    {
     "data": {
      "application/vnd.jupyter.widget-view+json": {
       "model_id": "1e65f5afd18a4af0ae6e1d7f1ce418c8",
       "version_major": 2,
       "version_minor": 0
      },
      "text/plain": [
       "                                                                                                              …"
      ]
     },
     "metadata": {},
     "output_type": "display_data"
    },
    {
     "name": "stdout",
     "output_type": "stream",
     "text": [
      "Quality great, repetition 14/100\n"
     ]
    },
    {
     "data": {
      "application/vnd.jupyter.widget-view+json": {
       "model_id": "74739ab3402a4eeaa9bbff439d6f6b36",
       "version_major": 2,
       "version_minor": 0
      },
      "text/plain": [
       "                                                                                                              …"
      ]
     },
     "metadata": {},
     "output_type": "display_data"
    },
    {
     "name": "stdout",
     "output_type": "stream",
     "text": [
      "Quality great, repetition 15/100\n"
     ]
    },
    {
     "data": {
      "application/vnd.jupyter.widget-view+json": {
       "model_id": "9ea6e08fc53d4388af31f3d4672dae53",
       "version_major": 2,
       "version_minor": 0
      },
      "text/plain": [
       "                                                                                                              …"
      ]
     },
     "metadata": {},
     "output_type": "display_data"
    },
    {
     "name": "stdout",
     "output_type": "stream",
     "text": [
      "Quality great, repetition 16/100\n"
     ]
    },
    {
     "data": {
      "application/vnd.jupyter.widget-view+json": {
       "model_id": "7bb06c3205154fb689eea89ba7a14025",
       "version_major": 2,
       "version_minor": 0
      },
      "text/plain": [
       "                                                                                                              …"
      ]
     },
     "metadata": {},
     "output_type": "display_data"
    },
    {
     "name": "stdout",
     "output_type": "stream",
     "text": [
      "Quality great, repetition 17/100\n"
     ]
    },
    {
     "data": {
      "application/vnd.jupyter.widget-view+json": {
       "model_id": "a26d089fc50c46c2b227cf3c7e813d9b",
       "version_major": 2,
       "version_minor": 0
      },
      "text/plain": [
       "                                                                                                              …"
      ]
     },
     "metadata": {},
     "output_type": "display_data"
    },
    {
     "name": "stdout",
     "output_type": "stream",
     "text": [
      "Quality great, repetition 18/100\n"
     ]
    },
    {
     "data": {
      "application/vnd.jupyter.widget-view+json": {
       "model_id": "6f23390749ed4783a690936db54a1dac",
       "version_major": 2,
       "version_minor": 0
      },
      "text/plain": [
       "                                                                                                              …"
      ]
     },
     "metadata": {},
     "output_type": "display_data"
    },
    {
     "name": "stdout",
     "output_type": "stream",
     "text": [
      "Quality great, repetition 19/100\n"
     ]
    },
    {
     "data": {
      "application/vnd.jupyter.widget-view+json": {
       "model_id": "ec71a214f7ea4c7b80663dc998ebc442",
       "version_major": 2,
       "version_minor": 0
      },
      "text/plain": [
       "                                                                                                              …"
      ]
     },
     "metadata": {},
     "output_type": "display_data"
    },
    {
     "name": "stdout",
     "output_type": "stream",
     "text": [
      "Quality great, repetition 20/100\n"
     ]
    },
    {
     "data": {
      "application/vnd.jupyter.widget-view+json": {
       "model_id": "51a135ce64ea4256b6239274644dda6b",
       "version_major": 2,
       "version_minor": 0
      },
      "text/plain": [
       "                                                                                                              …"
      ]
     },
     "metadata": {},
     "output_type": "display_data"
    },
    {
     "name": "stdout",
     "output_type": "stream",
     "text": [
      "Quality great, repetition 21/100\n"
     ]
    },
    {
     "data": {
      "application/vnd.jupyter.widget-view+json": {
       "model_id": "768e552b75e64454b298b71fc430035f",
       "version_major": 2,
       "version_minor": 0
      },
      "text/plain": [
       "                                                                                                              …"
      ]
     },
     "metadata": {},
     "output_type": "display_data"
    },
    {
     "name": "stdout",
     "output_type": "stream",
     "text": [
      "Quality great, repetition 22/100\n"
     ]
    },
    {
     "data": {
      "application/vnd.jupyter.widget-view+json": {
       "model_id": "f3b097a55d8447f2b642766d5a2461ee",
       "version_major": 2,
       "version_minor": 0
      },
      "text/plain": [
       "                                                                                                              …"
      ]
     },
     "metadata": {},
     "output_type": "display_data"
    },
    {
     "name": "stdout",
     "output_type": "stream",
     "text": [
      "Quality great, repetition 23/100\n"
     ]
    },
    {
     "data": {
      "application/vnd.jupyter.widget-view+json": {
       "model_id": "f33bf8e74c8f4e54abd135fefd038911",
       "version_major": 2,
       "version_minor": 0
      },
      "text/plain": [
       "                                                                                                              …"
      ]
     },
     "metadata": {},
     "output_type": "display_data"
    },
    {
     "name": "stdout",
     "output_type": "stream",
     "text": [
      "Quality great, repetition 24/100\n"
     ]
    },
    {
     "data": {
      "application/vnd.jupyter.widget-view+json": {
       "model_id": "cf38994a773c4ef6bf2058aed162df57",
       "version_major": 2,
       "version_minor": 0
      },
      "text/plain": [
       "                                                                                                              …"
      ]
     },
     "metadata": {},
     "output_type": "display_data"
    },
    {
     "name": "stdout",
     "output_type": "stream",
     "text": [
      "Quality great, repetition 25/100\n"
     ]
    },
    {
     "data": {
      "application/vnd.jupyter.widget-view+json": {
       "model_id": "bfc6863fd39f4d8eae3a280e3489f970",
       "version_major": 2,
       "version_minor": 0
      },
      "text/plain": [
       "                                                                                                              …"
      ]
     },
     "metadata": {},
     "output_type": "display_data"
    },
    {
     "name": "stdout",
     "output_type": "stream",
     "text": [
      "Quality great, repetition 26/100\n"
     ]
    },
    {
     "data": {
      "application/vnd.jupyter.widget-view+json": {
       "model_id": "e31290f34f6d41b9b7ad29ac25473b2f",
       "version_major": 2,
       "version_minor": 0
      },
      "text/plain": [
       "                                                                                                              …"
      ]
     },
     "metadata": {},
     "output_type": "display_data"
    },
    {
     "name": "stdout",
     "output_type": "stream",
     "text": [
      "Quality great, repetition 27/100\n"
     ]
    },
    {
     "data": {
      "application/vnd.jupyter.widget-view+json": {
       "model_id": "b37543f1c57b477eaa447bbb45a25870",
       "version_major": 2,
       "version_minor": 0
      },
      "text/plain": [
       "                                                                                                              …"
      ]
     },
     "metadata": {},
     "output_type": "display_data"
    },
    {
     "name": "stdout",
     "output_type": "stream",
     "text": [
      "Quality great, repetition 28/100\n"
     ]
    },
    {
     "data": {
      "application/vnd.jupyter.widget-view+json": {
       "model_id": "f59a372481374a5a8bf9926e5c88536e",
       "version_major": 2,
       "version_minor": 0
      },
      "text/plain": [
       "                                                                                                              …"
      ]
     },
     "metadata": {},
     "output_type": "display_data"
    },
    {
     "name": "stdout",
     "output_type": "stream",
     "text": [
      "Quality great, repetition 29/100\n"
     ]
    },
    {
     "data": {
      "application/vnd.jupyter.widget-view+json": {
       "model_id": "88ed6679bc934d0fa7ac1ff716f57fb2",
       "version_major": 2,
       "version_minor": 0
      },
      "text/plain": [
       "                                                                                                              …"
      ]
     },
     "metadata": {},
     "output_type": "display_data"
    },
    {
     "name": "stdout",
     "output_type": "stream",
     "text": [
      "Quality great, repetition 30/100\n"
     ]
    },
    {
     "data": {
      "application/vnd.jupyter.widget-view+json": {
       "model_id": "79c264ad69e14ed0bdbbff80d85a2a77",
       "version_major": 2,
       "version_minor": 0
      },
      "text/plain": [
       "                                                                                                              …"
      ]
     },
     "metadata": {},
     "output_type": "display_data"
    },
    {
     "name": "stdout",
     "output_type": "stream",
     "text": [
      "Quality great, repetition 31/100\n"
     ]
    },
    {
     "data": {
      "application/vnd.jupyter.widget-view+json": {
       "model_id": "259796a01f3b418db2e35ecc782a8e7a",
       "version_major": 2,
       "version_minor": 0
      },
      "text/plain": [
       "                                                                                                              …"
      ]
     },
     "metadata": {},
     "output_type": "display_data"
    },
    {
     "name": "stdout",
     "output_type": "stream",
     "text": [
      "Quality great, repetition 32/100\n"
     ]
    },
    {
     "data": {
      "application/vnd.jupyter.widget-view+json": {
       "model_id": "bec520dd319f4d50b48ad2cc0e04eeb1",
       "version_major": 2,
       "version_minor": 0
      },
      "text/plain": [
       "                                                                                                              …"
      ]
     },
     "metadata": {},
     "output_type": "display_data"
    },
    {
     "name": "stdout",
     "output_type": "stream",
     "text": [
      "Quality great, repetition 33/100\n"
     ]
    },
    {
     "data": {
      "application/vnd.jupyter.widget-view+json": {
       "model_id": "c93a2e51b3534383aac606f728cb7916",
       "version_major": 2,
       "version_minor": 0
      },
      "text/plain": [
       "                                                                                                              …"
      ]
     },
     "metadata": {},
     "output_type": "display_data"
    },
    {
     "name": "stdout",
     "output_type": "stream",
     "text": [
      "Quality great, repetition 34/100\n"
     ]
    },
    {
     "data": {
      "application/vnd.jupyter.widget-view+json": {
       "model_id": "ff505edcb1cc491386acda068d931d6d",
       "version_major": 2,
       "version_minor": 0
      },
      "text/plain": [
       "                                                                                                              …"
      ]
     },
     "metadata": {},
     "output_type": "display_data"
    },
    {
     "name": "stdout",
     "output_type": "stream",
     "text": [
      "Quality great, repetition 35/100\n"
     ]
    },
    {
     "data": {
      "application/vnd.jupyter.widget-view+json": {
       "model_id": "a972524822b747d8849ce07d4cc9ba4e",
       "version_major": 2,
       "version_minor": 0
      },
      "text/plain": [
       "                                                                                                              …"
      ]
     },
     "metadata": {},
     "output_type": "display_data"
    },
    {
     "name": "stdout",
     "output_type": "stream",
     "text": [
      "Quality great, repetition 36/100\n"
     ]
    },
    {
     "data": {
      "application/vnd.jupyter.widget-view+json": {
       "model_id": "bac8a3029c5a4c3ab109f19c7240e8d9",
       "version_major": 2,
       "version_minor": 0
      },
      "text/plain": [
       "                                                                                                              …"
      ]
     },
     "metadata": {},
     "output_type": "display_data"
    },
    {
     "name": "stdout",
     "output_type": "stream",
     "text": [
      "Quality great, repetition 37/100\n"
     ]
    },
    {
     "data": {
      "application/vnd.jupyter.widget-view+json": {
       "model_id": "24bcc12011d746d789221b0852587831",
       "version_major": 2,
       "version_minor": 0
      },
      "text/plain": [
       "                                                                                                              …"
      ]
     },
     "metadata": {},
     "output_type": "display_data"
    },
    {
     "name": "stdout",
     "output_type": "stream",
     "text": [
      "Quality great, repetition 38/100\n"
     ]
    },
    {
     "data": {
      "application/vnd.jupyter.widget-view+json": {
       "model_id": "f70f54a8dc744c0fb0cfda938c84d008",
       "version_major": 2,
       "version_minor": 0
      },
      "text/plain": [
       "                                                                                                              …"
      ]
     },
     "metadata": {},
     "output_type": "display_data"
    },
    {
     "name": "stdout",
     "output_type": "stream",
     "text": [
      "Quality great, repetition 39/100\n"
     ]
    },
    {
     "data": {
      "application/vnd.jupyter.widget-view+json": {
       "model_id": "d8836de52ec24f0986ad115d154c7733",
       "version_major": 2,
       "version_minor": 0
      },
      "text/plain": [
       "                                                                                                              …"
      ]
     },
     "metadata": {},
     "output_type": "display_data"
    },
    {
     "name": "stdout",
     "output_type": "stream",
     "text": [
      "Quality great, repetition 40/100\n"
     ]
    },
    {
     "data": {
      "application/vnd.jupyter.widget-view+json": {
       "model_id": "1c15aad98cfd473da0b058e701b75fdd",
       "version_major": 2,
       "version_minor": 0
      },
      "text/plain": [
       "                                                                                                              …"
      ]
     },
     "metadata": {},
     "output_type": "display_data"
    },
    {
     "name": "stdout",
     "output_type": "stream",
     "text": [
      "Quality great, repetition 41/100\n"
     ]
    },
    {
     "data": {
      "application/vnd.jupyter.widget-view+json": {
       "model_id": "f1bbfdfa22134243a3f9fd9ff9911684",
       "version_major": 2,
       "version_minor": 0
      },
      "text/plain": [
       "                                                                                                              …"
      ]
     },
     "metadata": {},
     "output_type": "display_data"
    },
    {
     "name": "stdout",
     "output_type": "stream",
     "text": [
      "Quality great, repetition 42/100\n"
     ]
    },
    {
     "data": {
      "application/vnd.jupyter.widget-view+json": {
       "model_id": "65fe71256f77408db0ddad68611f4468",
       "version_major": 2,
       "version_minor": 0
      },
      "text/plain": [
       "                                                                                                              …"
      ]
     },
     "metadata": {},
     "output_type": "display_data"
    },
    {
     "name": "stdout",
     "output_type": "stream",
     "text": [
      "Quality great, repetition 43/100\n"
     ]
    },
    {
     "data": {
      "application/vnd.jupyter.widget-view+json": {
       "model_id": "f0833960c2ef498a8b3f948e12b60776",
       "version_major": 2,
       "version_minor": 0
      },
      "text/plain": [
       "                                                                                                              …"
      ]
     },
     "metadata": {},
     "output_type": "display_data"
    },
    {
     "name": "stdout",
     "output_type": "stream",
     "text": [
      "Quality great, repetition 44/100\n"
     ]
    },
    {
     "data": {
      "application/vnd.jupyter.widget-view+json": {
       "model_id": "093f82cfacf8450e807d6646476f132a",
       "version_major": 2,
       "version_minor": 0
      },
      "text/plain": [
       "                                                                                                              …"
      ]
     },
     "metadata": {},
     "output_type": "display_data"
    },
    {
     "name": "stdout",
     "output_type": "stream",
     "text": [
      "Quality great, repetition 45/100\n"
     ]
    },
    {
     "data": {
      "application/vnd.jupyter.widget-view+json": {
       "model_id": "e9d8cfab9dc64ce08a00a16d7fe7f3cb",
       "version_major": 2,
       "version_minor": 0
      },
      "text/plain": [
       "                                                                                                              …"
      ]
     },
     "metadata": {},
     "output_type": "display_data"
    },
    {
     "name": "stdout",
     "output_type": "stream",
     "text": [
      "Quality great, repetition 46/100\n"
     ]
    },
    {
     "data": {
      "application/vnd.jupyter.widget-view+json": {
       "model_id": "b2ec82edc37e4a698a730a8231427a21",
       "version_major": 2,
       "version_minor": 0
      },
      "text/plain": [
       "                                                                                                              …"
      ]
     },
     "metadata": {},
     "output_type": "display_data"
    },
    {
     "name": "stdout",
     "output_type": "stream",
     "text": [
      "Quality great, repetition 47/100\n"
     ]
    },
    {
     "data": {
      "application/vnd.jupyter.widget-view+json": {
       "model_id": "5be7a2a138e34f0cbe8c58948ea73ada",
       "version_major": 2,
       "version_minor": 0
      },
      "text/plain": [
       "                                                                                                              …"
      ]
     },
     "metadata": {},
     "output_type": "display_data"
    },
    {
     "name": "stdout",
     "output_type": "stream",
     "text": [
      "Quality great, repetition 48/100\n"
     ]
    },
    {
     "data": {
      "application/vnd.jupyter.widget-view+json": {
       "model_id": "0ae5788b438f46c59fe03b0b3b706e37",
       "version_major": 2,
       "version_minor": 0
      },
      "text/plain": [
       "                                                                                                              …"
      ]
     },
     "metadata": {},
     "output_type": "display_data"
    },
    {
     "name": "stdout",
     "output_type": "stream",
     "text": [
      "Quality great, repetition 49/100\n"
     ]
    },
    {
     "data": {
      "application/vnd.jupyter.widget-view+json": {
       "model_id": "fab17f3cd69943448bacc261bcdef831",
       "version_major": 2,
       "version_minor": 0
      },
      "text/plain": [
       "                                                                                                              …"
      ]
     },
     "metadata": {},
     "output_type": "display_data"
    },
    {
     "name": "stdout",
     "output_type": "stream",
     "text": [
      "Quality great, repetition 50/100\n"
     ]
    },
    {
     "data": {
      "application/vnd.jupyter.widget-view+json": {
       "model_id": "ed907d8926f04671bd2fafaa451a09dc",
       "version_major": 2,
       "version_minor": 0
      },
      "text/plain": [
       "                                                                                                              …"
      ]
     },
     "metadata": {},
     "output_type": "display_data"
    },
    {
     "name": "stdout",
     "output_type": "stream",
     "text": [
      "Quality great, repetition 51/100\n"
     ]
    },
    {
     "data": {
      "application/vnd.jupyter.widget-view+json": {
       "model_id": "4562a92b75df4c79a0babd7181246f8f",
       "version_major": 2,
       "version_minor": 0
      },
      "text/plain": [
       "                                                                                                              …"
      ]
     },
     "metadata": {},
     "output_type": "display_data"
    },
    {
     "name": "stdout",
     "output_type": "stream",
     "text": [
      "Quality great, repetition 52/100\n"
     ]
    },
    {
     "data": {
      "application/vnd.jupyter.widget-view+json": {
       "model_id": "410de00eda334993b9213ac5b0d889b8",
       "version_major": 2,
       "version_minor": 0
      },
      "text/plain": [
       "                                                                                                              …"
      ]
     },
     "metadata": {},
     "output_type": "display_data"
    },
    {
     "name": "stdout",
     "output_type": "stream",
     "text": [
      "Quality great, repetition 53/100\n"
     ]
    },
    {
     "data": {
      "application/vnd.jupyter.widget-view+json": {
       "model_id": "ffe0cc2899854339ae19ef388274d651",
       "version_major": 2,
       "version_minor": 0
      },
      "text/plain": [
       "                                                                                                              …"
      ]
     },
     "metadata": {},
     "output_type": "display_data"
    },
    {
     "name": "stdout",
     "output_type": "stream",
     "text": [
      "Quality great, repetition 54/100\n"
     ]
    },
    {
     "data": {
      "application/vnd.jupyter.widget-view+json": {
       "model_id": "7fec3034134043d98b433381209e46fe",
       "version_major": 2,
       "version_minor": 0
      },
      "text/plain": [
       "                                                                                                              …"
      ]
     },
     "metadata": {},
     "output_type": "display_data"
    },
    {
     "name": "stdout",
     "output_type": "stream",
     "text": [
      "Quality great, repetition 55/100\n"
     ]
    },
    {
     "data": {
      "application/vnd.jupyter.widget-view+json": {
       "model_id": "14e3c401283941129df551cd89255c32",
       "version_major": 2,
       "version_minor": 0
      },
      "text/plain": [
       "                                                                                                              …"
      ]
     },
     "metadata": {},
     "output_type": "display_data"
    },
    {
     "name": "stdout",
     "output_type": "stream",
     "text": [
      "Quality great, repetition 56/100\n"
     ]
    },
    {
     "data": {
      "application/vnd.jupyter.widget-view+json": {
       "model_id": "31c4fce3519c4d2cb6fbee52bd142f2e",
       "version_major": 2,
       "version_minor": 0
      },
      "text/plain": [
       "                                                                                                              …"
      ]
     },
     "metadata": {},
     "output_type": "display_data"
    },
    {
     "name": "stdout",
     "output_type": "stream",
     "text": [
      "Quality great, repetition 57/100\n"
     ]
    },
    {
     "data": {
      "application/vnd.jupyter.widget-view+json": {
       "model_id": "658a3b4928b74c909211151429233f37",
       "version_major": 2,
       "version_minor": 0
      },
      "text/plain": [
       "                                                                                                              …"
      ]
     },
     "metadata": {},
     "output_type": "display_data"
    },
    {
     "name": "stdout",
     "output_type": "stream",
     "text": [
      "Quality great, repetition 58/100\n"
     ]
    },
    {
     "data": {
      "application/vnd.jupyter.widget-view+json": {
       "model_id": "d089c04a33894ffb9a9eea7680caccda",
       "version_major": 2,
       "version_minor": 0
      },
      "text/plain": [
       "                                                                                                              …"
      ]
     },
     "metadata": {},
     "output_type": "display_data"
    },
    {
     "name": "stdout",
     "output_type": "stream",
     "text": [
      "Quality great, repetition 59/100\n"
     ]
    },
    {
     "data": {
      "application/vnd.jupyter.widget-view+json": {
       "model_id": "0e545cc54c8846309439f5d76c87e280",
       "version_major": 2,
       "version_minor": 0
      },
      "text/plain": [
       "                                                                                                              …"
      ]
     },
     "metadata": {},
     "output_type": "display_data"
    },
    {
     "name": "stdout",
     "output_type": "stream",
     "text": [
      "Quality ok, repetition 60/100\n"
     ]
    },
    {
     "data": {
      "application/vnd.jupyter.widget-view+json": {
       "model_id": "3bd72f03091e41deaf40097e4879eb3b",
       "version_major": 2,
       "version_minor": 0
      },
      "text/plain": [
       "                                                                                                              …"
      ]
     },
     "metadata": {},
     "output_type": "display_data"
    },
    {
     "name": "stdout",
     "output_type": "stream",
     "text": [
      "Quality great, repetition 61/100\n"
     ]
    },
    {
     "data": {
      "application/vnd.jupyter.widget-view+json": {
       "model_id": "6b4a71e1e24b4525a57102493b548681",
       "version_major": 2,
       "version_minor": 0
      },
      "text/plain": [
       "                                                                                                              …"
      ]
     },
     "metadata": {},
     "output_type": "display_data"
    },
    {
     "name": "stdout",
     "output_type": "stream",
     "text": [
      "Quality great, repetition 62/100\n"
     ]
    },
    {
     "data": {
      "application/vnd.jupyter.widget-view+json": {
       "model_id": "5a1ac6139cbf44069369d060208a409c",
       "version_major": 2,
       "version_minor": 0
      },
      "text/plain": [
       "                                                                                                              …"
      ]
     },
     "metadata": {},
     "output_type": "display_data"
    },
    {
     "name": "stdout",
     "output_type": "stream",
     "text": [
      "Quality great, repetition 63/100\n"
     ]
    },
    {
     "data": {
      "application/vnd.jupyter.widget-view+json": {
       "model_id": "ca8a901716424c96a30e3798d015d22a",
       "version_major": 2,
       "version_minor": 0
      },
      "text/plain": [
       "                                                                                                              …"
      ]
     },
     "metadata": {},
     "output_type": "display_data"
    },
    {
     "name": "stdout",
     "output_type": "stream",
     "text": [
      "Quality great, repetition 64/100\n"
     ]
    },
    {
     "data": {
      "application/vnd.jupyter.widget-view+json": {
       "model_id": "b66d1bd8b7824765b2f4e0d49f0f0b1a",
       "version_major": 2,
       "version_minor": 0
      },
      "text/plain": [
       "                                                                                                              …"
      ]
     },
     "metadata": {},
     "output_type": "display_data"
    },
    {
     "name": "stdout",
     "output_type": "stream",
     "text": [
      "Quality great, repetition 65/100\n"
     ]
    },
    {
     "data": {
      "application/vnd.jupyter.widget-view+json": {
       "model_id": "a75bf830d17d400280baade420929fd9",
       "version_major": 2,
       "version_minor": 0
      },
      "text/plain": [
       "                                                                                                              …"
      ]
     },
     "metadata": {},
     "output_type": "display_data"
    },
    {
     "name": "stdout",
     "output_type": "stream",
     "text": [
      "Quality great, repetition 66/100\n"
     ]
    },
    {
     "data": {
      "application/vnd.jupyter.widget-view+json": {
       "model_id": "2ce9002105cb4b4b8cc13f24f8aef5cc",
       "version_major": 2,
       "version_minor": 0
      },
      "text/plain": [
       "                                                                                                              …"
      ]
     },
     "metadata": {},
     "output_type": "display_data"
    },
    {
     "name": "stdout",
     "output_type": "stream",
     "text": [
      "Quality great, repetition 67/100\n"
     ]
    },
    {
     "data": {
      "application/vnd.jupyter.widget-view+json": {
       "model_id": "5d0b1afb775c41439fbb53cb6f6dc44c",
       "version_major": 2,
       "version_minor": 0
      },
      "text/plain": [
       "                                                                                                              …"
      ]
     },
     "metadata": {},
     "output_type": "display_data"
    },
    {
     "name": "stdout",
     "output_type": "stream",
     "text": [
      "Quality great, repetition 68/100\n"
     ]
    },
    {
     "data": {
      "application/vnd.jupyter.widget-view+json": {
       "model_id": "33affc3382764d42aff6be90e18789f4",
       "version_major": 2,
       "version_minor": 0
      },
      "text/plain": [
       "                                                                                                              …"
      ]
     },
     "metadata": {},
     "output_type": "display_data"
    },
    {
     "name": "stdout",
     "output_type": "stream",
     "text": [
      "Quality great, repetition 69/100\n"
     ]
    },
    {
     "data": {
      "application/vnd.jupyter.widget-view+json": {
       "model_id": "4903198e014f4193b872a1cb20cf27d4",
       "version_major": 2,
       "version_minor": 0
      },
      "text/plain": [
       "                                                                                                              …"
      ]
     },
     "metadata": {},
     "output_type": "display_data"
    },
    {
     "name": "stdout",
     "output_type": "stream",
     "text": [
      "Quality great, repetition 70/100\n"
     ]
    },
    {
     "data": {
      "application/vnd.jupyter.widget-view+json": {
       "model_id": "f4fac87d0bbb4fffa7d61460225893af",
       "version_major": 2,
       "version_minor": 0
      },
      "text/plain": [
       "                                                                                                              …"
      ]
     },
     "metadata": {},
     "output_type": "display_data"
    },
    {
     "name": "stdout",
     "output_type": "stream",
     "text": [
      "Quality great, repetition 71/100\n"
     ]
    },
    {
     "data": {
      "application/vnd.jupyter.widget-view+json": {
       "model_id": "be4e2c9b728040b787bb726ea4440cbd",
       "version_major": 2,
       "version_minor": 0
      },
      "text/plain": [
       "                                                                                                              …"
      ]
     },
     "metadata": {},
     "output_type": "display_data"
    },
    {
     "name": "stdout",
     "output_type": "stream",
     "text": [
      "Quality great, repetition 72/100\n"
     ]
    },
    {
     "data": {
      "application/vnd.jupyter.widget-view+json": {
       "model_id": "250b04afc7f84e2281acfb2b9c94adf5",
       "version_major": 2,
       "version_minor": 0
      },
      "text/plain": [
       "                                                                                                              …"
      ]
     },
     "metadata": {},
     "output_type": "display_data"
    },
    {
     "name": "stdout",
     "output_type": "stream",
     "text": [
      "Quality great, repetition 73/100\n"
     ]
    },
    {
     "data": {
      "application/vnd.jupyter.widget-view+json": {
       "model_id": "96904cd18b914b078c10040927848d4a",
       "version_major": 2,
       "version_minor": 0
      },
      "text/plain": [
       "                                                                                                              …"
      ]
     },
     "metadata": {},
     "output_type": "display_data"
    },
    {
     "name": "stdout",
     "output_type": "stream",
     "text": [
      "Quality great, repetition 74/100\n"
     ]
    },
    {
     "data": {
      "application/vnd.jupyter.widget-view+json": {
       "model_id": "6d3356b5ea9b4fd0814e48f10a95161d",
       "version_major": 2,
       "version_minor": 0
      },
      "text/plain": [
       "                                                                                                              …"
      ]
     },
     "metadata": {},
     "output_type": "display_data"
    },
    {
     "name": "stdout",
     "output_type": "stream",
     "text": [
      "Quality great, repetition 75/100\n"
     ]
    },
    {
     "data": {
      "application/vnd.jupyter.widget-view+json": {
       "model_id": "ad15df18ed494a639c4d7bc7fc994eeb",
       "version_major": 2,
       "version_minor": 0
      },
      "text/plain": [
       "                                                                                                              …"
      ]
     },
     "metadata": {},
     "output_type": "display_data"
    },
    {
     "name": "stdout",
     "output_type": "stream",
     "text": [
      "Quality great, repetition 76/100\n"
     ]
    },
    {
     "data": {
      "application/vnd.jupyter.widget-view+json": {
       "model_id": "f0385860a9354caa83bc371501584213",
       "version_major": 2,
       "version_minor": 0
      },
      "text/plain": [
       "                                                                                                              …"
      ]
     },
     "metadata": {},
     "output_type": "display_data"
    },
    {
     "name": "stdout",
     "output_type": "stream",
     "text": [
      "Quality great, repetition 77/100\n"
     ]
    },
    {
     "data": {
      "application/vnd.jupyter.widget-view+json": {
       "model_id": "6a99a8da27b64ea48edf73c23a2f9dad",
       "version_major": 2,
       "version_minor": 0
      },
      "text/plain": [
       "                                                                                                              …"
      ]
     },
     "metadata": {},
     "output_type": "display_data"
    },
    {
     "name": "stdout",
     "output_type": "stream",
     "text": [
      "Quality great, repetition 78/100\n"
     ]
    },
    {
     "data": {
      "application/vnd.jupyter.widget-view+json": {
       "model_id": "cea7e77da0d8468d851648fb191a5b5b",
       "version_major": 2,
       "version_minor": 0
      },
      "text/plain": [
       "                                                                                                              …"
      ]
     },
     "metadata": {},
     "output_type": "display_data"
    },
    {
     "name": "stdout",
     "output_type": "stream",
     "text": [
      "Quality great, repetition 79/100\n"
     ]
    },
    {
     "data": {
      "application/vnd.jupyter.widget-view+json": {
       "model_id": "923000f6febc4e8e97f5706583092778",
       "version_major": 2,
       "version_minor": 0
      },
      "text/plain": [
       "                                                                                                              …"
      ]
     },
     "metadata": {},
     "output_type": "display_data"
    },
    {
     "name": "stdout",
     "output_type": "stream",
     "text": [
      "Quality great, repetition 80/100\n"
     ]
    },
    {
     "data": {
      "application/vnd.jupyter.widget-view+json": {
       "model_id": "f326900442da463696a8491ccde530e0",
       "version_major": 2,
       "version_minor": 0
      },
      "text/plain": [
       "                                                                                                              …"
      ]
     },
     "metadata": {},
     "output_type": "display_data"
    },
    {
     "name": "stdout",
     "output_type": "stream",
     "text": [
      "Quality great, repetition 81/100\n"
     ]
    },
    {
     "data": {
      "application/vnd.jupyter.widget-view+json": {
       "model_id": "147f1ee2a215452880dd439d1009fa6e",
       "version_major": 2,
       "version_minor": 0
      },
      "text/plain": [
       "                                                                                                              …"
      ]
     },
     "metadata": {},
     "output_type": "display_data"
    },
    {
     "name": "stdout",
     "output_type": "stream",
     "text": [
      "Quality great, repetition 82/100\n"
     ]
    },
    {
     "data": {
      "application/vnd.jupyter.widget-view+json": {
       "model_id": "149211529f57425fa41cf38e2d6bcbf4",
       "version_major": 2,
       "version_minor": 0
      },
      "text/plain": [
       "                                                                                                              …"
      ]
     },
     "metadata": {},
     "output_type": "display_data"
    },
    {
     "name": "stdout",
     "output_type": "stream",
     "text": [
      "Quality great, repetition 83/100\n"
     ]
    },
    {
     "data": {
      "application/vnd.jupyter.widget-view+json": {
       "model_id": "77a65bed043542ffbb6516cc5c42658d",
       "version_major": 2,
       "version_minor": 0
      },
      "text/plain": [
       "                                                                                                              …"
      ]
     },
     "metadata": {},
     "output_type": "display_data"
    },
    {
     "name": "stdout",
     "output_type": "stream",
     "text": [
      "Quality great, repetition 84/100\n"
     ]
    },
    {
     "data": {
      "application/vnd.jupyter.widget-view+json": {
       "model_id": "965278ce252f4e198aaa26ebd28fbc2d",
       "version_major": 2,
       "version_minor": 0
      },
      "text/plain": [
       "                                                                                                              …"
      ]
     },
     "metadata": {},
     "output_type": "display_data"
    },
    {
     "name": "stdout",
     "output_type": "stream",
     "text": [
      "Quality great, repetition 85/100\n"
     ]
    },
    {
     "data": {
      "application/vnd.jupyter.widget-view+json": {
       "model_id": "45bafed52e5745f29c585bf1a242772c",
       "version_major": 2,
       "version_minor": 0
      },
      "text/plain": [
       "                                                                                                              …"
      ]
     },
     "metadata": {},
     "output_type": "display_data"
    },
    {
     "name": "stdout",
     "output_type": "stream",
     "text": [
      "Quality great, repetition 86/100\n"
     ]
    },
    {
     "data": {
      "application/vnd.jupyter.widget-view+json": {
       "model_id": "23f7fa8bc8fd4487ac55fcae0ffeb6d9",
       "version_major": 2,
       "version_minor": 0
      },
      "text/plain": [
       "                                                                                                              …"
      ]
     },
     "metadata": {},
     "output_type": "display_data"
    },
    {
     "name": "stdout",
     "output_type": "stream",
     "text": [
      "Quality great, repetition 87/100\n"
     ]
    },
    {
     "data": {
      "application/vnd.jupyter.widget-view+json": {
       "model_id": "18821ba917e349ae99eb61377bce1025",
       "version_major": 2,
       "version_minor": 0
      },
      "text/plain": [
       "                                                                                                              …"
      ]
     },
     "metadata": {},
     "output_type": "display_data"
    },
    {
     "name": "stdout",
     "output_type": "stream",
     "text": [
      "Quality great, repetition 88/100\n"
     ]
    },
    {
     "data": {
      "application/vnd.jupyter.widget-view+json": {
       "model_id": "23a6b92ac9124c47b51e685da3a86cf6",
       "version_major": 2,
       "version_minor": 0
      },
      "text/plain": [
       "                                                                                                              …"
      ]
     },
     "metadata": {},
     "output_type": "display_data"
    },
    {
     "name": "stdout",
     "output_type": "stream",
     "text": [
      "Quality great, repetition 89/100\n"
     ]
    },
    {
     "data": {
      "application/vnd.jupyter.widget-view+json": {
       "model_id": "ee066858a8b44c28aed9791075cf474b",
       "version_major": 2,
       "version_minor": 0
      },
      "text/plain": [
       "                                                                                                              …"
      ]
     },
     "metadata": {},
     "output_type": "display_data"
    },
    {
     "name": "stdout",
     "output_type": "stream",
     "text": [
      "Quality great, repetition 90/100\n"
     ]
    },
    {
     "data": {
      "application/vnd.jupyter.widget-view+json": {
       "model_id": "65f0dbf4a1e14dee9944167a245bc476",
       "version_major": 2,
       "version_minor": 0
      },
      "text/plain": [
       "                                                                                                              …"
      ]
     },
     "metadata": {},
     "output_type": "display_data"
    },
    {
     "name": "stdout",
     "output_type": "stream",
     "text": [
      "Quality great, repetition 91/100\n"
     ]
    },
    {
     "data": {
      "application/vnd.jupyter.widget-view+json": {
       "model_id": "95303e6761f146c9b1a79d1b2a14bacc",
       "version_major": 2,
       "version_minor": 0
      },
      "text/plain": [
       "                                                                                                              …"
      ]
     },
     "metadata": {},
     "output_type": "display_data"
    },
    {
     "name": "stdout",
     "output_type": "stream",
     "text": [
      "Quality great, repetition 92/100\n"
     ]
    },
    {
     "data": {
      "application/vnd.jupyter.widget-view+json": {
       "model_id": "5a86453fc8e84e1cbfd1bbaa06277981",
       "version_major": 2,
       "version_minor": 0
      },
      "text/plain": [
       "                                                                                                              …"
      ]
     },
     "metadata": {},
     "output_type": "display_data"
    },
    {
     "name": "stdout",
     "output_type": "stream",
     "text": [
      "Quality great, repetition 93/100\n"
     ]
    },
    {
     "data": {
      "application/vnd.jupyter.widget-view+json": {
       "model_id": "33584c51064d400993dee39b098a55fb",
       "version_major": 2,
       "version_minor": 0
      },
      "text/plain": [
       "                                                                                                              …"
      ]
     },
     "metadata": {},
     "output_type": "display_data"
    },
    {
     "name": "stdout",
     "output_type": "stream",
     "text": [
      "Quality great, repetition 94/100\n"
     ]
    },
    {
     "data": {
      "application/vnd.jupyter.widget-view+json": {
       "model_id": "36f63af9abce4209a513c98ad317b46b",
       "version_major": 2,
       "version_minor": 0
      },
      "text/plain": [
       "                                                                                                              …"
      ]
     },
     "metadata": {},
     "output_type": "display_data"
    },
    {
     "name": "stdout",
     "output_type": "stream",
     "text": [
      "Quality great, repetition 95/100\n"
     ]
    },
    {
     "data": {
      "application/vnd.jupyter.widget-view+json": {
       "model_id": "fd0886f5b8614699bed481f7e17abd8e",
       "version_major": 2,
       "version_minor": 0
      },
      "text/plain": [
       "                                                                                                              …"
      ]
     },
     "metadata": {},
     "output_type": "display_data"
    },
    {
     "name": "stdout",
     "output_type": "stream",
     "text": [
      "Quality great, repetition 96/100\n"
     ]
    },
    {
     "data": {
      "application/vnd.jupyter.widget-view+json": {
       "model_id": "d26f10253e304f329eb22a411549fe90",
       "version_major": 2,
       "version_minor": 0
      },
      "text/plain": [
       "                                                                                                              …"
      ]
     },
     "metadata": {},
     "output_type": "display_data"
    },
    {
     "name": "stdout",
     "output_type": "stream",
     "text": [
      "Quality great, repetition 97/100\n"
     ]
    },
    {
     "data": {
      "application/vnd.jupyter.widget-view+json": {
       "model_id": "fce97a3c15fb44169fe1adb5f3196830",
       "version_major": 2,
       "version_minor": 0
      },
      "text/plain": [
       "                                                                                                              …"
      ]
     },
     "metadata": {},
     "output_type": "display_data"
    },
    {
     "name": "stdout",
     "output_type": "stream",
     "text": [
      "Quality great, repetition 98/100\n"
     ]
    },
    {
     "data": {
      "application/vnd.jupyter.widget-view+json": {
       "model_id": "71a438c883954603825ce7c50bee9236",
       "version_major": 2,
       "version_minor": 0
      },
      "text/plain": [
       "                                                                                                              …"
      ]
     },
     "metadata": {},
     "output_type": "display_data"
    },
    {
     "name": "stdout",
     "output_type": "stream",
     "text": [
      "Quality great, repetition 99/100\n",
      "Using best quality great\n",
      "Saved to batch_second/high_60.txt\n",
      "Saved to batch_second/high_60.obj\n",
      "Saved to batch_second/high_60_fixed.txt\n",
      "Saved to batch_second/high_60_fixed.obj\n",
      "Misalignment: very high\n"
     ]
    },
    {
     "data": {
      "application/vnd.jupyter.widget-view+json": {
       "model_id": "62a21259e73645bb9abcac65b494a0e1",
       "version_major": 2,
       "version_minor": 0
      },
      "text/plain": [
       "                                                                                                              …"
      ]
     },
     "metadata": {},
     "output_type": "display_data"
    },
    {
     "name": "stdout",
     "output_type": "stream",
     "text": [
      "Quality bad, repetition 0/10\n"
     ]
    },
    {
     "data": {
      "application/vnd.jupyter.widget-view+json": {
       "model_id": "54b0a060d08b407bab76adaae38ca1f2",
       "version_major": 2,
       "version_minor": 0
      },
      "text/plain": [
       "                                                                                                              …"
      ]
     },
     "metadata": {},
     "output_type": "display_data"
    },
    {
     "name": "stdout",
     "output_type": "stream",
     "text": [
      "Quality great, repetition 1/10\n"
     ]
    },
    {
     "data": {
      "application/vnd.jupyter.widget-view+json": {
       "model_id": "6282fd1321cb4381b34b98d4c40daf3b",
       "version_major": 2,
       "version_minor": 0
      },
      "text/plain": [
       "                                                                                                              …"
      ]
     },
     "metadata": {},
     "output_type": "display_data"
    },
    {
     "name": "stdout",
     "output_type": "stream",
     "text": [
      "Quality great, repetition 2/10\n"
     ]
    },
    {
     "data": {
      "application/vnd.jupyter.widget-view+json": {
       "model_id": "a284d0735c17441fb66794c68fdaee6c",
       "version_major": 2,
       "version_minor": 0
      },
      "text/plain": [
       "                                                                                                              …"
      ]
     },
     "metadata": {},
     "output_type": "display_data"
    },
    {
     "name": "stdout",
     "output_type": "stream",
     "text": [
      "Quality perfect, repetition 3/10\n"
     ]
    },
    {
     "data": {
      "application/vnd.jupyter.widget-view+json": {
       "model_id": "4bf12362c1224c429afbb3787c2e928d",
       "version_major": 2,
       "version_minor": 0
      },
      "text/plain": [
       "                                                                                                              …"
      ]
     },
     "metadata": {},
     "output_type": "display_data"
    },
    {
     "name": "stdout",
     "output_type": "stream",
     "text": [
      "Quality bad, repetition 0/100\n"
     ]
    },
    {
     "data": {
      "application/vnd.jupyter.widget-view+json": {
       "model_id": "2c103a7258464da58366dcc6c31d30ee",
       "version_major": 2,
       "version_minor": 0
      },
      "text/plain": [
       "                                                                                                              …"
      ]
     },
     "metadata": {},
     "output_type": "display_data"
    },
    {
     "name": "stdout",
     "output_type": "stream",
     "text": [
      "Quality bad, repetition 1/100\n"
     ]
    },
    {
     "data": {
      "application/vnd.jupyter.widget-view+json": {
       "model_id": "499f4d16e2804e2f844050b9a8a0d39f",
       "version_major": 2,
       "version_minor": 0
      },
      "text/plain": [
       "                                                                                                              …"
      ]
     },
     "metadata": {},
     "output_type": "display_data"
    },
    {
     "name": "stdout",
     "output_type": "stream",
     "text": [
      "Quality bad, repetition 2/100\n"
     ]
    },
    {
     "data": {
      "application/vnd.jupyter.widget-view+json": {
       "model_id": "f2b174e72467489f9ef321ebd174bbb7",
       "version_major": 2,
       "version_minor": 0
      },
      "text/plain": [
       "                                                                                                              …"
      ]
     },
     "metadata": {},
     "output_type": "display_data"
    },
    {
     "name": "stdout",
     "output_type": "stream",
     "text": [
      "Quality bad, repetition 3/100\n"
     ]
    },
    {
     "data": {
      "application/vnd.jupyter.widget-view+json": {
       "model_id": "18347e397e584c85b82033ccfd962c19",
       "version_major": 2,
       "version_minor": 0
      },
      "text/plain": [
       "                                                                                                              …"
      ]
     },
     "metadata": {},
     "output_type": "display_data"
    },
    {
     "name": "stdout",
     "output_type": "stream",
     "text": [
      "Quality ok, repetition 4/100\n"
     ]
    },
    {
     "data": {
      "application/vnd.jupyter.widget-view+json": {
       "model_id": "af6ade103db547beb4d7e08eb97b4e1f",
       "version_major": 2,
       "version_minor": 0
      },
      "text/plain": [
       "                                                                                                              …"
      ]
     },
     "metadata": {},
     "output_type": "display_data"
    },
    {
     "name": "stdout",
     "output_type": "stream",
     "text": [
      "Quality ok, repetition 5/100\n"
     ]
    },
    {
     "data": {
      "application/vnd.jupyter.widget-view+json": {
       "model_id": "dba5bbed6a034ee2b798fc3370d727a6",
       "version_major": 2,
       "version_minor": 0
      },
      "text/plain": [
       "                                                                                                              …"
      ]
     },
     "metadata": {},
     "output_type": "display_data"
    },
    {
     "name": "stdout",
     "output_type": "stream",
     "text": [
      "Quality ok, repetition 6/100\n"
     ]
    },
    {
     "data": {
      "application/vnd.jupyter.widget-view+json": {
       "model_id": "54caaab48daf44f193825a5c2c68d636",
       "version_major": 2,
       "version_minor": 0
      },
      "text/plain": [
       "                                                                                                              …"
      ]
     },
     "metadata": {},
     "output_type": "display_data"
    },
    {
     "name": "stdout",
     "output_type": "stream",
     "text": [
      "Quality ok, repetition 7/100\n"
     ]
    },
    {
     "data": {
      "application/vnd.jupyter.widget-view+json": {
       "model_id": "19312984f2a44c1fa7b23133e255cf62",
       "version_major": 2,
       "version_minor": 0
      },
      "text/plain": [
       "                                                                                                              …"
      ]
     },
     "metadata": {},
     "output_type": "display_data"
    },
    {
     "name": "stdout",
     "output_type": "stream",
     "text": [
      "Quality ok, repetition 8/100\n"
     ]
    },
    {
     "data": {
      "application/vnd.jupyter.widget-view+json": {
       "model_id": "109b67126892470ebe3d8d666355e505",
       "version_major": 2,
       "version_minor": 0
      },
      "text/plain": [
       "                                                                                                              …"
      ]
     },
     "metadata": {},
     "output_type": "display_data"
    },
    {
     "name": "stdout",
     "output_type": "stream",
     "text": [
      "Quality ok, repetition 9/100\n"
     ]
    },
    {
     "data": {
      "application/vnd.jupyter.widget-view+json": {
       "model_id": "a1018e8305824ad6b9df67a0d317b3f2",
       "version_major": 2,
       "version_minor": 0
      },
      "text/plain": [
       "                                                                                                              …"
      ]
     },
     "metadata": {},
     "output_type": "display_data"
    },
    {
     "name": "stdout",
     "output_type": "stream",
     "text": [
      "Quality ok, repetition 10/100\n"
     ]
    },
    {
     "data": {
      "application/vnd.jupyter.widget-view+json": {
       "model_id": "1f32a9aab5294d0a9169c6fab71c70ba",
       "version_major": 2,
       "version_minor": 0
      },
      "text/plain": [
       "                                                                                                              …"
      ]
     },
     "metadata": {},
     "output_type": "display_data"
    },
    {
     "name": "stdout",
     "output_type": "stream",
     "text": [
      "Quality great, repetition 11/100\n"
     ]
    },
    {
     "data": {
      "application/vnd.jupyter.widget-view+json": {
       "model_id": "8999d96edd094a2e9ab9d7278d756439",
       "version_major": 2,
       "version_minor": 0
      },
      "text/plain": [
       "                                                                                                              …"
      ]
     },
     "metadata": {},
     "output_type": "display_data"
    },
    {
     "name": "stdout",
     "output_type": "stream",
     "text": [
      "Quality great, repetition 12/100\n"
     ]
    },
    {
     "data": {
      "application/vnd.jupyter.widget-view+json": {
       "model_id": "73065165006d4693814a52a286d3e579",
       "version_major": 2,
       "version_minor": 0
      },
      "text/plain": [
       "                                                                                                              …"
      ]
     },
     "metadata": {},
     "output_type": "display_data"
    },
    {
     "name": "stdout",
     "output_type": "stream",
     "text": [
      "Quality great, repetition 13/100\n"
     ]
    },
    {
     "data": {
      "application/vnd.jupyter.widget-view+json": {
       "model_id": "c063f088084f47c1b005450255d1d3c3",
       "version_major": 2,
       "version_minor": 0
      },
      "text/plain": [
       "                                                                                                              …"
      ]
     },
     "metadata": {},
     "output_type": "display_data"
    },
    {
     "name": "stdout",
     "output_type": "stream",
     "text": [
      "Quality ok, repetition 14/100\n"
     ]
    },
    {
     "data": {
      "application/vnd.jupyter.widget-view+json": {
       "model_id": "e03b08f0c5e7420a8e383b3c2118dc22",
       "version_major": 2,
       "version_minor": 0
      },
      "text/plain": [
       "                                                                                                              …"
      ]
     },
     "metadata": {},
     "output_type": "display_data"
    },
    {
     "name": "stdout",
     "output_type": "stream",
     "text": [
      "Quality great, repetition 15/100\n"
     ]
    },
    {
     "data": {
      "application/vnd.jupyter.widget-view+json": {
       "model_id": "f3d9c5c3ed3a465186ebec45693716bc",
       "version_major": 2,
       "version_minor": 0
      },
      "text/plain": [
       "                                                                                                              …"
      ]
     },
     "metadata": {},
     "output_type": "display_data"
    },
    {
     "name": "stdout",
     "output_type": "stream",
     "text": [
      "Quality ok, repetition 16/100\n"
     ]
    },
    {
     "data": {
      "application/vnd.jupyter.widget-view+json": {
       "model_id": "2caa5d46768f41a1afca4bc3a4cc7b45",
       "version_major": 2,
       "version_minor": 0
      },
      "text/plain": [
       "                                                                                                              …"
      ]
     },
     "metadata": {},
     "output_type": "display_data"
    },
    {
     "name": "stdout",
     "output_type": "stream",
     "text": [
      "Quality ok, repetition 17/100\n"
     ]
    },
    {
     "data": {
      "application/vnd.jupyter.widget-view+json": {
       "model_id": "747e1fa8349c40c9a01107709c86d570",
       "version_major": 2,
       "version_minor": 0
      },
      "text/plain": [
       "                                                                                                              …"
      ]
     },
     "metadata": {},
     "output_type": "display_data"
    },
    {
     "name": "stdout",
     "output_type": "stream",
     "text": [
      "Quality ok, repetition 18/100\n"
     ]
    },
    {
     "data": {
      "application/vnd.jupyter.widget-view+json": {
       "model_id": "ac775044e7554de0b5ad5e955b1113ad",
       "version_major": 2,
       "version_minor": 0
      },
      "text/plain": [
       "                                                                                                              …"
      ]
     },
     "metadata": {},
     "output_type": "display_data"
    },
    {
     "name": "stdout",
     "output_type": "stream",
     "text": [
      "Quality ok, repetition 19/100\n"
     ]
    },
    {
     "data": {
      "application/vnd.jupyter.widget-view+json": {
       "model_id": "ab4fe6add35c41b29a2c7147b4fafc1e",
       "version_major": 2,
       "version_minor": 0
      },
      "text/plain": [
       "                                                                                                              …"
      ]
     },
     "metadata": {},
     "output_type": "display_data"
    },
    {
     "name": "stdout",
     "output_type": "stream",
     "text": [
      "Quality ok, repetition 20/100\n"
     ]
    },
    {
     "data": {
      "application/vnd.jupyter.widget-view+json": {
       "model_id": "0ab592f3dbff4eabb9239633f90bd587",
       "version_major": 2,
       "version_minor": 0
      },
      "text/plain": [
       "                                                                                                              …"
      ]
     },
     "metadata": {},
     "output_type": "display_data"
    },
    {
     "name": "stdout",
     "output_type": "stream",
     "text": [
      "Quality ok, repetition 21/100\n"
     ]
    },
    {
     "data": {
      "application/vnd.jupyter.widget-view+json": {
       "model_id": "b72b50bb04684cc59ae65be0a9bb3c3f",
       "version_major": 2,
       "version_minor": 0
      },
      "text/plain": [
       "                                                                                                              …"
      ]
     },
     "metadata": {},
     "output_type": "display_data"
    },
    {
     "name": "stdout",
     "output_type": "stream",
     "text": [
      "Quality ok, repetition 22/100\n"
     ]
    },
    {
     "data": {
      "application/vnd.jupyter.widget-view+json": {
       "model_id": "60e02d5c33b34050aa5a7b041cce0497",
       "version_major": 2,
       "version_minor": 0
      },
      "text/plain": [
       "                                                                                                              …"
      ]
     },
     "metadata": {},
     "output_type": "display_data"
    },
    {
     "name": "stdout",
     "output_type": "stream",
     "text": [
      "Quality ok, repetition 23/100\n"
     ]
    },
    {
     "data": {
      "application/vnd.jupyter.widget-view+json": {
       "model_id": "962f8ac0295647628519d61194b0e892",
       "version_major": 2,
       "version_minor": 0
      },
      "text/plain": [
       "                                                                                                              …"
      ]
     },
     "metadata": {},
     "output_type": "display_data"
    },
    {
     "name": "stdout",
     "output_type": "stream",
     "text": [
      "Quality ok, repetition 24/100\n"
     ]
    },
    {
     "data": {
      "application/vnd.jupyter.widget-view+json": {
       "model_id": "93412c7d7d7f496c9ec1baa151b6ddc7",
       "version_major": 2,
       "version_minor": 0
      },
      "text/plain": [
       "                                                                                                              …"
      ]
     },
     "metadata": {},
     "output_type": "display_data"
    },
    {
     "name": "stdout",
     "output_type": "stream",
     "text": [
      "Quality ok, repetition 25/100\n"
     ]
    },
    {
     "data": {
      "application/vnd.jupyter.widget-view+json": {
       "model_id": "943aa3270ac84c49957a2b36f640e462",
       "version_major": 2,
       "version_minor": 0
      },
      "text/plain": [
       "                                                                                                              …"
      ]
     },
     "metadata": {},
     "output_type": "display_data"
    },
    {
     "name": "stdout",
     "output_type": "stream",
     "text": [
      "Quality ok, repetition 26/100\n"
     ]
    },
    {
     "data": {
      "application/vnd.jupyter.widget-view+json": {
       "model_id": "73923c790887403aa4b2b96e58bbfcf3",
       "version_major": 2,
       "version_minor": 0
      },
      "text/plain": [
       "                                                                                                              …"
      ]
     },
     "metadata": {},
     "output_type": "display_data"
    },
    {
     "name": "stdout",
     "output_type": "stream",
     "text": [
      "Quality ok, repetition 27/100\n"
     ]
    },
    {
     "data": {
      "application/vnd.jupyter.widget-view+json": {
       "model_id": "3bdbdb40b42d430ebfe128e83fcf71b7",
       "version_major": 2,
       "version_minor": 0
      },
      "text/plain": [
       "                                                                                                              …"
      ]
     },
     "metadata": {},
     "output_type": "display_data"
    },
    {
     "name": "stdout",
     "output_type": "stream",
     "text": [
      "Quality ok, repetition 28/100\n"
     ]
    },
    {
     "data": {
      "application/vnd.jupyter.widget-view+json": {
       "model_id": "e2072c379552456a93ea1e1b6520ec7e",
       "version_major": 2,
       "version_minor": 0
      },
      "text/plain": [
       "                                                                                                              …"
      ]
     },
     "metadata": {},
     "output_type": "display_data"
    },
    {
     "name": "stdout",
     "output_type": "stream",
     "text": [
      "Quality ok, repetition 29/100\n"
     ]
    },
    {
     "data": {
      "application/vnd.jupyter.widget-view+json": {
       "model_id": "1d96f793ab024b218468ea8e876a8b1c",
       "version_major": 2,
       "version_minor": 0
      },
      "text/plain": [
       "                                                                                                              …"
      ]
     },
     "metadata": {},
     "output_type": "display_data"
    },
    {
     "name": "stdout",
     "output_type": "stream",
     "text": [
      "Quality ok, repetition 30/100\n"
     ]
    },
    {
     "data": {
      "application/vnd.jupyter.widget-view+json": {
       "model_id": "3c03381ba33246e5b2f07a63e37f2302",
       "version_major": 2,
       "version_minor": 0
      },
      "text/plain": [
       "                                                                                                              …"
      ]
     },
     "metadata": {},
     "output_type": "display_data"
    },
    {
     "name": "stdout",
     "output_type": "stream",
     "text": [
      "Quality ok, repetition 31/100\n"
     ]
    },
    {
     "data": {
      "application/vnd.jupyter.widget-view+json": {
       "model_id": "174a22bc239a4d5981f33275896ee877",
       "version_major": 2,
       "version_minor": 0
      },
      "text/plain": [
       "                                                                                                              …"
      ]
     },
     "metadata": {},
     "output_type": "display_data"
    },
    {
     "name": "stdout",
     "output_type": "stream",
     "text": [
      "Quality ok, repetition 32/100\n"
     ]
    },
    {
     "data": {
      "application/vnd.jupyter.widget-view+json": {
       "model_id": "99c6b84fdc05401a9df15b73b79b9c43",
       "version_major": 2,
       "version_minor": 0
      },
      "text/plain": [
       "                                                                                                              …"
      ]
     },
     "metadata": {},
     "output_type": "display_data"
    },
    {
     "name": "stdout",
     "output_type": "stream",
     "text": [
      "Quality great, repetition 33/100\n"
     ]
    },
    {
     "data": {
      "application/vnd.jupyter.widget-view+json": {
       "model_id": "be9b3d0175314b0b9bab84d38f06b03d",
       "version_major": 2,
       "version_minor": 0
      },
      "text/plain": [
       "                                                                                                              …"
      ]
     },
     "metadata": {},
     "output_type": "display_data"
    },
    {
     "name": "stdout",
     "output_type": "stream",
     "text": [
      "Quality great, repetition 34/100\n"
     ]
    },
    {
     "data": {
      "application/vnd.jupyter.widget-view+json": {
       "model_id": "6223c12de4a44daaad948609722644f1",
       "version_major": 2,
       "version_minor": 0
      },
      "text/plain": [
       "                                                                                                              …"
      ]
     },
     "metadata": {},
     "output_type": "display_data"
    },
    {
     "name": "stdout",
     "output_type": "stream",
     "text": [
      "Quality ok, repetition 35/100\n"
     ]
    },
    {
     "data": {
      "application/vnd.jupyter.widget-view+json": {
       "model_id": "ab5eb5ea1a5146ba813623c29a39bc11",
       "version_major": 2,
       "version_minor": 0
      },
      "text/plain": [
       "                                                                                                              …"
      ]
     },
     "metadata": {},
     "output_type": "display_data"
    },
    {
     "name": "stdout",
     "output_type": "stream",
     "text": [
      "Quality ok, repetition 36/100\n"
     ]
    },
    {
     "data": {
      "application/vnd.jupyter.widget-view+json": {
       "model_id": "41e0e5fefa3c43d5a32ce62e985ce627",
       "version_major": 2,
       "version_minor": 0
      },
      "text/plain": [
       "                                                                                                              …"
      ]
     },
     "metadata": {},
     "output_type": "display_data"
    },
    {
     "name": "stdout",
     "output_type": "stream",
     "text": [
      "Quality ok, repetition 37/100\n"
     ]
    },
    {
     "data": {
      "application/vnd.jupyter.widget-view+json": {
       "model_id": "6fce93f8b1e94a79bb5ff3da7eea7ef8",
       "version_major": 2,
       "version_minor": 0
      },
      "text/plain": [
       "                                                                                                              …"
      ]
     },
     "metadata": {},
     "output_type": "display_data"
    },
    {
     "name": "stdout",
     "output_type": "stream",
     "text": [
      "Quality ok, repetition 38/100\n"
     ]
    },
    {
     "data": {
      "application/vnd.jupyter.widget-view+json": {
       "model_id": "fe4ab9acc8be4ebcb15bd0fb191996c1",
       "version_major": 2,
       "version_minor": 0
      },
      "text/plain": [
       "                                                                                                              …"
      ]
     },
     "metadata": {},
     "output_type": "display_data"
    },
    {
     "name": "stdout",
     "output_type": "stream",
     "text": [
      "Quality ok, repetition 39/100\n"
     ]
    },
    {
     "data": {
      "application/vnd.jupyter.widget-view+json": {
       "model_id": "77c4768cb2854d249ef7c3ba700dc3e5",
       "version_major": 2,
       "version_minor": 0
      },
      "text/plain": [
       "                                                                                                              …"
      ]
     },
     "metadata": {},
     "output_type": "display_data"
    },
    {
     "name": "stdout",
     "output_type": "stream",
     "text": [
      "Quality ok, repetition 40/100\n"
     ]
    },
    {
     "data": {
      "application/vnd.jupyter.widget-view+json": {
       "model_id": "b99feaf20bc14e078863f55dc7839feb",
       "version_major": 2,
       "version_minor": 0
      },
      "text/plain": [
       "                                                                                                              …"
      ]
     },
     "metadata": {},
     "output_type": "display_data"
    },
    {
     "name": "stdout",
     "output_type": "stream",
     "text": [
      "Quality ok, repetition 41/100\n"
     ]
    },
    {
     "data": {
      "application/vnd.jupyter.widget-view+json": {
       "model_id": "16d26239a26b4cf88a69e77a6b0721d3",
       "version_major": 2,
       "version_minor": 0
      },
      "text/plain": [
       "                                                                                                              …"
      ]
     },
     "metadata": {},
     "output_type": "display_data"
    },
    {
     "name": "stdout",
     "output_type": "stream",
     "text": [
      "Quality ok, repetition 42/100\n"
     ]
    },
    {
     "data": {
      "application/vnd.jupyter.widget-view+json": {
       "model_id": "f37eee9b03e74e89a2a964b3cbe51ec5",
       "version_major": 2,
       "version_minor": 0
      },
      "text/plain": [
       "                                                                                                              …"
      ]
     },
     "metadata": {},
     "output_type": "display_data"
    },
    {
     "name": "stdout",
     "output_type": "stream",
     "text": [
      "Quality ok, repetition 43/100\n"
     ]
    },
    {
     "data": {
      "application/vnd.jupyter.widget-view+json": {
       "model_id": "751b4283868b40e1b11aaeca7e5b0027",
       "version_major": 2,
       "version_minor": 0
      },
      "text/plain": [
       "                                                                                                              …"
      ]
     },
     "metadata": {},
     "output_type": "display_data"
    },
    {
     "name": "stdout",
     "output_type": "stream",
     "text": [
      "Quality ok, repetition 44/100\n"
     ]
    },
    {
     "data": {
      "application/vnd.jupyter.widget-view+json": {
       "model_id": "97d3ea59ea494f9d85411f2be5ec1ae0",
       "version_major": 2,
       "version_minor": 0
      },
      "text/plain": [
       "                                                                                                              …"
      ]
     },
     "metadata": {},
     "output_type": "display_data"
    },
    {
     "name": "stdout",
     "output_type": "stream",
     "text": [
      "Quality ok, repetition 45/100\n"
     ]
    },
    {
     "data": {
      "application/vnd.jupyter.widget-view+json": {
       "model_id": "8f47a6b9976d41b1b4317277322767ae",
       "version_major": 2,
       "version_minor": 0
      },
      "text/plain": [
       "                                                                                                              …"
      ]
     },
     "metadata": {},
     "output_type": "display_data"
    },
    {
     "name": "stdout",
     "output_type": "stream",
     "text": [
      "Quality ok, repetition 46/100\n"
     ]
    },
    {
     "data": {
      "application/vnd.jupyter.widget-view+json": {
       "model_id": "d34526c5cb434398a02f5078c77b2ba3",
       "version_major": 2,
       "version_minor": 0
      },
      "text/plain": [
       "                                                                                                              …"
      ]
     },
     "metadata": {},
     "output_type": "display_data"
    },
    {
     "name": "stdout",
     "output_type": "stream",
     "text": [
      "Quality great, repetition 47/100\n"
     ]
    },
    {
     "data": {
      "application/vnd.jupyter.widget-view+json": {
       "model_id": "35f72a50fd024333a4dbcfd5d81e1e7d",
       "version_major": 2,
       "version_minor": 0
      },
      "text/plain": [
       "                                                                                                              …"
      ]
     },
     "metadata": {},
     "output_type": "display_data"
    },
    {
     "name": "stdout",
     "output_type": "stream",
     "text": [
      "Quality great, repetition 48/100\n"
     ]
    },
    {
     "data": {
      "application/vnd.jupyter.widget-view+json": {
       "model_id": "d04df98c1b2f468e808067b71720727d",
       "version_major": 2,
       "version_minor": 0
      },
      "text/plain": [
       "                                                                                                              …"
      ]
     },
     "metadata": {},
     "output_type": "display_data"
    },
    {
     "name": "stdout",
     "output_type": "stream",
     "text": [
      "Quality great, repetition 49/100\n"
     ]
    },
    {
     "data": {
      "application/vnd.jupyter.widget-view+json": {
       "model_id": "403a3c0060a14e04bbebe87c82fef90d",
       "version_major": 2,
       "version_minor": 0
      },
      "text/plain": [
       "                                                                                                              …"
      ]
     },
     "metadata": {},
     "output_type": "display_data"
    },
    {
     "name": "stdout",
     "output_type": "stream",
     "text": [
      "Quality great, repetition 50/100\n"
     ]
    },
    {
     "data": {
      "application/vnd.jupyter.widget-view+json": {
       "model_id": "89cd0bf76beb4aa194d352f3de5713b8",
       "version_major": 2,
       "version_minor": 0
      },
      "text/plain": [
       "                                                                                                              …"
      ]
     },
     "metadata": {},
     "output_type": "display_data"
    },
    {
     "name": "stdout",
     "output_type": "stream",
     "text": [
      "Quality great, repetition 51/100\n"
     ]
    },
    {
     "data": {
      "application/vnd.jupyter.widget-view+json": {
       "model_id": "ac72c20781d64a69a878c20b4fa3a3a6",
       "version_major": 2,
       "version_minor": 0
      },
      "text/plain": [
       "                                                                                                              …"
      ]
     },
     "metadata": {},
     "output_type": "display_data"
    },
    {
     "name": "stdout",
     "output_type": "stream",
     "text": [
      "Quality great, repetition 52/100\n"
     ]
    },
    {
     "data": {
      "application/vnd.jupyter.widget-view+json": {
       "model_id": "16edec1da4c3412c8420f3679281eaf8",
       "version_major": 2,
       "version_minor": 0
      },
      "text/plain": [
       "                                                                                                              …"
      ]
     },
     "metadata": {},
     "output_type": "display_data"
    },
    {
     "name": "stdout",
     "output_type": "stream",
     "text": [
      "Quality great, repetition 53/100\n"
     ]
    },
    {
     "data": {
      "application/vnd.jupyter.widget-view+json": {
       "model_id": "9fc6d13bd8f2454b844000c9439dbb7b",
       "version_major": 2,
       "version_minor": 0
      },
      "text/plain": [
       "                                                                                                              …"
      ]
     },
     "metadata": {},
     "output_type": "display_data"
    },
    {
     "name": "stdout",
     "output_type": "stream",
     "text": [
      "Quality great, repetition 54/100\n"
     ]
    },
    {
     "data": {
      "application/vnd.jupyter.widget-view+json": {
       "model_id": "771e01f455e54e86a9828e7726f4c31e",
       "version_major": 2,
       "version_minor": 0
      },
      "text/plain": [
       "                                                                                                              …"
      ]
     },
     "metadata": {},
     "output_type": "display_data"
    },
    {
     "name": "stdout",
     "output_type": "stream",
     "text": [
      "Quality great, repetition 55/100\n"
     ]
    },
    {
     "data": {
      "application/vnd.jupyter.widget-view+json": {
       "model_id": "ffa03b3593c3424481015eb86412fc67",
       "version_major": 2,
       "version_minor": 0
      },
      "text/plain": [
       "                                                                                                              …"
      ]
     },
     "metadata": {},
     "output_type": "display_data"
    },
    {
     "name": "stdout",
     "output_type": "stream",
     "text": [
      "Quality great, repetition 56/100\n"
     ]
    },
    {
     "data": {
      "application/vnd.jupyter.widget-view+json": {
       "model_id": "49b09712fa614c12aa310d88d701c48c",
       "version_major": 2,
       "version_minor": 0
      },
      "text/plain": [
       "                                                                                                              …"
      ]
     },
     "metadata": {},
     "output_type": "display_data"
    },
    {
     "name": "stdout",
     "output_type": "stream",
     "text": [
      "Quality great, repetition 57/100\n"
     ]
    },
    {
     "data": {
      "application/vnd.jupyter.widget-view+json": {
       "model_id": "20cb6ffa85d643bdbdedbbbd7b6a7b6a",
       "version_major": 2,
       "version_minor": 0
      },
      "text/plain": [
       "                                                                                                              …"
      ]
     },
     "metadata": {},
     "output_type": "display_data"
    },
    {
     "name": "stdout",
     "output_type": "stream",
     "text": [
      "Quality great, repetition 58/100\n"
     ]
    },
    {
     "data": {
      "application/vnd.jupyter.widget-view+json": {
       "model_id": "99a60cd01b09472a94b70cbc0bd4c183",
       "version_major": 2,
       "version_minor": 0
      },
      "text/plain": [
       "                                                                                                              …"
      ]
     },
     "metadata": {},
     "output_type": "display_data"
    },
    {
     "name": "stdout",
     "output_type": "stream",
     "text": [
      "Quality great, repetition 59/100\n"
     ]
    },
    {
     "data": {
      "application/vnd.jupyter.widget-view+json": {
       "model_id": "68a8c083a1d4410fb828f55cba98097f",
       "version_major": 2,
       "version_minor": 0
      },
      "text/plain": [
       "                                                                                                              …"
      ]
     },
     "metadata": {},
     "output_type": "display_data"
    },
    {
     "name": "stdout",
     "output_type": "stream",
     "text": [
      "Quality great, repetition 60/100\n"
     ]
    },
    {
     "data": {
      "application/vnd.jupyter.widget-view+json": {
       "model_id": "91669dc37b2247c5a9738a564be451fe",
       "version_major": 2,
       "version_minor": 0
      },
      "text/plain": [
       "                                                                                                              …"
      ]
     },
     "metadata": {},
     "output_type": "display_data"
    },
    {
     "name": "stdout",
     "output_type": "stream",
     "text": [
      "Quality great, repetition 61/100\n"
     ]
    },
    {
     "data": {
      "application/vnd.jupyter.widget-view+json": {
       "model_id": "bf090930b18e4a8fa0adbef37a511726",
       "version_major": 2,
       "version_minor": 0
      },
      "text/plain": [
       "                                                                                                              …"
      ]
     },
     "metadata": {},
     "output_type": "display_data"
    },
    {
     "name": "stdout",
     "output_type": "stream",
     "text": [
      "Quality great, repetition 62/100\n"
     ]
    },
    {
     "data": {
      "application/vnd.jupyter.widget-view+json": {
       "model_id": "afd7224ee1d840388f04b31436e1e49f",
       "version_major": 2,
       "version_minor": 0
      },
      "text/plain": [
       "                                                                                                              …"
      ]
     },
     "metadata": {},
     "output_type": "display_data"
    },
    {
     "name": "stdout",
     "output_type": "stream",
     "text": [
      "Quality great, repetition 63/100\n"
     ]
    },
    {
     "data": {
      "application/vnd.jupyter.widget-view+json": {
       "model_id": "413db63e304a46d898df910bcb546eda",
       "version_major": 2,
       "version_minor": 0
      },
      "text/plain": [
       "                                                                                                              …"
      ]
     },
     "metadata": {},
     "output_type": "display_data"
    },
    {
     "name": "stdout",
     "output_type": "stream",
     "text": [
      "Quality great, repetition 64/100\n"
     ]
    },
    {
     "data": {
      "application/vnd.jupyter.widget-view+json": {
       "model_id": "595e63dcb50741e381a9dac914442eb2",
       "version_major": 2,
       "version_minor": 0
      },
      "text/plain": [
       "                                                                                                              …"
      ]
     },
     "metadata": {},
     "output_type": "display_data"
    },
    {
     "name": "stdout",
     "output_type": "stream",
     "text": [
      "Quality great, repetition 65/100\n"
     ]
    },
    {
     "data": {
      "application/vnd.jupyter.widget-view+json": {
       "model_id": "832dd5262c02404da73ae6bd0ea43e54",
       "version_major": 2,
       "version_minor": 0
      },
      "text/plain": [
       "                                                                                                              …"
      ]
     },
     "metadata": {},
     "output_type": "display_data"
    },
    {
     "name": "stdout",
     "output_type": "stream",
     "text": [
      "Quality great, repetition 66/100\n"
     ]
    },
    {
     "data": {
      "application/vnd.jupyter.widget-view+json": {
       "model_id": "eccd52d2e1584da4ac6b0f35efe16720",
       "version_major": 2,
       "version_minor": 0
      },
      "text/plain": [
       "                                                                                                              …"
      ]
     },
     "metadata": {},
     "output_type": "display_data"
    },
    {
     "name": "stdout",
     "output_type": "stream",
     "text": [
      "Quality great, repetition 67/100\n"
     ]
    },
    {
     "data": {
      "application/vnd.jupyter.widget-view+json": {
       "model_id": "e5544f733400447884937a0c1db067d3",
       "version_major": 2,
       "version_minor": 0
      },
      "text/plain": [
       "                                                                                                              …"
      ]
     },
     "metadata": {},
     "output_type": "display_data"
    },
    {
     "name": "stdout",
     "output_type": "stream",
     "text": [
      "Quality great, repetition 68/100\n"
     ]
    },
    {
     "data": {
      "application/vnd.jupyter.widget-view+json": {
       "model_id": "0d0812c02ae940f28e47dd6d8b182864",
       "version_major": 2,
       "version_minor": 0
      },
      "text/plain": [
       "                                                                                                              …"
      ]
     },
     "metadata": {},
     "output_type": "display_data"
    },
    {
     "name": "stdout",
     "output_type": "stream",
     "text": [
      "Quality great, repetition 69/100\n"
     ]
    },
    {
     "data": {
      "application/vnd.jupyter.widget-view+json": {
       "model_id": "1c99b8309ecd446ea45371aba57b9ad3",
       "version_major": 2,
       "version_minor": 0
      },
      "text/plain": [
       "                                                                                                              …"
      ]
     },
     "metadata": {},
     "output_type": "display_data"
    },
    {
     "name": "stdout",
     "output_type": "stream",
     "text": [
      "Quality great, repetition 70/100\n"
     ]
    },
    {
     "data": {
      "application/vnd.jupyter.widget-view+json": {
       "model_id": "b71fca64acd9477c9fbd114d7b350f89",
       "version_major": 2,
       "version_minor": 0
      },
      "text/plain": [
       "                                                                                                              …"
      ]
     },
     "metadata": {},
     "output_type": "display_data"
    },
    {
     "name": "stdout",
     "output_type": "stream",
     "text": [
      "Quality great, repetition 71/100\n"
     ]
    },
    {
     "data": {
      "application/vnd.jupyter.widget-view+json": {
       "model_id": "d29f96e3b6a14e79a7a8d7be08e770e2",
       "version_major": 2,
       "version_minor": 0
      },
      "text/plain": [
       "                                                                                                              …"
      ]
     },
     "metadata": {},
     "output_type": "display_data"
    },
    {
     "name": "stdout",
     "output_type": "stream",
     "text": [
      "Quality great, repetition 72/100\n"
     ]
    },
    {
     "data": {
      "application/vnd.jupyter.widget-view+json": {
       "model_id": "540f21cfec6641bc8b964908bdfa4ca2",
       "version_major": 2,
       "version_minor": 0
      },
      "text/plain": [
       "                                                                                                              …"
      ]
     },
     "metadata": {},
     "output_type": "display_data"
    },
    {
     "name": "stdout",
     "output_type": "stream",
     "text": [
      "Quality great, repetition 73/100\n"
     ]
    },
    {
     "data": {
      "application/vnd.jupyter.widget-view+json": {
       "model_id": "a1574f095b854b2aa39a45383941bbf0",
       "version_major": 2,
       "version_minor": 0
      },
      "text/plain": [
       "                                                                                                              …"
      ]
     },
     "metadata": {},
     "output_type": "display_data"
    },
    {
     "name": "stdout",
     "output_type": "stream",
     "text": [
      "Quality great, repetition 74/100\n"
     ]
    },
    {
     "data": {
      "application/vnd.jupyter.widget-view+json": {
       "model_id": "676911c21c294d75a61ea5384fce9595",
       "version_major": 2,
       "version_minor": 0
      },
      "text/plain": [
       "                                                                                                              …"
      ]
     },
     "metadata": {},
     "output_type": "display_data"
    },
    {
     "name": "stdout",
     "output_type": "stream",
     "text": [
      "Quality great, repetition 75/100\n"
     ]
    },
    {
     "data": {
      "application/vnd.jupyter.widget-view+json": {
       "model_id": "26fac3dd38944bc6a7257cd43aa2b7dd",
       "version_major": 2,
       "version_minor": 0
      },
      "text/plain": [
       "                                                                                                              …"
      ]
     },
     "metadata": {},
     "output_type": "display_data"
    },
    {
     "name": "stdout",
     "output_type": "stream",
     "text": [
      "Quality great, repetition 76/100\n"
     ]
    },
    {
     "data": {
      "application/vnd.jupyter.widget-view+json": {
       "model_id": "5a3d251eeac64bc0821913909c99ce48",
       "version_major": 2,
       "version_minor": 0
      },
      "text/plain": [
       "                                                                                                              …"
      ]
     },
     "metadata": {},
     "output_type": "display_data"
    },
    {
     "name": "stdout",
     "output_type": "stream",
     "text": [
      "Quality great, repetition 77/100\n"
     ]
    },
    {
     "data": {
      "application/vnd.jupyter.widget-view+json": {
       "model_id": "1c783d852266421399e0fd460b0dfab5",
       "version_major": 2,
       "version_minor": 0
      },
      "text/plain": [
       "                                                                                                              …"
      ]
     },
     "metadata": {},
     "output_type": "display_data"
    },
    {
     "name": "stdout",
     "output_type": "stream",
     "text": [
      "Quality great, repetition 78/100\n"
     ]
    },
    {
     "data": {
      "application/vnd.jupyter.widget-view+json": {
       "model_id": "3fa71be5e2584cd8a1e5f81298cd48fd",
       "version_major": 2,
       "version_minor": 0
      },
      "text/plain": [
       "                                                                                                              …"
      ]
     },
     "metadata": {},
     "output_type": "display_data"
    },
    {
     "name": "stdout",
     "output_type": "stream",
     "text": [
      "Quality great, repetition 79/100\n"
     ]
    },
    {
     "data": {
      "application/vnd.jupyter.widget-view+json": {
       "model_id": "7e1c20877f404b779bab5ece7546f25a",
       "version_major": 2,
       "version_minor": 0
      },
      "text/plain": [
       "                                                                                                              …"
      ]
     },
     "metadata": {},
     "output_type": "display_data"
    },
    {
     "name": "stdout",
     "output_type": "stream",
     "text": [
      "Quality great, repetition 80/100\n"
     ]
    },
    {
     "data": {
      "application/vnd.jupyter.widget-view+json": {
       "model_id": "15235d93c705422593be27d9d157b8b8",
       "version_major": 2,
       "version_minor": 0
      },
      "text/plain": [
       "                                                                                                              …"
      ]
     },
     "metadata": {},
     "output_type": "display_data"
    },
    {
     "name": "stdout",
     "output_type": "stream",
     "text": [
      "Quality great, repetition 81/100\n"
     ]
    },
    {
     "data": {
      "application/vnd.jupyter.widget-view+json": {
       "model_id": "862a99baba8446ef88399c12351da2d3",
       "version_major": 2,
       "version_minor": 0
      },
      "text/plain": [
       "                                                                                                              …"
      ]
     },
     "metadata": {},
     "output_type": "display_data"
    },
    {
     "name": "stdout",
     "output_type": "stream",
     "text": [
      "Quality great, repetition 82/100\n"
     ]
    },
    {
     "data": {
      "application/vnd.jupyter.widget-view+json": {
       "model_id": "f33bd3e1877247b0958f678316633900",
       "version_major": 2,
       "version_minor": 0
      },
      "text/plain": [
       "                                                                                                              …"
      ]
     },
     "metadata": {},
     "output_type": "display_data"
    },
    {
     "name": "stdout",
     "output_type": "stream",
     "text": [
      "Quality great, repetition 83/100\n"
     ]
    },
    {
     "data": {
      "application/vnd.jupyter.widget-view+json": {
       "model_id": "000da97df92942c4873010fd67da490b",
       "version_major": 2,
       "version_minor": 0
      },
      "text/plain": [
       "                                                                                                              …"
      ]
     },
     "metadata": {},
     "output_type": "display_data"
    },
    {
     "name": "stdout",
     "output_type": "stream",
     "text": [
      "Quality great, repetition 84/100\n"
     ]
    },
    {
     "data": {
      "application/vnd.jupyter.widget-view+json": {
       "model_id": "606852ce8716437ebe57e51f506d2aa1",
       "version_major": 2,
       "version_minor": 0
      },
      "text/plain": [
       "                                                                                                              …"
      ]
     },
     "metadata": {},
     "output_type": "display_data"
    },
    {
     "name": "stdout",
     "output_type": "stream",
     "text": [
      "Quality great, repetition 85/100\n"
     ]
    },
    {
     "data": {
      "application/vnd.jupyter.widget-view+json": {
       "model_id": "1b05e63fa9ac44afa1a0e60a06809770",
       "version_major": 2,
       "version_minor": 0
      },
      "text/plain": [
       "                                                                                                              …"
      ]
     },
     "metadata": {},
     "output_type": "display_data"
    },
    {
     "name": "stdout",
     "output_type": "stream",
     "text": [
      "Quality great, repetition 86/100\n"
     ]
    },
    {
     "data": {
      "application/vnd.jupyter.widget-view+json": {
       "model_id": "5f6f00ea26b34f46bc7e80a9cff1a8f7",
       "version_major": 2,
       "version_minor": 0
      },
      "text/plain": [
       "                                                                                                              …"
      ]
     },
     "metadata": {},
     "output_type": "display_data"
    },
    {
     "name": "stdout",
     "output_type": "stream",
     "text": [
      "Quality great, repetition 87/100\n"
     ]
    },
    {
     "data": {
      "application/vnd.jupyter.widget-view+json": {
       "model_id": "7612968350ea4b0389a20a191294887d",
       "version_major": 2,
       "version_minor": 0
      },
      "text/plain": [
       "                                                                                                              …"
      ]
     },
     "metadata": {},
     "output_type": "display_data"
    },
    {
     "name": "stdout",
     "output_type": "stream",
     "text": [
      "Quality great, repetition 88/100\n"
     ]
    },
    {
     "data": {
      "application/vnd.jupyter.widget-view+json": {
       "model_id": "755c1c4fc5944bab91acf5be206cd085",
       "version_major": 2,
       "version_minor": 0
      },
      "text/plain": [
       "                                                                                                              …"
      ]
     },
     "metadata": {},
     "output_type": "display_data"
    },
    {
     "name": "stdout",
     "output_type": "stream",
     "text": [
      "Quality great, repetition 89/100\n"
     ]
    },
    {
     "data": {
      "application/vnd.jupyter.widget-view+json": {
       "model_id": "90b40ac54aa2438983aff4ceec3378d8",
       "version_major": 2,
       "version_minor": 0
      },
      "text/plain": [
       "                                                                                                              …"
      ]
     },
     "metadata": {},
     "output_type": "display_data"
    },
    {
     "name": "stdout",
     "output_type": "stream",
     "text": [
      "Quality great, repetition 90/100\n"
     ]
    },
    {
     "data": {
      "application/vnd.jupyter.widget-view+json": {
       "model_id": "c38e711632344f5f9590539f00ea81f9",
       "version_major": 2,
       "version_minor": 0
      },
      "text/plain": [
       "                                                                                                              …"
      ]
     },
     "metadata": {},
     "output_type": "display_data"
    },
    {
     "name": "stdout",
     "output_type": "stream",
     "text": [
      "Quality great, repetition 91/100\n"
     ]
    },
    {
     "data": {
      "application/vnd.jupyter.widget-view+json": {
       "model_id": "f47bc20687494f8bbbf2a0f1770fed55",
       "version_major": 2,
       "version_minor": 0
      },
      "text/plain": [
       "                                                                                                              …"
      ]
     },
     "metadata": {},
     "output_type": "display_data"
    },
    {
     "name": "stdout",
     "output_type": "stream",
     "text": [
      "Quality great, repetition 92/100\n"
     ]
    },
    {
     "data": {
      "application/vnd.jupyter.widget-view+json": {
       "model_id": "884044851dd3482c82d2358448b089ff",
       "version_major": 2,
       "version_minor": 0
      },
      "text/plain": [
       "                                                                                                              …"
      ]
     },
     "metadata": {},
     "output_type": "display_data"
    },
    {
     "name": "stdout",
     "output_type": "stream",
     "text": [
      "Quality great, repetition 93/100\n"
     ]
    },
    {
     "data": {
      "application/vnd.jupyter.widget-view+json": {
       "model_id": "86a30aecdcf242ad80fb11081653b610",
       "version_major": 2,
       "version_minor": 0
      },
      "text/plain": [
       "                                                                                                              …"
      ]
     },
     "metadata": {},
     "output_type": "display_data"
    },
    {
     "name": "stdout",
     "output_type": "stream",
     "text": [
      "Quality great, repetition 94/100\n"
     ]
    },
    {
     "data": {
      "application/vnd.jupyter.widget-view+json": {
       "model_id": "9743e71fdfa443b288215e83e8605994",
       "version_major": 2,
       "version_minor": 0
      },
      "text/plain": [
       "                                                                                                              …"
      ]
     },
     "metadata": {},
     "output_type": "display_data"
    },
    {
     "name": "stdout",
     "output_type": "stream",
     "text": [
      "Quality great, repetition 95/100\n"
     ]
    },
    {
     "data": {
      "application/vnd.jupyter.widget-view+json": {
       "model_id": "b748a9798c234f189f5d8a96aebcf295",
       "version_major": 2,
       "version_minor": 0
      },
      "text/plain": [
       "                                                                                                              …"
      ]
     },
     "metadata": {},
     "output_type": "display_data"
    },
    {
     "name": "stdout",
     "output_type": "stream",
     "text": [
      "Quality great, repetition 96/100\n"
     ]
    },
    {
     "data": {
      "application/vnd.jupyter.widget-view+json": {
       "model_id": "596dce3a4ff84557a67472614f7a03e9",
       "version_major": 2,
       "version_minor": 0
      },
      "text/plain": [
       "                                                                                                              …"
      ]
     },
     "metadata": {},
     "output_type": "display_data"
    },
    {
     "name": "stdout",
     "output_type": "stream",
     "text": [
      "Quality great, repetition 97/100\n"
     ]
    },
    {
     "data": {
      "application/vnd.jupyter.widget-view+json": {
       "model_id": "75bbb751b34f4480b0d576311eae6ab2",
       "version_major": 2,
       "version_minor": 0
      },
      "text/plain": [
       "                                                                                                              …"
      ]
     },
     "metadata": {},
     "output_type": "display_data"
    },
    {
     "name": "stdout",
     "output_type": "stream",
     "text": [
      "Quality great, repetition 98/100\n"
     ]
    },
    {
     "data": {
      "application/vnd.jupyter.widget-view+json": {
       "model_id": "f0166dbad5ab4909a2107595fbc00393",
       "version_major": 2,
       "version_minor": 0
      },
      "text/plain": [
       "                                                                                                              …"
      ]
     },
     "metadata": {},
     "output_type": "display_data"
    },
    {
     "name": "stdout",
     "output_type": "stream",
     "text": [
      "Quality great, repetition 99/100\n",
      "Using best quality great\n",
      "Saved to batch_second/very high_60.txt\n",
      "Saved to batch_second/very high_60.obj\n",
      "Saved to batch_second/very high_60_fixed.txt\n",
      "Saved to batch_second/very high_60_fixed.obj\n",
      "Fibre volume fraction: 70\n",
      "Using device mps\n"
     ]
    },
    {
     "data": {
      "application/vnd.jupyter.widget-view+json": {
       "model_id": "dc46b8709ecb4adc9dd0d54c1d94a2f9",
       "version_major": 2,
       "version_minor": 0
      },
      "text/plain": [
       "                                                                                                              …"
      ]
     },
     "metadata": {},
     "output_type": "display_data"
    },
    {
     "name": "stdout",
     "output_type": "stream",
     "text": [
      "Quality bad, repetition 0/10\n"
     ]
    },
    {
     "data": {
      "application/vnd.jupyter.widget-view+json": {
       "model_id": "0877fbfd337f4493958391ef3d447299",
       "version_major": 2,
       "version_minor": 0
      },
      "text/plain": [
       "                                                                                                              …"
      ]
     },
     "metadata": {},
     "output_type": "display_data"
    },
    {
     "name": "stdout",
     "output_type": "stream",
     "text": [
      "Quality great, repetition 1/10\n"
     ]
    },
    {
     "data": {
      "application/vnd.jupyter.widget-view+json": {
       "model_id": "9f1cdbeea900451695c0afc34c26b1ae",
       "version_major": 2,
       "version_minor": 0
      },
      "text/plain": [
       "                                                                                                              …"
      ]
     },
     "metadata": {},
     "output_type": "display_data"
    },
    {
     "name": "stdout",
     "output_type": "stream",
     "text": [
      "Quality great, repetition 2/10\n"
     ]
    },
    {
     "data": {
      "application/vnd.jupyter.widget-view+json": {
       "model_id": "fdd4c97610de495584ed27fb83a37d66",
       "version_major": 2,
       "version_minor": 0
      },
      "text/plain": [
       "                                                                                                              …"
      ]
     },
     "metadata": {},
     "output_type": "display_data"
    },
    {
     "name": "stdout",
     "output_type": "stream",
     "text": [
      "Quality perfect, repetition 3/10\n",
      "Misalignment: very low\n"
     ]
    },
    {
     "data": {
      "application/vnd.jupyter.widget-view+json": {
       "model_id": "d3a1e1e1795548f98d9945a6045fb560",
       "version_major": 2,
       "version_minor": 0
      },
      "text/plain": [
       "                                                                                                              …"
      ]
     },
     "metadata": {},
     "output_type": "display_data"
    },
    {
     "name": "stdout",
     "output_type": "stream",
     "text": [
      "Quality great, repetition 0/10\n"
     ]
    },
    {
     "data": {
      "application/vnd.jupyter.widget-view+json": {
       "model_id": "f3a5c80bc8864342b2df16de04a4e902",
       "version_major": 2,
       "version_minor": 0
      },
      "text/plain": [
       "                                                                                                              …"
      ]
     },
     "metadata": {},
     "output_type": "display_data"
    },
    {
     "name": "stdout",
     "output_type": "stream",
     "text": [
      "Quality great, repetition 1/10\n"
     ]
    },
    {
     "data": {
      "application/vnd.jupyter.widget-view+json": {
       "model_id": "28b1eb03c19446f2a31fa293076d4f1d",
       "version_major": 2,
       "version_minor": 0
      },
      "text/plain": [
       "                                                                                                              …"
      ]
     },
     "metadata": {},
     "output_type": "display_data"
    },
    {
     "name": "stdout",
     "output_type": "stream",
     "text": [
      "Quality great, repetition 2/10\n"
     ]
    },
    {
     "data": {
      "application/vnd.jupyter.widget-view+json": {
       "model_id": "f31aef3693c94beb9275201d03f53b3b",
       "version_major": 2,
       "version_minor": 0
      },
      "text/plain": [
       "                                                                                                              …"
      ]
     },
     "metadata": {},
     "output_type": "display_data"
    },
    {
     "name": "stdout",
     "output_type": "stream",
     "text": [
      "Quality perfect, repetition 3/10\n"
     ]
    },
    {
     "data": {
      "application/vnd.jupyter.widget-view+json": {
       "model_id": "6d62be6b16824d5d9d7abb0223100cf2",
       "version_major": 2,
       "version_minor": 0
      },
      "text/plain": [
       "                                                                                                              …"
      ]
     },
     "metadata": {},
     "output_type": "display_data"
    },
    {
     "name": "stdout",
     "output_type": "stream",
     "text": [
      "Quality ok, repetition 0/100\n"
     ]
    },
    {
     "data": {
      "application/vnd.jupyter.widget-view+json": {
       "model_id": "cfccfeb66d0c430eb6d60fef60eab506",
       "version_major": 2,
       "version_minor": 0
      },
      "text/plain": [
       "                                                                                                              …"
      ]
     },
     "metadata": {},
     "output_type": "display_data"
    },
    {
     "name": "stdout",
     "output_type": "stream",
     "text": [
      "Quality great, repetition 1/100\n"
     ]
    },
    {
     "data": {
      "application/vnd.jupyter.widget-view+json": {
       "model_id": "d123bb03924e4f6794910a56b2dabf2a",
       "version_major": 2,
       "version_minor": 0
      },
      "text/plain": [
       "                                                                                                              …"
      ]
     },
     "metadata": {},
     "output_type": "display_data"
    },
    {
     "name": "stdout",
     "output_type": "stream",
     "text": [
      "Quality great, repetition 2/100\n"
     ]
    },
    {
     "data": {
      "application/vnd.jupyter.widget-view+json": {
       "model_id": "9cf39279f3644c05bb35fb46b35bc04f",
       "version_major": 2,
       "version_minor": 0
      },
      "text/plain": [
       "                                                                                                              …"
      ]
     },
     "metadata": {},
     "output_type": "display_data"
    },
    {
     "name": "stdout",
     "output_type": "stream",
     "text": [
      "Quality great, repetition 3/100\n"
     ]
    },
    {
     "data": {
      "application/vnd.jupyter.widget-view+json": {
       "model_id": "769ff334b4534299a9366e59e7d3cb67",
       "version_major": 2,
       "version_minor": 0
      },
      "text/plain": [
       "                                                                                                              …"
      ]
     },
     "metadata": {},
     "output_type": "display_data"
    },
    {
     "name": "stdout",
     "output_type": "stream",
     "text": [
      "Quality great, repetition 4/100\n"
     ]
    },
    {
     "data": {
      "application/vnd.jupyter.widget-view+json": {
       "model_id": "834a01ecb7494162ad3e0ec9ea36987e",
       "version_major": 2,
       "version_minor": 0
      },
      "text/plain": [
       "                                                                                                              …"
      ]
     },
     "metadata": {},
     "output_type": "display_data"
    },
    {
     "name": "stdout",
     "output_type": "stream",
     "text": [
      "Quality great, repetition 5/100\n"
     ]
    },
    {
     "data": {
      "application/vnd.jupyter.widget-view+json": {
       "model_id": "534768c562a048aeae3040d3e38a6a20",
       "version_major": 2,
       "version_minor": 0
      },
      "text/plain": [
       "                                                                                                              …"
      ]
     },
     "metadata": {},
     "output_type": "display_data"
    },
    {
     "name": "stdout",
     "output_type": "stream",
     "text": [
      "Quality great, repetition 6/100\n"
     ]
    },
    {
     "data": {
      "application/vnd.jupyter.widget-view+json": {
       "model_id": "ee562d91bc154e77ad0b4556e02dc3c6",
       "version_major": 2,
       "version_minor": 0
      },
      "text/plain": [
       "                                                                                                              …"
      ]
     },
     "metadata": {},
     "output_type": "display_data"
    },
    {
     "name": "stdout",
     "output_type": "stream",
     "text": [
      "Quality great, repetition 7/100\n"
     ]
    },
    {
     "data": {
      "application/vnd.jupyter.widget-view+json": {
       "model_id": "fc15dec8bdfa439198da83fd70f8190b",
       "version_major": 2,
       "version_minor": 0
      },
      "text/plain": [
       "                                                                                                              …"
      ]
     },
     "metadata": {},
     "output_type": "display_data"
    },
    {
     "name": "stdout",
     "output_type": "stream",
     "text": [
      "Quality great, repetition 8/100\n"
     ]
    },
    {
     "data": {
      "application/vnd.jupyter.widget-view+json": {
       "model_id": "d83bc5bf7f1c45f78f7e04bd1903dbfe",
       "version_major": 2,
       "version_minor": 0
      },
      "text/plain": [
       "                                                                                                              …"
      ]
     },
     "metadata": {},
     "output_type": "display_data"
    },
    {
     "name": "stdout",
     "output_type": "stream",
     "text": [
      "Quality great, repetition 9/100\n"
     ]
    },
    {
     "data": {
      "application/vnd.jupyter.widget-view+json": {
       "model_id": "a1aeb36cbb6e45ba84509507ff53f298",
       "version_major": 2,
       "version_minor": 0
      },
      "text/plain": [
       "                                                                                                              …"
      ]
     },
     "metadata": {},
     "output_type": "display_data"
    },
    {
     "name": "stdout",
     "output_type": "stream",
     "text": [
      "Quality great, repetition 10/100\n"
     ]
    },
    {
     "data": {
      "application/vnd.jupyter.widget-view+json": {
       "model_id": "1a89f0b81beb4166af184e4bb4a36185",
       "version_major": 2,
       "version_minor": 0
      },
      "text/plain": [
       "                                                                                                              …"
      ]
     },
     "metadata": {},
     "output_type": "display_data"
    },
    {
     "name": "stdout",
     "output_type": "stream",
     "text": [
      "Quality great, repetition 11/100\n"
     ]
    },
    {
     "data": {
      "application/vnd.jupyter.widget-view+json": {
       "model_id": "f83b475b65b44172af5942109a6477fb",
       "version_major": 2,
       "version_minor": 0
      },
      "text/plain": [
       "                                                                                                              …"
      ]
     },
     "metadata": {},
     "output_type": "display_data"
    },
    {
     "name": "stdout",
     "output_type": "stream",
     "text": [
      "Quality great, repetition 12/100\n"
     ]
    },
    {
     "data": {
      "application/vnd.jupyter.widget-view+json": {
       "model_id": "3381f9f6ff544d99baccc3dbe344bc70",
       "version_major": 2,
       "version_minor": 0
      },
      "text/plain": [
       "                                                                                                              …"
      ]
     },
     "metadata": {},
     "output_type": "display_data"
    },
    {
     "name": "stdout",
     "output_type": "stream",
     "text": [
      "Quality great, repetition 13/100\n"
     ]
    },
    {
     "data": {
      "application/vnd.jupyter.widget-view+json": {
       "model_id": "9e68dd93765744429af7e164d54bcdf7",
       "version_major": 2,
       "version_minor": 0
      },
      "text/plain": [
       "                                                                                                              …"
      ]
     },
     "metadata": {},
     "output_type": "display_data"
    },
    {
     "name": "stdout",
     "output_type": "stream",
     "text": [
      "Quality great, repetition 14/100\n"
     ]
    },
    {
     "data": {
      "application/vnd.jupyter.widget-view+json": {
       "model_id": "8478c329fe7545b8b9a957c2086192ae",
       "version_major": 2,
       "version_minor": 0
      },
      "text/plain": [
       "                                                                                                              …"
      ]
     },
     "metadata": {},
     "output_type": "display_data"
    },
    {
     "name": "stdout",
     "output_type": "stream",
     "text": [
      "Quality great, repetition 15/100\n"
     ]
    },
    {
     "data": {
      "application/vnd.jupyter.widget-view+json": {
       "model_id": "fce21c4648084d4691a12eecf77ee8e5",
       "version_major": 2,
       "version_minor": 0
      },
      "text/plain": [
       "                                                                                                              …"
      ]
     },
     "metadata": {},
     "output_type": "display_data"
    },
    {
     "name": "stdout",
     "output_type": "stream",
     "text": [
      "Quality great, repetition 16/100\n"
     ]
    },
    {
     "data": {
      "application/vnd.jupyter.widget-view+json": {
       "model_id": "2611c1a2dcf04c69890ae527b7f5e7a0",
       "version_major": 2,
       "version_minor": 0
      },
      "text/plain": [
       "                                                                                                              …"
      ]
     },
     "metadata": {},
     "output_type": "display_data"
    },
    {
     "name": "stdout",
     "output_type": "stream",
     "text": [
      "Quality great, repetition 17/100\n"
     ]
    },
    {
     "data": {
      "application/vnd.jupyter.widget-view+json": {
       "model_id": "dc05944ac2fd47bd90726a14d9c51b1d",
       "version_major": 2,
       "version_minor": 0
      },
      "text/plain": [
       "                                                                                                              …"
      ]
     },
     "metadata": {},
     "output_type": "display_data"
    },
    {
     "name": "stdout",
     "output_type": "stream",
     "text": [
      "Quality great, repetition 18/100\n"
     ]
    },
    {
     "data": {
      "application/vnd.jupyter.widget-view+json": {
       "model_id": "0103904cc9204996a679bfb1780075ba",
       "version_major": 2,
       "version_minor": 0
      },
      "text/plain": [
       "                                                                                                              …"
      ]
     },
     "metadata": {},
     "output_type": "display_data"
    },
    {
     "name": "stdout",
     "output_type": "stream",
     "text": [
      "Quality great, repetition 19/100\n"
     ]
    },
    {
     "data": {
      "application/vnd.jupyter.widget-view+json": {
       "model_id": "973b63589ceb4021aae2612f55a5127a",
       "version_major": 2,
       "version_minor": 0
      },
      "text/plain": [
       "                                                                                                              …"
      ]
     },
     "metadata": {},
     "output_type": "display_data"
    },
    {
     "name": "stdout",
     "output_type": "stream",
     "text": [
      "Quality great, repetition 20/100\n"
     ]
    },
    {
     "data": {
      "application/vnd.jupyter.widget-view+json": {
       "model_id": "991d209fecea4ffb83a36b872c0c3c72",
       "version_major": 2,
       "version_minor": 0
      },
      "text/plain": [
       "                                                                                                              …"
      ]
     },
     "metadata": {},
     "output_type": "display_data"
    },
    {
     "name": "stdout",
     "output_type": "stream",
     "text": [
      "Quality great, repetition 21/100\n"
     ]
    },
    {
     "data": {
      "application/vnd.jupyter.widget-view+json": {
       "model_id": "019a5bf1e0d74cb691c6f11e33189f96",
       "version_major": 2,
       "version_minor": 0
      },
      "text/plain": [
       "                                                                                                              …"
      ]
     },
     "metadata": {},
     "output_type": "display_data"
    },
    {
     "name": "stdout",
     "output_type": "stream",
     "text": [
      "Quality great, repetition 22/100\n"
     ]
    },
    {
     "data": {
      "application/vnd.jupyter.widget-view+json": {
       "model_id": "9f795455a8ba41e297efd743e966d5a8",
       "version_major": 2,
       "version_minor": 0
      },
      "text/plain": [
       "                                                                                                              …"
      ]
     },
     "metadata": {},
     "output_type": "display_data"
    },
    {
     "name": "stdout",
     "output_type": "stream",
     "text": [
      "Quality great, repetition 23/100\n"
     ]
    },
    {
     "data": {
      "application/vnd.jupyter.widget-view+json": {
       "model_id": "73f6f890d54f4036aea4ef89ca853cec",
       "version_major": 2,
       "version_minor": 0
      },
      "text/plain": [
       "                                                                                                              …"
      ]
     },
     "metadata": {},
     "output_type": "display_data"
    },
    {
     "name": "stdout",
     "output_type": "stream",
     "text": [
      "Quality great, repetition 24/100\n"
     ]
    },
    {
     "data": {
      "application/vnd.jupyter.widget-view+json": {
       "model_id": "9ca2c379608d48199637cf58dad7c308",
       "version_major": 2,
       "version_minor": 0
      },
      "text/plain": [
       "                                                                                                              …"
      ]
     },
     "metadata": {},
     "output_type": "display_data"
    },
    {
     "name": "stdout",
     "output_type": "stream",
     "text": [
      "Quality great, repetition 25/100\n"
     ]
    },
    {
     "data": {
      "application/vnd.jupyter.widget-view+json": {
       "model_id": "d077acba2a09440cb08284bead982ca2",
       "version_major": 2,
       "version_minor": 0
      },
      "text/plain": [
       "                                                                                                              …"
      ]
     },
     "metadata": {},
     "output_type": "display_data"
    },
    {
     "name": "stdout",
     "output_type": "stream",
     "text": [
      "Quality great, repetition 26/100\n"
     ]
    },
    {
     "data": {
      "application/vnd.jupyter.widget-view+json": {
       "model_id": "99d0fbc2e943420a9a3de3d97f6a787b",
       "version_major": 2,
       "version_minor": 0
      },
      "text/plain": [
       "                                                                                                              …"
      ]
     },
     "metadata": {},
     "output_type": "display_data"
    },
    {
     "name": "stdout",
     "output_type": "stream",
     "text": [
      "Quality great, repetition 27/100\n"
     ]
    },
    {
     "data": {
      "application/vnd.jupyter.widget-view+json": {
       "model_id": "b42151e8f7c84f84bc813b886df059b6",
       "version_major": 2,
       "version_minor": 0
      },
      "text/plain": [
       "                                                                                                              …"
      ]
     },
     "metadata": {},
     "output_type": "display_data"
    },
    {
     "name": "stdout",
     "output_type": "stream",
     "text": [
      "Quality great, repetition 28/100\n"
     ]
    },
    {
     "data": {
      "application/vnd.jupyter.widget-view+json": {
       "model_id": "129632695a5b46e2ad67ffb2798d0a1d",
       "version_major": 2,
       "version_minor": 0
      },
      "text/plain": [
       "                                                                                                              …"
      ]
     },
     "metadata": {},
     "output_type": "display_data"
    },
    {
     "name": "stdout",
     "output_type": "stream",
     "text": [
      "Quality great, repetition 29/100\n"
     ]
    },
    {
     "data": {
      "application/vnd.jupyter.widget-view+json": {
       "model_id": "56f018b17edd4503bf29827056de4807",
       "version_major": 2,
       "version_minor": 0
      },
      "text/plain": [
       "                                                                                                              …"
      ]
     },
     "metadata": {},
     "output_type": "display_data"
    },
    {
     "name": "stdout",
     "output_type": "stream",
     "text": [
      "Quality great, repetition 30/100\n"
     ]
    },
    {
     "data": {
      "application/vnd.jupyter.widget-view+json": {
       "model_id": "8b9a61cf24e54fe4a1e6f2486d69a89d",
       "version_major": 2,
       "version_minor": 0
      },
      "text/plain": [
       "                                                                                                              …"
      ]
     },
     "metadata": {},
     "output_type": "display_data"
    },
    {
     "name": "stdout",
     "output_type": "stream",
     "text": [
      "Quality great, repetition 31/100\n"
     ]
    },
    {
     "data": {
      "application/vnd.jupyter.widget-view+json": {
       "model_id": "c060f890ed4b4069af8903f6d19af9d5",
       "version_major": 2,
       "version_minor": 0
      },
      "text/plain": [
       "                                                                                                              …"
      ]
     },
     "metadata": {},
     "output_type": "display_data"
    },
    {
     "name": "stdout",
     "output_type": "stream",
     "text": [
      "Quality great, repetition 32/100\n"
     ]
    },
    {
     "data": {
      "application/vnd.jupyter.widget-view+json": {
       "model_id": "54eebdaddb034c9c8642ec9b9ec754c3",
       "version_major": 2,
       "version_minor": 0
      },
      "text/plain": [
       "                                                                                                              …"
      ]
     },
     "metadata": {},
     "output_type": "display_data"
    },
    {
     "name": "stdout",
     "output_type": "stream",
     "text": [
      "Quality great, repetition 33/100\n"
     ]
    },
    {
     "data": {
      "application/vnd.jupyter.widget-view+json": {
       "model_id": "153f12da471e4046a368b006ebdcd713",
       "version_major": 2,
       "version_minor": 0
      },
      "text/plain": [
       "                                                                                                              …"
      ]
     },
     "metadata": {},
     "output_type": "display_data"
    },
    {
     "name": "stdout",
     "output_type": "stream",
     "text": [
      "Quality great, repetition 34/100\n"
     ]
    },
    {
     "data": {
      "application/vnd.jupyter.widget-view+json": {
       "model_id": "04823da33fad4bef84dbb34b2217c236",
       "version_major": 2,
       "version_minor": 0
      },
      "text/plain": [
       "                                                                                                              …"
      ]
     },
     "metadata": {},
     "output_type": "display_data"
    },
    {
     "name": "stdout",
     "output_type": "stream",
     "text": [
      "Quality great, repetition 35/100\n"
     ]
    },
    {
     "data": {
      "application/vnd.jupyter.widget-view+json": {
       "model_id": "1dea2fee564b4292b47499a8612bc34f",
       "version_major": 2,
       "version_minor": 0
      },
      "text/plain": [
       "                                                                                                              …"
      ]
     },
     "metadata": {},
     "output_type": "display_data"
    },
    {
     "name": "stdout",
     "output_type": "stream",
     "text": [
      "Quality great, repetition 36/100\n"
     ]
    },
    {
     "data": {
      "application/vnd.jupyter.widget-view+json": {
       "model_id": "eec5887e6af84c5b9982b6f7a155a215",
       "version_major": 2,
       "version_minor": 0
      },
      "text/plain": [
       "                                                                                                              …"
      ]
     },
     "metadata": {},
     "output_type": "display_data"
    },
    {
     "name": "stdout",
     "output_type": "stream",
     "text": [
      "Quality great, repetition 37/100\n"
     ]
    },
    {
     "data": {
      "application/vnd.jupyter.widget-view+json": {
       "model_id": "8752ae52a1e44b298b5f97edfb8cdc5f",
       "version_major": 2,
       "version_minor": 0
      },
      "text/plain": [
       "                                                                                                              …"
      ]
     },
     "metadata": {},
     "output_type": "display_data"
    },
    {
     "name": "stdout",
     "output_type": "stream",
     "text": [
      "Quality great, repetition 38/100\n"
     ]
    },
    {
     "data": {
      "application/vnd.jupyter.widget-view+json": {
       "model_id": "a309d8362749449a9413481302f7585a",
       "version_major": 2,
       "version_minor": 0
      },
      "text/plain": [
       "                                                                                                              …"
      ]
     },
     "metadata": {},
     "output_type": "display_data"
    },
    {
     "name": "stdout",
     "output_type": "stream",
     "text": [
      "Quality great, repetition 39/100\n"
     ]
    },
    {
     "data": {
      "application/vnd.jupyter.widget-view+json": {
       "model_id": "568e01acc1c2428d9f0b899204c9a053",
       "version_major": 2,
       "version_minor": 0
      },
      "text/plain": [
       "                                                                                                              …"
      ]
     },
     "metadata": {},
     "output_type": "display_data"
    },
    {
     "name": "stdout",
     "output_type": "stream",
     "text": [
      "Quality great, repetition 40/100\n"
     ]
    },
    {
     "data": {
      "application/vnd.jupyter.widget-view+json": {
       "model_id": "ffee0518da3d47d48777e839a651d35c",
       "version_major": 2,
       "version_minor": 0
      },
      "text/plain": [
       "                                                                                                              …"
      ]
     },
     "metadata": {},
     "output_type": "display_data"
    },
    {
     "name": "stdout",
     "output_type": "stream",
     "text": [
      "Quality great, repetition 41/100\n"
     ]
    },
    {
     "data": {
      "application/vnd.jupyter.widget-view+json": {
       "model_id": "3ba81b9dce14489cbe79c3a5b0b21246",
       "version_major": 2,
       "version_minor": 0
      },
      "text/plain": [
       "                                                                                                              …"
      ]
     },
     "metadata": {},
     "output_type": "display_data"
    },
    {
     "name": "stdout",
     "output_type": "stream",
     "text": [
      "Quality great, repetition 42/100\n"
     ]
    },
    {
     "data": {
      "application/vnd.jupyter.widget-view+json": {
       "model_id": "2004887fada74db784001b72674ff604",
       "version_major": 2,
       "version_minor": 0
      },
      "text/plain": [
       "                                                                                                              …"
      ]
     },
     "metadata": {},
     "output_type": "display_data"
    },
    {
     "name": "stdout",
     "output_type": "stream",
     "text": [
      "Quality great, repetition 43/100\n"
     ]
    },
    {
     "data": {
      "application/vnd.jupyter.widget-view+json": {
       "model_id": "915a8297b40745888422f83dae8a1873",
       "version_major": 2,
       "version_minor": 0
      },
      "text/plain": [
       "                                                                                                              …"
      ]
     },
     "metadata": {},
     "output_type": "display_data"
    },
    {
     "name": "stdout",
     "output_type": "stream",
     "text": [
      "Quality great, repetition 44/100\n"
     ]
    },
    {
     "data": {
      "application/vnd.jupyter.widget-view+json": {
       "model_id": "4ba0039eb88c4ac69333913eec122cee",
       "version_major": 2,
       "version_minor": 0
      },
      "text/plain": [
       "                                                                                                              …"
      ]
     },
     "metadata": {},
     "output_type": "display_data"
    },
    {
     "name": "stdout",
     "output_type": "stream",
     "text": [
      "Quality great, repetition 45/100\n"
     ]
    },
    {
     "data": {
      "application/vnd.jupyter.widget-view+json": {
       "model_id": "4af22393f5744f809da4aa97bdc94ce6",
       "version_major": 2,
       "version_minor": 0
      },
      "text/plain": [
       "                                                                                                              …"
      ]
     },
     "metadata": {},
     "output_type": "display_data"
    },
    {
     "name": "stdout",
     "output_type": "stream",
     "text": [
      "Quality great, repetition 46/100\n"
     ]
    },
    {
     "data": {
      "application/vnd.jupyter.widget-view+json": {
       "model_id": "48b7b1213ba8479a8cf079a3827643ca",
       "version_major": 2,
       "version_minor": 0
      },
      "text/plain": [
       "                                                                                                              …"
      ]
     },
     "metadata": {},
     "output_type": "display_data"
    },
    {
     "name": "stdout",
     "output_type": "stream",
     "text": [
      "Quality great, repetition 47/100\n"
     ]
    },
    {
     "data": {
      "application/vnd.jupyter.widget-view+json": {
       "model_id": "c1cb1da5be874f30afee9d6070ff3200",
       "version_major": 2,
       "version_minor": 0
      },
      "text/plain": [
       "                                                                                                              …"
      ]
     },
     "metadata": {},
     "output_type": "display_data"
    },
    {
     "name": "stdout",
     "output_type": "stream",
     "text": [
      "Quality great, repetition 48/100\n"
     ]
    },
    {
     "data": {
      "application/vnd.jupyter.widget-view+json": {
       "model_id": "eb9e774bd964473db488af15135fdb7c",
       "version_major": 2,
       "version_minor": 0
      },
      "text/plain": [
       "                                                                                                              …"
      ]
     },
     "metadata": {},
     "output_type": "display_data"
    },
    {
     "name": "stdout",
     "output_type": "stream",
     "text": [
      "Quality great, repetition 49/100\n"
     ]
    },
    {
     "data": {
      "application/vnd.jupyter.widget-view+json": {
       "model_id": "55df41a3677a453cbc863c3f7274a699",
       "version_major": 2,
       "version_minor": 0
      },
      "text/plain": [
       "                                                                                                              …"
      ]
     },
     "metadata": {},
     "output_type": "display_data"
    },
    {
     "name": "stdout",
     "output_type": "stream",
     "text": [
      "Quality great, repetition 50/100\n"
     ]
    },
    {
     "data": {
      "application/vnd.jupyter.widget-view+json": {
       "model_id": "76829af6b93346ef8a3920928d6c9ca4",
       "version_major": 2,
       "version_minor": 0
      },
      "text/plain": [
       "                                                                                                              …"
      ]
     },
     "metadata": {},
     "output_type": "display_data"
    },
    {
     "name": "stdout",
     "output_type": "stream",
     "text": [
      "Quality great, repetition 51/100\n"
     ]
    },
    {
     "data": {
      "application/vnd.jupyter.widget-view+json": {
       "model_id": "4f01fbbf12424fa480bc75839a044b57",
       "version_major": 2,
       "version_minor": 0
      },
      "text/plain": [
       "                                                                                                              …"
      ]
     },
     "metadata": {},
     "output_type": "display_data"
    },
    {
     "name": "stdout",
     "output_type": "stream",
     "text": [
      "Quality great, repetition 52/100\n"
     ]
    },
    {
     "data": {
      "application/vnd.jupyter.widget-view+json": {
       "model_id": "f749a5b99b7d4c24bd0a0c35fe49251d",
       "version_major": 2,
       "version_minor": 0
      },
      "text/plain": [
       "                                                                                                              …"
      ]
     },
     "metadata": {},
     "output_type": "display_data"
    },
    {
     "name": "stdout",
     "output_type": "stream",
     "text": [
      "Quality great, repetition 53/100\n"
     ]
    },
    {
     "data": {
      "application/vnd.jupyter.widget-view+json": {
       "model_id": "f516985d0d504689b737923c8f6df73c",
       "version_major": 2,
       "version_minor": 0
      },
      "text/plain": [
       "                                                                                                              …"
      ]
     },
     "metadata": {},
     "output_type": "display_data"
    },
    {
     "name": "stdout",
     "output_type": "stream",
     "text": [
      "Quality great, repetition 54/100\n"
     ]
    },
    {
     "data": {
      "application/vnd.jupyter.widget-view+json": {
       "model_id": "c66ec8a708354d0680b8e65c0dfc2ea7",
       "version_major": 2,
       "version_minor": 0
      },
      "text/plain": [
       "                                                                                                              …"
      ]
     },
     "metadata": {},
     "output_type": "display_data"
    },
    {
     "name": "stdout",
     "output_type": "stream",
     "text": [
      "Quality great, repetition 55/100\n"
     ]
    },
    {
     "data": {
      "application/vnd.jupyter.widget-view+json": {
       "model_id": "5ca7d712f1c34edb97ae501108b0c4dd",
       "version_major": 2,
       "version_minor": 0
      },
      "text/plain": [
       "                                                                                                              …"
      ]
     },
     "metadata": {},
     "output_type": "display_data"
    },
    {
     "name": "stdout",
     "output_type": "stream",
     "text": [
      "Quality great, repetition 56/100\n"
     ]
    },
    {
     "data": {
      "application/vnd.jupyter.widget-view+json": {
       "model_id": "0997b35dffcc43a1ac3eac526ca5f62e",
       "version_major": 2,
       "version_minor": 0
      },
      "text/plain": [
       "                                                                                                              …"
      ]
     },
     "metadata": {},
     "output_type": "display_data"
    }
   ],
   "source": [
    "for fibre_volume_fraction in [30, 40, 50, 60, 70]:\n",
    "    print(f'Fibre volume fraction: {fibre_volume_fraction}')\n",
    "    fib = fp.from_fvf(domain_radius, fibre_volume_fraction, fibre_radius_mean, fibre_radius_sigma)\n",
    "    fib.initialize_start_slice()\n",
    "    losses = fib.optimize_slice_heuristic('start', iters=iters_slice, repetitions=repetitions_slice, change_every=change_slice)\n",
    "    for misalignment in ['very low', 'low', 'moderate', 'high', 'very high']:\n",
    "        print(f'Misalignment: {misalignment}')\n",
    "        fib.initialize_end_slice(misalignment)\n",
    "        losses = fib.optimize_slice_heuristic('end', iters=iters_slice, repetitions=repetitions_slice, change_every=change_slice)\n",
    "        fib.interpolate_configuration(number_slices, z_multiplier)\n",
    "        losses = fib.optimize_configuration_heuristic(iters=iters_config, repetitions=repetitions_config, change_every=change_config)\n",
    "        fib.save_result(f'{foldername}/{misalignment}_{fibre_volume_fraction}.txt')\n",
    "        fib.save_mesh(f'{foldername}/{misalignment}_{fibre_volume_fraction}.obj', n=8, close_ends=True)\n",
    "        before = fib.get_fvp()\n",
    "        fib.set_radii(fib.fix_radii())\n",
    "        fib.save_result(f'{foldername}/{misalignment}_{fibre_volume_fraction}_fixed.txt')\n",
    "        fib.save_mesh(f'{foldername}/{misalignment}_{fibre_volume_fraction}_fixed.obj', n=8, close_ends=True)\n",
    "        after = fib.get_fvp()\n",
    "        with open(f'{foldername}/_log.txt', 'a') as f:\n",
    "            f.write(f'Asked: fvf {fibre_volume_fraction} {misalignment}, got {after:.5}/{before:.5}\\n')"
   ]
  }
 ],
 "metadata": {
  "kernelspec": {
   "display_name": "withPyTorch",
   "language": "python",
   "name": "python3"
  },
  "language_info": {
   "codemirror_mode": {
    "name": "ipython",
    "version": 3
   },
   "file_extension": ".py",
   "mimetype": "text/x-python",
   "name": "python",
   "nbconvert_exporter": "python",
   "pygments_lexer": "ipython3",
   "version": "3.10.6"
  }
 },
 "nbformat": 4,
 "nbformat_minor": 2
}
