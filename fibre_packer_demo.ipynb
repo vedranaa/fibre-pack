{
 "cells": [
  {
   "cell_type": "markdown",
   "metadata": {},
   "source": [
    "# Fibre packer demo\n",
    "\n",
    "*Author: Vedrana Andersen Dahl (vand@dtu.dk)*\n",
    "\n",
    "[![Open In Colab](https://colab.research.google.com/assets/colab-badge.svg)](https://colab.research.google.com/github/vedranaa/fibre-pack/blob/main/fibre_packer_demo.ipynb)\n",
    "\n"
   ]
  },
  {
   "cell_type": "code",
   "execution_count": null,
   "metadata": {},
   "outputs": [],
   "source": [
    "import os\n",
    "if not os.path.isfile('fibre_packer.py'):\n",
    "    !wget 'https://raw.githubusercontent.com/vedranaa/fibre-pack/main/fibre_packer.py' -q\n",
    "import fibre_packer as fp"
   ]
  },
  {
   "cell_type": "markdown",
   "metadata": {},
   "source": [
    "## Setting up and optimizing the first and last slice"
   ]
  },
  {
   "cell_type": "code",
   "execution_count": null,
   "metadata": {},
   "outputs": [],
   "source": [
    "domain_radius = 70  # Domain radius\n",
    "fibre_radius_mean = 2  # Mean fibre radius\n",
    "fibre_radius_sigma = 0.1 * fibre_radius_mean  # Standard deviation of fibre radius\n",
    "fibre_volume_fraction = 65  # Desired fibre volume fraction\n",
    "number_slices = 20 # Number of slices to generate\n",
    "misalignment = 'high'"
   ]
  },
  {
   "cell_type": "code",
   "execution_count": null,
   "metadata": {},
   "outputs": [],
   "source": [
    "fib = fp.from_fvf(domain_radius, fibre_volume_fraction, fibre_radius_mean, fibre_radius_sigma)\n",
    "fib.show_radii_distribution()"
   ]
  },
  {
   "cell_type": "code",
   "execution_count": null,
   "metadata": {},
   "outputs": [],
   "source": [
    "fib.initialize_start_slice()\n",
    "fib.show_slice('start','Initial start slice')"
   ]
  },
  {
   "cell_type": "code",
   "execution_count": null,
   "metadata": {},
   "outputs": [],
   "source": [
    "losses = fib.optimize_slice_heuristic('start', iters=100, repetitions=10)"
   ]
  },
  {
   "cell_type": "code",
   "execution_count": null,
   "metadata": {},
   "outputs": [],
   "source": [
    "fib.show_losses(losses)\n",
    "fib.show_slice('start','Optimized start slice', show_issues=True)"
   ]
  },
  {
   "cell_type": "code",
   "execution_count": null,
   "metadata": {},
   "outputs": [],
   "source": [
    "fib.initialize_end_slice(misalignment)\n",
    "fib.show_slice('end','Initial end slice')"
   ]
  },
  {
   "cell_type": "code",
   "execution_count": null,
   "metadata": {},
   "outputs": [],
   "source": [
    "losses = fib.optimize_slice_heuristic('end', iters=100, repetitions=10)"
   ]
  },
  {
   "cell_type": "code",
   "execution_count": null,
   "metadata": {},
   "outputs": [],
   "source": [
    "fib.show_losses(losses)\n",
    "fib.show_slice('end','Optimized end slice', show_issues=True)"
   ]
  },
  {
   "cell_type": "markdown",
   "metadata": {},
   "source": [
    "## Interpolating and optimizing trajectories"
   ]
  },
  {
   "cell_type": "code",
   "execution_count": null,
   "metadata": {},
   "outputs": [],
   "source": [
    "fib.interpolate_configuration(number_slices)\n",
    "fib.show_3D_configuration('Interpolated configuration')"
   ]
  },
  {
   "cell_type": "code",
   "execution_count": null,
   "metadata": {},
   "outputs": [],
   "source": [
    "fib.animate_slices('Interpolated configuration')"
   ]
  },
  {
   "cell_type": "code",
   "execution_count": null,
   "metadata": {},
   "outputs": [],
   "source": [
    "losses = fib.optimize_configuration_heuristic(iters=100, repetitions=10)"
   ]
  },
  {
   "cell_type": "code",
   "execution_count": null,
   "metadata": {},
   "outputs": [],
   "source": [
    "fib.show_losses(losses)\n",
    "fib.show_3D_configuration('Optimized configuration')"
   ]
  },
  {
   "cell_type": "code",
   "execution_count": null,
   "metadata": {},
   "outputs": [],
   "source": [
    "fib.animate_slices('Optimized configuration')"
   ]
  },
  {
   "cell_type": "markdown",
   "metadata": {},
   "source": [
    "## Analyzing and adjusting the radii"
   ]
  },
  {
   "cell_type": "code",
   "execution_count": null,
   "metadata": {},
   "outputs": [],
   "source": [
    "analysis = fib.get_full_analysis()\n",
    "fib.show_3D_configuration_analysis(analysis, title='Location of configuration issues')\n",
    "fib.show_analysis_distribution(analysis, title='Distribution of configuration issues')\n"
   ]
  },
  {
   "cell_type": "code",
   "execution_count": null,
   "metadata": {},
   "outputs": [],
   "source": [
    "fixed_radii = fib.fix_radii()\n",
    "fib.show_fixed_radii(fixed_radii)"
   ]
  },
  {
   "cell_type": "code",
   "execution_count": null,
   "metadata": {},
   "outputs": [],
   "source": [
    "fib.set_radii(fixed_radii)\n",
    "analysis = fib.get_full_analysis()\n",
    "fib.show_3D_configuration_analysis(analysis, title='Location of configuration issues')\n",
    "fib.show_analysis_distribution(analysis, title='Distribution of configuration issues')\n",
    "        "
   ]
  },
  {
   "cell_type": "code",
   "execution_count": null,
   "metadata": {},
   "outputs": [],
   "source": [
    "fib.set_radii(fixed_radii)\n",
    "fib.animate_slices(title='Optimized configuration with fixed radii')"
   ]
  },
  {
   "cell_type": "markdown",
   "metadata": {},
   "source": [
    "## Exporting (if desired)"
   ]
  },
  {
   "cell_type": "code",
   "execution_count": null,
   "metadata": {},
   "outputs": [],
   "source": [
    "fib.save_result('out/fibers.txt')"
   ]
  },
  {
   "cell_type": "code",
   "execution_count": null,
   "metadata": {},
   "outputs": [],
   "source": [
    "fib.save_mesh('out/fibers.obj', n=8, close_ends=True)"
   ]
  },
  {
   "cell_type": "markdown",
   "metadata": {},
   "source": [
    "## Projecting and voxelizing"
   ]
  },
  {
   "cell_type": "code",
   "execution_count": null,
   "metadata": {},
   "outputs": [],
   "source": [
    "thetas = 45\n",
    "side = 250  # I use skimage iradon below, and it will only work correctly for odd side\n",
    "projections = fib.project(thetas=thetas, bins=side, z=side)\n",
    "fp.animate(projections)"
   ]
  },
  {
   "cell_type": "code",
   "execution_count": null,
   "metadata": {},
   "outputs": [],
   "source": [
    "voxelization = fib.voxelize(xy=side, z=side, transition='smooth')\n",
    "fp.animate(voxelization)"
   ]
  },
  {
   "cell_type": "code",
   "execution_count": null,
   "metadata": {},
   "outputs": [],
   "source": [
    "\n",
    "import tifffile # pip install tifffile\n",
    "tifffile.imwrite('out/projections.tiff', (projections/projections.max()).numpy())\n",
    "tifffile.imwrite('out/voxelization.tiff', voxelization.numpy())\n"
   ]
  },
  {
   "cell_type": "code",
   "execution_count": null,
   "metadata": {},
   "outputs": [],
   "source": [
    "fib.save_mesh('out/fibers_in_volume.obj', n=8, close_ends=False, xyz=(side, side))"
   ]
  }
 ],
 "metadata": {
  "kernelspec": {
   "display_name": "withPyTorch",
   "language": "python",
   "name": "python3"
  },
  "language_info": {
   "codemirror_mode": {
    "name": "ipython",
    "version": 3
   },
   "file_extension": ".py",
   "mimetype": "text/x-python",
   "name": "python",
   "nbconvert_exporter": "python",
   "pygments_lexer": "ipython3",
   "version": "3.10.6"
  }
 },
 "nbformat": 4,
 "nbformat_minor": 2
}
