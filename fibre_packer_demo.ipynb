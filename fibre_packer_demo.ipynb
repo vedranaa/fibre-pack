{
 "cells": [
  {
   "cell_type": "markdown",
   "metadata": {},
   "source": [
    "# Fibre packer -- first draft\n",
    "\n",
    "*Author: Vedrana Andersen Dahl (vand@dtu.dk)*\n",
    "\n",
    "[![Open In Colab](https://colab.research.google.com/assets/colab-badge.svg)](https://colab.research.google.com/github/vedranaa/fibre-pack/blob/main/fibre_packer_demo.ipynb)\n",
    "\n"
   ]
  },
  {
   "cell_type": "code",
   "execution_count": 1,
   "metadata": {},
   "outputs": [],
   "source": [
    "import torch\n",
    "import plotly.express as px\n",
    "import plotly.graph_objects as go\n",
    "from tqdm.notebook import tqdm\n",
    "import os\n",
    "if not os.path.isfile('fibre_packer.py'):\n",
    "    !wget 'https://raw.githubusercontent.com/vedranaa/fibre-pack/main/fibre_packer.py' -q\n",
    "import fibre_packer as fp"
   ]
  },
  {
   "cell_type": "code",
   "execution_count": 2,
   "metadata": {},
   "outputs": [],
   "source": [
    "def optimize_slice_points(p, radii, c, iters=2000):\n",
    "    delta = 0.01 * radii.mean()\n",
    "    n = 3\n",
    "    N = len(radii)\n",
    "    min_d = fp.minimal_distance(radii)\n",
    "    p.requires_grad = True\n",
    "    p.to(device)\n",
    "    optimizer = torch.optim.Adam([p], lr=0.1)\n",
    "    loss_contributions = []\n",
    "    progress_bar = tqdm(range(iters), bar_format='{l_bar}{bar}|{n_fmt}/{total_fmt}')\n",
    "    for iter in progress_bar:  \n",
    "        optimizer.zero_grad()   \n",
    "        d = fp.pairwise_distance(p)\n",
    "        overlap = fp.overlap_penalty(d, min_d, delta)\n",
    "        protrusion = fp.protrusion_penalty(p, radii, c)\n",
    "        separation = fp.separation_penalty(d, radii, n, delta)\n",
    "        loss = overlap + N * protrusion + 1/N * separation\n",
    "        loss.backward()\n",
    "        optimizer.step()\n",
    "        loss_contributions.append((overlap.item(), N * protrusion.item(), 1/N * separation.item()))\n",
    "        progress_bar.set_description(f\"Overlap {overlap:.2f}, \" + \n",
    "            f\"Protrusion {protrusion:.2f}\", refresh=True)\n",
    "    \n",
    "    p = p.detach()\n",
    "    overlap = fp.overlap_penalty(d, min_d)\n",
    "    protrusion = fp.protrusion_penalty(p, radii, c)\n",
    "    loss_contributions = {k:list(v) for k, v in \n",
    "            zip(['overlap', 'protrusion', 'separation'], zip(*loss_contributions))}\n",
    "    return p, (overlap, protrusion), loss_contributions\n"
   ]
  },
  {
   "cell_type": "code",
   "execution_count": null,
   "metadata": {},
   "outputs": [],
   "source": [
    "c = 40  # Domain radius\n",
    "r0 = 2  # Mean fibre radius\n",
    "fvf = 70  # Desired fibre volume fraction\n",
    "Z = 20 # Number of slices\n",
    "\n",
    "device = fp.select_device()\n",
    "\n",
    "radii = fp.initialize_radii(c, fvf, r0, 0.1 * r0)\n",
    "N = len(radii)\n",
    "fp.show_radii_distribution(radii)\n"
   ]
  },
  {
   "cell_type": "code",
   "execution_count": null,
   "metadata": {},
   "outputs": [],
   "source": [
    "p0 = fp.initialize_slice_points(c - r0, N)\n",
    "fp.show_slice(p0, radii, c, title='First slice (p0) initial')\n",
    "\n",
    "p0, (overlap, protrusion), losses = optimize_slice_points(p0, radii, c)\n",
    "fp.show_slice(p0, radii, c, \n",
    "    title=f'First slice (p0) optimized. Overlap {overlap:.2f}, protrusion {protrusion:.2f}')\n",
    "fp.show_losses(losses)"
   ]
  },
  {
   "cell_type": "code",
   "execution_count": null,
   "metadata": {},
   "outputs": [],
   "source": [
    "pZ = p0.clone()\n",
    "pZ = fp.rotate_bundle(pZ, radii, (c/2, 0), c/2.5, -torch.pi/2)\n",
    "pZ = fp.rotate_bundle(pZ, radii, (-c/2, 0), c/2, -torch.pi/3)\n",
    "pZ = fp.rotate_bundle(pZ, radii, (0, 0), c, torch.pi/4)\n",
    "pz = fp.swap_points(pZ)\n",
    "\n",
    "fp.show_slice(pZ, radii, c, title='Last slice (pZ) initial')\n",
    "pZ, (overlap, protrusion), losses = optimize_slice_points(pZ, radii, c)\n",
    "fp.show_slice(pZ, radii, c, \n",
    "    title=f'Last slice (pZ) optimized. Overlap {overlap:.2f}, protrusion {protrusion:.2f}')\n",
    "fp.show_losses(losses)\n"
   ]
  },
  {
   "cell_type": "code",
   "execution_count": null,
   "metadata": {},
   "outputs": [],
   "source": [
    "configuration = fp.interpolate_configuration(p0, pZ, Z)\n",
    "fp.show_3D_configuration(configuration, title='Initial configuration')\n",
    "fp.animate_configuration(configuration, title='Initial configuration')"
   ]
  },
  {
   "cell_type": "code",
   "execution_count": null,
   "metadata": {},
   "outputs": [],
   "source": [
    "min_d = fp.minimal_distance(radii)\n",
    "delta = 0.01 * radii.mean()\n",
    "configuration.requires_grad = True\n",
    "configuration.to(device)\n",
    "optimizer = torch.optim.Adam([configuration], lr=0.1)\n",
    "loss_contributions = []\n",
    "iters = 2000\n",
    "progress_bar = tqdm(range(iters), bar_format='{l_bar}{bar}|{n_fmt}/{total_fmt}')\n",
    "for iter in progress_bar:  \n",
    "    optimizer.zero_grad()   \n",
    "    d = fp.pairwise_distance(configuration)\n",
    "    overlap = fp.overlap_penalty(d, min_d, delta)\n",
    "    protrusion = fp.protrusion_penalty(configuration, radii, c)\n",
    "    stretching = fp.stretching_penalty(configuration)\n",
    "    bending = fp.bending_penalty(configuration)\n",
    "    boundary = fp.boundary_penalty(configuration, p0, pZ)\n",
    "    loss = overlap + N * protrusion + 1/N * stretching + 2/N * bending + N * boundary\n",
    "    loss.backward()\n",
    "    optimizer.step()\n",
    "    loss_contributions.append((overlap.item(), N * protrusion.item(), \n",
    "        1/N * stretching.item(), 2/N * bending.item(), N * boundary.item()))\n",
    "    progress_bar.set_description(f\"Over. {overlap.item():.2f}, \" + \n",
    "            f\"Prot. {protrusion.item():.1f}, \" +\n",
    "            f\"Str. {stretching.item():.1f}, \" +\n",
    "            f\"Bend. {bending.item():.1f}, \" +\n",
    "            f\"Boun. {boundary.item():.1f}\",\n",
    "            refresh=True)\n",
    "\n",
    "loss_contributions = {k:list(v) for k, v in \n",
    "        zip(['overlap', 'protrusion', 'stretching', 'bending', 'boundary'], zip(*loss_contributions))}\n",
    "fp.show_losses(loss_contributions)"
   ]
  },
  {
   "cell_type": "code",
   "execution_count": null,
   "metadata": {},
   "outputs": [],
   "source": [
    "fp.show_3D_configuration(configuration, title='Optimized configuration')\n",
    "fp.animate_slices(configuration, radii, c, title='Optimized configuration')"
   ]
  }
 ],
 "metadata": {
  "kernelspec": {
   "display_name": "withPyTorch",
   "language": "python",
   "name": "python3"
  },
  "language_info": {
   "codemirror_mode": {
    "name": "ipython",
    "version": 3
   },
   "file_extension": ".py",
   "mimetype": "text/x-python",
   "name": "python",
   "nbconvert_exporter": "python",
   "pygments_lexer": "ipython3",
   "version": "3.10.6"
  }
 },
 "nbformat": 4,
 "nbformat_minor": 2
}
