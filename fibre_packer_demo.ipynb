{
 "cells": [
  {
   "cell_type": "markdown",
   "metadata": {},
   "source": [
    "# Fibre packer demo\n",
    "\n",
    "*Author: Vedrana Andersen Dahl (vand@dtu.dk)*\n",
    "\n",
    "[![Open In Colab](https://colab.research.google.com/assets/colab-badge.svg)](https://colab.research.google.com/github/vedranaa/fibre-pack/blob/main/fibre_packer_demo.ipynb)\n",
    "\n"
   ]
  },
  {
   "cell_type": "code",
   "execution_count": null,
   "metadata": {},
   "outputs": [],
   "source": [
    "import os\n",
    "if not os.path.isfile('fibre_packer.py'):\n",
    "    !wget 'https://raw.githubusercontent.com/vedranaa/fibre-pack/main/fibre_packer.py' -q\n",
    "import fibre_packer as fp"
   ]
  },
  {
   "cell_type": "code",
   "execution_count": null,
   "metadata": {},
   "outputs": [],
   "source": [
    "# Parameters \n",
    "domain_radius = 70  # Domain radius\n",
    "fibre_radius_mean = 2  # Mean fibre radius\n",
    "fibre_volume_fraction = 65  # Desired fibre volume fraction\n",
    "number_slices = 20 # Number of slices to generate\n",
    "fibre_radius_sigma = 0.1 * fibre_radius_mean  # Standard deviation of fibre radius\n",
    "nr_slices = 20  # Number of slices to generate, will be used later\n",
    "z_multiplier = 5 # Multiplier for z-coordinates, will be used later\n",
    "misalignment = 'high'\n",
    "iters = 1000"
   ]
  },
  {
   "cell_type": "code",
   "execution_count": null,
   "metadata": {},
   "outputs": [],
   "source": [
    "fib = fp.from_fvf(domain_radius, fibre_volume_fraction, fibre_radius_mean, fibre_radius_sigma)\n",
    "fib.show_radii_distribution()"
   ]
  },
  {
   "cell_type": "code",
   "execution_count": null,
   "metadata": {},
   "outputs": [],
   "source": [
    "fib.initialize_start_slice()\n",
    "fib.show_slice('start','Initial start slice')"
   ]
  },
  {
   "cell_type": "code",
   "execution_count": null,
   "metadata": {},
   "outputs": [],
   "source": [
    "fib.optimize_slice_points('start', iters=iters)\n",
    "fib.show_slice('start','Optimized start slice')"
   ]
  },
  {
   "cell_type": "code",
   "execution_count": null,
   "metadata": {},
   "outputs": [],
   "source": [
    "fib.initialize_end_slice(misalignment)\n",
    "fib.show_slice('end','Initial end slice')"
   ]
  },
  {
   "cell_type": "code",
   "execution_count": null,
   "metadata": {},
   "outputs": [],
   "source": [
    "fib.optimize_slice_points('end', iters=iters)\n",
    "fib.show_slice('end','Optimized end slice')"
   ]
  },
  {
   "cell_type": "code",
   "execution_count": null,
   "metadata": {},
   "outputs": [],
   "source": [
    "fib.interpolate_configuration(nr_slices, z_multiplier)\n",
    "fib.show_3D_configuration('Interpolated configuration')"
   ]
  },
  {
   "cell_type": "code",
   "execution_count": null,
   "metadata": {},
   "outputs": [],
   "source": [
    "fib.animate_slices('Interpolated configuration')"
   ]
  },
  {
   "cell_type": "code",
   "execution_count": null,
   "metadata": {},
   "outputs": [],
   "source": [
    "fib.optimize_configuration(iters=iters)\n",
    "fib.show_3D_configuration('Optimized configuration')"
   ]
  },
  {
   "cell_type": "code",
   "execution_count": null,
   "metadata": {},
   "outputs": [],
   "source": [
    "fib.animate_slices('Optimized configuration')"
   ]
  },
  {
   "cell_type": "code",
   "execution_count": null,
   "metadata": {},
   "outputs": [],
   "source": [
    "fib.analyse_configuration()"
   ]
  },
  {
   "cell_type": "code",
   "execution_count": null,
   "metadata": {},
   "outputs": [],
   "source": [
    "fix = fib.fix_radii()"
   ]
  },
  {
   "cell_type": "code",
   "execution_count": null,
   "metadata": {},
   "outputs": [],
   "source": [
    "fib.analyse_configuration(radii=fix)"
   ]
  },
  {
   "cell_type": "code",
   "execution_count": null,
   "metadata": {},
   "outputs": [],
   "source": [
    "fib.animate_slices(title='Optimized configuration with fixed radii', radii=fix)"
   ]
  },
  {
   "cell_type": "code",
   "execution_count": null,
   "metadata": {},
   "outputs": [],
   "source": [
    "fib.save_result('test.txt', radii=fix)"
   ]
  },
  {
   "cell_type": "code",
   "execution_count": null,
   "metadata": {},
   "outputs": [],
   "source": [
    "fib.save_mesh('test.obj', radii=fix, n=8)"
   ]
  }
 ],
 "metadata": {
  "kernelspec": {
   "display_name": "withPyTorch",
   "language": "python",
   "name": "python3"
  },
  "language_info": {
   "codemirror_mode": {
    "name": "ipython",
    "version": 3
   },
   "file_extension": ".py",
   "mimetype": "text/x-python",
   "name": "python",
   "nbconvert_exporter": "python",
   "pygments_lexer": "ipython3",
   "version": "3.10.6"
  }
 },
 "nbformat": 4,
 "nbformat_minor": 2
}
